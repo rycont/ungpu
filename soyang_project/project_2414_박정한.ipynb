{
 "metadata": {
  "language_info": {
   "codemirror_mode": {
    "name": "ipython",
    "version": 3
   },
   "file_extension": ".py",
   "mimetype": "text/x-python",
   "name": "python",
   "nbconvert_exporter": "python",
   "pygments_lexer": "ipython3",
   "version": "3.8.5"
  },
  "orig_nbformat": 4,
  "kernelspec": {
   "name": "python3",
   "display_name": "Python 3.8.5 64-bit ('base': conda)"
  },
  "interpreter": {
   "hash": "98b0a9b7b4eaaa670588a142fd0a9b87eaafe866f1db4228be72b4211d12040f"
  }
 },
 "nbformat": 4,
 "nbformat_minor": 2,
 "cells": [
  {
   "source": [
    "# 한국디지털미디어고등학교 소양인증제도 분석\n",
    "\n",
    "- 2424 박정한\n",
    "- 2021년 1학기 빅데이터 분석 프로젝트 보고서"
   ],
   "cell_type": "markdown",
   "metadata": {}
  },
  {
   "source": [
    "## 1. 가설 설정\n",
    "\n",
    "1.\t문과보다 이과 학생의 평균 점수가 더 높을 것이다.\n",
    "2.\t이과보다 문과 학생의 최저 점수가 더 높을 것이다.\n",
    "3.\t웹프로그래밍과 학생보다 해킹방어과 학생의 평균 점수가 더 높을 것이다.\n",
    "4.\t1학기보다 2학기의 평균 획득 점수가 더 많을 것이다.\n",
    "5.\t대회점수가 상위 30%인 학생은 하위 30%인 학생보다 자격증 점수가 낮을 것이다."
   ],
   "cell_type": "markdown",
   "metadata": {}
  },
  {
   "source": [
    "## 2. 데이터 출처\n",
    "한국디지털미디어고등학교 학생종합정보시스템의 IT소양종합인증제 서비스에서 보여지는 테이블 데이터를 추출하였다.\n",
    "많은 데이터가 균일하게 있는 18기 입학생 (19년 1학년, 20년 2학년) 데이터를 사용하였다. \n",
    "- 2020년 2학기: https://student.dimigo.hs.kr/total-achieve/ajax-get-rank-list?year=2020&term=2\n",
    "- 2020년 1학기: https://student.dimigo.hs.kr/total-achieve/ajax-get-rank-list?year=2020&term=1\n",
    "- 2019년 2학기: https://student.dimigo.hs.kr/total-achieve/ajax-get-rank-list?year=2019&term=2\n",
    "- 2019년 1학기: https://student.dimigo.hs.kr/total-achieve/ajax-get-rank-list?year=2019&term=1\n"
   ],
   "cell_type": "markdown",
   "metadata": {}
  },
  {
   "source": [
    "## 3. 데이터 로드하기"
   ],
   "cell_type": "markdown",
   "metadata": {}
  },
  {
   "cell_type": "code",
   "execution_count": 1,
   "metadata": {},
   "outputs": [],
   "source": [
    "import pandas as pd\n",
    "import seaborn as sns\n",
    "import matplotlib.pyplot as plt\n",
    "plt.rc('font', family='NanumBarunGothic') "
   ]
  },
  {
   "cell_type": "code",
   "execution_count": 2,
   "metadata": {},
   "outputs": [
    {
     "output_type": "execute_result",
     "data": {
      "text/plain": [
       "((193, 13), (195, 13), (405, 13), (399, 13))"
      ]
     },
     "metadata": {},
     "execution_count": 2
    }
   ],
   "source": [
    "raw2019_1 = pd.read_json(\"./2019-1.json\")\n",
    "raw2019_2 = pd.read_json(\"./2019-2.json\")\n",
    "raw2020_1 = pd.read_json(\"./2020-1.json\")\n",
    "raw2020_2 = pd.read_json(\"./2020-2.json\")\n",
    "raw2019_1.shape, raw2019_2.shape, raw2020_1.shape, raw2020_2.shape"
   ]
  },
  {
   "cell_type": "code",
   "execution_count": 3,
   "metadata": {},
   "outputs": [
    {
     "output_type": "stream",
     "name": "stdout",
     "text": [
      "<class 'pandas.core.frame.DataFrame'>\nRangeIndex: 405 entries, 0 to 404\nData columns (total 13 columns):\n #   Column              Non-Null Count  Dtype  \n---  ------              --------------  -----  \n 0   rank                405 non-null    int64  \n 1   grade               405 non-null    int64  \n 2   class               405 non-null    int64  \n 3   number              405 non-null    int64  \n 4   name                405 non-null    object \n 5   subject_score       405 non-null    float64\n 6   license_score       405 non-null    int64  \n 7   contest_score       405 non-null    int64  \n 8   total_score         405 non-null    float64\n 9   displacement        405 non-null    object \n 10  achieve_level       405 non-null    int64  \n 11  user_id             405 non-null    int64  \n 12  achieve_level_text  405 non-null    object \ndtypes: float64(2), int64(8), object(3)\nmemory usage: 41.3+ KB\n"
     ]
    }
   ],
   "source": [
    "raw2020_1.info()"
   ]
  },
  {
   "source": [
    "### 3.1. 데이터 가공하기\n",
    "- 학년, 이름, 등락, 번호, 인증 레벨 정보는 필요하지 않기에 열을 삭제하였다.\n",
    "- 순위 정보는 일부 잘못된 정보가 있어 삭제하고 가장 최근 데이터를 기반으로 새로 생성했다.\n",
    "- 각 데이터가 5개의 파일로 나누어져있어서, 하나의 데이터프레임으로 합치는 작업을 수행하였다."
   ],
   "cell_type": "markdown",
   "metadata": {}
  },
  {
   "cell_type": "code",
   "execution_count": 4,
   "metadata": {},
   "outputs": [],
   "source": [
    "raw2019_1.index = raw2019_1.user_id\n",
    "raw2019_1.drop(\"user_id\", axis=1, inplace=True)\n",
    "\n",
    "raw2019_2.index = raw2019_2.user_id\n",
    "raw2019_2.drop(\"user_id\", axis=1, inplace=True)\n",
    "\n",
    "raw2020_1.index = raw2020_1.user_id\n",
    "raw2020_1.drop(\"user_id\", axis=1, inplace=True)\n",
    "\n",
    "raw2020_2.index = raw2020_2.user_id\n",
    "raw2020_2.drop(\"user_id\", axis=1, inplace=True)"
   ]
  },
  {
   "cell_type": "code",
   "execution_count": 5,
   "metadata": {},
   "outputs": [],
   "source": [
    "score_columns = [\"subject_score\", \"license_score\", \"contest_score\",\"total_score\"]\n",
    "\n",
    "score2019_1 = raw2019_1[score_columns]\n",
    "score2019_1.columns = map(lambda n: n+'_19_1', score2019_1.columns)\n",
    "\n",
    "score2019_2 = raw2019_2[score_columns]\n",
    "score2019_2.columns = map(lambda n: n+'_19_2', score2019_2.columns)\n",
    "\n",
    "score2020_1 = raw2020_1[score_columns]\n",
    "score2020_1.columns = map(lambda n: n+'_20_1', score2020_1.columns)\n",
    "\n",
    "score2020_2 = raw2020_2[score_columns]\n",
    "score2020_2.columns = map(lambda n: n+'_20_2', score2020_2.columns)"
   ]
  },
  {
   "cell_type": "code",
   "execution_count": 6,
   "metadata": {},
   "outputs": [],
   "source": [
    "table = pd.merge(\n",
    "    left=raw2019_1.drop([\"subject_score\", \"license_score\", \"contest_score\", \"total_score\", \"displacement\", \"name\", \"achieve_level\", \"achieve_level_text\", \"number\", \"rank\", \"grade\"], axis=1),\n",
    "    right=pd.concat([score2019_1, score2019_2, score2020_1, score2020_2], axis=1),\n",
    "    on=\"user_id\"\n",
    ")"
   ]
  },
  {
   "cell_type": "code",
   "execution_count": 35,
   "metadata": {},
   "outputs": [
    {
     "output_type": "stream",
     "name": "stdout",
     "text": [
      "<class 'pandas.core.frame.DataFrame'>\nInt64Index: 193 entries, 2094 to 2301\nData columns (total 18 columns):\n #   Column              Non-Null Count  Dtype  \n---  ------              --------------  -----  \n 0   class               193 non-null    int64  \n 1   subject_score_19_1  193 non-null    float64\n 2   license_score_19_1  193 non-null    float64\n 3   contest_score_19_1  193 non-null    float64\n 4   total_score_19_1    193 non-null    float64\n 5   subject_score_19_2  193 non-null    float64\n 6   license_score_19_2  193 non-null    float64\n 7   contest_score_19_2  193 non-null    float64\n 8   total_score_19_2    193 non-null    float64\n 9   subject_score_20_1  193 non-null    float64\n 10  license_score_20_1  193 non-null    float64\n 11  contest_score_20_1  193 non-null    float64\n 12  total_score_20_1    193 non-null    float64\n 13  subject_score_20_2  190 non-null    float64\n 14  license_score_20_2  190 non-null    float64\n 15  contest_score_20_2  190 non-null    float64\n 16  total_score_20_2    190 non-null    float64\n 17  rank                193 non-null    int64  \ndtypes: float64(16), int64(2)\nmemory usage: 28.6 KB\n"
     ]
    }
   ],
   "source": [
    "table.info()"
   ]
  },
  {
   "cell_type": "code",
   "execution_count": 8,
   "metadata": {},
   "outputs": [],
   "source": [
    "table['rank'] = table['total_score_20_1'].rank(ascending=False).astype(int)"
   ]
  },
  {
   "cell_type": "code",
   "execution_count": 9,
   "metadata": {},
   "outputs": [
    {
     "output_type": "execute_result",
     "data": {
      "text/plain": [
       "         class  subject_score_19_1  license_score_19_1  contest_score_19_1  \\\n",
       "user_id                                                                      \n",
       "2180         4               96.54                 0.0               100.0   \n",
       "2121         4               93.00                 0.0               109.0   \n",
       "2176         4               91.40                 0.0                 0.0   \n",
       "2231         4               95.04                 0.0                 0.0   \n",
       "2094         4               98.58                 0.0               109.0   \n",
       "...        ...                 ...                 ...                 ...   \n",
       "2173         5               67.60                 0.0                 0.0   \n",
       "2320         1               69.12                 0.0                 0.0   \n",
       "2316         5               60.88                 0.0                 0.0   \n",
       "2345         3               61.24                 0.0                 0.0   \n",
       "2301         5               58.36                 0.0                 0.0   \n",
       "\n",
       "         total_score_19_1  subject_score_19_2  license_score_19_2  \\\n",
       "user_id                                                             \n",
       "2180               196.54               96.82                90.0   \n",
       "2121               202.00               93.50                90.0   \n",
       "2176                91.40               94.65                70.0   \n",
       "2231                95.04               94.57                 0.0   \n",
       "2094               207.58               98.77                 0.0   \n",
       "...                   ...                 ...                 ...   \n",
       "2173                67.60               80.55                 0.0   \n",
       "2320                69.12               70.30                 0.0   \n",
       "2316                60.88               78.04                 0.0   \n",
       "2345                61.24               73.47                 0.0   \n",
       "2301                58.36               69.23                 0.0   \n",
       "\n",
       "         contest_score_19_2  total_score_19_2  subject_score_20_1  \\\n",
       "user_id                                                             \n",
       "2180                  136.0            322.82               97.32   \n",
       "2121                  109.0            292.50               92.64   \n",
       "2176                   50.0            214.65               94.27   \n",
       "2231                   50.0            144.57               97.76   \n",
       "2094                  109.0            207.77               98.60   \n",
       "...                     ...               ...                 ...   \n",
       "2173                    0.0             80.55               73.49   \n",
       "2320                    0.0             70.30               70.64   \n",
       "2316                    0.0             78.04               69.87   \n",
       "2345                    0.0             73.47               62.98   \n",
       "2301                    0.0             69.23               55.97   \n",
       "\n",
       "         license_score_20_1  contest_score_20_1  total_score_20_1  \\\n",
       "user_id                                                             \n",
       "2180                   90.0               127.0            314.32   \n",
       "2121                   90.0               109.0            291.64   \n",
       "2176                  100.0                50.0            244.27   \n",
       "2231                   90.0                50.0            237.76   \n",
       "2094                    0.0               136.0            234.60   \n",
       "...                     ...                 ...               ...   \n",
       "2173                    0.0                 0.0             73.49   \n",
       "2320                    0.0                 0.0             70.64   \n",
       "2316                    0.0                 0.0             69.87   \n",
       "2345                    0.0                 0.0             62.98   \n",
       "2301                    0.0                 0.0             55.97   \n",
       "\n",
       "         subject_score_20_2  license_score_20_2  contest_score_20_2  \\\n",
       "user_id                                                               \n",
       "2180                  96.60               104.0               145.0   \n",
       "2121                  89.54                90.0               109.0   \n",
       "2176                  88.58               100.0                50.0   \n",
       "2231                  95.00                90.0                80.0   \n",
       "2094                  98.64                 0.0               136.0   \n",
       "...                     ...                 ...                 ...   \n",
       "2173                  72.36                 0.0                 0.0   \n",
       "2320                  66.36                 0.0                 0.0   \n",
       "2316                  67.29                 0.0                 0.0   \n",
       "2345                  58.55                 0.0                 0.0   \n",
       "2301                  51.60                 0.0                 0.0   \n",
       "\n",
       "         total_score_20_2  rank  \n",
       "user_id                          \n",
       "2180               345.60     1  \n",
       "2121               288.54     2  \n",
       "2176               238.58     3  \n",
       "2231               265.00     4  \n",
       "2094               234.64     5  \n",
       "...                   ...   ...  \n",
       "2173                72.36   189  \n",
       "2320                66.36   190  \n",
       "2316                67.29   191  \n",
       "2345                58.55   192  \n",
       "2301                51.60   193  \n",
       "\n",
       "[193 rows x 18 columns]"
      ],
      "text/html": "<div>\n<style scoped>\n    .dataframe tbody tr th:only-of-type {\n        vertical-align: middle;\n    }\n\n    .dataframe tbody tr th {\n        vertical-align: top;\n    }\n\n    .dataframe thead th {\n        text-align: right;\n    }\n</style>\n<table border=\"1\" class=\"dataframe\">\n  <thead>\n    <tr style=\"text-align: right;\">\n      <th></th>\n      <th>class</th>\n      <th>subject_score_19_1</th>\n      <th>license_score_19_1</th>\n      <th>contest_score_19_1</th>\n      <th>total_score_19_1</th>\n      <th>subject_score_19_2</th>\n      <th>license_score_19_2</th>\n      <th>contest_score_19_2</th>\n      <th>total_score_19_2</th>\n      <th>subject_score_20_1</th>\n      <th>license_score_20_1</th>\n      <th>contest_score_20_1</th>\n      <th>total_score_20_1</th>\n      <th>subject_score_20_2</th>\n      <th>license_score_20_2</th>\n      <th>contest_score_20_2</th>\n      <th>total_score_20_2</th>\n      <th>rank</th>\n    </tr>\n    <tr>\n      <th>user_id</th>\n      <th></th>\n      <th></th>\n      <th></th>\n      <th></th>\n      <th></th>\n      <th></th>\n      <th></th>\n      <th></th>\n      <th></th>\n      <th></th>\n      <th></th>\n      <th></th>\n      <th></th>\n      <th></th>\n      <th></th>\n      <th></th>\n      <th></th>\n      <th></th>\n    </tr>\n  </thead>\n  <tbody>\n    <tr>\n      <th>2180</th>\n      <td>4</td>\n      <td>96.54</td>\n      <td>0.0</td>\n      <td>100.0</td>\n      <td>196.54</td>\n      <td>96.82</td>\n      <td>90.0</td>\n      <td>136.0</td>\n      <td>322.82</td>\n      <td>97.32</td>\n      <td>90.0</td>\n      <td>127.0</td>\n      <td>314.32</td>\n      <td>96.60</td>\n      <td>104.0</td>\n      <td>145.0</td>\n      <td>345.60</td>\n      <td>1</td>\n    </tr>\n    <tr>\n      <th>2121</th>\n      <td>4</td>\n      <td>93.00</td>\n      <td>0.0</td>\n      <td>109.0</td>\n      <td>202.00</td>\n      <td>93.50</td>\n      <td>90.0</td>\n      <td>109.0</td>\n      <td>292.50</td>\n      <td>92.64</td>\n      <td>90.0</td>\n      <td>109.0</td>\n      <td>291.64</td>\n      <td>89.54</td>\n      <td>90.0</td>\n      <td>109.0</td>\n      <td>288.54</td>\n      <td>2</td>\n    </tr>\n    <tr>\n      <th>2176</th>\n      <td>4</td>\n      <td>91.40</td>\n      <td>0.0</td>\n      <td>0.0</td>\n      <td>91.40</td>\n      <td>94.65</td>\n      <td>70.0</td>\n      <td>50.0</td>\n      <td>214.65</td>\n      <td>94.27</td>\n      <td>100.0</td>\n      <td>50.0</td>\n      <td>244.27</td>\n      <td>88.58</td>\n      <td>100.0</td>\n      <td>50.0</td>\n      <td>238.58</td>\n      <td>3</td>\n    </tr>\n    <tr>\n      <th>2231</th>\n      <td>4</td>\n      <td>95.04</td>\n      <td>0.0</td>\n      <td>0.0</td>\n      <td>95.04</td>\n      <td>94.57</td>\n      <td>0.0</td>\n      <td>50.0</td>\n      <td>144.57</td>\n      <td>97.76</td>\n      <td>90.0</td>\n      <td>50.0</td>\n      <td>237.76</td>\n      <td>95.00</td>\n      <td>90.0</td>\n      <td>80.0</td>\n      <td>265.00</td>\n      <td>4</td>\n    </tr>\n    <tr>\n      <th>2094</th>\n      <td>4</td>\n      <td>98.58</td>\n      <td>0.0</td>\n      <td>109.0</td>\n      <td>207.58</td>\n      <td>98.77</td>\n      <td>0.0</td>\n      <td>109.0</td>\n      <td>207.77</td>\n      <td>98.60</td>\n      <td>0.0</td>\n      <td>136.0</td>\n      <td>234.60</td>\n      <td>98.64</td>\n      <td>0.0</td>\n      <td>136.0</td>\n      <td>234.64</td>\n      <td>5</td>\n    </tr>\n    <tr>\n      <th>...</th>\n      <td>...</td>\n      <td>...</td>\n      <td>...</td>\n      <td>...</td>\n      <td>...</td>\n      <td>...</td>\n      <td>...</td>\n      <td>...</td>\n      <td>...</td>\n      <td>...</td>\n      <td>...</td>\n      <td>...</td>\n      <td>...</td>\n      <td>...</td>\n      <td>...</td>\n      <td>...</td>\n      <td>...</td>\n      <td>...</td>\n    </tr>\n    <tr>\n      <th>2173</th>\n      <td>5</td>\n      <td>67.60</td>\n      <td>0.0</td>\n      <td>0.0</td>\n      <td>67.60</td>\n      <td>80.55</td>\n      <td>0.0</td>\n      <td>0.0</td>\n      <td>80.55</td>\n      <td>73.49</td>\n      <td>0.0</td>\n      <td>0.0</td>\n      <td>73.49</td>\n      <td>72.36</td>\n      <td>0.0</td>\n      <td>0.0</td>\n      <td>72.36</td>\n      <td>189</td>\n    </tr>\n    <tr>\n      <th>2320</th>\n      <td>1</td>\n      <td>69.12</td>\n      <td>0.0</td>\n      <td>0.0</td>\n      <td>69.12</td>\n      <td>70.30</td>\n      <td>0.0</td>\n      <td>0.0</td>\n      <td>70.30</td>\n      <td>70.64</td>\n      <td>0.0</td>\n      <td>0.0</td>\n      <td>70.64</td>\n      <td>66.36</td>\n      <td>0.0</td>\n      <td>0.0</td>\n      <td>66.36</td>\n      <td>190</td>\n    </tr>\n    <tr>\n      <th>2316</th>\n      <td>5</td>\n      <td>60.88</td>\n      <td>0.0</td>\n      <td>0.0</td>\n      <td>60.88</td>\n      <td>78.04</td>\n      <td>0.0</td>\n      <td>0.0</td>\n      <td>78.04</td>\n      <td>69.87</td>\n      <td>0.0</td>\n      <td>0.0</td>\n      <td>69.87</td>\n      <td>67.29</td>\n      <td>0.0</td>\n      <td>0.0</td>\n      <td>67.29</td>\n      <td>191</td>\n    </tr>\n    <tr>\n      <th>2345</th>\n      <td>3</td>\n      <td>61.24</td>\n      <td>0.0</td>\n      <td>0.0</td>\n      <td>61.24</td>\n      <td>73.47</td>\n      <td>0.0</td>\n      <td>0.0</td>\n      <td>73.47</td>\n      <td>62.98</td>\n      <td>0.0</td>\n      <td>0.0</td>\n      <td>62.98</td>\n      <td>58.55</td>\n      <td>0.0</td>\n      <td>0.0</td>\n      <td>58.55</td>\n      <td>192</td>\n    </tr>\n    <tr>\n      <th>2301</th>\n      <td>5</td>\n      <td>58.36</td>\n      <td>0.0</td>\n      <td>0.0</td>\n      <td>58.36</td>\n      <td>69.23</td>\n      <td>0.0</td>\n      <td>0.0</td>\n      <td>69.23</td>\n      <td>55.97</td>\n      <td>0.0</td>\n      <td>0.0</td>\n      <td>55.97</td>\n      <td>51.60</td>\n      <td>0.0</td>\n      <td>0.0</td>\n      <td>51.60</td>\n      <td>193</td>\n    </tr>\n  </tbody>\n</table>\n<p>193 rows × 18 columns</p>\n</div>"
     },
     "metadata": {},
     "execution_count": 9
    }
   ],
   "source": [
    "table.sort_values(by='rank')"
   ]
  },
  {
   "source": [
    "## 4. 데이터 살펴보기"
   ],
   "cell_type": "markdown",
   "metadata": {}
  },
  {
   "cell_type": "code",
   "execution_count": 10,
   "metadata": {},
   "outputs": [
    {
     "output_type": "stream",
     "name": "stdout",
     "text": [
      "<class 'pandas.core.frame.DataFrame'>\nInt64Index: 193 entries, 2094 to 2301\nData columns (total 18 columns):\n #   Column              Non-Null Count  Dtype  \n---  ------              --------------  -----  \n 0   class               193 non-null    int64  \n 1   subject_score_19_1  193 non-null    float64\n 2   license_score_19_1  193 non-null    float64\n 3   contest_score_19_1  193 non-null    float64\n 4   total_score_19_1    193 non-null    float64\n 5   subject_score_19_2  193 non-null    float64\n 6   license_score_19_2  193 non-null    float64\n 7   contest_score_19_2  193 non-null    float64\n 8   total_score_19_2    193 non-null    float64\n 9   subject_score_20_1  193 non-null    float64\n 10  license_score_20_1  193 non-null    float64\n 11  contest_score_20_1  193 non-null    float64\n 12  total_score_20_1    193 non-null    float64\n 13  subject_score_20_2  190 non-null    float64\n 14  license_score_20_2  190 non-null    float64\n 15  contest_score_20_2  190 non-null    float64\n 16  total_score_20_2    190 non-null    float64\n 17  rank                193 non-null    int64  \ndtypes: float64(16), int64(2)\nmemory usage: 28.6 KB\n"
     ]
    }
   ],
   "source": [
    "table.info()"
   ]
  },
  {
   "cell_type": "code",
   "execution_count": 11,
   "metadata": {},
   "outputs": [
    {
     "output_type": "execute_result",
     "data": {
      "text/plain": [
       "            class  subject_score_19_1  license_score_19_1  contest_score_19_1  \\\n",
       "count  193.000000          193.000000          193.000000          193.000000   \n",
       "mean     3.626943           91.468756            0.155440            2.373057   \n",
       "std      1.681920            7.141933            2.159447           15.082264   \n",
       "min      1.000000           58.360000            0.000000            0.000000   \n",
       "25%      2.000000           88.780000            0.000000            0.000000   \n",
       "50%      4.000000           92.800000            0.000000            0.000000   \n",
       "75%      5.000000           96.120000            0.000000            0.000000   \n",
       "max      6.000000          100.000000           30.000000          109.000000   \n",
       "\n",
       "       total_score_19_1  subject_score_19_2  license_score_19_2  \\\n",
       "count        193.000000          193.000000          193.000000   \n",
       "mean          93.997254           92.391658            2.072539   \n",
       "std           17.331392            5.676232           11.763951   \n",
       "min           58.360000           69.230000            0.000000   \n",
       "25%           88.780000           90.220000            0.000000   \n",
       "50%           92.960000           94.010000            0.000000   \n",
       "75%           96.600000           96.400000            0.000000   \n",
       "max          207.580000           99.600000           90.000000   \n",
       "\n",
       "       contest_score_19_2  total_score_19_2  subject_score_20_1  \\\n",
       "count          193.000000        193.000000          193.000000   \n",
       "mean             7.139896        101.604093           91.218601   \n",
       "std             23.520517         31.815081            6.809612   \n",
       "min              0.000000         69.230000           55.970000   \n",
       "25%              0.000000         90.370000           88.870000   \n",
       "50%              0.000000         94.340000           92.970000   \n",
       "75%              0.000000         97.390000           95.660000   \n",
       "max            136.000000        322.820000           99.200000   \n",
       "\n",
       "       license_score_20_1  contest_score_20_1  total_score_20_1  \\\n",
       "count          193.000000          193.000000        193.000000   \n",
       "mean             5.025907            9.652850        105.897358   \n",
       "std             17.944485           26.739264         38.554815   \n",
       "min              0.000000            0.000000         55.970000   \n",
       "25%              0.000000            0.000000         90.190000   \n",
       "50%              0.000000            0.000000         94.250000   \n",
       "75%              0.000000            0.000000         97.840000   \n",
       "max            100.000000          136.000000        314.320000   \n",
       "\n",
       "       subject_score_20_2  license_score_20_2  contest_score_20_2  \\\n",
       "count          190.000000          190.000000          190.000000   \n",
       "mean            89.256053           14.021053           14.336842   \n",
       "std              8.515804           27.818755           32.670590   \n",
       "min             51.600000            0.000000            0.000000   \n",
       "25%             86.415000            0.000000            0.000000   \n",
       "50%             91.630000            0.000000            0.000000   \n",
       "75%             95.752500            7.500000            0.000000   \n",
       "max             99.120000          104.000000          157.000000   \n",
       "\n",
       "       total_score_20_2        rank  \n",
       "count        190.000000  193.000000  \n",
       "mean         117.613947   96.974093  \n",
       "std           55.639844   55.867630  \n",
       "min           51.600000    1.000000  \n",
       "25%           86.552500   49.000000  \n",
       "50%           93.710000   97.000000  \n",
       "75%          128.927500  145.000000  \n",
       "max          345.600000  193.000000  "
      ],
      "text/html": "<div>\n<style scoped>\n    .dataframe tbody tr th:only-of-type {\n        vertical-align: middle;\n    }\n\n    .dataframe tbody tr th {\n        vertical-align: top;\n    }\n\n    .dataframe thead th {\n        text-align: right;\n    }\n</style>\n<table border=\"1\" class=\"dataframe\">\n  <thead>\n    <tr style=\"text-align: right;\">\n      <th></th>\n      <th>class</th>\n      <th>subject_score_19_1</th>\n      <th>license_score_19_1</th>\n      <th>contest_score_19_1</th>\n      <th>total_score_19_1</th>\n      <th>subject_score_19_2</th>\n      <th>license_score_19_2</th>\n      <th>contest_score_19_2</th>\n      <th>total_score_19_2</th>\n      <th>subject_score_20_1</th>\n      <th>license_score_20_1</th>\n      <th>contest_score_20_1</th>\n      <th>total_score_20_1</th>\n      <th>subject_score_20_2</th>\n      <th>license_score_20_2</th>\n      <th>contest_score_20_2</th>\n      <th>total_score_20_2</th>\n      <th>rank</th>\n    </tr>\n  </thead>\n  <tbody>\n    <tr>\n      <th>count</th>\n      <td>193.000000</td>\n      <td>193.000000</td>\n      <td>193.000000</td>\n      <td>193.000000</td>\n      <td>193.000000</td>\n      <td>193.000000</td>\n      <td>193.000000</td>\n      <td>193.000000</td>\n      <td>193.000000</td>\n      <td>193.000000</td>\n      <td>193.000000</td>\n      <td>193.000000</td>\n      <td>193.000000</td>\n      <td>190.000000</td>\n      <td>190.000000</td>\n      <td>190.000000</td>\n      <td>190.000000</td>\n      <td>193.000000</td>\n    </tr>\n    <tr>\n      <th>mean</th>\n      <td>3.626943</td>\n      <td>91.468756</td>\n      <td>0.155440</td>\n      <td>2.373057</td>\n      <td>93.997254</td>\n      <td>92.391658</td>\n      <td>2.072539</td>\n      <td>7.139896</td>\n      <td>101.604093</td>\n      <td>91.218601</td>\n      <td>5.025907</td>\n      <td>9.652850</td>\n      <td>105.897358</td>\n      <td>89.256053</td>\n      <td>14.021053</td>\n      <td>14.336842</td>\n      <td>117.613947</td>\n      <td>96.974093</td>\n    </tr>\n    <tr>\n      <th>std</th>\n      <td>1.681920</td>\n      <td>7.141933</td>\n      <td>2.159447</td>\n      <td>15.082264</td>\n      <td>17.331392</td>\n      <td>5.676232</td>\n      <td>11.763951</td>\n      <td>23.520517</td>\n      <td>31.815081</td>\n      <td>6.809612</td>\n      <td>17.944485</td>\n      <td>26.739264</td>\n      <td>38.554815</td>\n      <td>8.515804</td>\n      <td>27.818755</td>\n      <td>32.670590</td>\n      <td>55.639844</td>\n      <td>55.867630</td>\n    </tr>\n    <tr>\n      <th>min</th>\n      <td>1.000000</td>\n      <td>58.360000</td>\n      <td>0.000000</td>\n      <td>0.000000</td>\n      <td>58.360000</td>\n      <td>69.230000</td>\n      <td>0.000000</td>\n      <td>0.000000</td>\n      <td>69.230000</td>\n      <td>55.970000</td>\n      <td>0.000000</td>\n      <td>0.000000</td>\n      <td>55.970000</td>\n      <td>51.600000</td>\n      <td>0.000000</td>\n      <td>0.000000</td>\n      <td>51.600000</td>\n      <td>1.000000</td>\n    </tr>\n    <tr>\n      <th>25%</th>\n      <td>2.000000</td>\n      <td>88.780000</td>\n      <td>0.000000</td>\n      <td>0.000000</td>\n      <td>88.780000</td>\n      <td>90.220000</td>\n      <td>0.000000</td>\n      <td>0.000000</td>\n      <td>90.370000</td>\n      <td>88.870000</td>\n      <td>0.000000</td>\n      <td>0.000000</td>\n      <td>90.190000</td>\n      <td>86.415000</td>\n      <td>0.000000</td>\n      <td>0.000000</td>\n      <td>86.552500</td>\n      <td>49.000000</td>\n    </tr>\n    <tr>\n      <th>50%</th>\n      <td>4.000000</td>\n      <td>92.800000</td>\n      <td>0.000000</td>\n      <td>0.000000</td>\n      <td>92.960000</td>\n      <td>94.010000</td>\n      <td>0.000000</td>\n      <td>0.000000</td>\n      <td>94.340000</td>\n      <td>92.970000</td>\n      <td>0.000000</td>\n      <td>0.000000</td>\n      <td>94.250000</td>\n      <td>91.630000</td>\n      <td>0.000000</td>\n      <td>0.000000</td>\n      <td>93.710000</td>\n      <td>97.000000</td>\n    </tr>\n    <tr>\n      <th>75%</th>\n      <td>5.000000</td>\n      <td>96.120000</td>\n      <td>0.000000</td>\n      <td>0.000000</td>\n      <td>96.600000</td>\n      <td>96.400000</td>\n      <td>0.000000</td>\n      <td>0.000000</td>\n      <td>97.390000</td>\n      <td>95.660000</td>\n      <td>0.000000</td>\n      <td>0.000000</td>\n      <td>97.840000</td>\n      <td>95.752500</td>\n      <td>7.500000</td>\n      <td>0.000000</td>\n      <td>128.927500</td>\n      <td>145.000000</td>\n    </tr>\n    <tr>\n      <th>max</th>\n      <td>6.000000</td>\n      <td>100.000000</td>\n      <td>30.000000</td>\n      <td>109.000000</td>\n      <td>207.580000</td>\n      <td>99.600000</td>\n      <td>90.000000</td>\n      <td>136.000000</td>\n      <td>322.820000</td>\n      <td>99.200000</td>\n      <td>100.000000</td>\n      <td>136.000000</td>\n      <td>314.320000</td>\n      <td>99.120000</td>\n      <td>104.000000</td>\n      <td>157.000000</td>\n      <td>345.600000</td>\n      <td>193.000000</td>\n    </tr>\n  </tbody>\n</table>\n</div>"
     },
     "metadata": {},
     "execution_count": 11
    }
   ],
   "source": [
    "table.describe()"
   ]
  },
  {
   "cell_type": "code",
   "execution_count": 12,
   "metadata": {},
   "outputs": [
    {
     "output_type": "execute_result",
     "data": {
      "text/plain": [
       "         class  subject_score_19_1  license_score_19_1  contest_score_19_1  \\\n",
       "user_id                                                                      \n",
       "2094         4               98.58                 0.0               109.0   \n",
       "2121         4               93.00                 0.0               109.0   \n",
       "2180         4               96.54                 0.0               100.0   \n",
       "2244         2               92.48                 0.0               100.0   \n",
       "2207         6               96.00                30.0                 0.0   \n",
       "\n",
       "         total_score_19_1  subject_score_19_2  license_score_19_2  \\\n",
       "user_id                                                             \n",
       "2094               207.58               98.77                 0.0   \n",
       "2121               202.00               93.50                90.0   \n",
       "2180               196.54               96.82                90.0   \n",
       "2244               192.48               94.73                 0.0   \n",
       "2207               126.00               96.60                30.0   \n",
       "\n",
       "         contest_score_19_2  total_score_19_2  subject_score_20_1  \\\n",
       "user_id                                                             \n",
       "2094                  109.0            207.77               98.60   \n",
       "2121                  109.0            292.50               92.64   \n",
       "2180                  136.0            322.82               97.32   \n",
       "2244                  100.0            194.73               96.42   \n",
       "2207                    0.0            126.60               96.32   \n",
       "\n",
       "         license_score_20_1  contest_score_20_1  total_score_20_1  \\\n",
       "user_id                                                             \n",
       "2094                    0.0               136.0            234.60   \n",
       "2121                   90.0               109.0            291.64   \n",
       "2180                   90.0               127.0            314.32   \n",
       "2244                    0.0               100.0            196.42   \n",
       "2207                   30.0                 0.0            126.32   \n",
       "\n",
       "         subject_score_20_2  license_score_20_2  contest_score_20_2  \\\n",
       "user_id                                                               \n",
       "2094                  98.64                 0.0               136.0   \n",
       "2121                  89.54                90.0               109.0   \n",
       "2180                  96.60               104.0               145.0   \n",
       "2244                  96.69                30.0               112.0   \n",
       "2207                  96.42                90.0                 0.0   \n",
       "\n",
       "         total_score_20_2  rank  \n",
       "user_id                          \n",
       "2094               234.64     5  \n",
       "2121               288.54     2  \n",
       "2180               345.60     1  \n",
       "2244               238.69    10  \n",
       "2207               186.42    31  "
      ],
      "text/html": "<div>\n<style scoped>\n    .dataframe tbody tr th:only-of-type {\n        vertical-align: middle;\n    }\n\n    .dataframe tbody tr th {\n        vertical-align: top;\n    }\n\n    .dataframe thead th {\n        text-align: right;\n    }\n</style>\n<table border=\"1\" class=\"dataframe\">\n  <thead>\n    <tr style=\"text-align: right;\">\n      <th></th>\n      <th>class</th>\n      <th>subject_score_19_1</th>\n      <th>license_score_19_1</th>\n      <th>contest_score_19_1</th>\n      <th>total_score_19_1</th>\n      <th>subject_score_19_2</th>\n      <th>license_score_19_2</th>\n      <th>contest_score_19_2</th>\n      <th>total_score_19_2</th>\n      <th>subject_score_20_1</th>\n      <th>license_score_20_1</th>\n      <th>contest_score_20_1</th>\n      <th>total_score_20_1</th>\n      <th>subject_score_20_2</th>\n      <th>license_score_20_2</th>\n      <th>contest_score_20_2</th>\n      <th>total_score_20_2</th>\n      <th>rank</th>\n    </tr>\n    <tr>\n      <th>user_id</th>\n      <th></th>\n      <th></th>\n      <th></th>\n      <th></th>\n      <th></th>\n      <th></th>\n      <th></th>\n      <th></th>\n      <th></th>\n      <th></th>\n      <th></th>\n      <th></th>\n      <th></th>\n      <th></th>\n      <th></th>\n      <th></th>\n      <th></th>\n      <th></th>\n    </tr>\n  </thead>\n  <tbody>\n    <tr>\n      <th>2094</th>\n      <td>4</td>\n      <td>98.58</td>\n      <td>0.0</td>\n      <td>109.0</td>\n      <td>207.58</td>\n      <td>98.77</td>\n      <td>0.0</td>\n      <td>109.0</td>\n      <td>207.77</td>\n      <td>98.60</td>\n      <td>0.0</td>\n      <td>136.0</td>\n      <td>234.60</td>\n      <td>98.64</td>\n      <td>0.0</td>\n      <td>136.0</td>\n      <td>234.64</td>\n      <td>5</td>\n    </tr>\n    <tr>\n      <th>2121</th>\n      <td>4</td>\n      <td>93.00</td>\n      <td>0.0</td>\n      <td>109.0</td>\n      <td>202.00</td>\n      <td>93.50</td>\n      <td>90.0</td>\n      <td>109.0</td>\n      <td>292.50</td>\n      <td>92.64</td>\n      <td>90.0</td>\n      <td>109.0</td>\n      <td>291.64</td>\n      <td>89.54</td>\n      <td>90.0</td>\n      <td>109.0</td>\n      <td>288.54</td>\n      <td>2</td>\n    </tr>\n    <tr>\n      <th>2180</th>\n      <td>4</td>\n      <td>96.54</td>\n      <td>0.0</td>\n      <td>100.0</td>\n      <td>196.54</td>\n      <td>96.82</td>\n      <td>90.0</td>\n      <td>136.0</td>\n      <td>322.82</td>\n      <td>97.32</td>\n      <td>90.0</td>\n      <td>127.0</td>\n      <td>314.32</td>\n      <td>96.60</td>\n      <td>104.0</td>\n      <td>145.0</td>\n      <td>345.60</td>\n      <td>1</td>\n    </tr>\n    <tr>\n      <th>2244</th>\n      <td>2</td>\n      <td>92.48</td>\n      <td>0.0</td>\n      <td>100.0</td>\n      <td>192.48</td>\n      <td>94.73</td>\n      <td>0.0</td>\n      <td>100.0</td>\n      <td>194.73</td>\n      <td>96.42</td>\n      <td>0.0</td>\n      <td>100.0</td>\n      <td>196.42</td>\n      <td>96.69</td>\n      <td>30.0</td>\n      <td>112.0</td>\n      <td>238.69</td>\n      <td>10</td>\n    </tr>\n    <tr>\n      <th>2207</th>\n      <td>6</td>\n      <td>96.00</td>\n      <td>30.0</td>\n      <td>0.0</td>\n      <td>126.00</td>\n      <td>96.60</td>\n      <td>30.0</td>\n      <td>0.0</td>\n      <td>126.60</td>\n      <td>96.32</td>\n      <td>30.0</td>\n      <td>0.0</td>\n      <td>126.32</td>\n      <td>96.42</td>\n      <td>90.0</td>\n      <td>0.0</td>\n      <td>186.42</td>\n      <td>31</td>\n    </tr>\n  </tbody>\n</table>\n</div>"
     },
     "metadata": {},
     "execution_count": 12
    }
   ],
   "source": [
    "table.head()"
   ]
  },
  {
   "cell_type": "code",
   "execution_count": 13,
   "metadata": {},
   "outputs": [
    {
     "output_type": "execute_result",
     "data": {
      "text/plain": [
       "         class  subject_score_19_1  license_score_19_1  contest_score_19_1  \\\n",
       "user_id                                                                      \n",
       "2094     False               False               False               False   \n",
       "2121     False               False               False               False   \n",
       "2180     False               False               False               False   \n",
       "2244     False               False               False               False   \n",
       "2207     False               False               False               False   \n",
       "...        ...                 ...                 ...                 ...   \n",
       "2173     False               False               False               False   \n",
       "2237     False               False               False               False   \n",
       "2345     False               False               False               False   \n",
       "2316     False               False               False               False   \n",
       "2301     False               False               False               False   \n",
       "\n",
       "         total_score_19_1  subject_score_19_2  license_score_19_2  \\\n",
       "user_id                                                             \n",
       "2094                False               False               False   \n",
       "2121                False               False               False   \n",
       "2180                False               False               False   \n",
       "2244                False               False               False   \n",
       "2207                False               False               False   \n",
       "...                   ...                 ...                 ...   \n",
       "2173                False               False               False   \n",
       "2237                False               False               False   \n",
       "2345                False               False               False   \n",
       "2316                False               False               False   \n",
       "2301                False               False               False   \n",
       "\n",
       "         contest_score_19_2  total_score_19_2  subject_score_20_1  \\\n",
       "user_id                                                             \n",
       "2094                  False             False               False   \n",
       "2121                  False             False               False   \n",
       "2180                  False             False               False   \n",
       "2244                  False             False               False   \n",
       "2207                  False             False               False   \n",
       "...                     ...               ...                 ...   \n",
       "2173                  False             False               False   \n",
       "2237                  False             False               False   \n",
       "2345                  False             False               False   \n",
       "2316                  False             False               False   \n",
       "2301                  False             False               False   \n",
       "\n",
       "         license_score_20_1  contest_score_20_1  total_score_20_1  \\\n",
       "user_id                                                             \n",
       "2094                  False               False             False   \n",
       "2121                  False               False             False   \n",
       "2180                  False               False             False   \n",
       "2244                  False               False             False   \n",
       "2207                  False               False             False   \n",
       "...                     ...                 ...               ...   \n",
       "2173                  False               False             False   \n",
       "2237                  False               False             False   \n",
       "2345                  False               False             False   \n",
       "2316                  False               False             False   \n",
       "2301                  False               False             False   \n",
       "\n",
       "         subject_score_20_2  license_score_20_2  contest_score_20_2  \\\n",
       "user_id                                                               \n",
       "2094                  False               False               False   \n",
       "2121                  False               False               False   \n",
       "2180                  False               False               False   \n",
       "2244                  False               False               False   \n",
       "2207                  False               False               False   \n",
       "...                     ...                 ...                 ...   \n",
       "2173                  False               False               False   \n",
       "2237                  False               False               False   \n",
       "2345                  False               False               False   \n",
       "2316                  False               False               False   \n",
       "2301                  False               False               False   \n",
       "\n",
       "         total_score_20_2   rank  \n",
       "user_id                           \n",
       "2094                False  False  \n",
       "2121                False  False  \n",
       "2180                False  False  \n",
       "2244                False  False  \n",
       "2207                False  False  \n",
       "...                   ...    ...  \n",
       "2173                False  False  \n",
       "2237                False  False  \n",
       "2345                False  False  \n",
       "2316                False  False  \n",
       "2301                False  False  \n",
       "\n",
       "[193 rows x 18 columns]"
      ],
      "text/html": "<div>\n<style scoped>\n    .dataframe tbody tr th:only-of-type {\n        vertical-align: middle;\n    }\n\n    .dataframe tbody tr th {\n        vertical-align: top;\n    }\n\n    .dataframe thead th {\n        text-align: right;\n    }\n</style>\n<table border=\"1\" class=\"dataframe\">\n  <thead>\n    <tr style=\"text-align: right;\">\n      <th></th>\n      <th>class</th>\n      <th>subject_score_19_1</th>\n      <th>license_score_19_1</th>\n      <th>contest_score_19_1</th>\n      <th>total_score_19_1</th>\n      <th>subject_score_19_2</th>\n      <th>license_score_19_2</th>\n      <th>contest_score_19_2</th>\n      <th>total_score_19_2</th>\n      <th>subject_score_20_1</th>\n      <th>license_score_20_1</th>\n      <th>contest_score_20_1</th>\n      <th>total_score_20_1</th>\n      <th>subject_score_20_2</th>\n      <th>license_score_20_2</th>\n      <th>contest_score_20_2</th>\n      <th>total_score_20_2</th>\n      <th>rank</th>\n    </tr>\n    <tr>\n      <th>user_id</th>\n      <th></th>\n      <th></th>\n      <th></th>\n      <th></th>\n      <th></th>\n      <th></th>\n      <th></th>\n      <th></th>\n      <th></th>\n      <th></th>\n      <th></th>\n      <th></th>\n      <th></th>\n      <th></th>\n      <th></th>\n      <th></th>\n      <th></th>\n      <th></th>\n    </tr>\n  </thead>\n  <tbody>\n    <tr>\n      <th>2094</th>\n      <td>False</td>\n      <td>False</td>\n      <td>False</td>\n      <td>False</td>\n      <td>False</td>\n      <td>False</td>\n      <td>False</td>\n      <td>False</td>\n      <td>False</td>\n      <td>False</td>\n      <td>False</td>\n      <td>False</td>\n      <td>False</td>\n      <td>False</td>\n      <td>False</td>\n      <td>False</td>\n      <td>False</td>\n      <td>False</td>\n    </tr>\n    <tr>\n      <th>2121</th>\n      <td>False</td>\n      <td>False</td>\n      <td>False</td>\n      <td>False</td>\n      <td>False</td>\n      <td>False</td>\n      <td>False</td>\n      <td>False</td>\n      <td>False</td>\n      <td>False</td>\n      <td>False</td>\n      <td>False</td>\n      <td>False</td>\n      <td>False</td>\n      <td>False</td>\n      <td>False</td>\n      <td>False</td>\n      <td>False</td>\n    </tr>\n    <tr>\n      <th>2180</th>\n      <td>False</td>\n      <td>False</td>\n      <td>False</td>\n      <td>False</td>\n      <td>False</td>\n      <td>False</td>\n      <td>False</td>\n      <td>False</td>\n      <td>False</td>\n      <td>False</td>\n      <td>False</td>\n      <td>False</td>\n      <td>False</td>\n      <td>False</td>\n      <td>False</td>\n      <td>False</td>\n      <td>False</td>\n      <td>False</td>\n    </tr>\n    <tr>\n      <th>2244</th>\n      <td>False</td>\n      <td>False</td>\n      <td>False</td>\n      <td>False</td>\n      <td>False</td>\n      <td>False</td>\n      <td>False</td>\n      <td>False</td>\n      <td>False</td>\n      <td>False</td>\n      <td>False</td>\n      <td>False</td>\n      <td>False</td>\n      <td>False</td>\n      <td>False</td>\n      <td>False</td>\n      <td>False</td>\n      <td>False</td>\n    </tr>\n    <tr>\n      <th>2207</th>\n      <td>False</td>\n      <td>False</td>\n      <td>False</td>\n      <td>False</td>\n      <td>False</td>\n      <td>False</td>\n      <td>False</td>\n      <td>False</td>\n      <td>False</td>\n      <td>False</td>\n      <td>False</td>\n      <td>False</td>\n      <td>False</td>\n      <td>False</td>\n      <td>False</td>\n      <td>False</td>\n      <td>False</td>\n      <td>False</td>\n    </tr>\n    <tr>\n      <th>...</th>\n      <td>...</td>\n      <td>...</td>\n      <td>...</td>\n      <td>...</td>\n      <td>...</td>\n      <td>...</td>\n      <td>...</td>\n      <td>...</td>\n      <td>...</td>\n      <td>...</td>\n      <td>...</td>\n      <td>...</td>\n      <td>...</td>\n      <td>...</td>\n      <td>...</td>\n      <td>...</td>\n      <td>...</td>\n      <td>...</td>\n    </tr>\n    <tr>\n      <th>2173</th>\n      <td>False</td>\n      <td>False</td>\n      <td>False</td>\n      <td>False</td>\n      <td>False</td>\n      <td>False</td>\n      <td>False</td>\n      <td>False</td>\n      <td>False</td>\n      <td>False</td>\n      <td>False</td>\n      <td>False</td>\n      <td>False</td>\n      <td>False</td>\n      <td>False</td>\n      <td>False</td>\n      <td>False</td>\n      <td>False</td>\n    </tr>\n    <tr>\n      <th>2237</th>\n      <td>False</td>\n      <td>False</td>\n      <td>False</td>\n      <td>False</td>\n      <td>False</td>\n      <td>False</td>\n      <td>False</td>\n      <td>False</td>\n      <td>False</td>\n      <td>False</td>\n      <td>False</td>\n      <td>False</td>\n      <td>False</td>\n      <td>False</td>\n      <td>False</td>\n      <td>False</td>\n      <td>False</td>\n      <td>False</td>\n    </tr>\n    <tr>\n      <th>2345</th>\n      <td>False</td>\n      <td>False</td>\n      <td>False</td>\n      <td>False</td>\n      <td>False</td>\n      <td>False</td>\n      <td>False</td>\n      <td>False</td>\n      <td>False</td>\n      <td>False</td>\n      <td>False</td>\n      <td>False</td>\n      <td>False</td>\n      <td>False</td>\n      <td>False</td>\n      <td>False</td>\n      <td>False</td>\n      <td>False</td>\n    </tr>\n    <tr>\n      <th>2316</th>\n      <td>False</td>\n      <td>False</td>\n      <td>False</td>\n      <td>False</td>\n      <td>False</td>\n      <td>False</td>\n      <td>False</td>\n      <td>False</td>\n      <td>False</td>\n      <td>False</td>\n      <td>False</td>\n      <td>False</td>\n      <td>False</td>\n      <td>False</td>\n      <td>False</td>\n      <td>False</td>\n      <td>False</td>\n      <td>False</td>\n    </tr>\n    <tr>\n      <th>2301</th>\n      <td>False</td>\n      <td>False</td>\n      <td>False</td>\n      <td>False</td>\n      <td>False</td>\n      <td>False</td>\n      <td>False</td>\n      <td>False</td>\n      <td>False</td>\n      <td>False</td>\n      <td>False</td>\n      <td>False</td>\n      <td>False</td>\n      <td>False</td>\n      <td>False</td>\n      <td>False</td>\n      <td>False</td>\n      <td>False</td>\n    </tr>\n  </tbody>\n</table>\n<p>193 rows × 18 columns</p>\n</div>"
     },
     "metadata": {},
     "execution_count": 13
    }
   ],
   "source": [
    "table.isnull() == True"
   ]
  },
  {
   "source": [
    "## 5. 탐색적 데이터 분석"
   ],
   "cell_type": "markdown",
   "metadata": {}
  },
  {
   "source": [
    "### 5.1. 문과보다 이과 학생의 평균 총합 점수가 높을것이다"
   ],
   "cell_type": "markdown",
   "metadata": {}
  },
  {
   "cell_type": "code",
   "execution_count": 14,
   "metadata": {},
   "outputs": [
    {
     "output_type": "execute_result",
     "data": {
      "text/plain": [
       "(193, 135, 58)"
      ]
     },
     "metadata": {},
     "execution_count": 14
    }
   ],
   "source": [
    "mun = table[table['class'] <= 2]\n",
    "lee = table[table['class'] > 2]\n",
    "len(table), len(lee), len(mun) "
   ]
  },
  {
   "cell_type": "code",
   "execution_count": 15,
   "metadata": {},
   "outputs": [
    {
     "output_type": "execute_result",
     "data": {
      "text/plain": [
       "         class  subject_score_19_1  license_score_19_1  contest_score_19_1  \\\n",
       "user_id                                                                      \n",
       "2094         4               98.58                 0.0               109.0   \n",
       "2121         4               93.00                 0.0               109.0   \n",
       "2180         4               96.54                 0.0               100.0   \n",
       "2207         6               96.00                30.0                 0.0   \n",
       "2108         5               98.00                 0.0                10.0   \n",
       "\n",
       "         total_score_19_1  subject_score_19_2  license_score_19_2  \\\n",
       "user_id                                                             \n",
       "2094               207.58               98.77                 0.0   \n",
       "2121               202.00               93.50                90.0   \n",
       "2180               196.54               96.82                90.0   \n",
       "2207               126.00               96.60                30.0   \n",
       "2108               108.00               98.07                 0.0   \n",
       "\n",
       "         contest_score_19_2  total_score_19_2  subject_score_20_1  \\\n",
       "user_id                                                             \n",
       "2094                  109.0            207.77               98.60   \n",
       "2121                  109.0            292.50               92.64   \n",
       "2180                  136.0            322.82               97.32   \n",
       "2207                    0.0            126.60               96.32   \n",
       "2108                  109.0            207.07               98.70   \n",
       "\n",
       "         license_score_20_1  contest_score_20_1  total_score_20_1  \\\n",
       "user_id                                                             \n",
       "2094                    0.0               136.0            234.60   \n",
       "2121                   90.0               109.0            291.64   \n",
       "2180                   90.0               127.0            314.32   \n",
       "2207                   30.0                 0.0            126.32   \n",
       "2108                    0.0               121.0            219.70   \n",
       "\n",
       "         subject_score_20_2  license_score_20_2  contest_score_20_2  \\\n",
       "user_id                                                               \n",
       "2094                  98.64                 0.0               136.0   \n",
       "2121                  89.54                90.0               109.0   \n",
       "2180                  96.60               104.0               145.0   \n",
       "2207                  96.42                90.0                 0.0   \n",
       "2108                  98.72               100.0               136.0   \n",
       "\n",
       "         total_score_20_2  rank  \n",
       "user_id                          \n",
       "2094               234.64     5  \n",
       "2121               288.54     2  \n",
       "2180               345.60     1  \n",
       "2207               186.42    31  \n",
       "2108               334.72     6  "
      ],
      "text/html": "<div>\n<style scoped>\n    .dataframe tbody tr th:only-of-type {\n        vertical-align: middle;\n    }\n\n    .dataframe tbody tr th {\n        vertical-align: top;\n    }\n\n    .dataframe thead th {\n        text-align: right;\n    }\n</style>\n<table border=\"1\" class=\"dataframe\">\n  <thead>\n    <tr style=\"text-align: right;\">\n      <th></th>\n      <th>class</th>\n      <th>subject_score_19_1</th>\n      <th>license_score_19_1</th>\n      <th>contest_score_19_1</th>\n      <th>total_score_19_1</th>\n      <th>subject_score_19_2</th>\n      <th>license_score_19_2</th>\n      <th>contest_score_19_2</th>\n      <th>total_score_19_2</th>\n      <th>subject_score_20_1</th>\n      <th>license_score_20_1</th>\n      <th>contest_score_20_1</th>\n      <th>total_score_20_1</th>\n      <th>subject_score_20_2</th>\n      <th>license_score_20_2</th>\n      <th>contest_score_20_2</th>\n      <th>total_score_20_2</th>\n      <th>rank</th>\n    </tr>\n    <tr>\n      <th>user_id</th>\n      <th></th>\n      <th></th>\n      <th></th>\n      <th></th>\n      <th></th>\n      <th></th>\n      <th></th>\n      <th></th>\n      <th></th>\n      <th></th>\n      <th></th>\n      <th></th>\n      <th></th>\n      <th></th>\n      <th></th>\n      <th></th>\n      <th></th>\n      <th></th>\n    </tr>\n  </thead>\n  <tbody>\n    <tr>\n      <th>2094</th>\n      <td>4</td>\n      <td>98.58</td>\n      <td>0.0</td>\n      <td>109.0</td>\n      <td>207.58</td>\n      <td>98.77</td>\n      <td>0.0</td>\n      <td>109.0</td>\n      <td>207.77</td>\n      <td>98.60</td>\n      <td>0.0</td>\n      <td>136.0</td>\n      <td>234.60</td>\n      <td>98.64</td>\n      <td>0.0</td>\n      <td>136.0</td>\n      <td>234.64</td>\n      <td>5</td>\n    </tr>\n    <tr>\n      <th>2121</th>\n      <td>4</td>\n      <td>93.00</td>\n      <td>0.0</td>\n      <td>109.0</td>\n      <td>202.00</td>\n      <td>93.50</td>\n      <td>90.0</td>\n      <td>109.0</td>\n      <td>292.50</td>\n      <td>92.64</td>\n      <td>90.0</td>\n      <td>109.0</td>\n      <td>291.64</td>\n      <td>89.54</td>\n      <td>90.0</td>\n      <td>109.0</td>\n      <td>288.54</td>\n      <td>2</td>\n    </tr>\n    <tr>\n      <th>2180</th>\n      <td>4</td>\n      <td>96.54</td>\n      <td>0.0</td>\n      <td>100.0</td>\n      <td>196.54</td>\n      <td>96.82</td>\n      <td>90.0</td>\n      <td>136.0</td>\n      <td>322.82</td>\n      <td>97.32</td>\n      <td>90.0</td>\n      <td>127.0</td>\n      <td>314.32</td>\n      <td>96.60</td>\n      <td>104.0</td>\n      <td>145.0</td>\n      <td>345.60</td>\n      <td>1</td>\n    </tr>\n    <tr>\n      <th>2207</th>\n      <td>6</td>\n      <td>96.00</td>\n      <td>30.0</td>\n      <td>0.0</td>\n      <td>126.00</td>\n      <td>96.60</td>\n      <td>30.0</td>\n      <td>0.0</td>\n      <td>126.60</td>\n      <td>96.32</td>\n      <td>30.0</td>\n      <td>0.0</td>\n      <td>126.32</td>\n      <td>96.42</td>\n      <td>90.0</td>\n      <td>0.0</td>\n      <td>186.42</td>\n      <td>31</td>\n    </tr>\n    <tr>\n      <th>2108</th>\n      <td>5</td>\n      <td>98.00</td>\n      <td>0.0</td>\n      <td>10.0</td>\n      <td>108.00</td>\n      <td>98.07</td>\n      <td>0.0</td>\n      <td>109.0</td>\n      <td>207.07</td>\n      <td>98.70</td>\n      <td>0.0</td>\n      <td>121.0</td>\n      <td>219.70</td>\n      <td>98.72</td>\n      <td>100.0</td>\n      <td>136.0</td>\n      <td>334.72</td>\n      <td>6</td>\n    </tr>\n  </tbody>\n</table>\n</div>"
     },
     "metadata": {},
     "execution_count": 15
    }
   ],
   "source": [
    "lee.head()"
   ]
  },
  {
   "cell_type": "code",
   "execution_count": 16,
   "metadata": {},
   "outputs": [
    {
     "output_type": "execute_result",
     "data": {
      "text/plain": [
       "         class  subject_score_19_1  license_score_19_1  contest_score_19_1  \\\n",
       "user_id                                                                      \n",
       "2244         2               92.48                 0.0               100.0   \n",
       "2145         2               90.60                 0.0                30.0   \n",
       "2214         2               98.48                 0.0                 0.0   \n",
       "2178         1               97.48                 0.0                 0.0   \n",
       "2198         2               97.00                 0.0                 0.0   \n",
       "\n",
       "         total_score_19_1  subject_score_19_2  license_score_19_2  \\\n",
       "user_id                                                             \n",
       "2244               192.48               94.73                 0.0   \n",
       "2145               120.60               90.64                 0.0   \n",
       "2214                98.48               96.40                 0.0   \n",
       "2178                97.48               94.78                 0.0   \n",
       "2198                97.00               98.50                 0.0   \n",
       "\n",
       "         contest_score_19_2  total_score_19_2  subject_score_20_1  \\\n",
       "user_id                                                             \n",
       "2244                  100.0            194.73               96.42   \n",
       "2145                    0.0             90.64               92.08   \n",
       "2214                    0.0             96.40               93.80   \n",
       "2178                    0.0             94.78               97.26   \n",
       "2198                    0.0             98.50               95.60   \n",
       "\n",
       "         license_score_20_1  contest_score_20_1  total_score_20_1  \\\n",
       "user_id                                                             \n",
       "2244                    0.0               100.0            196.42   \n",
       "2145                    0.0               103.0            195.08   \n",
       "2214                   60.0                 0.0            153.80   \n",
       "2178                    0.0                 0.0             97.26   \n",
       "2198                    0.0                 0.0             95.60   \n",
       "\n",
       "         subject_score_20_2  license_score_20_2  contest_score_20_2  \\\n",
       "user_id                                                               \n",
       "2244                  96.69                30.0               112.0   \n",
       "2145                  88.98                40.0               109.0   \n",
       "2214                  94.13                60.0                 0.0   \n",
       "2178                  97.46                 0.0                 0.0   \n",
       "2198                  94.63                 0.0                 0.0   \n",
       "\n",
       "         total_score_20_2  rank  \n",
       "user_id                          \n",
       "2244               238.69    10  \n",
       "2145               237.98    11  \n",
       "2214               154.13    17  \n",
       "2178                97.46    54  \n",
       "2198                94.63    75  "
      ],
      "text/html": "<div>\n<style scoped>\n    .dataframe tbody tr th:only-of-type {\n        vertical-align: middle;\n    }\n\n    .dataframe tbody tr th {\n        vertical-align: top;\n    }\n\n    .dataframe thead th {\n        text-align: right;\n    }\n</style>\n<table border=\"1\" class=\"dataframe\">\n  <thead>\n    <tr style=\"text-align: right;\">\n      <th></th>\n      <th>class</th>\n      <th>subject_score_19_1</th>\n      <th>license_score_19_1</th>\n      <th>contest_score_19_1</th>\n      <th>total_score_19_1</th>\n      <th>subject_score_19_2</th>\n      <th>license_score_19_2</th>\n      <th>contest_score_19_2</th>\n      <th>total_score_19_2</th>\n      <th>subject_score_20_1</th>\n      <th>license_score_20_1</th>\n      <th>contest_score_20_1</th>\n      <th>total_score_20_1</th>\n      <th>subject_score_20_2</th>\n      <th>license_score_20_2</th>\n      <th>contest_score_20_2</th>\n      <th>total_score_20_2</th>\n      <th>rank</th>\n    </tr>\n    <tr>\n      <th>user_id</th>\n      <th></th>\n      <th></th>\n      <th></th>\n      <th></th>\n      <th></th>\n      <th></th>\n      <th></th>\n      <th></th>\n      <th></th>\n      <th></th>\n      <th></th>\n      <th></th>\n      <th></th>\n      <th></th>\n      <th></th>\n      <th></th>\n      <th></th>\n      <th></th>\n    </tr>\n  </thead>\n  <tbody>\n    <tr>\n      <th>2244</th>\n      <td>2</td>\n      <td>92.48</td>\n      <td>0.0</td>\n      <td>100.0</td>\n      <td>192.48</td>\n      <td>94.73</td>\n      <td>0.0</td>\n      <td>100.0</td>\n      <td>194.73</td>\n      <td>96.42</td>\n      <td>0.0</td>\n      <td>100.0</td>\n      <td>196.42</td>\n      <td>96.69</td>\n      <td>30.0</td>\n      <td>112.0</td>\n      <td>238.69</td>\n      <td>10</td>\n    </tr>\n    <tr>\n      <th>2145</th>\n      <td>2</td>\n      <td>90.60</td>\n      <td>0.0</td>\n      <td>30.0</td>\n      <td>120.60</td>\n      <td>90.64</td>\n      <td>0.0</td>\n      <td>0.0</td>\n      <td>90.64</td>\n      <td>92.08</td>\n      <td>0.0</td>\n      <td>103.0</td>\n      <td>195.08</td>\n      <td>88.98</td>\n      <td>40.0</td>\n      <td>109.0</td>\n      <td>237.98</td>\n      <td>11</td>\n    </tr>\n    <tr>\n      <th>2214</th>\n      <td>2</td>\n      <td>98.48</td>\n      <td>0.0</td>\n      <td>0.0</td>\n      <td>98.48</td>\n      <td>96.40</td>\n      <td>0.0</td>\n      <td>0.0</td>\n      <td>96.40</td>\n      <td>93.80</td>\n      <td>60.0</td>\n      <td>0.0</td>\n      <td>153.80</td>\n      <td>94.13</td>\n      <td>60.0</td>\n      <td>0.0</td>\n      <td>154.13</td>\n      <td>17</td>\n    </tr>\n    <tr>\n      <th>2178</th>\n      <td>1</td>\n      <td>97.48</td>\n      <td>0.0</td>\n      <td>0.0</td>\n      <td>97.48</td>\n      <td>94.78</td>\n      <td>0.0</td>\n      <td>0.0</td>\n      <td>94.78</td>\n      <td>97.26</td>\n      <td>0.0</td>\n      <td>0.0</td>\n      <td>97.26</td>\n      <td>97.46</td>\n      <td>0.0</td>\n      <td>0.0</td>\n      <td>97.46</td>\n      <td>54</td>\n    </tr>\n    <tr>\n      <th>2198</th>\n      <td>2</td>\n      <td>97.00</td>\n      <td>0.0</td>\n      <td>0.0</td>\n      <td>97.00</td>\n      <td>98.50</td>\n      <td>0.0</td>\n      <td>0.0</td>\n      <td>98.50</td>\n      <td>95.60</td>\n      <td>0.0</td>\n      <td>0.0</td>\n      <td>95.60</td>\n      <td>94.63</td>\n      <td>0.0</td>\n      <td>0.0</td>\n      <td>94.63</td>\n      <td>75</td>\n    </tr>\n  </tbody>\n</table>\n</div>"
     },
     "metadata": {},
     "execution_count": 16
    }
   ],
   "source": [
    "mun.head()"
   ]
  },
  {
   "cell_type": "code",
   "execution_count": 17,
   "metadata": {},
   "outputs": [
    {
     "output_type": "display_data",
     "data": {
      "text/plain": "<Figure size 432x288 with 1 Axes>",
      "image/svg+xml": "<?xml version=\"1.0\" encoding=\"utf-8\" standalone=\"no\"?>\n<!DOCTYPE svg PUBLIC \"-//W3C//DTD SVG 1.1//EN\"\n  \"http://www.w3.org/Graphics/SVG/1.1/DTD/svg11.dtd\">\n<svg height=\"249.419687pt\" version=\"1.1\" viewBox=\"0 0 373.689062 249.419687\" width=\"373.689062pt\" xmlns=\"http://www.w3.org/2000/svg\" xmlns:xlink=\"http://www.w3.org/1999/xlink\">\n <metadata>\n  <rdf:RDF xmlns:cc=\"http://creativecommons.org/ns#\" xmlns:dc=\"http://purl.org/dc/elements/1.1/\" xmlns:rdf=\"http://www.w3.org/1999/02/22-rdf-syntax-ns#\">\n   <cc:Work>\n    <dc:type rdf:resource=\"http://purl.org/dc/dcmitype/StillImage\"/>\n    <dc:date>2021-06-22T23:28:08.950144</dc:date>\n    <dc:format>image/svg+xml</dc:format>\n    <dc:creator>\n     <cc:Agent>\n      <dc:title>Matplotlib v3.4.2, https://matplotlib.org/</dc:title>\n     </cc:Agent>\n    </dc:creator>\n   </cc:Work>\n  </rdf:RDF>\n </metadata>\n <defs>\n  <style type=\"text/css\">*{stroke-linecap:butt;stroke-linejoin:round;}</style>\n </defs>\n <g id=\"figure_1\">\n  <g id=\"patch_1\">\n   <path d=\"M 0 249.419687 \nL 373.689062 249.419687 \nL 373.689062 0 \nL 0 0 \nz\n\" style=\"fill:none;\"/>\n  </g>\n  <g id=\"axes_1\">\n   <g id=\"patch_2\">\n    <path d=\"M 31.689062 224.64 \nL 366.489062 224.64 \nL 366.489062 7.2 \nL 31.689062 7.2 \nz\n\" style=\"fill:#ffffff;\"/>\n   </g>\n   <g id=\"patch_3\">\n    <path clip-path=\"url(#pc3a7f69c65)\" d=\"M 48.429062 196.239673 \nL 182.349063 196.239673 \nL 182.349063 183.922108 \nL 48.429062 183.922108 \nL 48.429062 196.239673 \nz\n\" style=\"fill:#3274a1;stroke:#3f3f3f;stroke-linejoin:miter;stroke-width:1.5;\"/>\n   </g>\n   <g id=\"patch_4\">\n    <path clip-path=\"url(#pc3a7f69c65)\" d=\"M 215.829062 189.408534 \nL 349.749062 189.408534 \nL 349.749062 152.738226 \nL 215.829062 152.738226 \nL 215.829062 189.408534 \nz\n\" style=\"fill:#e1812c;stroke:#3f3f3f;stroke-linejoin:miter;stroke-width:1.5;\"/>\n   </g>\n   <g id=\"matplotlib.axis_1\">\n    <g id=\"xtick_1\">\n     <g id=\"line2d_1\">\n      <defs>\n       <path d=\"M 0 0 \nL 0 3.5 \n\" id=\"m98608d70aa\" style=\"stroke:#000000;stroke-width:0.8;\"/>\n      </defs>\n      <g>\n       <use style=\"stroke:#000000;stroke-width:0.8;\" x=\"115.389062\" xlink:href=\"#m98608d70aa\" y=\"224.64\"/>\n      </g>\n     </g>\n     <g id=\"text_1\">\n      <!-- 문과 -->\n      <g transform=\"translate(106.46875 239.410312)scale(0.1 -0.1)\">\n       <defs>\n        <path d=\"M 4141 3206 \nL 4141 4346 \nL 1562 4346 \nL 1562 3206 \nL 4141 3206 \nz\nM 998 2739 \nL 998 4832 \nL 4704 4832 \nL 4704 2739 \nL 998 2739 \nz\nM 3277 358 \nL 2707 358 \nL 2707 1600 \nL 70 1600 \nL 70 2074 \nL 5638 2074 \nL 5638 1600 \nL 3277 1600 \nL 3277 358 \nz\nM 4928 -762 \nL 992 -762 \nL 992 979 \nL 1542 979 \nL 1542 -282 \nL 4928 -282 \nL 4928 -762 \nz\n\" id=\"NanumBarunGothic-bb38\" transform=\"scale(0.015625)\"/>\n        <path d=\"M 3130 1568 \nL 2586 1568 \nQ 2739 2150 2784 2777 \nQ 2829 3405 2842 3981 \nL 454 3981 \nL 454 4454 \nL 3392 4454 \nQ 3386 4134 3373 3750 \nQ 3360 3366 3331 2976 \nQ 3302 2586 3254 2221 \nQ 3206 1856 3130 1568 \nz\nM 5696 2208 \nL 4768 2208 \nL 4768 -851 \nL 4237 -851 \nL 4237 4992 \nL 4768 4992 \nL 4768 2682 \nL 5696 2682 \nL 5696 2208 \nz\nM 1274 454 \nL 70 454 \nL 70 928 \nL 1414 928 \nL 1414 2842 \nL 1952 2842 \nL 1952 934 \nQ 2419 947 2912 972 \nQ 3405 998 3949 1069 \nL 3949 627 \nQ 3642 582 3296 550 \nQ 2950 518 2598 496 \nQ 2246 474 1907 464 \nQ 1568 454 1274 454 \nz\n\" id=\"NanumBarunGothic-acfc\" transform=\"scale(0.015625)\"/>\n       </defs>\n       <use xlink:href=\"#NanumBarunGothic-bb38\"/>\n       <use x=\"89.199982\" xlink:href=\"#NanumBarunGothic-acfc\"/>\n      </g>\n     </g>\n    </g>\n    <g id=\"xtick_2\">\n     <g id=\"line2d_2\">\n      <g>\n       <use style=\"stroke:#000000;stroke-width:0.8;\" x=\"282.789062\" xlink:href=\"#m98608d70aa\" y=\"224.64\"/>\n      </g>\n     </g>\n     <g id=\"text_2\">\n      <!-- 이과 -->\n      <g transform=\"translate(273.86875 239.410312)scale(0.1 -0.1)\">\n       <defs>\n        <path d=\"M 4448 4992 \nL 4998 4992 \nL 4998 -851 \nL 4448 -851 \nL 4448 4992 \nz\nM 3341 2566 \nQ 3341 2054 3225 1660 \nQ 3110 1267 2908 1004 \nQ 2707 742 2432 608 \nQ 2157 474 1843 474 \nQ 1530 474 1258 608 \nQ 986 742 781 1004 \nQ 576 1267 457 1660 \nQ 339 2054 339 2566 \nQ 339 3078 457 3468 \nQ 576 3859 781 4121 \nQ 986 4384 1258 4518 \nQ 1530 4653 1843 4653 \nQ 2157 4653 2432 4518 \nQ 2707 4384 2908 4121 \nQ 3110 3859 3225 3468 \nQ 3341 3078 3341 2566 \nz\nM 2784 2566 \nQ 2784 2925 2720 3219 \nQ 2656 3514 2537 3725 \nQ 2419 3936 2243 4051 \nQ 2067 4166 1843 4166 \nQ 1619 4166 1443 4051 \nQ 1267 3936 1148 3725 \nQ 1030 3514 966 3219 \nQ 902 2925 902 2566 \nQ 902 2208 966 1913 \nQ 1030 1619 1148 1408 \nQ 1267 1197 1443 1078 \nQ 1619 960 1843 960 \nQ 2067 960 2243 1078 \nQ 2419 1197 2537 1408 \nQ 2656 1619 2720 1913 \nQ 2784 2208 2784 2566 \nz\n\" id=\"NanumBarunGothic-c774\" transform=\"scale(0.015625)\"/>\n       </defs>\n       <use xlink:href=\"#NanumBarunGothic-c774\"/>\n       <use x=\"89.199982\" xlink:href=\"#NanumBarunGothic-acfc\"/>\n      </g>\n     </g>\n    </g>\n   </g>\n   <g id=\"matplotlib.axis_2\">\n    <g id=\"ytick_1\">\n     <g id=\"line2d_3\">\n      <defs>\n       <path d=\"M 0 0 \nL -3.5 0 \n\" id=\"mb13cf773ce\" style=\"stroke:#000000;stroke-width:0.8;\"/>\n      </defs>\n      <g>\n       <use style=\"stroke:#000000;stroke-width:0.8;\" x=\"31.689062\" xlink:href=\"#mb13cf773ce\" y=\"215.832134\"/>\n      </g>\n     </g>\n     <g id=\"text_3\">\n      <!-- 50 -->\n      <g transform=\"translate(13.029687 219.71729)scale(0.1 -0.1)\">\n       <defs>\n        <path d=\"M 435 557 \nQ 742 352 1062 253 \nQ 1382 154 1747 154 \nQ 1997 160 2208 246 \nQ 2419 333 2572 480 \nQ 2726 627 2812 828 \nQ 2899 1030 2899 1274 \nQ 2899 1555 2793 1750 \nQ 2688 1946 2499 2067 \nQ 2310 2189 2057 2243 \nQ 1805 2298 1510 2298 \nQ 1286 2298 1030 2266 \nQ 774 2234 544 2182 \nL 678 4595 \nL 3187 4595 \nL 3187 4154 \nL 1139 4154 \nL 1043 2669 \nL 1056 2669 \nQ 1242 2688 1408 2701 \nQ 1574 2714 1741 2714 \nQ 2118 2714 2432 2621 \nQ 2746 2528 2973 2352 \nQ 3200 2176 3325 1917 \nQ 3450 1658 3450 1331 \nQ 3450 992 3331 694 \nQ 3213 397 2989 179 \nQ 2765 -38 2445 -163 \nQ 2125 -288 1728 -288 \nQ 1299 -282 966 -195 \nQ 634 -109 365 83 \nL 365 525 \nQ 365 563 387 572 \nQ 410 582 435 557 \nz\n\" id=\"NanumBarunGothic-35\" transform=\"scale(0.015625)\"/>\n        <path d=\"M 1869 4704 \nQ 2630 4704 3036 4070 \nQ 3443 3437 3443 2150 \nQ 3443 870 3033 281 \nQ 2624 -307 1869 -307 \nQ 1491 -307 1196 -163 \nQ 902 -19 700 281 \nQ 499 582 396 1046 \nQ 294 1510 294 2150 \nQ 294 3437 700 4070 \nQ 1107 4704 1869 4704 \nz\nM 1869 4256 \nQ 851 4256 851 2138 \nQ 851 1082 1104 608 \nQ 1357 134 1869 134 \nQ 2374 134 2630 608 \nQ 2886 1082 2886 2138 \nQ 2886 4256 1869 4256 \nz\n\" id=\"NanumBarunGothic-30\" transform=\"scale(0.015625)\"/>\n       </defs>\n       <use xlink:href=\"#NanumBarunGothic-35\"/>\n       <use x=\"58.299988\" xlink:href=\"#NanumBarunGothic-30\"/>\n      </g>\n     </g>\n    </g>\n    <g id=\"ytick_2\">\n     <g id=\"line2d_4\">\n      <g>\n       <use style=\"stroke:#000000;stroke-width:0.8;\" x=\"31.689062\" xlink:href=\"#mb13cf773ce\" y=\"182.214323\"/>\n      </g>\n     </g>\n     <g id=\"text_4\">\n      <!-- 100 -->\n      <g transform=\"translate(7.2 186.099479)scale(0.1 -0.1)\">\n       <defs>\n        <path d=\"M 781 3546 \nL 781 3942 \nQ 1043 4058 1276 4227 \nQ 1510 4397 1709 4621 \nL 2285 4621 \nL 2285 -230 \nL 1734 -230 \nL 1734 4019 \nL 1728 4019 \nQ 1510 3846 1289 3721 \nQ 1069 3597 845 3514 \nQ 781 3488 781 3546 \nz\n\" id=\"NanumBarunGothic-31\" transform=\"scale(0.015625)\"/>\n       </defs>\n       <use xlink:href=\"#NanumBarunGothic-31\"/>\n       <use x=\"58.299988\" xlink:href=\"#NanumBarunGothic-30\"/>\n       <use x=\"116.599976\" xlink:href=\"#NanumBarunGothic-30\"/>\n      </g>\n     </g>\n    </g>\n    <g id=\"ytick_3\">\n     <g id=\"line2d_5\">\n      <g>\n       <use style=\"stroke:#000000;stroke-width:0.8;\" x=\"31.689062\" xlink:href=\"#mb13cf773ce\" y=\"148.596512\"/>\n      </g>\n     </g>\n     <g id=\"text_5\">\n      <!-- 150 -->\n      <g transform=\"translate(7.2 152.481668)scale(0.1 -0.1)\">\n       <use xlink:href=\"#NanumBarunGothic-31\"/>\n       <use x=\"58.299988\" xlink:href=\"#NanumBarunGothic-35\"/>\n       <use x=\"116.599976\" xlink:href=\"#NanumBarunGothic-30\"/>\n      </g>\n     </g>\n    </g>\n    <g id=\"ytick_4\">\n     <g id=\"line2d_6\">\n      <g>\n       <use style=\"stroke:#000000;stroke-width:0.8;\" x=\"31.689062\" xlink:href=\"#mb13cf773ce\" y=\"114.978701\"/>\n      </g>\n     </g>\n     <g id=\"text_6\">\n      <!-- 200 -->\n      <g transform=\"translate(7.2 118.863858)scale(0.1 -0.1)\">\n       <defs>\n        <path d=\"M 582 3693 \nQ 512 3622 512 3718 \nL 512 4198 \nQ 781 4410 1101 4557 \nQ 1421 4704 1850 4704 \nQ 2547 4704 2908 4387 \nQ 3270 4070 3270 3418 \nQ 3270 3200 3200 3001 \nQ 3130 2803 3005 2601 \nQ 2880 2400 2704 2182 \nQ 2528 1965 2317 1709 \nL 1011 224 \nL 1011 218 \nL 3341 218 \nL 3341 -230 \nL 352 -230 \nL 352 250 \nL 1843 1926 \nQ 2093 2246 2259 2460 \nQ 2426 2675 2525 2838 \nQ 2624 3002 2665 3136 \nQ 2707 3270 2707 3430 \nQ 2707 3821 2505 4038 \nQ 2304 4256 1862 4256 \nQ 1555 4256 1235 4112 \nQ 915 3968 582 3693 \nz\n\" id=\"NanumBarunGothic-32\" transform=\"scale(0.015625)\"/>\n       </defs>\n       <use xlink:href=\"#NanumBarunGothic-32\"/>\n       <use x=\"58.299988\" xlink:href=\"#NanumBarunGothic-30\"/>\n       <use x=\"116.599976\" xlink:href=\"#NanumBarunGothic-30\"/>\n      </g>\n     </g>\n    </g>\n    <g id=\"ytick_5\">\n     <g id=\"line2d_7\">\n      <g>\n       <use style=\"stroke:#000000;stroke-width:0.8;\" x=\"31.689062\" xlink:href=\"#mb13cf773ce\" y=\"81.360891\"/>\n      </g>\n     </g>\n     <g id=\"text_7\">\n      <!-- 250 -->\n      <g transform=\"translate(7.2 85.246047)scale(0.1 -0.1)\">\n       <use xlink:href=\"#NanumBarunGothic-32\"/>\n       <use x=\"58.299988\" xlink:href=\"#NanumBarunGothic-35\"/>\n       <use x=\"116.599976\" xlink:href=\"#NanumBarunGothic-30\"/>\n      </g>\n     </g>\n    </g>\n    <g id=\"ytick_6\">\n     <g id=\"line2d_8\">\n      <g>\n       <use style=\"stroke:#000000;stroke-width:0.8;\" x=\"31.689062\" xlink:href=\"#mb13cf773ce\" y=\"47.74308\"/>\n      </g>\n     </g>\n     <g id=\"text_8\">\n      <!-- 300 -->\n      <g transform=\"translate(7.2 51.628236)scale(0.1 -0.1)\">\n       <defs>\n        <path d=\"M 1837 -288 \nQ 1408 -282 1014 -154 \nQ 621 -26 378 205 \nL 378 666 \nQ 378 710 400 720 \nQ 422 730 454 698 \nQ 800 410 1136 285 \nQ 1472 160 1850 160 \nQ 2061 160 2240 227 \nQ 2419 294 2553 419 \nQ 2688 544 2765 710 \nQ 2842 877 2842 1082 \nQ 2842 2074 1651 2074 \nL 1478 2074 \nL 1478 2528 \nL 1555 2528 \nQ 1786 2534 1997 2576 \nQ 2208 2618 2368 2717 \nQ 2528 2816 2624 2989 \nQ 2720 3162 2720 3437 \nQ 2720 3866 2467 4064 \nQ 2214 4262 1830 4262 \nQ 1523 4262 1196 4140 \nQ 870 4019 589 3770 \nQ 563 3750 540 3756 \nQ 518 3763 518 3802 \nL 518 4275 \nQ 614 4358 748 4435 \nQ 883 4512 1049 4573 \nQ 1216 4634 1411 4672 \nQ 1606 4710 1818 4710 \nQ 2138 4710 2410 4633 \nQ 2682 4557 2877 4400 \nQ 3072 4243 3181 4009 \nQ 3290 3776 3290 3469 \nQ 3290 3245 3226 3056 \nQ 3162 2867 3046 2716 \nQ 2931 2566 2771 2464 \nQ 2611 2362 2419 2323 \nL 2419 2310 \nQ 2880 2208 3142 1923 \nQ 3405 1638 3405 1101 \nQ 3405 832 3305 579 \nQ 3206 326 3008 134 \nQ 2810 -58 2518 -173 \nQ 2227 -288 1837 -288 \nz\n\" id=\"NanumBarunGothic-33\" transform=\"scale(0.015625)\"/>\n       </defs>\n       <use xlink:href=\"#NanumBarunGothic-33\"/>\n       <use x=\"58.299988\" xlink:href=\"#NanumBarunGothic-30\"/>\n       <use x=\"116.599976\" xlink:href=\"#NanumBarunGothic-30\"/>\n      </g>\n     </g>\n    </g>\n    <g id=\"ytick_7\">\n     <g id=\"line2d_9\">\n      <g>\n       <use style=\"stroke:#000000;stroke-width:0.8;\" x=\"31.689062\" xlink:href=\"#mb13cf773ce\" y=\"14.125269\"/>\n      </g>\n     </g>\n     <g id=\"text_9\">\n      <!-- 350 -->\n      <g transform=\"translate(7.2 18.010425)scale(0.1 -0.1)\">\n       <use xlink:href=\"#NanumBarunGothic-33\"/>\n       <use x=\"58.299988\" xlink:href=\"#NanumBarunGothic-35\"/>\n       <use x=\"116.599976\" xlink:href=\"#NanumBarunGothic-30\"/>\n      </g>\n     </g>\n    </g>\n   </g>\n   <g id=\"line2d_10\">\n    <path clip-path=\"url(#pc3a7f69c65)\" d=\"M 115.389062 196.239673 \nL 115.389062 204.939963 \n\" style=\"fill:none;stroke:#3f3f3f;stroke-linecap:square;stroke-width:1.5;\"/>\n   </g>\n   <g id=\"line2d_11\">\n    <path clip-path=\"url(#pc3a7f69c65)\" d=\"M 115.389062 183.922108 \nL 115.389062 165.829002 \n\" style=\"fill:none;stroke:#3f3f3f;stroke-linecap:square;stroke-width:1.5;\"/>\n   </g>\n   <g id=\"line2d_12\">\n    <path clip-path=\"url(#pc3a7f69c65)\" d=\"M 81.909062 204.939963 \nL 148.869062 204.939963 \n\" style=\"fill:none;stroke:#3f3f3f;stroke-linecap:square;stroke-width:1.5;\"/>\n   </g>\n   <g id=\"line2d_13\">\n    <path clip-path=\"url(#pc3a7f69c65)\" d=\"M 81.909062 165.829002 \nL 148.869062 165.829002 \n\" style=\"fill:none;stroke:#3f3f3f;stroke-linecap:square;stroke-width:1.5;\"/>\n   </g>\n   <g id=\"line2d_14\">\n    <defs>\n     <path d=\"M -0 3.535534 \nL 2.12132 0 \nL -0 -3.535534 \nL -2.12132 -0 \nz\n\" id=\"m64a93c25fb\" style=\"stroke:#3f3f3f;stroke-linejoin:miter;\"/>\n    </defs>\n    <g clip-path=\"url(#pc3a7f69c65)\">\n     <use style=\"fill:#3f3f3f;stroke:#3f3f3f;stroke-linejoin:miter;\" x=\"115.389062\" xlink:href=\"#m64a93c25fb\" y=\"88.965239\"/>\n     <use style=\"fill:#3f3f3f;stroke:#3f3f3f;stroke-linejoin:miter;\" x=\"115.389062\" xlink:href=\"#m64a93c25fb\" y=\"89.442612\"/>\n     <use style=\"fill:#3f3f3f;stroke:#3f3f3f;stroke-linejoin:miter;\" x=\"115.389062\" xlink:href=\"#m64a93c25fb\" y=\"145.819681\"/>\n     <use style=\"fill:#3f3f3f;stroke:#3f3f3f;stroke-linejoin:miter;\" x=\"115.389062\" xlink:href=\"#m64a93c25fb\" y=\"69.513974\"/>\n     <use style=\"fill:#3f3f3f;stroke:#3f3f3f;stroke-linejoin:miter;\" x=\"115.389062\" xlink:href=\"#m64a93c25fb\" y=\"158.984416\"/>\n     <use style=\"fill:#3f3f3f;stroke:#3f3f3f;stroke-linejoin:miter;\" x=\"115.389062\" xlink:href=\"#m64a93c25fb\" y=\"150.142931\"/>\n     <use style=\"fill:#3f3f3f;stroke:#3f3f3f;stroke-linejoin:miter;\" x=\"115.389062\" xlink:href=\"#m64a93c25fb\" y=\"119.26161\"/>\n     <use style=\"fill:#3f3f3f;stroke:#3f3f3f;stroke-linejoin:miter;\" x=\"115.389062\" xlink:href=\"#m64a93c25fb\" y=\"105.700186\"/>\n     <use style=\"fill:#3f3f3f;stroke:#3f3f3f;stroke-linejoin:miter;\" x=\"115.389062\" xlink:href=\"#m64a93c25fb\" y=\"146.855109\"/>\n     <use style=\"fill:#3f3f3f;stroke:#3f3f3f;stroke-linejoin:miter;\" x=\"115.389062\" xlink:href=\"#m64a93c25fb\" y=\"98.169796\"/>\n     <use style=\"fill:#3f3f3f;stroke:#3f3f3f;stroke-linejoin:miter;\" x=\"115.389062\" xlink:href=\"#m64a93c25fb\" y=\"93.026271\"/>\n    </g>\n   </g>\n   <g id=\"line2d_15\">\n    <path clip-path=\"url(#pc3a7f69c65)\" d=\"M 282.789062 189.408534 \nL 282.789062 214.756364 \n\" style=\"fill:none;stroke:#3f3f3f;stroke-linecap:square;stroke-width:1.5;\"/>\n   </g>\n   <g id=\"line2d_16\">\n    <path clip-path=\"url(#pc3a7f69c65)\" d=\"M 282.789062 152.738226 \nL 282.789062 111.152994 \n\" style=\"fill:none;stroke:#3f3f3f;stroke-linecap:square;stroke-width:1.5;\"/>\n   </g>\n   <g id=\"line2d_17\">\n    <path clip-path=\"url(#pc3a7f69c65)\" d=\"M 249.309063 214.756364 \nL 316.269063 214.756364 \n\" style=\"fill:none;stroke:#3f3f3f;stroke-linecap:square;stroke-width:1.5;\"/>\n   </g>\n   <g id=\"line2d_18\">\n    <path clip-path=\"url(#pc3a7f69c65)\" d=\"M 249.309063 111.152994 \nL 316.269063 111.152994 \n\" style=\"fill:none;stroke:#3f3f3f;stroke-linecap:square;stroke-width:1.5;\"/>\n   </g>\n   <g id=\"line2d_19\">\n    <g clip-path=\"url(#pc3a7f69c65)\">\n     <use style=\"fill:#3f3f3f;stroke:#3f3f3f;stroke-linejoin:miter;\" x=\"282.789062\" xlink:href=\"#m64a93c25fb\" y=\"91.688282\"/>\n     <use style=\"fill:#3f3f3f;stroke:#3f3f3f;stroke-linejoin:miter;\" x=\"282.789062\" xlink:href=\"#m64a93c25fb\" y=\"55.448282\"/>\n     <use style=\"fill:#3f3f3f;stroke:#3f3f3f;stroke-linejoin:miter;\" x=\"282.789062\" xlink:href=\"#m64a93c25fb\" y=\"17.083636\"/>\n     <use style=\"fill:#3f3f3f;stroke:#3f3f3f;stroke-linejoin:miter;\" x=\"282.789062\" xlink:href=\"#m64a93c25fb\" y=\"24.398872\"/>\n     <use style=\"fill:#3f3f3f;stroke:#3f3f3f;stroke-linejoin:miter;\" x=\"282.789062\" xlink:href=\"#m64a93c25fb\" y=\"89.28797\"/>\n     <use style=\"fill:#3f3f3f;stroke:#3f3f3f;stroke-linejoin:miter;\" x=\"282.789062\" xlink:href=\"#m64a93c25fb\" y=\"90.336846\"/>\n     <use style=\"fill:#3f3f3f;stroke:#3f3f3f;stroke-linejoin:miter;\" x=\"282.789062\" xlink:href=\"#m64a93c25fb\" y=\"84.373046\"/>\n     <use style=\"fill:#3f3f3f;stroke:#3f3f3f;stroke-linejoin:miter;\" x=\"282.789062\" xlink:href=\"#m64a93c25fb\" y=\"97.302456\"/>\n     <use style=\"fill:#3f3f3f;stroke:#3f3f3f;stroke-linejoin:miter;\" x=\"282.789062\" xlink:href=\"#m64a93c25fb\" y=\"96.872148\"/>\n     <use style=\"fill:#3f3f3f;stroke:#3f3f3f;stroke-linejoin:miter;\" x=\"282.789062\" xlink:href=\"#m64a93c25fb\" y=\"71.275547\"/>\n     <use style=\"fill:#3f3f3f;stroke:#3f3f3f;stroke-linejoin:miter;\" x=\"282.789062\" xlink:href=\"#m64a93c25fb\" y=\"39.728594\"/>\n     <use style=\"fill:#3f3f3f;stroke:#3f3f3f;stroke-linejoin:miter;\" x=\"282.789062\" xlink:href=\"#m64a93c25fb\" y=\"89.039199\"/>\n    </g>\n   </g>\n   <g id=\"line2d_20\">\n    <path clip-path=\"url(#pc3a7f69c65)\" d=\"M 48.429062 187.983139 \nL 182.349063 187.983139 \n\" style=\"fill:none;stroke:#3f3f3f;stroke-linecap:square;stroke-width:1.5;\"/>\n   </g>\n   <g id=\"line2d_21\">\n    <path clip-path=\"url(#pc3a7f69c65)\" d=\"M 215.829062 186.181224 \nL 349.749062 186.181224 \n\" style=\"fill:none;stroke:#3f3f3f;stroke-linecap:square;stroke-width:1.5;\"/>\n   </g>\n   <g id=\"patch_5\">\n    <path d=\"M 31.689062 224.64 \nL 31.689062 7.2 \n\" style=\"fill:none;stroke:#000000;stroke-linecap:square;stroke-linejoin:miter;stroke-width:0.8;\"/>\n   </g>\n   <g id=\"patch_6\">\n    <path d=\"M 366.489062 224.64 \nL 366.489062 7.2 \n\" style=\"fill:none;stroke:#000000;stroke-linecap:square;stroke-linejoin:miter;stroke-width:0.8;\"/>\n   </g>\n   <g id=\"patch_7\">\n    <path d=\"M 31.689062 224.64 \nL 366.489063 224.64 \n\" style=\"fill:none;stroke:#000000;stroke-linecap:square;stroke-linejoin:miter;stroke-width:0.8;\"/>\n   </g>\n   <g id=\"patch_8\">\n    <path d=\"M 31.689062 7.2 \nL 366.489063 7.2 \n\" style=\"fill:none;stroke:#000000;stroke-linecap:square;stroke-linejoin:miter;stroke-width:0.8;\"/>\n   </g>\n  </g>\n </g>\n <defs>\n  <clipPath id=\"pc3a7f69c65\">\n   <rect height=\"217.44\" width=\"334.8\" x=\"31.689062\" y=\"7.2\"/>\n  </clipPath>\n </defs>\n</svg>\n",
      "image/png": "[encoded data removed]"
     },
     "metadata": {
      "needs_background": "light"
     }
    }
   ],
   "source": [
    "# 전반적인 추이를 살펴보기 위해 Boxplot을 그려보았다.\n",
    "# 본 그래프를 통해 2번 가설인 \"이과보다 문과 학생의 최저 점수가 더 높을 것이다.\"의 참 여부도 확인할 수 있다.\n",
    "sns.boxplot(\n",
    "    data=[mun.total_score_20_2, lee.total_score_20_2],\n",
    ")\n",
    "plt.xticks([0, 1], ['문과', '이과'])\n",
    "plt.show()"
   ]
  },
  {
   "cell_type": "code",
   "execution_count": 18,
   "metadata": {},
   "outputs": [
    {
     "output_type": "display_data",
     "data": {
      "text/plain": "<Figure size 432x288 with 1 Axes>",
      "image/svg+xml": "<?xml version=\"1.0\" encoding=\"utf-8\" standalone=\"no\"?>\n<!DOCTYPE svg PUBLIC \"-//W3C//DTD SVG 1.1//EN\"\n  \"http://www.w3.org/Graphics/SVG/1.1/DTD/svg11.dtd\">\n<svg height=\"249.419687pt\" version=\"1.1\" viewBox=\"0 0 373.689062 249.419687\" width=\"373.689062pt\" xmlns=\"http://www.w3.org/2000/svg\" xmlns:xlink=\"http://www.w3.org/1999/xlink\">\n <metadata>\n  <rdf:RDF xmlns:cc=\"http://creativecommons.org/ns#\" xmlns:dc=\"http://purl.org/dc/elements/1.1/\" xmlns:rdf=\"http://www.w3.org/1999/02/22-rdf-syntax-ns#\">\n   <cc:Work>\n    <dc:type rdf:resource=\"http://purl.org/dc/dcmitype/StillImage\"/>\n    <dc:date>2021-06-22T23:28:09.110199</dc:date>\n    <dc:format>image/svg+xml</dc:format>\n    <dc:creator>\n     <cc:Agent>\n      <dc:title>Matplotlib v3.4.2, https://matplotlib.org/</dc:title>\n     </cc:Agent>\n    </dc:creator>\n   </cc:Work>\n  </rdf:RDF>\n </metadata>\n <defs>\n  <style type=\"text/css\">*{stroke-linecap:butt;stroke-linejoin:round;}</style>\n </defs>\n <g id=\"figure_1\">\n  <g id=\"patch_1\">\n   <path d=\"M 0 249.419687 \nL 373.689062 249.419687 \nL 373.689062 0 \nL 0 0 \nz\n\" style=\"fill:none;\"/>\n  </g>\n  <g id=\"axes_1\">\n   <g id=\"patch_2\">\n    <path d=\"M 31.689062 224.64 \nL 366.489062 224.64 \nL 366.489062 7.2 \nL 31.689062 7.2 \nz\n\" style=\"fill:#ffffff;\"/>\n   </g>\n   <g id=\"patch_3\">\n    <path clip-path=\"url(#p741e8463b1)\" d=\"M 48.429062 224.64 \nL 182.349063 224.64 \nL 182.349063 38.129199 \nL 48.429062 38.129199 \nz\n\" style=\"fill:#3274a1;\"/>\n   </g>\n   <g id=\"patch_4\">\n    <path clip-path=\"url(#p741e8463b1)\" d=\"M 215.829062 224.64 \nL 349.749062 224.64 \nL 349.749062 17.554286 \nL 215.829062 17.554286 \nz\n\" style=\"fill:#e1812c;\"/>\n   </g>\n   <g id=\"matplotlib.axis_1\">\n    <g id=\"xtick_1\">\n     <g id=\"line2d_1\">\n      <defs>\n       <path d=\"M 0 0 \nL 0 3.5 \n\" id=\"m1dd0f0d4c1\" style=\"stroke:#000000;stroke-width:0.8;\"/>\n      </defs>\n      <g>\n       <use style=\"stroke:#000000;stroke-width:0.8;\" x=\"115.389062\" xlink:href=\"#m1dd0f0d4c1\" y=\"224.64\"/>\n      </g>\n     </g>\n     <g id=\"text_1\">\n      <!-- 문과 -->\n      <g transform=\"translate(106.46875 239.410312)scale(0.1 -0.1)\">\n       <defs>\n        <path d=\"M 4141 3206 \nL 4141 4346 \nL 1562 4346 \nL 1562 3206 \nL 4141 3206 \nz\nM 998 2739 \nL 998 4832 \nL 4704 4832 \nL 4704 2739 \nL 998 2739 \nz\nM 3277 358 \nL 2707 358 \nL 2707 1600 \nL 70 1600 \nL 70 2074 \nL 5638 2074 \nL 5638 1600 \nL 3277 1600 \nL 3277 358 \nz\nM 4928 -762 \nL 992 -762 \nL 992 979 \nL 1542 979 \nL 1542 -282 \nL 4928 -282 \nL 4928 -762 \nz\n\" id=\"NanumBarunGothic-bb38\" transform=\"scale(0.015625)\"/>\n        <path d=\"M 3130 1568 \nL 2586 1568 \nQ 2739 2150 2784 2777 \nQ 2829 3405 2842 3981 \nL 454 3981 \nL 454 4454 \nL 3392 4454 \nQ 3386 4134 3373 3750 \nQ 3360 3366 3331 2976 \nQ 3302 2586 3254 2221 \nQ 3206 1856 3130 1568 \nz\nM 5696 2208 \nL 4768 2208 \nL 4768 -851 \nL 4237 -851 \nL 4237 4992 \nL 4768 4992 \nL 4768 2682 \nL 5696 2682 \nL 5696 2208 \nz\nM 1274 454 \nL 70 454 \nL 70 928 \nL 1414 928 \nL 1414 2842 \nL 1952 2842 \nL 1952 934 \nQ 2419 947 2912 972 \nQ 3405 998 3949 1069 \nL 3949 627 \nQ 3642 582 3296 550 \nQ 2950 518 2598 496 \nQ 2246 474 1907 464 \nQ 1568 454 1274 454 \nz\n\" id=\"NanumBarunGothic-acfc\" transform=\"scale(0.015625)\"/>\n       </defs>\n       <use xlink:href=\"#NanumBarunGothic-bb38\"/>\n       <use x=\"89.199982\" xlink:href=\"#NanumBarunGothic-acfc\"/>\n      </g>\n     </g>\n    </g>\n    <g id=\"xtick_2\">\n     <g id=\"line2d_2\">\n      <g>\n       <use style=\"stroke:#000000;stroke-width:0.8;\" x=\"282.789062\" xlink:href=\"#m1dd0f0d4c1\" y=\"224.64\"/>\n      </g>\n     </g>\n     <g id=\"text_2\">\n      <!-- 이과 -->\n      <g transform=\"translate(273.86875 239.410312)scale(0.1 -0.1)\">\n       <defs>\n        <path d=\"M 4448 4992 \nL 4998 4992 \nL 4998 -851 \nL 4448 -851 \nL 4448 4992 \nz\nM 3341 2566 \nQ 3341 2054 3225 1660 \nQ 3110 1267 2908 1004 \nQ 2707 742 2432 608 \nQ 2157 474 1843 474 \nQ 1530 474 1258 608 \nQ 986 742 781 1004 \nQ 576 1267 457 1660 \nQ 339 2054 339 2566 \nQ 339 3078 457 3468 \nQ 576 3859 781 4121 \nQ 986 4384 1258 4518 \nQ 1530 4653 1843 4653 \nQ 2157 4653 2432 4518 \nQ 2707 4384 2908 4121 \nQ 3110 3859 3225 3468 \nQ 3341 3078 3341 2566 \nz\nM 2784 2566 \nQ 2784 2925 2720 3219 \nQ 2656 3514 2537 3725 \nQ 2419 3936 2243 4051 \nQ 2067 4166 1843 4166 \nQ 1619 4166 1443 4051 \nQ 1267 3936 1148 3725 \nQ 1030 3514 966 3219 \nQ 902 2925 902 2566 \nQ 902 2208 966 1913 \nQ 1030 1619 1148 1408 \nQ 1267 1197 1443 1078 \nQ 1619 960 1843 960 \nQ 2067 960 2243 1078 \nQ 2419 1197 2537 1408 \nQ 2656 1619 2720 1913 \nQ 2784 2208 2784 2566 \nz\n\" id=\"NanumBarunGothic-c774\" transform=\"scale(0.015625)\"/>\n       </defs>\n       <use xlink:href=\"#NanumBarunGothic-c774\"/>\n       <use x=\"89.199982\" xlink:href=\"#NanumBarunGothic-acfc\"/>\n      </g>\n     </g>\n    </g>\n   </g>\n   <g id=\"matplotlib.axis_2\">\n    <g id=\"ytick_1\">\n     <g id=\"line2d_3\">\n      <defs>\n       <path d=\"M 0 0 \nL -3.5 0 \n\" id=\"mbb7b2fbedc\" style=\"stroke:#000000;stroke-width:0.8;\"/>\n      </defs>\n      <g>\n       <use style=\"stroke:#000000;stroke-width:0.8;\" x=\"31.689062\" xlink:href=\"#mbb7b2fbedc\" y=\"224.64\"/>\n      </g>\n     </g>\n     <g id=\"text_3\">\n      <!-- 0 -->\n      <g transform=\"translate(18.859375 228.525156)scale(0.1 -0.1)\">\n       <defs>\n        <path d=\"M 1869 4704 \nQ 2630 4704 3036 4070 \nQ 3443 3437 3443 2150 \nQ 3443 870 3033 281 \nQ 2624 -307 1869 -307 \nQ 1491 -307 1196 -163 \nQ 902 -19 700 281 \nQ 499 582 396 1046 \nQ 294 1510 294 2150 \nQ 294 3437 700 4070 \nQ 1107 4704 1869 4704 \nz\nM 1869 4256 \nQ 851 4256 851 2138 \nQ 851 1082 1104 608 \nQ 1357 134 1869 134 \nQ 2374 134 2630 608 \nQ 2886 1082 2886 2138 \nQ 2886 4256 1869 4256 \nz\n\" id=\"NanumBarunGothic-30\" transform=\"scale(0.015625)\"/>\n       </defs>\n       <use xlink:href=\"#NanumBarunGothic-30\"/>\n      </g>\n     </g>\n    </g>\n    <g id=\"ytick_2\">\n     <g id=\"line2d_4\">\n      <g>\n       <use style=\"stroke:#000000;stroke-width:0.8;\" x=\"31.689062\" xlink:href=\"#mbb7b2fbedc\" y=\"190.475134\"/>\n      </g>\n     </g>\n     <g id=\"text_4\">\n      <!-- 20 -->\n      <g transform=\"translate(13.029687 194.36029)scale(0.1 -0.1)\">\n       <defs>\n        <path d=\"M 582 3693 \nQ 512 3622 512 3718 \nL 512 4198 \nQ 781 4410 1101 4557 \nQ 1421 4704 1850 4704 \nQ 2547 4704 2908 4387 \nQ 3270 4070 3270 3418 \nQ 3270 3200 3200 3001 \nQ 3130 2803 3005 2601 \nQ 2880 2400 2704 2182 \nQ 2528 1965 2317 1709 \nL 1011 224 \nL 1011 218 \nL 3341 218 \nL 3341 -230 \nL 352 -230 \nL 352 250 \nL 1843 1926 \nQ 2093 2246 2259 2460 \nQ 2426 2675 2525 2838 \nQ 2624 3002 2665 3136 \nQ 2707 3270 2707 3430 \nQ 2707 3821 2505 4038 \nQ 2304 4256 1862 4256 \nQ 1555 4256 1235 4112 \nQ 915 3968 582 3693 \nz\n\" id=\"NanumBarunGothic-32\" transform=\"scale(0.015625)\"/>\n       </defs>\n       <use xlink:href=\"#NanumBarunGothic-32\"/>\n       <use x=\"58.299988\" xlink:href=\"#NanumBarunGothic-30\"/>\n      </g>\n     </g>\n    </g>\n    <g id=\"ytick_3\">\n     <g id=\"line2d_5\">\n      <g>\n       <use style=\"stroke:#000000;stroke-width:0.8;\" x=\"31.689062\" xlink:href=\"#mbb7b2fbedc\" y=\"156.310267\"/>\n      </g>\n     </g>\n     <g id=\"text_5\">\n      <!-- 40 -->\n      <g transform=\"translate(13.029687 160.195423)scale(0.1 -0.1)\">\n       <defs>\n        <path d=\"M 134 877 \nL 134 1421 \nL 2259 4621 \nL 2918 4621 \nL 2918 1325 \nL 3642 1325 \nL 3642 877 \nL 2918 877 \nL 2918 -230 \nL 2374 -230 \nL 2374 877 \nL 134 877 \nz\nM 2221 3795 \nL 595 1318 \nL 595 1312 \nL 2400 1312 \nL 2400 3782 \nL 2406 4141 \nL 2221 3795 \nz\n\" id=\"NanumBarunGothic-34\" transform=\"scale(0.015625)\"/>\n       </defs>\n       <use xlink:href=\"#NanumBarunGothic-34\"/>\n       <use x=\"58.299988\" xlink:href=\"#NanumBarunGothic-30\"/>\n      </g>\n     </g>\n    </g>\n    <g id=\"ytick_4\">\n     <g id=\"line2d_6\">\n      <g>\n       <use style=\"stroke:#000000;stroke-width:0.8;\" x=\"31.689062\" xlink:href=\"#mbb7b2fbedc\" y=\"122.145401\"/>\n      </g>\n     </g>\n     <g id=\"text_6\">\n      <!-- 60 -->\n      <g transform=\"translate(13.029687 126.030557)scale(0.1 -0.1)\">\n       <defs>\n        <path d=\"M 3187 4026 \nQ 3008 4134 2797 4198 \nQ 2586 4262 2342 4262 \nQ 2003 4262 1734 4099 \nQ 1466 3936 1277 3657 \nQ 1088 3379 982 3014 \nQ 877 2650 864 2240 \nL 877 2240 \nQ 941 2381 1049 2512 \nQ 1158 2643 1308 2742 \nQ 1459 2842 1641 2899 \nQ 1824 2957 2035 2957 \nQ 2381 2957 2646 2838 \nQ 2912 2720 3094 2509 \nQ 3277 2298 3373 2010 \nQ 3469 1722 3469 1382 \nQ 3469 1005 3357 697 \nQ 3245 390 3037 172 \nQ 2829 -45 2544 -163 \nQ 2259 -282 1914 -282 \nQ 1421 -282 1113 -74 \nQ 806 134 633 460 \nQ 461 787 400 1187 \nQ 339 1587 339 1978 \nQ 339 2470 451 2960 \nQ 563 3450 803 3837 \nQ 1043 4224 1420 4467 \nQ 1798 4710 2330 4710 \nQ 2598 4710 2822 4662 \nQ 3046 4614 3245 4525 \nL 3245 4051 \nQ 3245 3981 3187 4026 \nz\nM 915 1331 \nQ 915 1094 982 883 \nQ 1050 672 1181 512 \nQ 1312 352 1497 256 \nQ 1683 160 1914 160 \nQ 2170 160 2358 265 \nQ 2547 371 2668 537 \nQ 2790 704 2848 918 \nQ 2906 1133 2906 1350 \nQ 2906 1587 2848 1798 \nQ 2790 2010 2675 2166 \nQ 2560 2323 2381 2416 \nQ 2202 2509 1958 2509 \nQ 1702 2509 1513 2416 \nQ 1325 2323 1197 2160 \nQ 1069 1997 1001 1782 \nQ 934 1568 915 1331 \nz\n\" id=\"NanumBarunGothic-36\" transform=\"scale(0.015625)\"/>\n       </defs>\n       <use xlink:href=\"#NanumBarunGothic-36\"/>\n       <use x=\"58.299988\" xlink:href=\"#NanumBarunGothic-30\"/>\n      </g>\n     </g>\n    </g>\n    <g id=\"ytick_5\">\n     <g id=\"line2d_7\">\n      <g>\n       <use style=\"stroke:#000000;stroke-width:0.8;\" x=\"31.689062\" xlink:href=\"#mbb7b2fbedc\" y=\"87.980534\"/>\n      </g>\n     </g>\n     <g id=\"text_7\">\n      <!-- 80 -->\n      <g transform=\"translate(13.029687 91.86569)scale(0.1 -0.1)\">\n       <defs>\n        <path d=\"M 1862 160 \nQ 2080 160 2275 227 \nQ 2470 294 2617 416 \nQ 2765 538 2848 714 \nQ 2931 890 2931 1114 \nQ 2931 1331 2848 1513 \nQ 2765 1696 2617 1830 \nQ 2470 1965 2275 2038 \nQ 2080 2112 1862 2112 \nQ 1638 2112 1446 2038 \nQ 1254 1965 1107 1830 \nQ 960 1696 877 1513 \nQ 794 1331 794 1114 \nQ 794 890 877 714 \nQ 960 538 1107 416 \nQ 1254 294 1446 227 \nQ 1638 160 1862 160 \nz\nM 1862 2573 \nQ 2042 2573 2214 2630 \nQ 2387 2688 2521 2797 \nQ 2656 2906 2739 3066 \nQ 2822 3226 2822 3430 \nQ 2822 3629 2745 3789 \nQ 2669 3949 2537 4064 \nQ 2406 4179 2233 4240 \nQ 2061 4301 1862 4301 \nQ 1664 4301 1491 4240 \nQ 1318 4179 1187 4064 \nQ 1056 3949 979 3789 \nQ 902 3629 902 3430 \nQ 902 3226 985 3066 \nQ 1069 2906 1203 2797 \nQ 1338 2688 1510 2630 \nQ 1683 2573 1862 2573 \nz\nM 1862 -288 \nQ 1453 -288 1149 -189 \nQ 845 -90 643 86 \nQ 442 262 339 505 \nQ 237 749 237 1030 \nQ 237 1498 477 1843 \nQ 717 2189 1235 2323 \nL 1235 2336 \nQ 832 2464 589 2742 \nQ 346 3021 346 3424 \nQ 346 3686 438 3920 \nQ 531 4154 720 4326 \nQ 909 4499 1193 4601 \nQ 1478 4704 1862 4704 \nQ 2246 4704 2531 4601 \nQ 2816 4499 3005 4326 \nQ 3194 4154 3286 3920 \nQ 3379 3686 3379 3424 \nQ 3379 3021 3136 2742 \nQ 2893 2464 2490 2336 \nL 2490 2323 \nQ 3008 2189 3248 1843 \nQ 3488 1498 3488 1030 \nQ 3488 749 3385 505 \nQ 3283 262 3081 86 \nQ 2880 -90 2576 -189 \nQ 2272 -288 1862 -288 \nz\n\" id=\"NanumBarunGothic-38\" transform=\"scale(0.015625)\"/>\n       </defs>\n       <use xlink:href=\"#NanumBarunGothic-38\"/>\n       <use x=\"58.299988\" xlink:href=\"#NanumBarunGothic-30\"/>\n      </g>\n     </g>\n    </g>\n    <g id=\"ytick_6\">\n     <g id=\"line2d_8\">\n      <g>\n       <use style=\"stroke:#000000;stroke-width:0.8;\" x=\"31.689062\" xlink:href=\"#mbb7b2fbedc\" y=\"53.815668\"/>\n      </g>\n     </g>\n     <g id=\"text_8\">\n      <!-- 100 -->\n      <g transform=\"translate(7.2 57.700824)scale(0.1 -0.1)\">\n       <defs>\n        <path d=\"M 781 3546 \nL 781 3942 \nQ 1043 4058 1276 4227 \nQ 1510 4397 1709 4621 \nL 2285 4621 \nL 2285 -230 \nL 1734 -230 \nL 1734 4019 \nL 1728 4019 \nQ 1510 3846 1289 3721 \nQ 1069 3597 845 3514 \nQ 781 3488 781 3546 \nz\n\" id=\"NanumBarunGothic-31\" transform=\"scale(0.015625)\"/>\n       </defs>\n       <use xlink:href=\"#NanumBarunGothic-31\"/>\n       <use x=\"58.299988\" xlink:href=\"#NanumBarunGothic-30\"/>\n       <use x=\"116.599976\" xlink:href=\"#NanumBarunGothic-30\"/>\n      </g>\n     </g>\n    </g>\n    <g id=\"ytick_7\">\n     <g id=\"line2d_9\">\n      <g>\n       <use style=\"stroke:#000000;stroke-width:0.8;\" x=\"31.689062\" xlink:href=\"#mbb7b2fbedc\" y=\"19.650801\"/>\n      </g>\n     </g>\n     <g id=\"text_9\">\n      <!-- 120 -->\n      <g transform=\"translate(7.2 23.535957)scale(0.1 -0.1)\">\n       <use xlink:href=\"#NanumBarunGothic-31\"/>\n       <use x=\"58.299988\" xlink:href=\"#NanumBarunGothic-32\"/>\n       <use x=\"116.599976\" xlink:href=\"#NanumBarunGothic-30\"/>\n      </g>\n     </g>\n    </g>\n   </g>\n   <g id=\"line2d_10\">\n    <path clip-path=\"url(#p741e8463b1)\" style=\"fill:none;stroke:#424242;stroke-linecap:square;stroke-width:2.7;\"/>\n   </g>\n   <g id=\"line2d_11\">\n    <path clip-path=\"url(#p741e8463b1)\" style=\"fill:none;stroke:#424242;stroke-linecap:square;stroke-width:2.7;\"/>\n   </g>\n   <g id=\"patch_5\">\n    <path d=\"M 31.689062 224.64 \nL 31.689062 7.2 \n\" style=\"fill:none;stroke:#000000;stroke-linecap:square;stroke-linejoin:miter;stroke-width:0.8;\"/>\n   </g>\n   <g id=\"patch_6\">\n    <path d=\"M 366.489062 224.64 \nL 366.489062 7.2 \n\" style=\"fill:none;stroke:#000000;stroke-linecap:square;stroke-linejoin:miter;stroke-width:0.8;\"/>\n   </g>\n   <g id=\"patch_7\">\n    <path d=\"M 31.689062 224.64 \nL 366.489063 224.64 \n\" style=\"fill:none;stroke:#000000;stroke-linecap:square;stroke-linejoin:miter;stroke-width:0.8;\"/>\n   </g>\n   <g id=\"patch_8\">\n    <path d=\"M 31.689062 7.2 \nL 366.489063 7.2 \n\" style=\"fill:none;stroke:#000000;stroke-linecap:square;stroke-linejoin:miter;stroke-width:0.8;\"/>\n   </g>\n  </g>\n </g>\n <defs>\n  <clipPath id=\"p741e8463b1\">\n   <rect height=\"217.44\" width=\"334.8\" x=\"31.689062\" y=\"7.2\"/>\n  </clipPath>\n </defs>\n</svg>\n",
      "image/png": "[encoded data removed]"
     },
     "metadata": {
      "needs_background": "light"
     }
    }
   ],
   "source": [
    "# 평균값의 직관적인 비교를 위해 Barplot을 그려보았다.\n",
    "sns.barplot(\n",
    "    x=[\"문과\", \"이과\"],\n",
    "    y=[mun.total_score_20_2.mean(), lee.total_score_20_2.mean()]\n",
    ")\n",
    "plt.show()"
   ]
  },
  {
   "source": [
    "**결론: 문과보다 이과 학생의 평균 총합 점수가 높다.**"
   ],
   "cell_type": "markdown",
   "metadata": {}
  },
  {
   "source": [
    "### 5.2. 이과보다 문과 학생의 최저 점수가 더 높을 것이다."
   ],
   "cell_type": "markdown",
   "metadata": {}
  },
  {
   "cell_type": "code",
   "execution_count": 19,
   "metadata": {},
   "outputs": [],
   "source": [
    "munTotalMin = mun.total_score_20_2.min()\n",
    "leeTotalMin = lee.total_score_20_2.min()"
   ]
  },
  {
   "cell_type": "code",
   "execution_count": 20,
   "metadata": {},
   "outputs": [
    {
     "output_type": "display_data",
     "data": {
      "text/plain": "<Figure size 432x288 with 1 Axes>",
      "image/svg+xml": "<?xml version=\"1.0\" encoding=\"utf-8\" standalone=\"no\"?>\n<!DOCTYPE svg PUBLIC \"-//W3C//DTD SVG 1.1//EN\"\n  \"http://www.w3.org/Graphics/SVG/1.1/DTD/svg11.dtd\">\n<svg height=\"249.419687pt\" version=\"1.1\" viewBox=\"0 0 367.859375 249.419687\" width=\"367.859375pt\" xmlns=\"http://www.w3.org/2000/svg\" xmlns:xlink=\"http://www.w3.org/1999/xlink\">\n <metadata>\n  <rdf:RDF xmlns:cc=\"http://creativecommons.org/ns#\" xmlns:dc=\"http://purl.org/dc/elements/1.1/\" xmlns:rdf=\"http://www.w3.org/1999/02/22-rdf-syntax-ns#\">\n   <cc:Work>\n    <dc:type rdf:resource=\"http://purl.org/dc/dcmitype/StillImage\"/>\n    <dc:date>2021-06-22T23:28:09.304452</dc:date>\n    <dc:format>image/svg+xml</dc:format>\n    <dc:creator>\n     <cc:Agent>\n      <dc:title>Matplotlib v3.4.2, https://matplotlib.org/</dc:title>\n     </cc:Agent>\n    </dc:creator>\n   </cc:Work>\n  </rdf:RDF>\n </metadata>\n <defs>\n  <style type=\"text/css\">*{stroke-linecap:butt;stroke-linejoin:round;}</style>\n </defs>\n <g id=\"figure_1\">\n  <g id=\"patch_1\">\n   <path d=\"M 0 249.419687 \nL 367.859375 249.419687 \nL 367.859375 0 \nL 0 0 \nz\n\" style=\"fill:none;\"/>\n  </g>\n  <g id=\"axes_1\">\n   <g id=\"patch_2\">\n    <path d=\"M 25.859375 224.64 \nL 360.659375 224.64 \nL 360.659375 7.2 \nL 25.859375 7.2 \nz\n\" style=\"fill:#ffffff;\"/>\n   </g>\n   <g id=\"patch_3\">\n    <path clip-path=\"url(#p4355401e6f)\" d=\"M 42.599375 224.64 \nL 176.519375 224.64 \nL 176.519375 17.554286 \nL 42.599375 17.554286 \nz\n\" style=\"fill:#3274a1;\"/>\n   </g>\n   <g id=\"patch_4\">\n    <path clip-path=\"url(#p4355401e6f)\" d=\"M 209.999375 224.64 \nL 343.919375 224.64 \nL 343.919375 63.225757 \nL 209.999375 63.225757 \nz\n\" style=\"fill:#e1812c;\"/>\n   </g>\n   <g id=\"matplotlib.axis_1\">\n    <g id=\"xtick_1\">\n     <g id=\"line2d_1\">\n      <defs>\n       <path d=\"M 0 0 \nL 0 3.5 \n\" id=\"m3c7a96a5da\" style=\"stroke:#000000;stroke-width:0.8;\"/>\n      </defs>\n      <g>\n       <use style=\"stroke:#000000;stroke-width:0.8;\" x=\"109.559375\" xlink:href=\"#m3c7a96a5da\" y=\"224.64\"/>\n      </g>\n     </g>\n     <g id=\"text_1\">\n      <!-- 문과 -->\n      <g transform=\"translate(100.639063 239.410312)scale(0.1 -0.1)\">\n       <defs>\n        <path d=\"M 4141 3206 \nL 4141 4346 \nL 1562 4346 \nL 1562 3206 \nL 4141 3206 \nz\nM 998 2739 \nL 998 4832 \nL 4704 4832 \nL 4704 2739 \nL 998 2739 \nz\nM 3277 358 \nL 2707 358 \nL 2707 1600 \nL 70 1600 \nL 70 2074 \nL 5638 2074 \nL 5638 1600 \nL 3277 1600 \nL 3277 358 \nz\nM 4928 -762 \nL 992 -762 \nL 992 979 \nL 1542 979 \nL 1542 -282 \nL 4928 -282 \nL 4928 -762 \nz\n\" id=\"NanumBarunGothic-bb38\" transform=\"scale(0.015625)\"/>\n        <path d=\"M 3130 1568 \nL 2586 1568 \nQ 2739 2150 2784 2777 \nQ 2829 3405 2842 3981 \nL 454 3981 \nL 454 4454 \nL 3392 4454 \nQ 3386 4134 3373 3750 \nQ 3360 3366 3331 2976 \nQ 3302 2586 3254 2221 \nQ 3206 1856 3130 1568 \nz\nM 5696 2208 \nL 4768 2208 \nL 4768 -851 \nL 4237 -851 \nL 4237 4992 \nL 4768 4992 \nL 4768 2682 \nL 5696 2682 \nL 5696 2208 \nz\nM 1274 454 \nL 70 454 \nL 70 928 \nL 1414 928 \nL 1414 2842 \nL 1952 2842 \nL 1952 934 \nQ 2419 947 2912 972 \nQ 3405 998 3949 1069 \nL 3949 627 \nQ 3642 582 3296 550 \nQ 2950 518 2598 496 \nQ 2246 474 1907 464 \nQ 1568 454 1274 454 \nz\n\" id=\"NanumBarunGothic-acfc\" transform=\"scale(0.015625)\"/>\n       </defs>\n       <use xlink:href=\"#NanumBarunGothic-bb38\"/>\n       <use x=\"89.199982\" xlink:href=\"#NanumBarunGothic-acfc\"/>\n      </g>\n     </g>\n    </g>\n    <g id=\"xtick_2\">\n     <g id=\"line2d_2\">\n      <g>\n       <use style=\"stroke:#000000;stroke-width:0.8;\" x=\"276.959375\" xlink:href=\"#m3c7a96a5da\" y=\"224.64\"/>\n      </g>\n     </g>\n     <g id=\"text_2\">\n      <!-- 이과 -->\n      <g transform=\"translate(268.039062 239.410312)scale(0.1 -0.1)\">\n       <defs>\n        <path d=\"M 4448 4992 \nL 4998 4992 \nL 4998 -851 \nL 4448 -851 \nL 4448 4992 \nz\nM 3341 2566 \nQ 3341 2054 3225 1660 \nQ 3110 1267 2908 1004 \nQ 2707 742 2432 608 \nQ 2157 474 1843 474 \nQ 1530 474 1258 608 \nQ 986 742 781 1004 \nQ 576 1267 457 1660 \nQ 339 2054 339 2566 \nQ 339 3078 457 3468 \nQ 576 3859 781 4121 \nQ 986 4384 1258 4518 \nQ 1530 4653 1843 4653 \nQ 2157 4653 2432 4518 \nQ 2707 4384 2908 4121 \nQ 3110 3859 3225 3468 \nQ 3341 3078 3341 2566 \nz\nM 2784 2566 \nQ 2784 2925 2720 3219 \nQ 2656 3514 2537 3725 \nQ 2419 3936 2243 4051 \nQ 2067 4166 1843 4166 \nQ 1619 4166 1443 4051 \nQ 1267 3936 1148 3725 \nQ 1030 3514 966 3219 \nQ 902 2925 902 2566 \nQ 902 2208 966 1913 \nQ 1030 1619 1148 1408 \nQ 1267 1197 1443 1078 \nQ 1619 960 1843 960 \nQ 2067 960 2243 1078 \nQ 2419 1197 2537 1408 \nQ 2656 1619 2720 1913 \nQ 2784 2208 2784 2566 \nz\n\" id=\"NanumBarunGothic-c774\" transform=\"scale(0.015625)\"/>\n       </defs>\n       <use xlink:href=\"#NanumBarunGothic-c774\"/>\n       <use x=\"89.199982\" xlink:href=\"#NanumBarunGothic-acfc\"/>\n      </g>\n     </g>\n    </g>\n   </g>\n   <g id=\"matplotlib.axis_2\">\n    <g id=\"ytick_1\">\n     <g id=\"line2d_3\">\n      <defs>\n       <path d=\"M 0 0 \nL -3.5 0 \n\" id=\"m9a90f47340\" style=\"stroke:#000000;stroke-width:0.8;\"/>\n      </defs>\n      <g>\n       <use style=\"stroke:#000000;stroke-width:0.8;\" x=\"25.859375\" xlink:href=\"#m9a90f47340\" y=\"224.64\"/>\n      </g>\n     </g>\n     <g id=\"text_3\">\n      <!-- 0 -->\n      <g transform=\"translate(13.029687 228.525156)scale(0.1 -0.1)\">\n       <defs>\n        <path d=\"M 1869 4704 \nQ 2630 4704 3036 4070 \nQ 3443 3437 3443 2150 \nQ 3443 870 3033 281 \nQ 2624 -307 1869 -307 \nQ 1491 -307 1196 -163 \nQ 902 -19 700 281 \nQ 499 582 396 1046 \nQ 294 1510 294 2150 \nQ 294 3437 700 4070 \nQ 1107 4704 1869 4704 \nz\nM 1869 4256 \nQ 851 4256 851 2138 \nQ 851 1082 1104 608 \nQ 1357 134 1869 134 \nQ 2374 134 2630 608 \nQ 2886 1082 2886 2138 \nQ 2886 4256 1869 4256 \nz\n\" id=\"NanumBarunGothic-30\" transform=\"scale(0.015625)\"/>\n       </defs>\n       <use xlink:href=\"#NanumBarunGothic-30\"/>\n      </g>\n     </g>\n    </g>\n    <g id=\"ytick_2\">\n     <g id=\"line2d_4\">\n      <g>\n       <use style=\"stroke:#000000;stroke-width:0.8;\" x=\"25.859375\" xlink:href=\"#m9a90f47340\" y=\"193.35817\"/>\n      </g>\n     </g>\n     <g id=\"text_4\">\n      <!-- 10 -->\n      <g transform=\"translate(7.2 197.243326)scale(0.1 -0.1)\">\n       <defs>\n        <path d=\"M 781 3546 \nL 781 3942 \nQ 1043 4058 1276 4227 \nQ 1510 4397 1709 4621 \nL 2285 4621 \nL 2285 -230 \nL 1734 -230 \nL 1734 4019 \nL 1728 4019 \nQ 1510 3846 1289 3721 \nQ 1069 3597 845 3514 \nQ 781 3488 781 3546 \nz\n\" id=\"NanumBarunGothic-31\" transform=\"scale(0.015625)\"/>\n       </defs>\n       <use xlink:href=\"#NanumBarunGothic-31\"/>\n       <use x=\"58.299988\" xlink:href=\"#NanumBarunGothic-30\"/>\n      </g>\n     </g>\n    </g>\n    <g id=\"ytick_3\">\n     <g id=\"line2d_5\">\n      <g>\n       <use style=\"stroke:#000000;stroke-width:0.8;\" x=\"25.859375\" xlink:href=\"#m9a90f47340\" y=\"162.07634\"/>\n      </g>\n     </g>\n     <g id=\"text_5\">\n      <!-- 20 -->\n      <g transform=\"translate(7.2 165.961496)scale(0.1 -0.1)\">\n       <defs>\n        <path d=\"M 582 3693 \nQ 512 3622 512 3718 \nL 512 4198 \nQ 781 4410 1101 4557 \nQ 1421 4704 1850 4704 \nQ 2547 4704 2908 4387 \nQ 3270 4070 3270 3418 \nQ 3270 3200 3200 3001 \nQ 3130 2803 3005 2601 \nQ 2880 2400 2704 2182 \nQ 2528 1965 2317 1709 \nL 1011 224 \nL 1011 218 \nL 3341 218 \nL 3341 -230 \nL 352 -230 \nL 352 250 \nL 1843 1926 \nQ 2093 2246 2259 2460 \nQ 2426 2675 2525 2838 \nQ 2624 3002 2665 3136 \nQ 2707 3270 2707 3430 \nQ 2707 3821 2505 4038 \nQ 2304 4256 1862 4256 \nQ 1555 4256 1235 4112 \nQ 915 3968 582 3693 \nz\n\" id=\"NanumBarunGothic-32\" transform=\"scale(0.015625)\"/>\n       </defs>\n       <use xlink:href=\"#NanumBarunGothic-32\"/>\n       <use x=\"58.299988\" xlink:href=\"#NanumBarunGothic-30\"/>\n      </g>\n     </g>\n    </g>\n    <g id=\"ytick_4\">\n     <g id=\"line2d_6\">\n      <g>\n       <use style=\"stroke:#000000;stroke-width:0.8;\" x=\"25.859375\" xlink:href=\"#m9a90f47340\" y=\"130.79451\"/>\n      </g>\n     </g>\n     <g id=\"text_6\">\n      <!-- 30 -->\n      <g transform=\"translate(7.2 134.679666)scale(0.1 -0.1)\">\n       <defs>\n        <path d=\"M 1837 -288 \nQ 1408 -282 1014 -154 \nQ 621 -26 378 205 \nL 378 666 \nQ 378 710 400 720 \nQ 422 730 454 698 \nQ 800 410 1136 285 \nQ 1472 160 1850 160 \nQ 2061 160 2240 227 \nQ 2419 294 2553 419 \nQ 2688 544 2765 710 \nQ 2842 877 2842 1082 \nQ 2842 2074 1651 2074 \nL 1478 2074 \nL 1478 2528 \nL 1555 2528 \nQ 1786 2534 1997 2576 \nQ 2208 2618 2368 2717 \nQ 2528 2816 2624 2989 \nQ 2720 3162 2720 3437 \nQ 2720 3866 2467 4064 \nQ 2214 4262 1830 4262 \nQ 1523 4262 1196 4140 \nQ 870 4019 589 3770 \nQ 563 3750 540 3756 \nQ 518 3763 518 3802 \nL 518 4275 \nQ 614 4358 748 4435 \nQ 883 4512 1049 4573 \nQ 1216 4634 1411 4672 \nQ 1606 4710 1818 4710 \nQ 2138 4710 2410 4633 \nQ 2682 4557 2877 4400 \nQ 3072 4243 3181 4009 \nQ 3290 3776 3290 3469 \nQ 3290 3245 3226 3056 \nQ 3162 2867 3046 2716 \nQ 2931 2566 2771 2464 \nQ 2611 2362 2419 2323 \nL 2419 2310 \nQ 2880 2208 3142 1923 \nQ 3405 1638 3405 1101 \nQ 3405 832 3305 579 \nQ 3206 326 3008 134 \nQ 2810 -58 2518 -173 \nQ 2227 -288 1837 -288 \nz\n\" id=\"NanumBarunGothic-33\" transform=\"scale(0.015625)\"/>\n       </defs>\n       <use xlink:href=\"#NanumBarunGothic-33\"/>\n       <use x=\"58.299988\" xlink:href=\"#NanumBarunGothic-30\"/>\n      </g>\n     </g>\n    </g>\n    <g id=\"ytick_5\">\n     <g id=\"line2d_7\">\n      <g>\n       <use style=\"stroke:#000000;stroke-width:0.8;\" x=\"25.859375\" xlink:href=\"#m9a90f47340\" y=\"99.51268\"/>\n      </g>\n     </g>\n     <g id=\"text_7\">\n      <!-- 40 -->\n      <g transform=\"translate(7.2 103.397836)scale(0.1 -0.1)\">\n       <defs>\n        <path d=\"M 134 877 \nL 134 1421 \nL 2259 4621 \nL 2918 4621 \nL 2918 1325 \nL 3642 1325 \nL 3642 877 \nL 2918 877 \nL 2918 -230 \nL 2374 -230 \nL 2374 877 \nL 134 877 \nz\nM 2221 3795 \nL 595 1318 \nL 595 1312 \nL 2400 1312 \nL 2400 3782 \nL 2406 4141 \nL 2221 3795 \nz\n\" id=\"NanumBarunGothic-34\" transform=\"scale(0.015625)\"/>\n       </defs>\n       <use xlink:href=\"#NanumBarunGothic-34\"/>\n       <use x=\"58.299988\" xlink:href=\"#NanumBarunGothic-30\"/>\n      </g>\n     </g>\n    </g>\n    <g id=\"ytick_6\">\n     <g id=\"line2d_8\">\n      <g>\n       <use style=\"stroke:#000000;stroke-width:0.8;\" x=\"25.859375\" xlink:href=\"#m9a90f47340\" y=\"68.23085\"/>\n      </g>\n     </g>\n     <g id=\"text_8\">\n      <!-- 50 -->\n      <g transform=\"translate(7.2 72.116006)scale(0.1 -0.1)\">\n       <defs>\n        <path d=\"M 435 557 \nQ 742 352 1062 253 \nQ 1382 154 1747 154 \nQ 1997 160 2208 246 \nQ 2419 333 2572 480 \nQ 2726 627 2812 828 \nQ 2899 1030 2899 1274 \nQ 2899 1555 2793 1750 \nQ 2688 1946 2499 2067 \nQ 2310 2189 2057 2243 \nQ 1805 2298 1510 2298 \nQ 1286 2298 1030 2266 \nQ 774 2234 544 2182 \nL 678 4595 \nL 3187 4595 \nL 3187 4154 \nL 1139 4154 \nL 1043 2669 \nL 1056 2669 \nQ 1242 2688 1408 2701 \nQ 1574 2714 1741 2714 \nQ 2118 2714 2432 2621 \nQ 2746 2528 2973 2352 \nQ 3200 2176 3325 1917 \nQ 3450 1658 3450 1331 \nQ 3450 992 3331 694 \nQ 3213 397 2989 179 \nQ 2765 -38 2445 -163 \nQ 2125 -288 1728 -288 \nQ 1299 -282 966 -195 \nQ 634 -109 365 83 \nL 365 525 \nQ 365 563 387 572 \nQ 410 582 435 557 \nz\n\" id=\"NanumBarunGothic-35\" transform=\"scale(0.015625)\"/>\n       </defs>\n       <use xlink:href=\"#NanumBarunGothic-35\"/>\n       <use x=\"58.299988\" xlink:href=\"#NanumBarunGothic-30\"/>\n      </g>\n     </g>\n    </g>\n    <g id=\"ytick_7\">\n     <g id=\"line2d_9\">\n      <g>\n       <use style=\"stroke:#000000;stroke-width:0.8;\" x=\"25.859375\" xlink:href=\"#m9a90f47340\" y=\"36.94902\"/>\n      </g>\n     </g>\n     <g id=\"text_9\">\n      <!-- 60 -->\n      <g transform=\"translate(7.2 40.834177)scale(0.1 -0.1)\">\n       <defs>\n        <path d=\"M 3187 4026 \nQ 3008 4134 2797 4198 \nQ 2586 4262 2342 4262 \nQ 2003 4262 1734 4099 \nQ 1466 3936 1277 3657 \nQ 1088 3379 982 3014 \nQ 877 2650 864 2240 \nL 877 2240 \nQ 941 2381 1049 2512 \nQ 1158 2643 1308 2742 \nQ 1459 2842 1641 2899 \nQ 1824 2957 2035 2957 \nQ 2381 2957 2646 2838 \nQ 2912 2720 3094 2509 \nQ 3277 2298 3373 2010 \nQ 3469 1722 3469 1382 \nQ 3469 1005 3357 697 \nQ 3245 390 3037 172 \nQ 2829 -45 2544 -163 \nQ 2259 -282 1914 -282 \nQ 1421 -282 1113 -74 \nQ 806 134 633 460 \nQ 461 787 400 1187 \nQ 339 1587 339 1978 \nQ 339 2470 451 2960 \nQ 563 3450 803 3837 \nQ 1043 4224 1420 4467 \nQ 1798 4710 2330 4710 \nQ 2598 4710 2822 4662 \nQ 3046 4614 3245 4525 \nL 3245 4051 \nQ 3245 3981 3187 4026 \nz\nM 915 1331 \nQ 915 1094 982 883 \nQ 1050 672 1181 512 \nQ 1312 352 1497 256 \nQ 1683 160 1914 160 \nQ 2170 160 2358 265 \nQ 2547 371 2668 537 \nQ 2790 704 2848 918 \nQ 2906 1133 2906 1350 \nQ 2906 1587 2848 1798 \nQ 2790 2010 2675 2166 \nQ 2560 2323 2381 2416 \nQ 2202 2509 1958 2509 \nQ 1702 2509 1513 2416 \nQ 1325 2323 1197 2160 \nQ 1069 1997 1001 1782 \nQ 934 1568 915 1331 \nz\n\" id=\"NanumBarunGothic-36\" transform=\"scale(0.015625)\"/>\n       </defs>\n       <use xlink:href=\"#NanumBarunGothic-36\"/>\n       <use x=\"58.299988\" xlink:href=\"#NanumBarunGothic-30\"/>\n      </g>\n     </g>\n    </g>\n   </g>\n   <g id=\"line2d_10\">\n    <path clip-path=\"url(#p4355401e6f)\" style=\"fill:none;stroke:#424242;stroke-linecap:square;stroke-width:2.7;\"/>\n   </g>\n   <g id=\"line2d_11\">\n    <path clip-path=\"url(#p4355401e6f)\" style=\"fill:none;stroke:#424242;stroke-linecap:square;stroke-width:2.7;\"/>\n   </g>\n   <g id=\"patch_5\">\n    <path d=\"M 25.859375 224.64 \nL 25.859375 7.2 \n\" style=\"fill:none;stroke:#000000;stroke-linecap:square;stroke-linejoin:miter;stroke-width:0.8;\"/>\n   </g>\n   <g id=\"patch_6\">\n    <path d=\"M 360.659375 224.64 \nL 360.659375 7.2 \n\" style=\"fill:none;stroke:#000000;stroke-linecap:square;stroke-linejoin:miter;stroke-width:0.8;\"/>\n   </g>\n   <g id=\"patch_7\">\n    <path d=\"M 25.859375 224.64 \nL 360.659375 224.64 \n\" style=\"fill:none;stroke:#000000;stroke-linecap:square;stroke-linejoin:miter;stroke-width:0.8;\"/>\n   </g>\n   <g id=\"patch_8\">\n    <path d=\"M 25.859375 7.2 \nL 360.659375 7.2 \n\" style=\"fill:none;stroke:#000000;stroke-linecap:square;stroke-linejoin:miter;stroke-width:0.8;\"/>\n   </g>\n  </g>\n </g>\n <defs>\n  <clipPath id=\"p4355401e6f\">\n   <rect height=\"217.44\" width=\"334.8\" x=\"25.859375\" y=\"7.2\"/>\n  </clipPath>\n </defs>\n</svg>\n",
      "image/png": "[encoded data removed]"
     },
     "metadata": {
      "needs_background": "light"
     }
    }
   ],
   "source": [
    "sns.barplot(\n",
    "    x=[\"문과\", \"이과\"],\n",
    "    y=[munTotalMin, leeTotalMin]\n",
    ")\n",
    "plt.show()"
   ]
  },
  {
   "source": [
    "결론: **이과보다 문과 학생의 최저 점수가 높다**"
   ],
   "cell_type": "markdown",
   "metadata": {}
  },
  {
   "source": [
    "### 5.3. 웹프로그래밍과 학생보다 해킹방어과 학생의 평균 점수가 더 높을 것이다."
   ],
   "cell_type": "markdown",
   "metadata": {}
  },
  {
   "cell_type": "code",
   "execution_count": 21,
   "metadata": {},
   "outputs": [
    {
     "output_type": "execute_result",
     "data": {
      "text/plain": [
       "(66, 69)"
      ]
     },
     "metadata": {},
     "execution_count": 21
    }
   ],
   "source": [
    "wp = table[(table['class'] >= 3) & (table['class'] <= 4)]\n",
    "hd= table[(table['class'] >= 5) & (table['class'] <= 6)]\n",
    "len(wp), len(hd)"
   ]
  },
  {
   "cell_type": "code",
   "execution_count": 22,
   "metadata": {},
   "outputs": [
    {
     "output_type": "execute_result",
     "data": {
      "text/plain": [
       "(134.60560606060608, 108.04865671641791)"
      ]
     },
     "metadata": {},
     "execution_count": 22
    }
   ],
   "source": [
    "wpTotalMean = wp.total_score_20_2.mean()\n",
    "hdTotalMean = hd.total_score_20_2.mean()\n",
    "\n",
    "wpTotalMean, hdTotalMean\n",
    "# 해킹방어과 학생보다 웹프로그래밍과 학생의 평균 점수가 높음을 알 수 있다."
   ]
  },
  {
   "cell_type": "code",
   "execution_count": 23,
   "metadata": {},
   "outputs": [
    {
     "output_type": "display_data",
     "data": {
      "text/plain": "<Figure size 432x288 with 1 Axes>",
      "image/svg+xml": "<?xml version=\"1.0\" encoding=\"utf-8\" standalone=\"no\"?>\n<!DOCTYPE svg PUBLIC \"-//W3C//DTD SVG 1.1//EN\"\n  \"http://www.w3.org/Graphics/SVG/1.1/DTD/svg11.dtd\">\n<svg height=\"249.419687pt\" version=\"1.1\" viewBox=\"0 0 373.689062 249.419687\" width=\"373.689062pt\" xmlns=\"http://www.w3.org/2000/svg\" xmlns:xlink=\"http://www.w3.org/1999/xlink\">\n <metadata>\n  <rdf:RDF xmlns:cc=\"http://creativecommons.org/ns#\" xmlns:dc=\"http://purl.org/dc/elements/1.1/\" xmlns:rdf=\"http://www.w3.org/1999/02/22-rdf-syntax-ns#\">\n   <cc:Work>\n    <dc:type rdf:resource=\"http://purl.org/dc/dcmitype/StillImage\"/>\n    <dc:date>2021-06-22T23:28:09.588689</dc:date>\n    <dc:format>image/svg+xml</dc:format>\n    <dc:creator>\n     <cc:Agent>\n      <dc:title>Matplotlib v3.4.2, https://matplotlib.org/</dc:title>\n     </cc:Agent>\n    </dc:creator>\n   </cc:Work>\n  </rdf:RDF>\n </metadata>\n <defs>\n  <style type=\"text/css\">*{stroke-linecap:butt;stroke-linejoin:round;}</style>\n </defs>\n <g id=\"figure_1\">\n  <g id=\"patch_1\">\n   <path d=\"M 0 249.419687 \nL 373.689062 249.419687 \nL 373.689062 0 \nL 0 0 \nz\n\" style=\"fill:none;\"/>\n  </g>\n  <g id=\"axes_1\">\n   <g id=\"patch_2\">\n    <path d=\"M 31.689062 224.64 \nL 366.489062 224.64 \nL 366.489062 7.2 \nL 31.689062 7.2 \nz\n\" style=\"fill:#ffffff;\"/>\n   </g>\n   <g id=\"patch_3\">\n    <path clip-path=\"url(#p01579380ea)\" d=\"M 48.429062 188.467236 \nL 182.349063 188.467236 \nL 182.349063 131.105165 \nL 48.429062 131.105165 \nL 48.429062 188.467236 \nz\n\" style=\"fill:#3274a1;stroke:#3f3f3f;stroke-linejoin:miter;stroke-width:1.5;\"/>\n   </g>\n   <g id=\"patch_4\">\n    <path clip-path=\"url(#p01579380ea)\" d=\"M 215.829062 190.474219 \nL 349.749062 190.474219 \nL 349.749062 183.706954 \nL 215.829062 183.706954 \nL 215.829062 190.474219 \nz\n\" style=\"fill:#e1812c;stroke:#3f3f3f;stroke-linejoin:miter;stroke-width:1.5;\"/>\n   </g>\n   <g id=\"matplotlib.axis_1\">\n    <g id=\"xtick_1\">\n     <g id=\"line2d_1\">\n      <defs>\n       <path d=\"M 0 0 \nL 0 3.5 \n\" id=\"ma82fff454d\" style=\"stroke:#000000;stroke-width:0.8;\"/>\n      </defs>\n      <g>\n       <use style=\"stroke:#000000;stroke-width:0.8;\" x=\"115.389062\" xlink:href=\"#ma82fff454d\" y=\"224.64\"/>\n      </g>\n     </g>\n     <g id=\"text_1\">\n      <!-- WP -->\n      <g transform=\"translate(107.654687 239.410312)scale(0.1 -0.1)\">\n       <defs>\n        <path d=\"M 3066 3859 \nL 2022 -230 \nL 1389 -230 \nL 147 4614 \nL 717 4614 \nL 1734 480 \nL 2784 4614 \nL 3366 4614 \nL 4422 442 \nL 5434 4614 \nL 5971 4614 \nL 4749 -230 \nL 4102 -230 \nL 3066 3859 \nz\n\" id=\"NanumBarunGothic-57\" transform=\"scale(0.015625)\"/>\n        <path d=\"M 3565 3168 \nQ 3565 2790 3433 2499 \nQ 3302 2208 3059 2009 \nQ 2816 1811 2473 1708 \nQ 2131 1606 1709 1606 \nL 1107 1606 \nL 1107 -230 \nL 544 -230 \nL 544 4614 \nL 1734 4614 \nQ 2118 4614 2451 4531 \nQ 2784 4448 3033 4272 \nQ 3283 4096 3424 3821 \nQ 3565 3546 3565 3168 \nz\nM 2976 3155 \nQ 2976 3456 2867 3648 \nQ 2758 3840 2582 3949 \nQ 2406 4058 2176 4099 \nQ 1946 4141 1696 4141 \nL 1101 4141 \nL 1101 2067 \nL 1600 2067 \nQ 1888 2067 2141 2118 \nQ 2394 2170 2579 2294 \nQ 2765 2419 2870 2630 \nQ 2976 2842 2976 3155 \nz\n\" id=\"NanumBarunGothic-50\" transform=\"scale(0.015625)\"/>\n       </defs>\n       <use xlink:href=\"#NanumBarunGothic-57\"/>\n       <use x=\"96.099991\" xlink:href=\"#NanumBarunGothic-50\"/>\n      </g>\n     </g>\n    </g>\n    <g id=\"xtick_2\">\n     <g id=\"line2d_2\">\n      <g>\n       <use style=\"stroke:#000000;stroke-width:0.8;\" x=\"282.789062\" xlink:href=\"#ma82fff454d\" y=\"224.64\"/>\n      </g>\n     </g>\n     <g id=\"text_2\">\n      <!-- HD -->\n      <g transform=\"translate(275.594531 239.410312)scale(0.1 -0.1)\">\n       <defs>\n        <path d=\"M 4032 4614 \nL 4032 -230 \nL 3469 -230 \nL 3469 2195 \nL 1107 2195 \nL 1107 -230 \nL 544 -230 \nL 544 4614 \nL 1107 4614 \nL 1107 2675 \nL 3469 2675 \nL 3469 4614 \nL 4032 4614 \nz\n\" id=\"NanumBarunGothic-48\" transform=\"scale(0.015625)\"/>\n        <path d=\"M 1722 4141 \nL 1101 4141 \nL 1101 250 \nL 1690 250 \nQ 2662 250 3203 739 \nQ 3744 1229 3744 2202 \nQ 3744 4141 1722 4141 \nz\nM 1683 -230 \nL 544 -230 \nL 544 4614 \nL 1734 4614 \nQ 4358 4614 4358 2214 \nQ 4358 1581 4147 1120 \nQ 3936 659 3571 358 \nQ 3206 58 2720 -86 \nQ 2234 -230 1683 -230 \nz\n\" id=\"NanumBarunGothic-44\" transform=\"scale(0.015625)\"/>\n       </defs>\n       <use xlink:href=\"#NanumBarunGothic-48\"/>\n       <use x=\"71.799988\" xlink:href=\"#NanumBarunGothic-44\"/>\n      </g>\n     </g>\n    </g>\n   </g>\n   <g id=\"matplotlib.axis_2\">\n    <g id=\"ytick_1\">\n     <g id=\"line2d_3\">\n      <defs>\n       <path d=\"M 0 0 \nL -3.5 0 \n\" id=\"m8305779216\" style=\"stroke:#000000;stroke-width:0.8;\"/>\n      </defs>\n      <g>\n       <use style=\"stroke:#000000;stroke-width:0.8;\" x=\"31.689062\" xlink:href=\"#m8305779216\" y=\"215.832134\"/>\n      </g>\n     </g>\n     <g id=\"text_3\">\n      <!-- 50 -->\n      <g transform=\"translate(13.029687 219.71729)scale(0.1 -0.1)\">\n       <defs>\n        <path d=\"M 435 557 \nQ 742 352 1062 253 \nQ 1382 154 1747 154 \nQ 1997 160 2208 246 \nQ 2419 333 2572 480 \nQ 2726 627 2812 828 \nQ 2899 1030 2899 1274 \nQ 2899 1555 2793 1750 \nQ 2688 1946 2499 2067 \nQ 2310 2189 2057 2243 \nQ 1805 2298 1510 2298 \nQ 1286 2298 1030 2266 \nQ 774 2234 544 2182 \nL 678 4595 \nL 3187 4595 \nL 3187 4154 \nL 1139 4154 \nL 1043 2669 \nL 1056 2669 \nQ 1242 2688 1408 2701 \nQ 1574 2714 1741 2714 \nQ 2118 2714 2432 2621 \nQ 2746 2528 2973 2352 \nQ 3200 2176 3325 1917 \nQ 3450 1658 3450 1331 \nQ 3450 992 3331 694 \nQ 3213 397 2989 179 \nQ 2765 -38 2445 -163 \nQ 2125 -288 1728 -288 \nQ 1299 -282 966 -195 \nQ 634 -109 365 83 \nL 365 525 \nQ 365 563 387 572 \nQ 410 582 435 557 \nz\n\" id=\"NanumBarunGothic-35\" transform=\"scale(0.015625)\"/>\n        <path d=\"M 1869 4704 \nQ 2630 4704 3036 4070 \nQ 3443 3437 3443 2150 \nQ 3443 870 3033 281 \nQ 2624 -307 1869 -307 \nQ 1491 -307 1196 -163 \nQ 902 -19 700 281 \nQ 499 582 396 1046 \nQ 294 1510 294 2150 \nQ 294 3437 700 4070 \nQ 1107 4704 1869 4704 \nz\nM 1869 4256 \nQ 851 4256 851 2138 \nQ 851 1082 1104 608 \nQ 1357 134 1869 134 \nQ 2374 134 2630 608 \nQ 2886 1082 2886 2138 \nQ 2886 4256 1869 4256 \nz\n\" id=\"NanumBarunGothic-30\" transform=\"scale(0.015625)\"/>\n       </defs>\n       <use xlink:href=\"#NanumBarunGothic-35\"/>\n       <use x=\"58.299988\" xlink:href=\"#NanumBarunGothic-30\"/>\n      </g>\n     </g>\n    </g>\n    <g id=\"ytick_2\">\n     <g id=\"line2d_4\">\n      <g>\n       <use style=\"stroke:#000000;stroke-width:0.8;\" x=\"31.689062\" xlink:href=\"#m8305779216\" y=\"182.214323\"/>\n      </g>\n     </g>\n     <g id=\"text_4\">\n      <!-- 100 -->\n      <g transform=\"translate(7.2 186.099479)scale(0.1 -0.1)\">\n       <defs>\n        <path d=\"M 781 3546 \nL 781 3942 \nQ 1043 4058 1276 4227 \nQ 1510 4397 1709 4621 \nL 2285 4621 \nL 2285 -230 \nL 1734 -230 \nL 1734 4019 \nL 1728 4019 \nQ 1510 3846 1289 3721 \nQ 1069 3597 845 3514 \nQ 781 3488 781 3546 \nz\n\" id=\"NanumBarunGothic-31\" transform=\"scale(0.015625)\"/>\n       </defs>\n       <use xlink:href=\"#NanumBarunGothic-31\"/>\n       <use x=\"58.299988\" xlink:href=\"#NanumBarunGothic-30\"/>\n       <use x=\"116.599976\" xlink:href=\"#NanumBarunGothic-30\"/>\n      </g>\n     </g>\n    </g>\n    <g id=\"ytick_3\">\n     <g id=\"line2d_5\">\n      <g>\n       <use style=\"stroke:#000000;stroke-width:0.8;\" x=\"31.689062\" xlink:href=\"#m8305779216\" y=\"148.596512\"/>\n      </g>\n     </g>\n     <g id=\"text_5\">\n      <!-- 150 -->\n      <g transform=\"translate(7.2 152.481668)scale(0.1 -0.1)\">\n       <use xlink:href=\"#NanumBarunGothic-31\"/>\n       <use x=\"58.299988\" xlink:href=\"#NanumBarunGothic-35\"/>\n       <use x=\"116.599976\" xlink:href=\"#NanumBarunGothic-30\"/>\n      </g>\n     </g>\n    </g>\n    <g id=\"ytick_4\">\n     <g id=\"line2d_6\">\n      <g>\n       <use style=\"stroke:#000000;stroke-width:0.8;\" x=\"31.689062\" xlink:href=\"#m8305779216\" y=\"114.978701\"/>\n      </g>\n     </g>\n     <g id=\"text_6\">\n      <!-- 200 -->\n      <g transform=\"translate(7.2 118.863858)scale(0.1 -0.1)\">\n       <defs>\n        <path d=\"M 582 3693 \nQ 512 3622 512 3718 \nL 512 4198 \nQ 781 4410 1101 4557 \nQ 1421 4704 1850 4704 \nQ 2547 4704 2908 4387 \nQ 3270 4070 3270 3418 \nQ 3270 3200 3200 3001 \nQ 3130 2803 3005 2601 \nQ 2880 2400 2704 2182 \nQ 2528 1965 2317 1709 \nL 1011 224 \nL 1011 218 \nL 3341 218 \nL 3341 -230 \nL 352 -230 \nL 352 250 \nL 1843 1926 \nQ 2093 2246 2259 2460 \nQ 2426 2675 2525 2838 \nQ 2624 3002 2665 3136 \nQ 2707 3270 2707 3430 \nQ 2707 3821 2505 4038 \nQ 2304 4256 1862 4256 \nQ 1555 4256 1235 4112 \nQ 915 3968 582 3693 \nz\n\" id=\"NanumBarunGothic-32\" transform=\"scale(0.015625)\"/>\n       </defs>\n       <use xlink:href=\"#NanumBarunGothic-32\"/>\n       <use x=\"58.299988\" xlink:href=\"#NanumBarunGothic-30\"/>\n       <use x=\"116.599976\" xlink:href=\"#NanumBarunGothic-30\"/>\n      </g>\n     </g>\n    </g>\n    <g id=\"ytick_5\">\n     <g id=\"line2d_7\">\n      <g>\n       <use style=\"stroke:#000000;stroke-width:0.8;\" x=\"31.689062\" xlink:href=\"#m8305779216\" y=\"81.360891\"/>\n      </g>\n     </g>\n     <g id=\"text_7\">\n      <!-- 250 -->\n      <g transform=\"translate(7.2 85.246047)scale(0.1 -0.1)\">\n       <use xlink:href=\"#NanumBarunGothic-32\"/>\n       <use x=\"58.299988\" xlink:href=\"#NanumBarunGothic-35\"/>\n       <use x=\"116.599976\" xlink:href=\"#NanumBarunGothic-30\"/>\n      </g>\n     </g>\n    </g>\n    <g id=\"ytick_6\">\n     <g id=\"line2d_8\">\n      <g>\n       <use style=\"stroke:#000000;stroke-width:0.8;\" x=\"31.689062\" xlink:href=\"#m8305779216\" y=\"47.74308\"/>\n      </g>\n     </g>\n     <g id=\"text_8\">\n      <!-- 300 -->\n      <g transform=\"translate(7.2 51.628236)scale(0.1 -0.1)\">\n       <defs>\n        <path d=\"M 1837 -288 \nQ 1408 -282 1014 -154 \nQ 621 -26 378 205 \nL 378 666 \nQ 378 710 400 720 \nQ 422 730 454 698 \nQ 800 410 1136 285 \nQ 1472 160 1850 160 \nQ 2061 160 2240 227 \nQ 2419 294 2553 419 \nQ 2688 544 2765 710 \nQ 2842 877 2842 1082 \nQ 2842 2074 1651 2074 \nL 1478 2074 \nL 1478 2528 \nL 1555 2528 \nQ 1786 2534 1997 2576 \nQ 2208 2618 2368 2717 \nQ 2528 2816 2624 2989 \nQ 2720 3162 2720 3437 \nQ 2720 3866 2467 4064 \nQ 2214 4262 1830 4262 \nQ 1523 4262 1196 4140 \nQ 870 4019 589 3770 \nQ 563 3750 540 3756 \nQ 518 3763 518 3802 \nL 518 4275 \nQ 614 4358 748 4435 \nQ 883 4512 1049 4573 \nQ 1216 4634 1411 4672 \nQ 1606 4710 1818 4710 \nQ 2138 4710 2410 4633 \nQ 2682 4557 2877 4400 \nQ 3072 4243 3181 4009 \nQ 3290 3776 3290 3469 \nQ 3290 3245 3226 3056 \nQ 3162 2867 3046 2716 \nQ 2931 2566 2771 2464 \nQ 2611 2362 2419 2323 \nL 2419 2310 \nQ 2880 2208 3142 1923 \nQ 3405 1638 3405 1101 \nQ 3405 832 3305 579 \nQ 3206 326 3008 134 \nQ 2810 -58 2518 -173 \nQ 2227 -288 1837 -288 \nz\n\" id=\"NanumBarunGothic-33\" transform=\"scale(0.015625)\"/>\n       </defs>\n       <use xlink:href=\"#NanumBarunGothic-33\"/>\n       <use x=\"58.299988\" xlink:href=\"#NanumBarunGothic-30\"/>\n       <use x=\"116.599976\" xlink:href=\"#NanumBarunGothic-30\"/>\n      </g>\n     </g>\n    </g>\n    <g id=\"ytick_7\">\n     <g id=\"line2d_9\">\n      <g>\n       <use style=\"stroke:#000000;stroke-width:0.8;\" x=\"31.689062\" xlink:href=\"#m8305779216\" y=\"14.125269\"/>\n      </g>\n     </g>\n     <g id=\"text_9\">\n      <!-- 350 -->\n      <g transform=\"translate(7.2 18.010425)scale(0.1 -0.1)\">\n       <use xlink:href=\"#NanumBarunGothic-33\"/>\n       <use x=\"58.299988\" xlink:href=\"#NanumBarunGothic-35\"/>\n       <use x=\"116.599976\" xlink:href=\"#NanumBarunGothic-30\"/>\n      </g>\n     </g>\n    </g>\n   </g>\n   <g id=\"line2d_10\">\n    <path clip-path=\"url(#p01579380ea)\" d=\"M 115.389062 188.467236 \nL 115.389062 210.083488 \n\" style=\"fill:none;stroke:#3f3f3f;stroke-linecap:square;stroke-width:1.5;\"/>\n   </g>\n   <g id=\"line2d_11\">\n    <path clip-path=\"url(#p01579380ea)\" d=\"M 115.389062 131.105165 \nL 115.389062 55.448282 \n\" style=\"fill:none;stroke:#3f3f3f;stroke-linecap:square;stroke-width:1.5;\"/>\n   </g>\n   <g id=\"line2d_12\">\n    <path clip-path=\"url(#p01579380ea)\" d=\"M 81.909062 210.083488 \nL 148.869062 210.083488 \n\" style=\"fill:none;stroke:#3f3f3f;stroke-linecap:square;stroke-width:1.5;\"/>\n   </g>\n   <g id=\"line2d_13\">\n    <path clip-path=\"url(#p01579380ea)\" d=\"M 81.909062 55.448282 \nL 148.869062 55.448282 \n\" style=\"fill:none;stroke:#3f3f3f;stroke-linecap:square;stroke-width:1.5;\"/>\n   </g>\n   <g id=\"line2d_14\">\n    <defs>\n     <path d=\"M -0 3.535534 \nL 2.12132 0 \nL -0 -3.535534 \nL -2.12132 -0 \nz\n\" id=\"me9a5c5d30c\" style=\"stroke:#3f3f3f;stroke-linejoin:miter;\"/>\n    </defs>\n    <g clip-path=\"url(#p01579380ea)\">\n     <use style=\"fill:#3f3f3f;stroke:#3f3f3f;stroke-linejoin:miter;\" x=\"115.389062\" xlink:href=\"#me9a5c5d30c\" y=\"17.083636\"/>\n    </g>\n   </g>\n   <g id=\"line2d_15\">\n    <path clip-path=\"url(#p01579380ea)\" d=\"M 282.789062 190.474219 \nL 282.789062 199.527495 \n\" style=\"fill:none;stroke:#3f3f3f;stroke-linecap:square;stroke-width:1.5;\"/>\n   </g>\n   <g id=\"line2d_16\">\n    <path clip-path=\"url(#p01579380ea)\" d=\"M 282.789062 183.706954 \nL 282.789062 182.342071 \n\" style=\"fill:none;stroke:#3f3f3f;stroke-linecap:square;stroke-width:1.5;\"/>\n   </g>\n   <g id=\"line2d_17\">\n    <path clip-path=\"url(#p01579380ea)\" d=\"M 249.309063 199.527495 \nL 316.269063 199.527495 \n\" style=\"fill:none;stroke:#3f3f3f;stroke-linecap:square;stroke-width:1.5;\"/>\n   </g>\n   <g id=\"line2d_18\">\n    <path clip-path=\"url(#p01579380ea)\" d=\"M 249.309063 182.342071 \nL 316.269063 182.342071 \n\" style=\"fill:none;stroke:#3f3f3f;stroke-linecap:square;stroke-width:1.5;\"/>\n   </g>\n   <g id=\"line2d_19\">\n    <g clip-path=\"url(#p01579380ea)\">\n     <use style=\"fill:#3f3f3f;stroke:#3f3f3f;stroke-linejoin:miter;\" x=\"282.789062\" xlink:href=\"#me9a5c5d30c\" y=\"205.376994\"/>\n     <use style=\"fill:#3f3f3f;stroke:#3f3f3f;stroke-linejoin:miter;\" x=\"282.789062\" xlink:href=\"#me9a5c5d30c\" y=\"203.010301\"/>\n     <use style=\"fill:#3f3f3f;stroke:#3f3f3f;stroke-linejoin:miter;\" x=\"282.789062\" xlink:href=\"#me9a5c5d30c\" y=\"200.798249\"/>\n     <use style=\"fill:#3f3f3f;stroke:#3f3f3f;stroke-linejoin:miter;\" x=\"282.789062\" xlink:href=\"#me9a5c5d30c\" y=\"200.925996\"/>\n     <use style=\"fill:#3f3f3f;stroke:#3f3f3f;stroke-linejoin:miter;\" x=\"282.789062\" xlink:href=\"#me9a5c5d30c\" y=\"204.207095\"/>\n     <use style=\"fill:#3f3f3f;stroke:#3f3f3f;stroke-linejoin:miter;\" x=\"282.789062\" xlink:href=\"#me9a5c5d30c\" y=\"214.756364\"/>\n     <use style=\"fill:#3f3f3f;stroke:#3f3f3f;stroke-linejoin:miter;\" x=\"282.789062\" xlink:href=\"#me9a5c5d30c\" y=\"124.109299\"/>\n     <use style=\"fill:#3f3f3f;stroke:#3f3f3f;stroke-linejoin:miter;\" x=\"282.789062\" xlink:href=\"#me9a5c5d30c\" y=\"24.398872\"/>\n     <use style=\"fill:#3f3f3f;stroke:#3f3f3f;stroke-linejoin:miter;\" x=\"282.789062\" xlink:href=\"#me9a5c5d30c\" y=\"164.840638\"/>\n     <use style=\"fill:#3f3f3f;stroke:#3f3f3f;stroke-linejoin:miter;\" x=\"282.789062\" xlink:href=\"#me9a5c5d30c\" y=\"142.464623\"/>\n     <use style=\"fill:#3f3f3f;stroke:#3f3f3f;stroke-linejoin:miter;\" x=\"282.789062\" xlink:href=\"#me9a5c5d30c\" y=\"89.28797\"/>\n     <use style=\"fill:#3f3f3f;stroke:#3f3f3f;stroke-linejoin:miter;\" x=\"282.789062\" xlink:href=\"#me9a5c5d30c\" y=\"170.017781\"/>\n     <use style=\"fill:#3f3f3f;stroke:#3f3f3f;stroke-linejoin:miter;\" x=\"282.789062\" xlink:href=\"#me9a5c5d30c\" y=\"144.152237\"/>\n     <use style=\"fill:#3f3f3f;stroke:#3f3f3f;stroke-linejoin:miter;\" x=\"282.789062\" xlink:href=\"#me9a5c5d30c\" y=\"161.384727\"/>\n     <use style=\"fill:#3f3f3f;stroke:#3f3f3f;stroke-linejoin:miter;\" x=\"282.789062\" xlink:href=\"#me9a5c5d30c\" y=\"151.447302\"/>\n     <use style=\"fill:#3f3f3f;stroke:#3f3f3f;stroke-linejoin:miter;\" x=\"282.789062\" xlink:href=\"#me9a5c5d30c\" y=\"120.52564\"/>\n     <use style=\"fill:#3f3f3f;stroke:#3f3f3f;stroke-linejoin:miter;\" x=\"282.789062\" xlink:href=\"#me9a5c5d30c\" y=\"39.728594\"/>\n     <use style=\"fill:#3f3f3f;stroke:#3f3f3f;stroke-linejoin:miter;\" x=\"282.789062\" xlink:href=\"#me9a5c5d30c\" y=\"162.44705\"/>\n     <use style=\"fill:#3f3f3f;stroke:#3f3f3f;stroke-linejoin:miter;\" x=\"282.789062\" xlink:href=\"#me9a5c5d30c\" y=\"119.295228\"/>\n     <use style=\"fill:#3f3f3f;stroke:#3f3f3f;stroke-linejoin:miter;\" x=\"282.789062\" xlink:href=\"#me9a5c5d30c\" y=\"149.779859\"/>\n    </g>\n   </g>\n   <g id=\"line2d_20\">\n    <path clip-path=\"url(#p01579380ea)\" d=\"M 48.429062 183.848148 \nL 182.349063 183.848148 \n\" style=\"fill:none;stroke:#3f3f3f;stroke-linecap:square;stroke-width:1.5;\"/>\n   </g>\n   <g id=\"line2d_21\">\n    <path clip-path=\"url(#p01579380ea)\" d=\"M 215.829062 187.411636 \nL 349.749062 187.411636 \n\" style=\"fill:none;stroke:#3f3f3f;stroke-linecap:square;stroke-width:1.5;\"/>\n   </g>\n   <g id=\"patch_5\">\n    <path d=\"M 31.689062 224.64 \nL 31.689062 7.2 \n\" style=\"fill:none;stroke:#000000;stroke-linecap:square;stroke-linejoin:miter;stroke-width:0.8;\"/>\n   </g>\n   <g id=\"patch_6\">\n    <path d=\"M 366.489062 224.64 \nL 366.489062 7.2 \n\" style=\"fill:none;stroke:#000000;stroke-linecap:square;stroke-linejoin:miter;stroke-width:0.8;\"/>\n   </g>\n   <g id=\"patch_7\">\n    <path d=\"M 31.689062 224.64 \nL 366.489063 224.64 \n\" style=\"fill:none;stroke:#000000;stroke-linecap:square;stroke-linejoin:miter;stroke-width:0.8;\"/>\n   </g>\n   <g id=\"patch_8\">\n    <path d=\"M 31.689062 7.2 \nL 366.489063 7.2 \n\" style=\"fill:none;stroke:#000000;stroke-linecap:square;stroke-linejoin:miter;stroke-width:0.8;\"/>\n   </g>\n  </g>\n </g>\n <defs>\n  <clipPath id=\"p01579380ea\">\n   <rect height=\"217.44\" width=\"334.8\" x=\"31.689062\" y=\"7.2\"/>\n  </clipPath>\n </defs>\n</svg>\n",
      "image/png": "[encoded data removed]"
     },
     "metadata": {
      "needs_background": "light"
     }
    }
   ],
   "source": [
    "# 전반적인 추이를 살펴보기 위해 Boxplot을 그려보았다\n",
    "\n",
    "sns.boxplot(\n",
    "    data=[\n",
    "        wp.total_score_20_2,\n",
    "        hd.total_score_20_2\n",
    "    ]\n",
    ")\n",
    "plt.xticks([0, 1], ['WP', 'HD'])\n",
    "plt.show()"
   ]
  },
  {
   "source": [
    "결론: **웹프로그래밍과 학생의 평균 총합 점수는 해킹방어과 학생의 평균 종합 점수보다 높다**"
   ],
   "cell_type": "markdown",
   "metadata": {}
  },
  {
   "source": [
    "### 5.4. 1학기보다 2학기의 평균 획득 점수가 더 많을 것이다."
   ],
   "cell_type": "markdown",
   "metadata": {}
  },
  {
   "cell_type": "code",
   "execution_count": 24,
   "metadata": {},
   "outputs": [],
   "source": [
    "# 각 학기의 총점에서 이전학기의 총점을 빼서 획득 점수를 구한다.\n",
    "# 데이터가 19년 1학기부터 시작하기 때문에 19년 1학기 총점은 그대로 사용하였다.\n",
    "delta19_1 = table['total_score_19_1']\n",
    "delta19_2 = table['total_score_19_2'] - table['total_score_19_1']\n",
    "delta20_1 = table['total_score_20_1'] - table['total_score_19_2']\n",
    "delta20_2 = table['total_score_20_2'] - table['total_score_20_1']"
   ]
  },
  {
   "cell_type": "code",
   "execution_count": 25,
   "metadata": {},
   "outputs": [
    {
     "output_type": "execute_result",
     "data": {
      "text/plain": [
       "(49.145259067357514, 9.56563157894737)"
      ]
     },
     "metadata": {},
     "execution_count": 25
    }
   ],
   "source": [
    "firstSession = (delta19_1 + delta20_1) / 2\n",
    "secondSession = (delta19_2 + delta20_2) / 2\n",
    "firstSession.mean(), secondSession.mean()"
   ]
  },
  {
   "source": [
    "결론: **전반적으로 2학기보다는 1학기에 훨씬 많은 점수를 얻는다.**"
   ],
   "cell_type": "markdown",
   "metadata": {}
  },
  {
   "source": [
    "### 5.5. 대회점수가 상위 30%인 학생은 하위 30%인 학생보다 자격증 점수가 낮을 것이다."
   ],
   "cell_type": "markdown",
   "metadata": {}
  },
  {
   "cell_type": "code",
   "execution_count": 26,
   "metadata": {},
   "outputs": [],
   "source": [
    "contestScoreSortedTable = table.sort_values(by=\"contest_score_20_2\", ascending=False)\n",
    "top30p = contestScoreSortedTable.iloc[:int(len(contestScoreSortedTable) * 0.3)]\n",
    "under30p = contestScoreSortedTable.iloc[int(len(contestScoreSortedTable) * 0.7):]"
   ]
  },
  {
   "cell_type": "code",
   "execution_count": 27,
   "metadata": {},
   "outputs": [
    {
     "output_type": "execute_result",
     "data": {
      "text/plain": [
       "(32.70175438596491, 6.181818181818182)"
      ]
     },
     "metadata": {},
     "execution_count": 27
    }
   ],
   "source": [
    "top30p.license_score_20_2.mean(), under30p.license_score_20_2.mean()"
   ]
  },
  {
   "source": [
    "결론: **대회 점수가 상위 30%인 학생은 하위 30%인 학생보다 평균 자격증 점수가 5배가량 높았다**"
   ],
   "cell_type": "markdown",
   "metadata": {}
  }
 ]
}