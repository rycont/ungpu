{
 "metadata": {
  "language_info": {
   "codemirror_mode": {
    "name": "ipython",
    "version": 3
   },
   "file_extension": ".py",
   "mimetype": "text/x-python",
   "name": "python",
   "nbconvert_exporter": "python",
   "pygments_lexer": "ipython3",
   "version": "3.8.5"
  },
  "orig_nbformat": 4,
  "kernelspec": {
   "name": "python3",
   "display_name": "Python 3.8.5 64-bit ('base': conda)"
  },
  "interpreter": {
   "hash": "98b0a9b7b4eaaa670588a142fd0a9b87eaafe866f1db4228be72b4211d12040f"
  }
 },
 "nbformat": 4,
 "nbformat_minor": 2,
 "cells": [
  {
   "source": [
    "# 한국디지털미디어고등학교 소양인증제도 분석\n",
    "\n",
    "- 2424 박정한\n",
    "- 2021년 1학기 빅데이터 분석 프로젝트 보고서"
   ],
   "cell_type": "markdown",
   "metadata": {}
  },
  {
   "source": [
    "## 1. 가설 설정\n",
    "\n",
    "1.\t문과보다 이과 학생의 평균 점수가 더 높을 것이다.\n",
    "2.\t이과보다 문과 학생의 최저 점수가 더 높을 것이다.\n",
    "3.\t웹프로그래밍과 학생보다 해킹방어과 학생의 평균 점수가 더 높을 것이다.\n",
    "4.\t1학기보다 2학기의 평균 획득 점수가 더 많을 것이다.\n",
    "5.\t대회점수가 상위 30%인 학생은 하위 30%인 학생보다 자격증 점수가 낮을 것이다."
   ],
   "cell_type": "markdown",
   "metadata": {}
  },
  {
   "source": [
    "## 2. 데이터 출처\n",
    "한국디지털미디어고등학교 학생종합정보시스템의 IT소양종합인증제 서비스에서 보여지는 테이블 데이터를 추출하였다.\n",
    "많은 데이터가 균일하게 있는 18기 입학생 (19년 1학년, 20년 2학년) 데이터를 사용하였다. \n",
    "- 2020년 2학기: https://student.dimigo.hs.kr/total-achieve/ajax-get-rank-list?year=2020&term=2\n",
    "- 2020년 1학기: https://student.dimigo.hs.kr/total-achieve/ajax-get-rank-list?year=2020&term=1\n",
    "- 2019년 2학기: https://student.dimigo.hs.kr/total-achieve/ajax-get-rank-list?year=2019&term=2\n",
    "- 2019년 1학기: https://student.dimigo.hs.kr/total-achieve/ajax-get-rank-list?year=2019&term=1\n"
   ],
   "cell_type": "markdown",
   "metadata": {}
  },
  {
   "source": [
    "## 3. 데이터 로드하기"
   ],
   "cell_type": "markdown",
   "metadata": {}
  },
  {
   "cell_type": "code",
   "execution_count": 173,
   "metadata": {},
   "outputs": [],
   "source": [
    "import pandas as pd\n",
    "import seaborn as sns\n",
    "import matplotlib.pyplot as plt"
   ]
  },
  {
   "cell_type": "code",
   "execution_count": 174,
   "metadata": {},
   "outputs": [
    {
     "output_type": "execute_result",
     "data": {
      "text/plain": [
       "((193, 13), (195, 13), (405, 13), (399, 13))"
      ]
     },
     "metadata": {},
     "execution_count": 174
    }
   ],
   "source": [
    "raw2019_1 = pd.read_json(\"./2019-1.json\")\n",
    "raw2019_2 = pd.read_json(\"./2019-2.json\")\n",
    "raw2020_1 = pd.read_json(\"./2020-1.json\")\n",
    "raw2020_2 = pd.read_json(\"./2020-2.json\")\n",
    "raw2019_1.shape, raw2019_2.shape, raw2020_1.shape, raw2020_2.shape"
   ]
  },
  {
   "cell_type": "code",
   "execution_count": 175,
   "metadata": {},
   "outputs": [
    {
     "output_type": "stream",
     "name": "stdout",
     "text": [
      "<class 'pandas.core.frame.DataFrame'>\nRangeIndex: 405 entries, 0 to 404\nData columns (total 13 columns):\n #   Column              Non-Null Count  Dtype  \n---  ------              --------------  -----  \n 0   rank                405 non-null    int64  \n 1   grade               405 non-null    int64  \n 2   class               405 non-null    int64  \n 3   number              405 non-null    int64  \n 4   name                405 non-null    object \n 5   subject_score       405 non-null    float64\n 6   license_score       405 non-null    int64  \n 7   contest_score       405 non-null    int64  \n 8   total_score         405 non-null    float64\n 9   displacement        405 non-null    object \n 10  achieve_level       405 non-null    int64  \n 11  user_id             405 non-null    int64  \n 12  achieve_level_text  405 non-null    object \ndtypes: float64(2), int64(8), object(3)\nmemory usage: 41.3+ KB\n"
     ]
    }
   ],
   "source": [
    "raw2020_1.info()"
   ]
  },
  {
   "source": [
    "### 3.1. 데이터 가공하기\n",
    "- 학년, 이름, 등락, 번호, 인증 레벨 정보는 필요하지 않기에 열을 삭제하였다.\n",
    "- 순위 정보는 일부 잘못된 정보가 있어 삭제하고 가장 최근 데이터를 기반으로 새로 생성했다.\n",
    "- 각 데이터가 5개의 파일로 나누어져있어서, 하나의 데이터프레임으로 합치는 작업을 수행하였다."
   ],
   "cell_type": "markdown",
   "metadata": {}
  },
  {
   "cell_type": "code",
   "execution_count": 176,
   "metadata": {},
   "outputs": [],
   "source": [
    "raw2019_1.index = raw2019_1.user_id\n",
    "raw2019_1.drop(\"user_id\", axis=1, inplace=True)\n",
    "\n",
    "raw2019_2.index = raw2019_2.user_id\n",
    "raw2019_2.drop(\"user_id\", axis=1, inplace=True)\n",
    "\n",
    "raw2020_1.index = raw2020_1.user_id\n",
    "raw2020_1.drop(\"user_id\", axis=1, inplace=True)\n",
    "\n",
    "raw2020_2.index = raw2020_2.user_id\n",
    "raw2020_2.drop(\"user_id\", axis=1, inplace=True)"
   ]
  },
  {
   "cell_type": "code",
   "execution_count": 177,
   "metadata": {},
   "outputs": [],
   "source": [
    "score_columns = [\"subject_score\", \"license_score\", \"contest_score\",\"total_score\"]\n",
    "\n",
    "score2019_1 = raw2019_1[score_columns]\n",
    "score2019_1.columns = map(lambda n: n+'_19_1', score2019_1.columns)\n",
    "\n",
    "score2019_2 = raw2019_2[score_columns]\n",
    "score2019_2.columns = map(lambda n: n+'_19_2', score2019_2.columns)\n",
    "\n",
    "score2020_1 = raw2020_1[score_columns]\n",
    "score2020_1.columns = map(lambda n: n+'_20_1', score2020_1.columns)\n",
    "\n",
    "score2020_2 = raw2020_2[score_columns]\n",
    "score2020_2.columns = map(lambda n: n+'_20_2', score2020_2.columns)"
   ]
  },
  {
   "cell_type": "code",
   "execution_count": 178,
   "metadata": {},
   "outputs": [],
   "source": [
    "table = pd.merge(\n",
    "    left=raw2019_1.drop([\"subject_score\", \"license_score\", \"contest_score\", \"total_score\", \"displacement\", \"name\", \"achieve_level\", \"achieve_level_text\", \"number\", \"rank\", \"grade\"], axis=1),\n",
    "    right=pd.concat([score2019_1, score2019_2, score2020_1, score2020_2], axis=1),\n",
    "    on=\"user_id\"\n",
    ")"
   ]
  },
  {
   "cell_type": "code",
   "execution_count": 179,
   "metadata": {},
   "outputs": [
    {
     "output_type": "stream",
     "name": "stdout",
     "text": [
      "<class 'pandas.core.frame.DataFrame'>\nInt64Index: 193 entries, 2094 to 2301\nData columns (total 17 columns):\n #   Column              Non-Null Count  Dtype  \n---  ------              --------------  -----  \n 0   class               193 non-null    int64  \n 1   subject_score_19_1  193 non-null    float64\n 2   license_score_19_1  193 non-null    float64\n 3   contest_score_19_1  193 non-null    float64\n 4   total_score_19_1    193 non-null    float64\n 5   subject_score_19_2  193 non-null    float64\n 6   license_score_19_2  193 non-null    float64\n 7   contest_score_19_2  193 non-null    float64\n 8   total_score_19_2    193 non-null    float64\n 9   subject_score_20_1  193 non-null    float64\n 10  license_score_20_1  193 non-null    float64\n 11  contest_score_20_1  193 non-null    float64\n 12  total_score_20_1    193 non-null    float64\n 13  subject_score_20_2  190 non-null    float64\n 14  license_score_20_2  190 non-null    float64\n 15  contest_score_20_2  190 non-null    float64\n 16  total_score_20_2    190 non-null    float64\ndtypes: float64(16), int64(1)\nmemory usage: 27.1 KB\n"
     ]
    }
   ],
   "source": [
    "table.info()"
   ]
  },
  {
   "cell_type": "code",
   "execution_count": 180,
   "metadata": {},
   "outputs": [],
   "source": [
    "table['rank'] = table['total_score_20_1'].rank(ascending=False).astype(int)"
   ]
  },
  {
   "cell_type": "code",
   "execution_count": 181,
   "metadata": {},
   "outputs": [
    {
     "output_type": "execute_result",
     "data": {
      "text/plain": [
       "         class  subject_score_19_1  license_score_19_1  contest_score_19_1  \\\n",
       "user_id                                                                      \n",
       "2180         4               96.54                 0.0               100.0   \n",
       "2121         4               93.00                 0.0               109.0   \n",
       "2176         4               91.40                 0.0                 0.0   \n",
       "2231         4               95.04                 0.0                 0.0   \n",
       "2094         4               98.58                 0.0               109.0   \n",
       "...        ...                 ...                 ...                 ...   \n",
       "2173         5               67.60                 0.0                 0.0   \n",
       "2320         1               69.12                 0.0                 0.0   \n",
       "2316         5               60.88                 0.0                 0.0   \n",
       "2345         3               61.24                 0.0                 0.0   \n",
       "2301         5               58.36                 0.0                 0.0   \n",
       "\n",
       "         total_score_19_1  subject_score_19_2  license_score_19_2  \\\n",
       "user_id                                                             \n",
       "2180               196.54               96.82                90.0   \n",
       "2121               202.00               93.50                90.0   \n",
       "2176                91.40               94.65                70.0   \n",
       "2231                95.04               94.57                 0.0   \n",
       "2094               207.58               98.77                 0.0   \n",
       "...                   ...                 ...                 ...   \n",
       "2173                67.60               80.55                 0.0   \n",
       "2320                69.12               70.30                 0.0   \n",
       "2316                60.88               78.04                 0.0   \n",
       "2345                61.24               73.47                 0.0   \n",
       "2301                58.36               69.23                 0.0   \n",
       "\n",
       "         contest_score_19_2  total_score_19_2  subject_score_20_1  \\\n",
       "user_id                                                             \n",
       "2180                  136.0            322.82               97.32   \n",
       "2121                  109.0            292.50               92.64   \n",
       "2176                   50.0            214.65               94.27   \n",
       "2231                   50.0            144.57               97.76   \n",
       "2094                  109.0            207.77               98.60   \n",
       "...                     ...               ...                 ...   \n",
       "2173                    0.0             80.55               73.49   \n",
       "2320                    0.0             70.30               70.64   \n",
       "2316                    0.0             78.04               69.87   \n",
       "2345                    0.0             73.47               62.98   \n",
       "2301                    0.0             69.23               55.97   \n",
       "\n",
       "         license_score_20_1  contest_score_20_1  total_score_20_1  \\\n",
       "user_id                                                             \n",
       "2180                   90.0               127.0            314.32   \n",
       "2121                   90.0               109.0            291.64   \n",
       "2176                  100.0                50.0            244.27   \n",
       "2231                   90.0                50.0            237.76   \n",
       "2094                    0.0               136.0            234.60   \n",
       "...                     ...                 ...               ...   \n",
       "2173                    0.0                 0.0             73.49   \n",
       "2320                    0.0                 0.0             70.64   \n",
       "2316                    0.0                 0.0             69.87   \n",
       "2345                    0.0                 0.0             62.98   \n",
       "2301                    0.0                 0.0             55.97   \n",
       "\n",
       "         subject_score_20_2  license_score_20_2  contest_score_20_2  \\\n",
       "user_id                                                               \n",
       "2180                  96.60               104.0               145.0   \n",
       "2121                  89.54                90.0               109.0   \n",
       "2176                  88.58               100.0                50.0   \n",
       "2231                  95.00                90.0                80.0   \n",
       "2094                  98.64                 0.0               136.0   \n",
       "...                     ...                 ...                 ...   \n",
       "2173                  72.36                 0.0                 0.0   \n",
       "2320                  66.36                 0.0                 0.0   \n",
       "2316                  67.29                 0.0                 0.0   \n",
       "2345                  58.55                 0.0                 0.0   \n",
       "2301                  51.60                 0.0                 0.0   \n",
       "\n",
       "         total_score_20_2  rank  \n",
       "user_id                          \n",
       "2180               345.60     1  \n",
       "2121               288.54     2  \n",
       "2176               238.58     3  \n",
       "2231               265.00     4  \n",
       "2094               234.64     5  \n",
       "...                   ...   ...  \n",
       "2173                72.36   189  \n",
       "2320                66.36   190  \n",
       "2316                67.29   191  \n",
       "2345                58.55   192  \n",
       "2301                51.60   193  \n",
       "\n",
       "[193 rows x 18 columns]"
      ],
      "text/html": "<div>\n<style scoped>\n    .dataframe tbody tr th:only-of-type {\n        vertical-align: middle;\n    }\n\n    .dataframe tbody tr th {\n        vertical-align: top;\n    }\n\n    .dataframe thead th {\n        text-align: right;\n    }\n</style>\n<table border=\"1\" class=\"dataframe\">\n  <thead>\n    <tr style=\"text-align: right;\">\n      <th></th>\n      <th>class</th>\n      <th>subject_score_19_1</th>\n      <th>license_score_19_1</th>\n      <th>contest_score_19_1</th>\n      <th>total_score_19_1</th>\n      <th>subject_score_19_2</th>\n      <th>license_score_19_2</th>\n      <th>contest_score_19_2</th>\n      <th>total_score_19_2</th>\n      <th>subject_score_20_1</th>\n      <th>license_score_20_1</th>\n      <th>contest_score_20_1</th>\n      <th>total_score_20_1</th>\n      <th>subject_score_20_2</th>\n      <th>license_score_20_2</th>\n      <th>contest_score_20_2</th>\n      <th>total_score_20_2</th>\n      <th>rank</th>\n    </tr>\n    <tr>\n      <th>user_id</th>\n      <th></th>\n      <th></th>\n      <th></th>\n      <th></th>\n      <th></th>\n      <th></th>\n      <th></th>\n      <th></th>\n      <th></th>\n      <th></th>\n      <th></th>\n      <th></th>\n      <th></th>\n      <th></th>\n      <th></th>\n      <th></th>\n      <th></th>\n      <th></th>\n    </tr>\n  </thead>\n  <tbody>\n    <tr>\n      <th>2180</th>\n      <td>4</td>\n      <td>96.54</td>\n      <td>0.0</td>\n      <td>100.0</td>\n      <td>196.54</td>\n      <td>96.82</td>\n      <td>90.0</td>\n      <td>136.0</td>\n      <td>322.82</td>\n      <td>97.32</td>\n      <td>90.0</td>\n      <td>127.0</td>\n      <td>314.32</td>\n      <td>96.60</td>\n      <td>104.0</td>\n      <td>145.0</td>\n      <td>345.60</td>\n      <td>1</td>\n    </tr>\n    <tr>\n      <th>2121</th>\n      <td>4</td>\n      <td>93.00</td>\n      <td>0.0</td>\n      <td>109.0</td>\n      <td>202.00</td>\n      <td>93.50</td>\n      <td>90.0</td>\n      <td>109.0</td>\n      <td>292.50</td>\n      <td>92.64</td>\n      <td>90.0</td>\n      <td>109.0</td>\n      <td>291.64</td>\n      <td>89.54</td>\n      <td>90.0</td>\n      <td>109.0</td>\n      <td>288.54</td>\n      <td>2</td>\n    </tr>\n    <tr>\n      <th>2176</th>\n      <td>4</td>\n      <td>91.40</td>\n      <td>0.0</td>\n      <td>0.0</td>\n      <td>91.40</td>\n      <td>94.65</td>\n      <td>70.0</td>\n      <td>50.0</td>\n      <td>214.65</td>\n      <td>94.27</td>\n      <td>100.0</td>\n      <td>50.0</td>\n      <td>244.27</td>\n      <td>88.58</td>\n      <td>100.0</td>\n      <td>50.0</td>\n      <td>238.58</td>\n      <td>3</td>\n    </tr>\n    <tr>\n      <th>2231</th>\n      <td>4</td>\n      <td>95.04</td>\n      <td>0.0</td>\n      <td>0.0</td>\n      <td>95.04</td>\n      <td>94.57</td>\n      <td>0.0</td>\n      <td>50.0</td>\n      <td>144.57</td>\n      <td>97.76</td>\n      <td>90.0</td>\n      <td>50.0</td>\n      <td>237.76</td>\n      <td>95.00</td>\n      <td>90.0</td>\n      <td>80.0</td>\n      <td>265.00</td>\n      <td>4</td>\n    </tr>\n    <tr>\n      <th>2094</th>\n      <td>4</td>\n      <td>98.58</td>\n      <td>0.0</td>\n      <td>109.0</td>\n      <td>207.58</td>\n      <td>98.77</td>\n      <td>0.0</td>\n      <td>109.0</td>\n      <td>207.77</td>\n      <td>98.60</td>\n      <td>0.0</td>\n      <td>136.0</td>\n      <td>234.60</td>\n      <td>98.64</td>\n      <td>0.0</td>\n      <td>136.0</td>\n      <td>234.64</td>\n      <td>5</td>\n    </tr>\n    <tr>\n      <th>...</th>\n      <td>...</td>\n      <td>...</td>\n      <td>...</td>\n      <td>...</td>\n      <td>...</td>\n      <td>...</td>\n      <td>...</td>\n      <td>...</td>\n      <td>...</td>\n      <td>...</td>\n      <td>...</td>\n      <td>...</td>\n      <td>...</td>\n      <td>...</td>\n      <td>...</td>\n      <td>...</td>\n      <td>...</td>\n      <td>...</td>\n    </tr>\n    <tr>\n      <th>2173</th>\n      <td>5</td>\n      <td>67.60</td>\n      <td>0.0</td>\n      <td>0.0</td>\n      <td>67.60</td>\n      <td>80.55</td>\n      <td>0.0</td>\n      <td>0.0</td>\n      <td>80.55</td>\n      <td>73.49</td>\n      <td>0.0</td>\n      <td>0.0</td>\n      <td>73.49</td>\n      <td>72.36</td>\n      <td>0.0</td>\n      <td>0.0</td>\n      <td>72.36</td>\n      <td>189</td>\n    </tr>\n    <tr>\n      <th>2320</th>\n      <td>1</td>\n      <td>69.12</td>\n      <td>0.0</td>\n      <td>0.0</td>\n      <td>69.12</td>\n      <td>70.30</td>\n      <td>0.0</td>\n      <td>0.0</td>\n      <td>70.30</td>\n      <td>70.64</td>\n      <td>0.0</td>\n      <td>0.0</td>\n      <td>70.64</td>\n      <td>66.36</td>\n      <td>0.0</td>\n      <td>0.0</td>\n      <td>66.36</td>\n      <td>190</td>\n    </tr>\n    <tr>\n      <th>2316</th>\n      <td>5</td>\n      <td>60.88</td>\n      <td>0.0</td>\n      <td>0.0</td>\n      <td>60.88</td>\n      <td>78.04</td>\n      <td>0.0</td>\n      <td>0.0</td>\n      <td>78.04</td>\n      <td>69.87</td>\n      <td>0.0</td>\n      <td>0.0</td>\n      <td>69.87</td>\n      <td>67.29</td>\n      <td>0.0</td>\n      <td>0.0</td>\n      <td>67.29</td>\n      <td>191</td>\n    </tr>\n    <tr>\n      <th>2345</th>\n      <td>3</td>\n      <td>61.24</td>\n      <td>0.0</td>\n      <td>0.0</td>\n      <td>61.24</td>\n      <td>73.47</td>\n      <td>0.0</td>\n      <td>0.0</td>\n      <td>73.47</td>\n      <td>62.98</td>\n      <td>0.0</td>\n      <td>0.0</td>\n      <td>62.98</td>\n      <td>58.55</td>\n      <td>0.0</td>\n      <td>0.0</td>\n      <td>58.55</td>\n      <td>192</td>\n    </tr>\n    <tr>\n      <th>2301</th>\n      <td>5</td>\n      <td>58.36</td>\n      <td>0.0</td>\n      <td>0.0</td>\n      <td>58.36</td>\n      <td>69.23</td>\n      <td>0.0</td>\n      <td>0.0</td>\n      <td>69.23</td>\n      <td>55.97</td>\n      <td>0.0</td>\n      <td>0.0</td>\n      <td>55.97</td>\n      <td>51.60</td>\n      <td>0.0</td>\n      <td>0.0</td>\n      <td>51.60</td>\n      <td>193</td>\n    </tr>\n  </tbody>\n</table>\n<p>193 rows × 18 columns</p>\n</div>"
     },
     "metadata": {},
     "execution_count": 181
    }
   ],
   "source": [
    "table.sort_values(by='rank')"
   ]
  },
  {
   "source": [
    "## 4. 데이터 살펴보기"
   ],
   "cell_type": "markdown",
   "metadata": {}
  },
  {
   "cell_type": "code",
   "execution_count": 182,
   "metadata": {},
   "outputs": [
    {
     "output_type": "stream",
     "name": "stdout",
     "text": [
      "<class 'pandas.core.frame.DataFrame'>\nInt64Index: 193 entries, 2094 to 2301\nData columns (total 18 columns):\n #   Column              Non-Null Count  Dtype  \n---  ------              --------------  -----  \n 0   class               193 non-null    int64  \n 1   subject_score_19_1  193 non-null    float64\n 2   license_score_19_1  193 non-null    float64\n 3   contest_score_19_1  193 non-null    float64\n 4   total_score_19_1    193 non-null    float64\n 5   subject_score_19_2  193 non-null    float64\n 6   license_score_19_2  193 non-null    float64\n 7   contest_score_19_2  193 non-null    float64\n 8   total_score_19_2    193 non-null    float64\n 9   subject_score_20_1  193 non-null    float64\n 10  license_score_20_1  193 non-null    float64\n 11  contest_score_20_1  193 non-null    float64\n 12  total_score_20_1    193 non-null    float64\n 13  subject_score_20_2  190 non-null    float64\n 14  license_score_20_2  190 non-null    float64\n 15  contest_score_20_2  190 non-null    float64\n 16  total_score_20_2    190 non-null    float64\n 17  rank                193 non-null    int64  \ndtypes: float64(16), int64(2)\nmemory usage: 28.6 KB\n"
     ]
    }
   ],
   "source": [
    "table.info()"
   ]
  },
  {
   "cell_type": "code",
   "execution_count": 183,
   "metadata": {},
   "outputs": [
    {
     "output_type": "execute_result",
     "data": {
      "text/plain": [
       "            class  subject_score_19_1  license_score_19_1  contest_score_19_1  \\\n",
       "count  193.000000          193.000000          193.000000          193.000000   \n",
       "mean     3.626943           91.468756            0.155440            2.373057   \n",
       "std      1.681920            7.141933            2.159447           15.082264   \n",
       "min      1.000000           58.360000            0.000000            0.000000   \n",
       "25%      2.000000           88.780000            0.000000            0.000000   \n",
       "50%      4.000000           92.800000            0.000000            0.000000   \n",
       "75%      5.000000           96.120000            0.000000            0.000000   \n",
       "max      6.000000          100.000000           30.000000          109.000000   \n",
       "\n",
       "       total_score_19_1  subject_score_19_2  license_score_19_2  \\\n",
       "count        193.000000          193.000000          193.000000   \n",
       "mean          93.997254           92.391658            2.072539   \n",
       "std           17.331392            5.676232           11.763951   \n",
       "min           58.360000           69.230000            0.000000   \n",
       "25%           88.780000           90.220000            0.000000   \n",
       "50%           92.960000           94.010000            0.000000   \n",
       "75%           96.600000           96.400000            0.000000   \n",
       "max          207.580000           99.600000           90.000000   \n",
       "\n",
       "       contest_score_19_2  total_score_19_2  subject_score_20_1  \\\n",
       "count          193.000000        193.000000          193.000000   \n",
       "mean             7.139896        101.604093           91.218601   \n",
       "std             23.520517         31.815081            6.809612   \n",
       "min              0.000000         69.230000           55.970000   \n",
       "25%              0.000000         90.370000           88.870000   \n",
       "50%              0.000000         94.340000           92.970000   \n",
       "75%              0.000000         97.390000           95.660000   \n",
       "max            136.000000        322.820000           99.200000   \n",
       "\n",
       "       license_score_20_1  contest_score_20_1  total_score_20_1  \\\n",
       "count          193.000000          193.000000        193.000000   \n",
       "mean             5.025907            9.652850        105.897358   \n",
       "std             17.944485           26.739264         38.554815   \n",
       "min              0.000000            0.000000         55.970000   \n",
       "25%              0.000000            0.000000         90.190000   \n",
       "50%              0.000000            0.000000         94.250000   \n",
       "75%              0.000000            0.000000         97.840000   \n",
       "max            100.000000          136.000000        314.320000   \n",
       "\n",
       "       subject_score_20_2  license_score_20_2  contest_score_20_2  \\\n",
       "count          190.000000          190.000000          190.000000   \n",
       "mean            89.256053           14.021053           14.336842   \n",
       "std              8.515804           27.818755           32.670590   \n",
       "min             51.600000            0.000000            0.000000   \n",
       "25%             86.415000            0.000000            0.000000   \n",
       "50%             91.630000            0.000000            0.000000   \n",
       "75%             95.752500            7.500000            0.000000   \n",
       "max             99.120000          104.000000          157.000000   \n",
       "\n",
       "       total_score_20_2        rank  \n",
       "count        190.000000  193.000000  \n",
       "mean         117.613947   96.974093  \n",
       "std           55.639844   55.867630  \n",
       "min           51.600000    1.000000  \n",
       "25%           86.552500   49.000000  \n",
       "50%           93.710000   97.000000  \n",
       "75%          128.927500  145.000000  \n",
       "max          345.600000  193.000000  "
      ],
      "text/html": "<div>\n<style scoped>\n    .dataframe tbody tr th:only-of-type {\n        vertical-align: middle;\n    }\n\n    .dataframe tbody tr th {\n        vertical-align: top;\n    }\n\n    .dataframe thead th {\n        text-align: right;\n    }\n</style>\n<table border=\"1\" class=\"dataframe\">\n  <thead>\n    <tr style=\"text-align: right;\">\n      <th></th>\n      <th>class</th>\n      <th>subject_score_19_1</th>\n      <th>license_score_19_1</th>\n      <th>contest_score_19_1</th>\n      <th>total_score_19_1</th>\n      <th>subject_score_19_2</th>\n      <th>license_score_19_2</th>\n      <th>contest_score_19_2</th>\n      <th>total_score_19_2</th>\n      <th>subject_score_20_1</th>\n      <th>license_score_20_1</th>\n      <th>contest_score_20_1</th>\n      <th>total_score_20_1</th>\n      <th>subject_score_20_2</th>\n      <th>license_score_20_2</th>\n      <th>contest_score_20_2</th>\n      <th>total_score_20_2</th>\n      <th>rank</th>\n    </tr>\n  </thead>\n  <tbody>\n    <tr>\n      <th>count</th>\n      <td>193.000000</td>\n      <td>193.000000</td>\n      <td>193.000000</td>\n      <td>193.000000</td>\n      <td>193.000000</td>\n      <td>193.000000</td>\n      <td>193.000000</td>\n      <td>193.000000</td>\n      <td>193.000000</td>\n      <td>193.000000</td>\n      <td>193.000000</td>\n      <td>193.000000</td>\n      <td>193.000000</td>\n      <td>190.000000</td>\n      <td>190.000000</td>\n      <td>190.000000</td>\n      <td>190.000000</td>\n      <td>193.000000</td>\n    </tr>\n    <tr>\n      <th>mean</th>\n      <td>3.626943</td>\n      <td>91.468756</td>\n      <td>0.155440</td>\n      <td>2.373057</td>\n      <td>93.997254</td>\n      <td>92.391658</td>\n      <td>2.072539</td>\n      <td>7.139896</td>\n      <td>101.604093</td>\n      <td>91.218601</td>\n      <td>5.025907</td>\n      <td>9.652850</td>\n      <td>105.897358</td>\n      <td>89.256053</td>\n      <td>14.021053</td>\n      <td>14.336842</td>\n      <td>117.613947</td>\n      <td>96.974093</td>\n    </tr>\n    <tr>\n      <th>std</th>\n      <td>1.681920</td>\n      <td>7.141933</td>\n      <td>2.159447</td>\n      <td>15.082264</td>\n      <td>17.331392</td>\n      <td>5.676232</td>\n      <td>11.763951</td>\n      <td>23.520517</td>\n      <td>31.815081</td>\n      <td>6.809612</td>\n      <td>17.944485</td>\n      <td>26.739264</td>\n      <td>38.554815</td>\n      <td>8.515804</td>\n      <td>27.818755</td>\n      <td>32.670590</td>\n      <td>55.639844</td>\n      <td>55.867630</td>\n    </tr>\n    <tr>\n      <th>min</th>\n      <td>1.000000</td>\n      <td>58.360000</td>\n      <td>0.000000</td>\n      <td>0.000000</td>\n      <td>58.360000</td>\n      <td>69.230000</td>\n      <td>0.000000</td>\n      <td>0.000000</td>\n      <td>69.230000</td>\n      <td>55.970000</td>\n      <td>0.000000</td>\n      <td>0.000000</td>\n      <td>55.970000</td>\n      <td>51.600000</td>\n      <td>0.000000</td>\n      <td>0.000000</td>\n      <td>51.600000</td>\n      <td>1.000000</td>\n    </tr>\n    <tr>\n      <th>25%</th>\n      <td>2.000000</td>\n      <td>88.780000</td>\n      <td>0.000000</td>\n      <td>0.000000</td>\n      <td>88.780000</td>\n      <td>90.220000</td>\n      <td>0.000000</td>\n      <td>0.000000</td>\n      <td>90.370000</td>\n      <td>88.870000</td>\n      <td>0.000000</td>\n      <td>0.000000</td>\n      <td>90.190000</td>\n      <td>86.415000</td>\n      <td>0.000000</td>\n      <td>0.000000</td>\n      <td>86.552500</td>\n      <td>49.000000</td>\n    </tr>\n    <tr>\n      <th>50%</th>\n      <td>4.000000</td>\n      <td>92.800000</td>\n      <td>0.000000</td>\n      <td>0.000000</td>\n      <td>92.960000</td>\n      <td>94.010000</td>\n      <td>0.000000</td>\n      <td>0.000000</td>\n      <td>94.340000</td>\n      <td>92.970000</td>\n      <td>0.000000</td>\n      <td>0.000000</td>\n      <td>94.250000</td>\n      <td>91.630000</td>\n      <td>0.000000</td>\n      <td>0.000000</td>\n      <td>93.710000</td>\n      <td>97.000000</td>\n    </tr>\n    <tr>\n      <th>75%</th>\n      <td>5.000000</td>\n      <td>96.120000</td>\n      <td>0.000000</td>\n      <td>0.000000</td>\n      <td>96.600000</td>\n      <td>96.400000</td>\n      <td>0.000000</td>\n      <td>0.000000</td>\n      <td>97.390000</td>\n      <td>95.660000</td>\n      <td>0.000000</td>\n      <td>0.000000</td>\n      <td>97.840000</td>\n      <td>95.752500</td>\n      <td>7.500000</td>\n      <td>0.000000</td>\n      <td>128.927500</td>\n      <td>145.000000</td>\n    </tr>\n    <tr>\n      <th>max</th>\n      <td>6.000000</td>\n      <td>100.000000</td>\n      <td>30.000000</td>\n      <td>109.000000</td>\n      <td>207.580000</td>\n      <td>99.600000</td>\n      <td>90.000000</td>\n      <td>136.000000</td>\n      <td>322.820000</td>\n      <td>99.200000</td>\n      <td>100.000000</td>\n      <td>136.000000</td>\n      <td>314.320000</td>\n      <td>99.120000</td>\n      <td>104.000000</td>\n      <td>157.000000</td>\n      <td>345.600000</td>\n      <td>193.000000</td>\n    </tr>\n  </tbody>\n</table>\n</div>"
     },
     "metadata": {},
     "execution_count": 183
    }
   ],
   "source": [
    "table.describe()"
   ]
  },
  {
   "cell_type": "code",
   "execution_count": 184,
   "metadata": {},
   "outputs": [
    {
     "output_type": "execute_result",
     "data": {
      "text/plain": [
       "         class  subject_score_19_1  license_score_19_1  contest_score_19_1  \\\n",
       "user_id                                                                      \n",
       "2094         4               98.58                 0.0               109.0   \n",
       "2121         4               93.00                 0.0               109.0   \n",
       "2180         4               96.54                 0.0               100.0   \n",
       "2244         2               92.48                 0.0               100.0   \n",
       "2207         6               96.00                30.0                 0.0   \n",
       "\n",
       "         total_score_19_1  subject_score_19_2  license_score_19_2  \\\n",
       "user_id                                                             \n",
       "2094               207.58               98.77                 0.0   \n",
       "2121               202.00               93.50                90.0   \n",
       "2180               196.54               96.82                90.0   \n",
       "2244               192.48               94.73                 0.0   \n",
       "2207               126.00               96.60                30.0   \n",
       "\n",
       "         contest_score_19_2  total_score_19_2  subject_score_20_1  \\\n",
       "user_id                                                             \n",
       "2094                  109.0            207.77               98.60   \n",
       "2121                  109.0            292.50               92.64   \n",
       "2180                  136.0            322.82               97.32   \n",
       "2244                  100.0            194.73               96.42   \n",
       "2207                    0.0            126.60               96.32   \n",
       "\n",
       "         license_score_20_1  contest_score_20_1  total_score_20_1  \\\n",
       "user_id                                                             \n",
       "2094                    0.0               136.0            234.60   \n",
       "2121                   90.0               109.0            291.64   \n",
       "2180                   90.0               127.0            314.32   \n",
       "2244                    0.0               100.0            196.42   \n",
       "2207                   30.0                 0.0            126.32   \n",
       "\n",
       "         subject_score_20_2  license_score_20_2  contest_score_20_2  \\\n",
       "user_id                                                               \n",
       "2094                  98.64                 0.0               136.0   \n",
       "2121                  89.54                90.0               109.0   \n",
       "2180                  96.60               104.0               145.0   \n",
       "2244                  96.69                30.0               112.0   \n",
       "2207                  96.42                90.0                 0.0   \n",
       "\n",
       "         total_score_20_2  rank  \n",
       "user_id                          \n",
       "2094               234.64     5  \n",
       "2121               288.54     2  \n",
       "2180               345.60     1  \n",
       "2244               238.69    10  \n",
       "2207               186.42    31  "
      ],
      "text/html": "<div>\n<style scoped>\n    .dataframe tbody tr th:only-of-type {\n        vertical-align: middle;\n    }\n\n    .dataframe tbody tr th {\n        vertical-align: top;\n    }\n\n    .dataframe thead th {\n        text-align: right;\n    }\n</style>\n<table border=\"1\" class=\"dataframe\">\n  <thead>\n    <tr style=\"text-align: right;\">\n      <th></th>\n      <th>class</th>\n      <th>subject_score_19_1</th>\n      <th>license_score_19_1</th>\n      <th>contest_score_19_1</th>\n      <th>total_score_19_1</th>\n      <th>subject_score_19_2</th>\n      <th>license_score_19_2</th>\n      <th>contest_score_19_2</th>\n      <th>total_score_19_2</th>\n      <th>subject_score_20_1</th>\n      <th>license_score_20_1</th>\n      <th>contest_score_20_1</th>\n      <th>total_score_20_1</th>\n      <th>subject_score_20_2</th>\n      <th>license_score_20_2</th>\n      <th>contest_score_20_2</th>\n      <th>total_score_20_2</th>\n      <th>rank</th>\n    </tr>\n    <tr>\n      <th>user_id</th>\n      <th></th>\n      <th></th>\n      <th></th>\n      <th></th>\n      <th></th>\n      <th></th>\n      <th></th>\n      <th></th>\n      <th></th>\n      <th></th>\n      <th></th>\n      <th></th>\n      <th></th>\n      <th></th>\n      <th></th>\n      <th></th>\n      <th></th>\n      <th></th>\n    </tr>\n  </thead>\n  <tbody>\n    <tr>\n      <th>2094</th>\n      <td>4</td>\n      <td>98.58</td>\n      <td>0.0</td>\n      <td>109.0</td>\n      <td>207.58</td>\n      <td>98.77</td>\n      <td>0.0</td>\n      <td>109.0</td>\n      <td>207.77</td>\n      <td>98.60</td>\n      <td>0.0</td>\n      <td>136.0</td>\n      <td>234.60</td>\n      <td>98.64</td>\n      <td>0.0</td>\n      <td>136.0</td>\n      <td>234.64</td>\n      <td>5</td>\n    </tr>\n    <tr>\n      <th>2121</th>\n      <td>4</td>\n      <td>93.00</td>\n      <td>0.0</td>\n      <td>109.0</td>\n      <td>202.00</td>\n      <td>93.50</td>\n      <td>90.0</td>\n      <td>109.0</td>\n      <td>292.50</td>\n      <td>92.64</td>\n      <td>90.0</td>\n      <td>109.0</td>\n      <td>291.64</td>\n      <td>89.54</td>\n      <td>90.0</td>\n      <td>109.0</td>\n      <td>288.54</td>\n      <td>2</td>\n    </tr>\n    <tr>\n      <th>2180</th>\n      <td>4</td>\n      <td>96.54</td>\n      <td>0.0</td>\n      <td>100.0</td>\n      <td>196.54</td>\n      <td>96.82</td>\n      <td>90.0</td>\n      <td>136.0</td>\n      <td>322.82</td>\n      <td>97.32</td>\n      <td>90.0</td>\n      <td>127.0</td>\n      <td>314.32</td>\n      <td>96.60</td>\n      <td>104.0</td>\n      <td>145.0</td>\n      <td>345.60</td>\n      <td>1</td>\n    </tr>\n    <tr>\n      <th>2244</th>\n      <td>2</td>\n      <td>92.48</td>\n      <td>0.0</td>\n      <td>100.0</td>\n      <td>192.48</td>\n      <td>94.73</td>\n      <td>0.0</td>\n      <td>100.0</td>\n      <td>194.73</td>\n      <td>96.42</td>\n      <td>0.0</td>\n      <td>100.0</td>\n      <td>196.42</td>\n      <td>96.69</td>\n      <td>30.0</td>\n      <td>112.0</td>\n      <td>238.69</td>\n      <td>10</td>\n    </tr>\n    <tr>\n      <th>2207</th>\n      <td>6</td>\n      <td>96.00</td>\n      <td>30.0</td>\n      <td>0.0</td>\n      <td>126.00</td>\n      <td>96.60</td>\n      <td>30.0</td>\n      <td>0.0</td>\n      <td>126.60</td>\n      <td>96.32</td>\n      <td>30.0</td>\n      <td>0.0</td>\n      <td>126.32</td>\n      <td>96.42</td>\n      <td>90.0</td>\n      <td>0.0</td>\n      <td>186.42</td>\n      <td>31</td>\n    </tr>\n  </tbody>\n</table>\n</div>"
     },
     "metadata": {},
     "execution_count": 184
    }
   ],
   "source": [
    "table.head()"
   ]
  },
  {
   "cell_type": "code",
   "execution_count": 185,
   "metadata": {},
   "outputs": [
    {
     "output_type": "execute_result",
     "data": {
      "text/plain": [
       "         class  subject_score_19_1  license_score_19_1  contest_score_19_1  \\\n",
       "user_id                                                                      \n",
       "2094     False               False               False               False   \n",
       "2121     False               False               False               False   \n",
       "2180     False               False               False               False   \n",
       "2244     False               False               False               False   \n",
       "2207     False               False               False               False   \n",
       "...        ...                 ...                 ...                 ...   \n",
       "2173     False               False               False               False   \n",
       "2237     False               False               False               False   \n",
       "2345     False               False               False               False   \n",
       "2316     False               False               False               False   \n",
       "2301     False               False               False               False   \n",
       "\n",
       "         total_score_19_1  subject_score_19_2  license_score_19_2  \\\n",
       "user_id                                                             \n",
       "2094                False               False               False   \n",
       "2121                False               False               False   \n",
       "2180                False               False               False   \n",
       "2244                False               False               False   \n",
       "2207                False               False               False   \n",
       "...                   ...                 ...                 ...   \n",
       "2173                False               False               False   \n",
       "2237                False               False               False   \n",
       "2345                False               False               False   \n",
       "2316                False               False               False   \n",
       "2301                False               False               False   \n",
       "\n",
       "         contest_score_19_2  total_score_19_2  subject_score_20_1  \\\n",
       "user_id                                                             \n",
       "2094                  False             False               False   \n",
       "2121                  False             False               False   \n",
       "2180                  False             False               False   \n",
       "2244                  False             False               False   \n",
       "2207                  False             False               False   \n",
       "...                     ...               ...                 ...   \n",
       "2173                  False             False               False   \n",
       "2237                  False             False               False   \n",
       "2345                  False             False               False   \n",
       "2316                  False             False               False   \n",
       "2301                  False             False               False   \n",
       "\n",
       "         license_score_20_1  contest_score_20_1  total_score_20_1  \\\n",
       "user_id                                                             \n",
       "2094                  False               False             False   \n",
       "2121                  False               False             False   \n",
       "2180                  False               False             False   \n",
       "2244                  False               False             False   \n",
       "2207                  False               False             False   \n",
       "...                     ...                 ...               ...   \n",
       "2173                  False               False             False   \n",
       "2237                  False               False             False   \n",
       "2345                  False               False             False   \n",
       "2316                  False               False             False   \n",
       "2301                  False               False             False   \n",
       "\n",
       "         subject_score_20_2  license_score_20_2  contest_score_20_2  \\\n",
       "user_id                                                               \n",
       "2094                  False               False               False   \n",
       "2121                  False               False               False   \n",
       "2180                  False               False               False   \n",
       "2244                  False               False               False   \n",
       "2207                  False               False               False   \n",
       "...                     ...                 ...                 ...   \n",
       "2173                  False               False               False   \n",
       "2237                  False               False               False   \n",
       "2345                  False               False               False   \n",
       "2316                  False               False               False   \n",
       "2301                  False               False               False   \n",
       "\n",
       "         total_score_20_2   rank  \n",
       "user_id                           \n",
       "2094                False  False  \n",
       "2121                False  False  \n",
       "2180                False  False  \n",
       "2244                False  False  \n",
       "2207                False  False  \n",
       "...                   ...    ...  \n",
       "2173                False  False  \n",
       "2237                False  False  \n",
       "2345                False  False  \n",
       "2316                False  False  \n",
       "2301                False  False  \n",
       "\n",
       "[193 rows x 18 columns]"
      ],
      "text/html": "<div>\n<style scoped>\n    .dataframe tbody tr th:only-of-type {\n        vertical-align: middle;\n    }\n\n    .dataframe tbody tr th {\n        vertical-align: top;\n    }\n\n    .dataframe thead th {\n        text-align: right;\n    }\n</style>\n<table border=\"1\" class=\"dataframe\">\n  <thead>\n    <tr style=\"text-align: right;\">\n      <th></th>\n      <th>class</th>\n      <th>subject_score_19_1</th>\n      <th>license_score_19_1</th>\n      <th>contest_score_19_1</th>\n      <th>total_score_19_1</th>\n      <th>subject_score_19_2</th>\n      <th>license_score_19_2</th>\n      <th>contest_score_19_2</th>\n      <th>total_score_19_2</th>\n      <th>subject_score_20_1</th>\n      <th>license_score_20_1</th>\n      <th>contest_score_20_1</th>\n      <th>total_score_20_1</th>\n      <th>subject_score_20_2</th>\n      <th>license_score_20_2</th>\n      <th>contest_score_20_2</th>\n      <th>total_score_20_2</th>\n      <th>rank</th>\n    </tr>\n    <tr>\n      <th>user_id</th>\n      <th></th>\n      <th></th>\n      <th></th>\n      <th></th>\n      <th></th>\n      <th></th>\n      <th></th>\n      <th></th>\n      <th></th>\n      <th></th>\n      <th></th>\n      <th></th>\n      <th></th>\n      <th></th>\n      <th></th>\n      <th></th>\n      <th></th>\n      <th></th>\n    </tr>\n  </thead>\n  <tbody>\n    <tr>\n      <th>2094</th>\n      <td>False</td>\n      <td>False</td>\n      <td>False</td>\n      <td>False</td>\n      <td>False</td>\n      <td>False</td>\n      <td>False</td>\n      <td>False</td>\n      <td>False</td>\n      <td>False</td>\n      <td>False</td>\n      <td>False</td>\n      <td>False</td>\n      <td>False</td>\n      <td>False</td>\n      <td>False</td>\n      <td>False</td>\n      <td>False</td>\n    </tr>\n    <tr>\n      <th>2121</th>\n      <td>False</td>\n      <td>False</td>\n      <td>False</td>\n      <td>False</td>\n      <td>False</td>\n      <td>False</td>\n      <td>False</td>\n      <td>False</td>\n      <td>False</td>\n      <td>False</td>\n      <td>False</td>\n      <td>False</td>\n      <td>False</td>\n      <td>False</td>\n      <td>False</td>\n      <td>False</td>\n      <td>False</td>\n      <td>False</td>\n    </tr>\n    <tr>\n      <th>2180</th>\n      <td>False</td>\n      <td>False</td>\n      <td>False</td>\n      <td>False</td>\n      <td>False</td>\n      <td>False</td>\n      <td>False</td>\n      <td>False</td>\n      <td>False</td>\n      <td>False</td>\n      <td>False</td>\n      <td>False</td>\n      <td>False</td>\n      <td>False</td>\n      <td>False</td>\n      <td>False</td>\n      <td>False</td>\n      <td>False</td>\n    </tr>\n    <tr>\n      <th>2244</th>\n      <td>False</td>\n      <td>False</td>\n      <td>False</td>\n      <td>False</td>\n      <td>False</td>\n      <td>False</td>\n      <td>False</td>\n      <td>False</td>\n      <td>False</td>\n      <td>False</td>\n      <td>False</td>\n      <td>False</td>\n      <td>False</td>\n      <td>False</td>\n      <td>False</td>\n      <td>False</td>\n      <td>False</td>\n      <td>False</td>\n    </tr>\n    <tr>\n      <th>2207</th>\n      <td>False</td>\n      <td>False</td>\n      <td>False</td>\n      <td>False</td>\n      <td>False</td>\n      <td>False</td>\n      <td>False</td>\n      <td>False</td>\n      <td>False</td>\n      <td>False</td>\n      <td>False</td>\n      <td>False</td>\n      <td>False</td>\n      <td>False</td>\n      <td>False</td>\n      <td>False</td>\n      <td>False</td>\n      <td>False</td>\n    </tr>\n    <tr>\n      <th>...</th>\n      <td>...</td>\n      <td>...</td>\n      <td>...</td>\n      <td>...</td>\n      <td>...</td>\n      <td>...</td>\n      <td>...</td>\n      <td>...</td>\n      <td>...</td>\n      <td>...</td>\n      <td>...</td>\n      <td>...</td>\n      <td>...</td>\n      <td>...</td>\n      <td>...</td>\n      <td>...</td>\n      <td>...</td>\n      <td>...</td>\n    </tr>\n    <tr>\n      <th>2173</th>\n      <td>False</td>\n      <td>False</td>\n      <td>False</td>\n      <td>False</td>\n      <td>False</td>\n      <td>False</td>\n      <td>False</td>\n      <td>False</td>\n      <td>False</td>\n      <td>False</td>\n      <td>False</td>\n      <td>False</td>\n      <td>False</td>\n      <td>False</td>\n      <td>False</td>\n      <td>False</td>\n      <td>False</td>\n      <td>False</td>\n    </tr>\n    <tr>\n      <th>2237</th>\n      <td>False</td>\n      <td>False</td>\n      <td>False</td>\n      <td>False</td>\n      <td>False</td>\n      <td>False</td>\n      <td>False</td>\n      <td>False</td>\n      <td>False</td>\n      <td>False</td>\n      <td>False</td>\n      <td>False</td>\n      <td>False</td>\n      <td>False</td>\n      <td>False</td>\n      <td>False</td>\n      <td>False</td>\n      <td>False</td>\n    </tr>\n    <tr>\n      <th>2345</th>\n      <td>False</td>\n      <td>False</td>\n      <td>False</td>\n      <td>False</td>\n      <td>False</td>\n      <td>False</td>\n      <td>False</td>\n      <td>False</td>\n      <td>False</td>\n      <td>False</td>\n      <td>False</td>\n      <td>False</td>\n      <td>False</td>\n      <td>False</td>\n      <td>False</td>\n      <td>False</td>\n      <td>False</td>\n      <td>False</td>\n    </tr>\n    <tr>\n      <th>2316</th>\n      <td>False</td>\n      <td>False</td>\n      <td>False</td>\n      <td>False</td>\n      <td>False</td>\n      <td>False</td>\n      <td>False</td>\n      <td>False</td>\n      <td>False</td>\n      <td>False</td>\n      <td>False</td>\n      <td>False</td>\n      <td>False</td>\n      <td>False</td>\n      <td>False</td>\n      <td>False</td>\n      <td>False</td>\n      <td>False</td>\n    </tr>\n    <tr>\n      <th>2301</th>\n      <td>False</td>\n      <td>False</td>\n      <td>False</td>\n      <td>False</td>\n      <td>False</td>\n      <td>False</td>\n      <td>False</td>\n      <td>False</td>\n      <td>False</td>\n      <td>False</td>\n      <td>False</td>\n      <td>False</td>\n      <td>False</td>\n      <td>False</td>\n      <td>False</td>\n      <td>False</td>\n      <td>False</td>\n      <td>False</td>\n    </tr>\n  </tbody>\n</table>\n<p>193 rows × 18 columns</p>\n</div>"
     },
     "metadata": {},
     "execution_count": 185
    }
   ],
   "source": [
    "table.isnull() == True"
   ]
  },
  {
   "source": [
    "## 5. 탐색적 데이터 분석"
   ],
   "cell_type": "markdown",
   "metadata": {}
  },
  {
   "source": [
    "### 5.1. 문과보다 이과 학생의 평균 총합 점수가 높을것이다"
   ],
   "cell_type": "markdown",
   "metadata": {}
  },
  {
   "cell_type": "code",
   "execution_count": 186,
   "metadata": {},
   "outputs": [
    {
     "output_type": "execute_result",
     "data": {
      "text/plain": [
       "(193, 135, 58)"
      ]
     },
     "metadata": {},
     "execution_count": 186
    }
   ],
   "source": [
    "mun = table[table['class'] <= 2]\n",
    "lee = table[table['class'] > 2]\n",
    "len(table), len(lee), len(mun) "
   ]
  },
  {
   "cell_type": "code",
   "execution_count": 187,
   "metadata": {},
   "outputs": [
    {
     "output_type": "execute_result",
     "data": {
      "text/plain": [
       "         class  subject_score_19_1  license_score_19_1  contest_score_19_1  \\\n",
       "user_id                                                                      \n",
       "2094         4               98.58                 0.0               109.0   \n",
       "2121         4               93.00                 0.0               109.0   \n",
       "2180         4               96.54                 0.0               100.0   \n",
       "2207         6               96.00                30.0                 0.0   \n",
       "2108         5               98.00                 0.0                10.0   \n",
       "\n",
       "         total_score_19_1  subject_score_19_2  license_score_19_2  \\\n",
       "user_id                                                             \n",
       "2094               207.58               98.77                 0.0   \n",
       "2121               202.00               93.50                90.0   \n",
       "2180               196.54               96.82                90.0   \n",
       "2207               126.00               96.60                30.0   \n",
       "2108               108.00               98.07                 0.0   \n",
       "\n",
       "         contest_score_19_2  total_score_19_2  subject_score_20_1  \\\n",
       "user_id                                                             \n",
       "2094                  109.0            207.77               98.60   \n",
       "2121                  109.0            292.50               92.64   \n",
       "2180                  136.0            322.82               97.32   \n",
       "2207                    0.0            126.60               96.32   \n",
       "2108                  109.0            207.07               98.70   \n",
       "\n",
       "         license_score_20_1  contest_score_20_1  total_score_20_1  \\\n",
       "user_id                                                             \n",
       "2094                    0.0               136.0            234.60   \n",
       "2121                   90.0               109.0            291.64   \n",
       "2180                   90.0               127.0            314.32   \n",
       "2207                   30.0                 0.0            126.32   \n",
       "2108                    0.0               121.0            219.70   \n",
       "\n",
       "         subject_score_20_2  license_score_20_2  contest_score_20_2  \\\n",
       "user_id                                                               \n",
       "2094                  98.64                 0.0               136.0   \n",
       "2121                  89.54                90.0               109.0   \n",
       "2180                  96.60               104.0               145.0   \n",
       "2207                  96.42                90.0                 0.0   \n",
       "2108                  98.72               100.0               136.0   \n",
       "\n",
       "         total_score_20_2  rank  \n",
       "user_id                          \n",
       "2094               234.64     5  \n",
       "2121               288.54     2  \n",
       "2180               345.60     1  \n",
       "2207               186.42    31  \n",
       "2108               334.72     6  "
      ],
      "text/html": "<div>\n<style scoped>\n    .dataframe tbody tr th:only-of-type {\n        vertical-align: middle;\n    }\n\n    .dataframe tbody tr th {\n        vertical-align: top;\n    }\n\n    .dataframe thead th {\n        text-align: right;\n    }\n</style>\n<table border=\"1\" class=\"dataframe\">\n  <thead>\n    <tr style=\"text-align: right;\">\n      <th></th>\n      <th>class</th>\n      <th>subject_score_19_1</th>\n      <th>license_score_19_1</th>\n      <th>contest_score_19_1</th>\n      <th>total_score_19_1</th>\n      <th>subject_score_19_2</th>\n      <th>license_score_19_2</th>\n      <th>contest_score_19_2</th>\n      <th>total_score_19_2</th>\n      <th>subject_score_20_1</th>\n      <th>license_score_20_1</th>\n      <th>contest_score_20_1</th>\n      <th>total_score_20_1</th>\n      <th>subject_score_20_2</th>\n      <th>license_score_20_2</th>\n      <th>contest_score_20_2</th>\n      <th>total_score_20_2</th>\n      <th>rank</th>\n    </tr>\n    <tr>\n      <th>user_id</th>\n      <th></th>\n      <th></th>\n      <th></th>\n      <th></th>\n      <th></th>\n      <th></th>\n      <th></th>\n      <th></th>\n      <th></th>\n      <th></th>\n      <th></th>\n      <th></th>\n      <th></th>\n      <th></th>\n      <th></th>\n      <th></th>\n      <th></th>\n      <th></th>\n    </tr>\n  </thead>\n  <tbody>\n    <tr>\n      <th>2094</th>\n      <td>4</td>\n      <td>98.58</td>\n      <td>0.0</td>\n      <td>109.0</td>\n      <td>207.58</td>\n      <td>98.77</td>\n      <td>0.0</td>\n      <td>109.0</td>\n      <td>207.77</td>\n      <td>98.60</td>\n      <td>0.0</td>\n      <td>136.0</td>\n      <td>234.60</td>\n      <td>98.64</td>\n      <td>0.0</td>\n      <td>136.0</td>\n      <td>234.64</td>\n      <td>5</td>\n    </tr>\n    <tr>\n      <th>2121</th>\n      <td>4</td>\n      <td>93.00</td>\n      <td>0.0</td>\n      <td>109.0</td>\n      <td>202.00</td>\n      <td>93.50</td>\n      <td>90.0</td>\n      <td>109.0</td>\n      <td>292.50</td>\n      <td>92.64</td>\n      <td>90.0</td>\n      <td>109.0</td>\n      <td>291.64</td>\n      <td>89.54</td>\n      <td>90.0</td>\n      <td>109.0</td>\n      <td>288.54</td>\n      <td>2</td>\n    </tr>\n    <tr>\n      <th>2180</th>\n      <td>4</td>\n      <td>96.54</td>\n      <td>0.0</td>\n      <td>100.0</td>\n      <td>196.54</td>\n      <td>96.82</td>\n      <td>90.0</td>\n      <td>136.0</td>\n      <td>322.82</td>\n      <td>97.32</td>\n      <td>90.0</td>\n      <td>127.0</td>\n      <td>314.32</td>\n      <td>96.60</td>\n      <td>104.0</td>\n      <td>145.0</td>\n      <td>345.60</td>\n      <td>1</td>\n    </tr>\n    <tr>\n      <th>2207</th>\n      <td>6</td>\n      <td>96.00</td>\n      <td>30.0</td>\n      <td>0.0</td>\n      <td>126.00</td>\n      <td>96.60</td>\n      <td>30.0</td>\n      <td>0.0</td>\n      <td>126.60</td>\n      <td>96.32</td>\n      <td>30.0</td>\n      <td>0.0</td>\n      <td>126.32</td>\n      <td>96.42</td>\n      <td>90.0</td>\n      <td>0.0</td>\n      <td>186.42</td>\n      <td>31</td>\n    </tr>\n    <tr>\n      <th>2108</th>\n      <td>5</td>\n      <td>98.00</td>\n      <td>0.0</td>\n      <td>10.0</td>\n      <td>108.00</td>\n      <td>98.07</td>\n      <td>0.0</td>\n      <td>109.0</td>\n      <td>207.07</td>\n      <td>98.70</td>\n      <td>0.0</td>\n      <td>121.0</td>\n      <td>219.70</td>\n      <td>98.72</td>\n      <td>100.0</td>\n      <td>136.0</td>\n      <td>334.72</td>\n      <td>6</td>\n    </tr>\n  </tbody>\n</table>\n</div>"
     },
     "metadata": {},
     "execution_count": 187
    }
   ],
   "source": [
    "lee.head()"
   ]
  },
  {
   "cell_type": "code",
   "execution_count": 188,
   "metadata": {},
   "outputs": [
    {
     "output_type": "execute_result",
     "data": {
      "text/plain": [
       "         class  subject_score_19_1  license_score_19_1  contest_score_19_1  \\\n",
       "user_id                                                                      \n",
       "2244         2               92.48                 0.0               100.0   \n",
       "2145         2               90.60                 0.0                30.0   \n",
       "2214         2               98.48                 0.0                 0.0   \n",
       "2178         1               97.48                 0.0                 0.0   \n",
       "2198         2               97.00                 0.0                 0.0   \n",
       "\n",
       "         total_score_19_1  subject_score_19_2  license_score_19_2  \\\n",
       "user_id                                                             \n",
       "2244               192.48               94.73                 0.0   \n",
       "2145               120.60               90.64                 0.0   \n",
       "2214                98.48               96.40                 0.0   \n",
       "2178                97.48               94.78                 0.0   \n",
       "2198                97.00               98.50                 0.0   \n",
       "\n",
       "         contest_score_19_2  total_score_19_2  subject_score_20_1  \\\n",
       "user_id                                                             \n",
       "2244                  100.0            194.73               96.42   \n",
       "2145                    0.0             90.64               92.08   \n",
       "2214                    0.0             96.40               93.80   \n",
       "2178                    0.0             94.78               97.26   \n",
       "2198                    0.0             98.50               95.60   \n",
       "\n",
       "         license_score_20_1  contest_score_20_1  total_score_20_1  \\\n",
       "user_id                                                             \n",
       "2244                    0.0               100.0            196.42   \n",
       "2145                    0.0               103.0            195.08   \n",
       "2214                   60.0                 0.0            153.80   \n",
       "2178                    0.0                 0.0             97.26   \n",
       "2198                    0.0                 0.0             95.60   \n",
       "\n",
       "         subject_score_20_2  license_score_20_2  contest_score_20_2  \\\n",
       "user_id                                                               \n",
       "2244                  96.69                30.0               112.0   \n",
       "2145                  88.98                40.0               109.0   \n",
       "2214                  94.13                60.0                 0.0   \n",
       "2178                  97.46                 0.0                 0.0   \n",
       "2198                  94.63                 0.0                 0.0   \n",
       "\n",
       "         total_score_20_2  rank  \n",
       "user_id                          \n",
       "2244               238.69    10  \n",
       "2145               237.98    11  \n",
       "2214               154.13    17  \n",
       "2178                97.46    54  \n",
       "2198                94.63    75  "
      ],
      "text/html": "<div>\n<style scoped>\n    .dataframe tbody tr th:only-of-type {\n        vertical-align: middle;\n    }\n\n    .dataframe tbody tr th {\n        vertical-align: top;\n    }\n\n    .dataframe thead th {\n        text-align: right;\n    }\n</style>\n<table border=\"1\" class=\"dataframe\">\n  <thead>\n    <tr style=\"text-align: right;\">\n      <th></th>\n      <th>class</th>\n      <th>subject_score_19_1</th>\n      <th>license_score_19_1</th>\n      <th>contest_score_19_1</th>\n      <th>total_score_19_1</th>\n      <th>subject_score_19_2</th>\n      <th>license_score_19_2</th>\n      <th>contest_score_19_2</th>\n      <th>total_score_19_2</th>\n      <th>subject_score_20_1</th>\n      <th>license_score_20_1</th>\n      <th>contest_score_20_1</th>\n      <th>total_score_20_1</th>\n      <th>subject_score_20_2</th>\n      <th>license_score_20_2</th>\n      <th>contest_score_20_2</th>\n      <th>total_score_20_2</th>\n      <th>rank</th>\n    </tr>\n    <tr>\n      <th>user_id</th>\n      <th></th>\n      <th></th>\n      <th></th>\n      <th></th>\n      <th></th>\n      <th></th>\n      <th></th>\n      <th></th>\n      <th></th>\n      <th></th>\n      <th></th>\n      <th></th>\n      <th></th>\n      <th></th>\n      <th></th>\n      <th></th>\n      <th></th>\n      <th></th>\n    </tr>\n  </thead>\n  <tbody>\n    <tr>\n      <th>2244</th>\n      <td>2</td>\n      <td>92.48</td>\n      <td>0.0</td>\n      <td>100.0</td>\n      <td>192.48</td>\n      <td>94.73</td>\n      <td>0.0</td>\n      <td>100.0</td>\n      <td>194.73</td>\n      <td>96.42</td>\n      <td>0.0</td>\n      <td>100.0</td>\n      <td>196.42</td>\n      <td>96.69</td>\n      <td>30.0</td>\n      <td>112.0</td>\n      <td>238.69</td>\n      <td>10</td>\n    </tr>\n    <tr>\n      <th>2145</th>\n      <td>2</td>\n      <td>90.60</td>\n      <td>0.0</td>\n      <td>30.0</td>\n      <td>120.60</td>\n      <td>90.64</td>\n      <td>0.0</td>\n      <td>0.0</td>\n      <td>90.64</td>\n      <td>92.08</td>\n      <td>0.0</td>\n      <td>103.0</td>\n      <td>195.08</td>\n      <td>88.98</td>\n      <td>40.0</td>\n      <td>109.0</td>\n      <td>237.98</td>\n      <td>11</td>\n    </tr>\n    <tr>\n      <th>2214</th>\n      <td>2</td>\n      <td>98.48</td>\n      <td>0.0</td>\n      <td>0.0</td>\n      <td>98.48</td>\n      <td>96.40</td>\n      <td>0.0</td>\n      <td>0.0</td>\n      <td>96.40</td>\n      <td>93.80</td>\n      <td>60.0</td>\n      <td>0.0</td>\n      <td>153.80</td>\n      <td>94.13</td>\n      <td>60.0</td>\n      <td>0.0</td>\n      <td>154.13</td>\n      <td>17</td>\n    </tr>\n    <tr>\n      <th>2178</th>\n      <td>1</td>\n      <td>97.48</td>\n      <td>0.0</td>\n      <td>0.0</td>\n      <td>97.48</td>\n      <td>94.78</td>\n      <td>0.0</td>\n      <td>0.0</td>\n      <td>94.78</td>\n      <td>97.26</td>\n      <td>0.0</td>\n      <td>0.0</td>\n      <td>97.26</td>\n      <td>97.46</td>\n      <td>0.0</td>\n      <td>0.0</td>\n      <td>97.46</td>\n      <td>54</td>\n    </tr>\n    <tr>\n      <th>2198</th>\n      <td>2</td>\n      <td>97.00</td>\n      <td>0.0</td>\n      <td>0.0</td>\n      <td>97.00</td>\n      <td>98.50</td>\n      <td>0.0</td>\n      <td>0.0</td>\n      <td>98.50</td>\n      <td>95.60</td>\n      <td>0.0</td>\n      <td>0.0</td>\n      <td>95.60</td>\n      <td>94.63</td>\n      <td>0.0</td>\n      <td>0.0</td>\n      <td>94.63</td>\n      <td>75</td>\n    </tr>\n  </tbody>\n</table>\n</div>"
     },
     "metadata": {},
     "execution_count": 188
    }
   ],
   "source": [
    "mun.head()"
   ]
  },
  {
   "cell_type": "code",
   "execution_count": 189,
   "metadata": {},
   "outputs": [
    {
     "output_type": "stream",
     "name": "stderr",
     "text": [
      "/home/codespace/.local/lib/python3.8/site-packages/matplotlib/textpath.py:65: RuntimeWarning: Glyph 47928 missing from current font.\n  font.set_text(s, 0.0, flags=LOAD_NO_HINTING)\n/home/codespace/.local/lib/python3.8/site-packages/matplotlib/textpath.py:65: RuntimeWarning: Glyph 44284 missing from current font.\n  font.set_text(s, 0.0, flags=LOAD_NO_HINTING)\n/home/codespace/.local/lib/python3.8/site-packages/matplotlib/textpath.py:65: RuntimeWarning: Glyph 51060 missing from current font.\n  font.set_text(s, 0.0, flags=LOAD_NO_HINTING)\n/home/codespace/.local/lib/python3.8/site-packages/matplotlib/backends/backend_agg.py:240: RuntimeWarning: Glyph 47928 missing from current font.\n  font.set_text(s, 0.0, flags=flags)\n/home/codespace/.local/lib/python3.8/site-packages/matplotlib/backends/backend_agg.py:240: RuntimeWarning: Glyph 44284 missing from current font.\n  font.set_text(s, 0.0, flags=flags)\n/home/codespace/.local/lib/python3.8/site-packages/matplotlib/backends/backend_agg.py:240: RuntimeWarning: Glyph 51060 missing from current font.\n  font.set_text(s, 0.0, flags=flags)\n/home/codespace/.local/lib/python3.8/site-packages/matplotlib/backends/backend_agg.py:203: RuntimeWarning: Glyph 47928 missing from current font.\n  font.set_text(s, 0, flags=flags)\n/home/codespace/.local/lib/python3.8/site-packages/matplotlib/backends/backend_agg.py:203: RuntimeWarning: Glyph 44284 missing from current font.\n  font.set_text(s, 0, flags=flags)\n/home/codespace/.local/lib/python3.8/site-packages/matplotlib/backends/backend_agg.py:203: RuntimeWarning: Glyph 51060 missing from current font.\n  font.set_text(s, 0, flags=flags)\n"
     ]
    },
    {
     "output_type": "display_data",
     "data": {
      "text/plain": "<Figure size 432x288 with 1 Axes>",
      "image/svg+xml": "<?xml version=\"1.0\" encoding=\"utf-8\" standalone=\"no\"?>\n<!DOCTYPE svg PUBLIC \"-//W3C//DTD SVG 1.1//EN\"\n  \"http://www.w3.org/Graphics/SVG/1.1/DTD/svg11.dtd\">\n<svg height=\"248.518125pt\" version=\"1.1\" viewBox=\"0 0 375.2875 248.518125\" width=\"375.2875pt\" xmlns=\"http://www.w3.org/2000/svg\" xmlns:xlink=\"http://www.w3.org/1999/xlink\">\n <metadata>\n  <rdf:RDF xmlns:cc=\"http://creativecommons.org/ns#\" xmlns:dc=\"http://purl.org/dc/elements/1.1/\" xmlns:rdf=\"http://www.w3.org/1999/02/22-rdf-syntax-ns#\">\n   <cc:Work>\n    <dc:type rdf:resource=\"http://purl.org/dc/dcmitype/StillImage\"/>\n    <dc:date>2021-06-22T13:26:48.391824</dc:date>\n    <dc:format>image/svg+xml</dc:format>\n    <dc:creator>\n     <cc:Agent>\n      <dc:title>Matplotlib v3.4.2, https://matplotlib.org/</dc:title>\n     </cc:Agent>\n    </dc:creator>\n   </cc:Work>\n  </rdf:RDF>\n </metadata>\n <defs>\n  <style type=\"text/css\">*{stroke-linecap:butt;stroke-linejoin:round;}</style>\n </defs>\n <g id=\"figure_1\">\n  <g id=\"patch_1\">\n   <path d=\"M 0 248.518125 \nL 375.2875 248.518125 \nL 375.2875 0 \nL 0 0 \nz\n\" style=\"fill:none;\"/>\n  </g>\n  <g id=\"axes_1\">\n   <g id=\"patch_2\">\n    <path d=\"M 33.2875 224.64 \nL 368.0875 224.64 \nL 368.0875 7.2 \nL 33.2875 7.2 \nz\n\" style=\"fill:#ffffff;\"/>\n   </g>\n   <g id=\"patch_3\">\n    <path clip-path=\"url(#p5da1c0274c)\" d=\"M 50.0275 196.239673 \nL 183.9475 196.239673 \nL 183.9475 183.922108 \nL 50.0275 183.922108 \nL 50.0275 196.239673 \nz\n\" style=\"fill:#3274a1;stroke:#3f3f3f;stroke-linejoin:miter;stroke-width:1.5;\"/>\n   </g>\n   <g id=\"patch_4\">\n    <path clip-path=\"url(#p5da1c0274c)\" d=\"M 217.4275 189.408534 \nL 351.3475 189.408534 \nL 351.3475 152.738226 \nL 217.4275 152.738226 \nL 217.4275 189.408534 \nz\n\" style=\"fill:#e1812c;stroke:#3f3f3f;stroke-linejoin:miter;stroke-width:1.5;\"/>\n   </g>\n   <g id=\"matplotlib.axis_1\">\n    <g id=\"xtick_1\">\n     <g id=\"line2d_1\">\n      <defs>\n       <path d=\"M 0 0 \nL 0 3.5 \n\" id=\"m331b575fa2\" style=\"stroke:#000000;stroke-width:0.8;\"/>\n      </defs>\n      <g>\n       <use style=\"stroke:#000000;stroke-width:0.8;\" x=\"116.9875\" xlink:href=\"#m331b575fa2\" y=\"224.64\"/>\n      </g>\n     </g>\n     <g id=\"text_1\">\n      <!-- 문과 -->\n      <g transform=\"translate(110.985938 239.238437)scale(0.1 -0.1)\">\n       <defs>\n        <path d=\"M 319 -1131 \nL 319 4513 \nL 3519 4513 \nL 3519 -1131 \nL 319 -1131 \nz\nM 678 -775 \nL 3163 -775 \nL 3163 4153 \nL 678 4153 \nL 678 -775 \nz\n\" id=\"DejaVuSans-bb38\" transform=\"scale(0.015625)\"/>\n        <path d=\"M 319 -1131 \nL 319 4513 \nL 3519 4513 \nL 3519 -1131 \nL 319 -1131 \nz\nM 678 -775 \nL 3163 -775 \nL 3163 4153 \nL 678 4153 \nL 678 -775 \nz\n\" id=\"DejaVuSans-acfc\" transform=\"scale(0.015625)\"/>\n       </defs>\n       <use xlink:href=\"#DejaVuSans-bb38\"/>\n       <use x=\"60.009766\" xlink:href=\"#DejaVuSans-acfc\"/>\n      </g>\n     </g>\n    </g>\n    <g id=\"xtick_2\">\n     <g id=\"line2d_2\">\n      <g>\n       <use style=\"stroke:#000000;stroke-width:0.8;\" x=\"284.3875\" xlink:href=\"#m331b575fa2\" y=\"224.64\"/>\n      </g>\n     </g>\n     <g id=\"text_2\">\n      <!-- 이과 -->\n      <g transform=\"translate(278.385938 239.238437)scale(0.1 -0.1)\">\n       <defs>\n        <path d=\"M 319 -1131 \nL 319 4513 \nL 3519 4513 \nL 3519 -1131 \nL 319 -1131 \nz\nM 678 -775 \nL 3163 -775 \nL 3163 4153 \nL 678 4153 \nL 678 -775 \nz\n\" id=\"DejaVuSans-c774\" transform=\"scale(0.015625)\"/>\n       </defs>\n       <use xlink:href=\"#DejaVuSans-c774\"/>\n       <use x=\"60.009766\" xlink:href=\"#DejaVuSans-acfc\"/>\n      </g>\n     </g>\n    </g>\n   </g>\n   <g id=\"matplotlib.axis_2\">\n    <g id=\"ytick_1\">\n     <g id=\"line2d_3\">\n      <defs>\n       <path d=\"M 0 0 \nL -3.5 0 \n\" id=\"m8012a88ea7\" style=\"stroke:#000000;stroke-width:0.8;\"/>\n      </defs>\n      <g>\n       <use style=\"stroke:#000000;stroke-width:0.8;\" x=\"33.2875\" xlink:href=\"#m8012a88ea7\" y=\"215.832134\"/>\n      </g>\n     </g>\n     <g id=\"text_3\">\n      <!-- 50 -->\n      <g transform=\"translate(13.5625 219.631352)scale(0.1 -0.1)\">\n       <defs>\n        <path d=\"M 691 4666 \nL 3169 4666 \nL 3169 4134 \nL 1269 4134 \nL 1269 2991 \nQ 1406 3038 1543 3061 \nQ 1681 3084 1819 3084 \nQ 2600 3084 3056 2656 \nQ 3513 2228 3513 1497 \nQ 3513 744 3044 326 \nQ 2575 -91 1722 -91 \nQ 1428 -91 1123 -41 \nQ 819 9 494 109 \nL 494 744 \nQ 775 591 1075 516 \nQ 1375 441 1709 441 \nQ 2250 441 2565 725 \nQ 2881 1009 2881 1497 \nQ 2881 1984 2565 2268 \nQ 2250 2553 1709 2553 \nQ 1456 2553 1204 2497 \nQ 953 2441 691 2322 \nL 691 4666 \nz\n\" id=\"DejaVuSans-35\" transform=\"scale(0.015625)\"/>\n        <path d=\"M 2034 4250 \nQ 1547 4250 1301 3770 \nQ 1056 3291 1056 2328 \nQ 1056 1369 1301 889 \nQ 1547 409 2034 409 \nQ 2525 409 2770 889 \nQ 3016 1369 3016 2328 \nQ 3016 3291 2770 3770 \nQ 2525 4250 2034 4250 \nz\nM 2034 4750 \nQ 2819 4750 3233 4129 \nQ 3647 3509 3647 2328 \nQ 3647 1150 3233 529 \nQ 2819 -91 2034 -91 \nQ 1250 -91 836 529 \nQ 422 1150 422 2328 \nQ 422 3509 836 4129 \nQ 1250 4750 2034 4750 \nz\n\" id=\"DejaVuSans-30\" transform=\"scale(0.015625)\"/>\n       </defs>\n       <use xlink:href=\"#DejaVuSans-35\"/>\n       <use x=\"63.623047\" xlink:href=\"#DejaVuSans-30\"/>\n      </g>\n     </g>\n    </g>\n    <g id=\"ytick_2\">\n     <g id=\"line2d_4\">\n      <g>\n       <use style=\"stroke:#000000;stroke-width:0.8;\" x=\"33.2875\" xlink:href=\"#m8012a88ea7\" y=\"182.214323\"/>\n      </g>\n     </g>\n     <g id=\"text_4\">\n      <!-- 100 -->\n      <g transform=\"translate(7.2 186.013542)scale(0.1 -0.1)\">\n       <defs>\n        <path d=\"M 794 531 \nL 1825 531 \nL 1825 4091 \nL 703 3866 \nL 703 4441 \nL 1819 4666 \nL 2450 4666 \nL 2450 531 \nL 3481 531 \nL 3481 0 \nL 794 0 \nL 794 531 \nz\n\" id=\"DejaVuSans-31\" transform=\"scale(0.015625)\"/>\n       </defs>\n       <use xlink:href=\"#DejaVuSans-31\"/>\n       <use x=\"63.623047\" xlink:href=\"#DejaVuSans-30\"/>\n       <use x=\"127.246094\" xlink:href=\"#DejaVuSans-30\"/>\n      </g>\n     </g>\n    </g>\n    <g id=\"ytick_3\">\n     <g id=\"line2d_5\">\n      <g>\n       <use style=\"stroke:#000000;stroke-width:0.8;\" x=\"33.2875\" xlink:href=\"#m8012a88ea7\" y=\"148.596512\"/>\n      </g>\n     </g>\n     <g id=\"text_5\">\n      <!-- 150 -->\n      <g transform=\"translate(7.2 152.395731)scale(0.1 -0.1)\">\n       <use xlink:href=\"#DejaVuSans-31\"/>\n       <use x=\"63.623047\" xlink:href=\"#DejaVuSans-35\"/>\n       <use x=\"127.246094\" xlink:href=\"#DejaVuSans-30\"/>\n      </g>\n     </g>\n    </g>\n    <g id=\"ytick_4\">\n     <g id=\"line2d_6\">\n      <g>\n       <use style=\"stroke:#000000;stroke-width:0.8;\" x=\"33.2875\" xlink:href=\"#m8012a88ea7\" y=\"114.978701\"/>\n      </g>\n     </g>\n     <g id=\"text_6\">\n      <!-- 200 -->\n      <g transform=\"translate(7.2 118.77792)scale(0.1 -0.1)\">\n       <defs>\n        <path d=\"M 1228 531 \nL 3431 531 \nL 3431 0 \nL 469 0 \nL 469 531 \nQ 828 903 1448 1529 \nQ 2069 2156 2228 2338 \nQ 2531 2678 2651 2914 \nQ 2772 3150 2772 3378 \nQ 2772 3750 2511 3984 \nQ 2250 4219 1831 4219 \nQ 1534 4219 1204 4116 \nQ 875 4013 500 3803 \nL 500 4441 \nQ 881 4594 1212 4672 \nQ 1544 4750 1819 4750 \nQ 2544 4750 2975 4387 \nQ 3406 4025 3406 3419 \nQ 3406 3131 3298 2873 \nQ 3191 2616 2906 2266 \nQ 2828 2175 2409 1742 \nQ 1991 1309 1228 531 \nz\n\" id=\"DejaVuSans-32\" transform=\"scale(0.015625)\"/>\n       </defs>\n       <use xlink:href=\"#DejaVuSans-32\"/>\n       <use x=\"63.623047\" xlink:href=\"#DejaVuSans-30\"/>\n       <use x=\"127.246094\" xlink:href=\"#DejaVuSans-30\"/>\n      </g>\n     </g>\n    </g>\n    <g id=\"ytick_5\">\n     <g id=\"line2d_7\">\n      <g>\n       <use style=\"stroke:#000000;stroke-width:0.8;\" x=\"33.2875\" xlink:href=\"#m8012a88ea7\" y=\"81.360891\"/>\n      </g>\n     </g>\n     <g id=\"text_7\">\n      <!-- 250 -->\n      <g transform=\"translate(7.2 85.160109)scale(0.1 -0.1)\">\n       <use xlink:href=\"#DejaVuSans-32\"/>\n       <use x=\"63.623047\" xlink:href=\"#DejaVuSans-35\"/>\n       <use x=\"127.246094\" xlink:href=\"#DejaVuSans-30\"/>\n      </g>\n     </g>\n    </g>\n    <g id=\"ytick_6\">\n     <g id=\"line2d_8\">\n      <g>\n       <use style=\"stroke:#000000;stroke-width:0.8;\" x=\"33.2875\" xlink:href=\"#m8012a88ea7\" y=\"47.74308\"/>\n      </g>\n     </g>\n     <g id=\"text_8\">\n      <!-- 300 -->\n      <g transform=\"translate(7.2 51.542299)scale(0.1 -0.1)\">\n       <defs>\n        <path d=\"M 2597 2516 \nQ 3050 2419 3304 2112 \nQ 3559 1806 3559 1356 \nQ 3559 666 3084 287 \nQ 2609 -91 1734 -91 \nQ 1441 -91 1130 -33 \nQ 819 25 488 141 \nL 488 750 \nQ 750 597 1062 519 \nQ 1375 441 1716 441 \nQ 2309 441 2620 675 \nQ 2931 909 2931 1356 \nQ 2931 1769 2642 2001 \nQ 2353 2234 1838 2234 \nL 1294 2234 \nL 1294 2753 \nL 1863 2753 \nQ 2328 2753 2575 2939 \nQ 2822 3125 2822 3475 \nQ 2822 3834 2567 4026 \nQ 2313 4219 1838 4219 \nQ 1578 4219 1281 4162 \nQ 984 4106 628 3988 \nL 628 4550 \nQ 988 4650 1302 4700 \nQ 1616 4750 1894 4750 \nQ 2613 4750 3031 4423 \nQ 3450 4097 3450 3541 \nQ 3450 3153 3228 2886 \nQ 3006 2619 2597 2516 \nz\n\" id=\"DejaVuSans-33\" transform=\"scale(0.015625)\"/>\n       </defs>\n       <use xlink:href=\"#DejaVuSans-33\"/>\n       <use x=\"63.623047\" xlink:href=\"#DejaVuSans-30\"/>\n       <use x=\"127.246094\" xlink:href=\"#DejaVuSans-30\"/>\n      </g>\n     </g>\n    </g>\n    <g id=\"ytick_7\">\n     <g id=\"line2d_9\">\n      <g>\n       <use style=\"stroke:#000000;stroke-width:0.8;\" x=\"33.2875\" xlink:href=\"#m8012a88ea7\" y=\"14.125269\"/>\n      </g>\n     </g>\n     <g id=\"text_9\">\n      <!-- 350 -->\n      <g transform=\"translate(7.2 17.924488)scale(0.1 -0.1)\">\n       <use xlink:href=\"#DejaVuSans-33\"/>\n       <use x=\"63.623047\" xlink:href=\"#DejaVuSans-35\"/>\n       <use x=\"127.246094\" xlink:href=\"#DejaVuSans-30\"/>\n      </g>\n     </g>\n    </g>\n   </g>\n   <g id=\"line2d_10\">\n    <path clip-path=\"url(#p5da1c0274c)\" d=\"M 116.9875 196.239673 \nL 116.9875 204.939963 \n\" style=\"fill:none;stroke:#3f3f3f;stroke-linecap:square;stroke-width:1.5;\"/>\n   </g>\n   <g id=\"line2d_11\">\n    <path clip-path=\"url(#p5da1c0274c)\" d=\"M 116.9875 183.922108 \nL 116.9875 165.829002 \n\" style=\"fill:none;stroke:#3f3f3f;stroke-linecap:square;stroke-width:1.5;\"/>\n   </g>\n   <g id=\"line2d_12\">\n    <path clip-path=\"url(#p5da1c0274c)\" d=\"M 83.5075 204.939963 \nL 150.4675 204.939963 \n\" style=\"fill:none;stroke:#3f3f3f;stroke-linecap:square;stroke-width:1.5;\"/>\n   </g>\n   <g id=\"line2d_13\">\n    <path clip-path=\"url(#p5da1c0274c)\" d=\"M 83.5075 165.829002 \nL 150.4675 165.829002 \n\" style=\"fill:none;stroke:#3f3f3f;stroke-linecap:square;stroke-width:1.5;\"/>\n   </g>\n   <g id=\"line2d_14\">\n    <defs>\n     <path d=\"M -0 3.535534 \nL 2.12132 0 \nL -0 -3.535534 \nL -2.12132 -0 \nz\n\" id=\"m870d42f612\" style=\"stroke:#3f3f3f;stroke-linejoin:miter;\"/>\n    </defs>\n    <g clip-path=\"url(#p5da1c0274c)\">\n     <use style=\"fill:#3f3f3f;stroke:#3f3f3f;stroke-linejoin:miter;\" x=\"116.9875\" xlink:href=\"#m870d42f612\" y=\"88.965239\"/>\n     <use style=\"fill:#3f3f3f;stroke:#3f3f3f;stroke-linejoin:miter;\" x=\"116.9875\" xlink:href=\"#m870d42f612\" y=\"89.442612\"/>\n     <use style=\"fill:#3f3f3f;stroke:#3f3f3f;stroke-linejoin:miter;\" x=\"116.9875\" xlink:href=\"#m870d42f612\" y=\"145.819681\"/>\n     <use style=\"fill:#3f3f3f;stroke:#3f3f3f;stroke-linejoin:miter;\" x=\"116.9875\" xlink:href=\"#m870d42f612\" y=\"69.513974\"/>\n     <use style=\"fill:#3f3f3f;stroke:#3f3f3f;stroke-linejoin:miter;\" x=\"116.9875\" xlink:href=\"#m870d42f612\" y=\"158.984416\"/>\n     <use style=\"fill:#3f3f3f;stroke:#3f3f3f;stroke-linejoin:miter;\" x=\"116.9875\" xlink:href=\"#m870d42f612\" y=\"150.142931\"/>\n     <use style=\"fill:#3f3f3f;stroke:#3f3f3f;stroke-linejoin:miter;\" x=\"116.9875\" xlink:href=\"#m870d42f612\" y=\"119.26161\"/>\n     <use style=\"fill:#3f3f3f;stroke:#3f3f3f;stroke-linejoin:miter;\" x=\"116.9875\" xlink:href=\"#m870d42f612\" y=\"105.700186\"/>\n     <use style=\"fill:#3f3f3f;stroke:#3f3f3f;stroke-linejoin:miter;\" x=\"116.9875\" xlink:href=\"#m870d42f612\" y=\"146.855109\"/>\n     <use style=\"fill:#3f3f3f;stroke:#3f3f3f;stroke-linejoin:miter;\" x=\"116.9875\" xlink:href=\"#m870d42f612\" y=\"98.169796\"/>\n     <use style=\"fill:#3f3f3f;stroke:#3f3f3f;stroke-linejoin:miter;\" x=\"116.9875\" xlink:href=\"#m870d42f612\" y=\"93.026271\"/>\n    </g>\n   </g>\n   <g id=\"line2d_15\">\n    <path clip-path=\"url(#p5da1c0274c)\" d=\"M 284.3875 189.408534 \nL 284.3875 214.756364 \n\" style=\"fill:none;stroke:#3f3f3f;stroke-linecap:square;stroke-width:1.5;\"/>\n   </g>\n   <g id=\"line2d_16\">\n    <path clip-path=\"url(#p5da1c0274c)\" d=\"M 284.3875 152.738226 \nL 284.3875 111.152994 \n\" style=\"fill:none;stroke:#3f3f3f;stroke-linecap:square;stroke-width:1.5;\"/>\n   </g>\n   <g id=\"line2d_17\">\n    <path clip-path=\"url(#p5da1c0274c)\" d=\"M 250.9075 214.756364 \nL 317.8675 214.756364 \n\" style=\"fill:none;stroke:#3f3f3f;stroke-linecap:square;stroke-width:1.5;\"/>\n   </g>\n   <g id=\"line2d_18\">\n    <path clip-path=\"url(#p5da1c0274c)\" d=\"M 250.9075 111.152994 \nL 317.8675 111.152994 \n\" style=\"fill:none;stroke:#3f3f3f;stroke-linecap:square;stroke-width:1.5;\"/>\n   </g>\n   <g id=\"line2d_19\">\n    <g clip-path=\"url(#p5da1c0274c)\">\n     <use style=\"fill:#3f3f3f;stroke:#3f3f3f;stroke-linejoin:miter;\" x=\"284.3875\" xlink:href=\"#m870d42f612\" y=\"91.688282\"/>\n     <use style=\"fill:#3f3f3f;stroke:#3f3f3f;stroke-linejoin:miter;\" x=\"284.3875\" xlink:href=\"#m870d42f612\" y=\"55.448282\"/>\n     <use style=\"fill:#3f3f3f;stroke:#3f3f3f;stroke-linejoin:miter;\" x=\"284.3875\" xlink:href=\"#m870d42f612\" y=\"17.083636\"/>\n     <use style=\"fill:#3f3f3f;stroke:#3f3f3f;stroke-linejoin:miter;\" x=\"284.3875\" xlink:href=\"#m870d42f612\" y=\"24.398872\"/>\n     <use style=\"fill:#3f3f3f;stroke:#3f3f3f;stroke-linejoin:miter;\" x=\"284.3875\" xlink:href=\"#m870d42f612\" y=\"89.28797\"/>\n     <use style=\"fill:#3f3f3f;stroke:#3f3f3f;stroke-linejoin:miter;\" x=\"284.3875\" xlink:href=\"#m870d42f612\" y=\"90.336846\"/>\n     <use style=\"fill:#3f3f3f;stroke:#3f3f3f;stroke-linejoin:miter;\" x=\"284.3875\" xlink:href=\"#m870d42f612\" y=\"84.373046\"/>\n     <use style=\"fill:#3f3f3f;stroke:#3f3f3f;stroke-linejoin:miter;\" x=\"284.3875\" xlink:href=\"#m870d42f612\" y=\"97.302456\"/>\n     <use style=\"fill:#3f3f3f;stroke:#3f3f3f;stroke-linejoin:miter;\" x=\"284.3875\" xlink:href=\"#m870d42f612\" y=\"96.872148\"/>\n     <use style=\"fill:#3f3f3f;stroke:#3f3f3f;stroke-linejoin:miter;\" x=\"284.3875\" xlink:href=\"#m870d42f612\" y=\"71.275547\"/>\n     <use style=\"fill:#3f3f3f;stroke:#3f3f3f;stroke-linejoin:miter;\" x=\"284.3875\" xlink:href=\"#m870d42f612\" y=\"39.728594\"/>\n     <use style=\"fill:#3f3f3f;stroke:#3f3f3f;stroke-linejoin:miter;\" x=\"284.3875\" xlink:href=\"#m870d42f612\" y=\"89.039199\"/>\n    </g>\n   </g>\n   <g id=\"line2d_20\">\n    <path clip-path=\"url(#p5da1c0274c)\" d=\"M 50.0275 187.983139 \nL 183.9475 187.983139 \n\" style=\"fill:none;stroke:#3f3f3f;stroke-linecap:square;stroke-width:1.5;\"/>\n   </g>\n   <g id=\"line2d_21\">\n    <path clip-path=\"url(#p5da1c0274c)\" d=\"M 217.4275 186.181224 \nL 351.3475 186.181224 \n\" style=\"fill:none;stroke:#3f3f3f;stroke-linecap:square;stroke-width:1.5;\"/>\n   </g>\n   <g id=\"patch_5\">\n    <path d=\"M 33.2875 224.64 \nL 33.2875 7.2 \n\" style=\"fill:none;stroke:#000000;stroke-linecap:square;stroke-linejoin:miter;stroke-width:0.8;\"/>\n   </g>\n   <g id=\"patch_6\">\n    <path d=\"M 368.0875 224.64 \nL 368.0875 7.2 \n\" style=\"fill:none;stroke:#000000;stroke-linecap:square;stroke-linejoin:miter;stroke-width:0.8;\"/>\n   </g>\n   <g id=\"patch_7\">\n    <path d=\"M 33.2875 224.64 \nL 368.0875 224.64 \n\" style=\"fill:none;stroke:#000000;stroke-linecap:square;stroke-linejoin:miter;stroke-width:0.8;\"/>\n   </g>\n   <g id=\"patch_8\">\n    <path d=\"M 33.2875 7.2 \nL 368.0875 7.2 \n\" style=\"fill:none;stroke:#000000;stroke-linecap:square;stroke-linejoin:miter;stroke-width:0.8;\"/>\n   </g>\n  </g>\n </g>\n <defs>\n  <clipPath id=\"p5da1c0274c\">\n   <rect height=\"217.44\" width=\"334.8\" x=\"33.2875\" y=\"7.2\"/>\n  </clipPath>\n </defs>\n</svg>\n",
      "image/png": "[encoded data removed]"
     },
     "metadata": {
      "needs_background": "light"
     }
    }
   ],
   "source": [
    "# 전반적인 추이를 살펴보기 위해 Boxplot을 그려보았다.\n",
    "# 본 그래프를 통해 2번 가설인 \"이과보다 문과 학생의 최저 점수가 더 높을 것이다.\"의 참 여부도 확인할 수 있다.\n",
    "sns.boxplot(\n",
    "    data=[mun.total_score_20_2, lee.total_score_20_2],\n",
    ")\n",
    "plt.xticks([0, 1], ['문과', '이과'])\n",
    "plt.show()"
   ]
  },
  {
   "cell_type": "code",
   "execution_count": 190,
   "metadata": {},
   "outputs": [
    {
     "output_type": "stream",
     "name": "stderr",
     "text": [
      "/home/codespace/.local/lib/python3.8/site-packages/matplotlib/textpath.py:65: RuntimeWarning: Glyph 47928 missing from current font.\n",
      "  font.set_text(s, 0.0, flags=LOAD_NO_HINTING)\n",
      "/home/codespace/.local/lib/python3.8/site-packages/matplotlib/textpath.py:65: RuntimeWarning: Glyph 44284 missing from current font.\n",
      "  font.set_text(s, 0.0, flags=LOAD_NO_HINTING)\n",
      "/home/codespace/.local/lib/python3.8/site-packages/matplotlib/textpath.py:65: RuntimeWarning: Glyph 51060 missing from current font.\n",
      "  font.set_text(s, 0.0, flags=LOAD_NO_HINTING)\n",
      "/home/codespace/.local/lib/python3.8/site-packages/matplotlib/backends/backend_agg.py:240: RuntimeWarning: Glyph 47928 missing from current font.\n",
      "  font.set_text(s, 0.0, flags=flags)\n",
      "/home/codespace/.local/lib/python3.8/site-packages/matplotlib/backends/backend_agg.py:240: RuntimeWarning: Glyph 44284 missing from current font.\n",
      "  font.set_text(s, 0.0, flags=flags)\n",
      "/home/codespace/.local/lib/python3.8/site-packages/matplotlib/backends/backend_agg.py:240: RuntimeWarning: Glyph 51060 missing from current font.\n",
      "  font.set_text(s, 0.0, flags=flags)\n",
      "/home/codespace/.local/lib/python3.8/site-packages/matplotlib/backends/backend_agg.py:203: RuntimeWarning: Glyph 47928 missing from current font.\n",
      "  font.set_text(s, 0, flags=flags)\n",
      "/home/codespace/.local/lib/python3.8/site-packages/matplotlib/backends/backend_agg.py:203: RuntimeWarning: Glyph 44284 missing from current font.\n",
      "  font.set_text(s, 0, flags=flags)\n",
      "/home/codespace/.local/lib/python3.8/site-packages/matplotlib/backends/backend_agg.py:203: RuntimeWarning: Glyph 51060 missing from current font.\n",
      "  font.set_text(s, 0, flags=flags)\n"
     ]
    },
    {
     "output_type": "display_data",
     "data": {
      "text/plain": "<Figure size 432x288 with 1 Axes>",
      "image/svg+xml": "<?xml version=\"1.0\" encoding=\"utf-8\" standalone=\"no\"?>\n<!DOCTYPE svg PUBLIC \"-//W3C//DTD SVG 1.1//EN\"\n  \"http://www.w3.org/Graphics/SVG/1.1/DTD/svg11.dtd\">\n<svg height=\"248.518125pt\" version=\"1.1\" viewBox=\"0 0 375.2875 248.518125\" width=\"375.2875pt\" xmlns=\"http://www.w3.org/2000/svg\" xmlns:xlink=\"http://www.w3.org/1999/xlink\">\n <metadata>\n  <rdf:RDF xmlns:cc=\"http://creativecommons.org/ns#\" xmlns:dc=\"http://purl.org/dc/elements/1.1/\" xmlns:rdf=\"http://www.w3.org/1999/02/22-rdf-syntax-ns#\">\n   <cc:Work>\n    <dc:type rdf:resource=\"http://purl.org/dc/dcmitype/StillImage\"/>\n    <dc:date>2021-06-22T13:26:48.530689</dc:date>\n    <dc:format>image/svg+xml</dc:format>\n    <dc:creator>\n     <cc:Agent>\n      <dc:title>Matplotlib v3.4.2, https://matplotlib.org/</dc:title>\n     </cc:Agent>\n    </dc:creator>\n   </cc:Work>\n  </rdf:RDF>\n </metadata>\n <defs>\n  <style type=\"text/css\">*{stroke-linecap:butt;stroke-linejoin:round;}</style>\n </defs>\n <g id=\"figure_1\">\n  <g id=\"patch_1\">\n   <path d=\"M 0 248.518125 \nL 375.2875 248.518125 \nL 375.2875 0 \nL 0 0 \nz\n\" style=\"fill:none;\"/>\n  </g>\n  <g id=\"axes_1\">\n   <g id=\"patch_2\">\n    <path d=\"M 33.2875 224.64 \nL 368.0875 224.64 \nL 368.0875 7.2 \nL 33.2875 7.2 \nz\n\" style=\"fill:#ffffff;\"/>\n   </g>\n   <g id=\"patch_3\">\n    <path clip-path=\"url(#p9cf2cebfa1)\" d=\"M 50.0275 224.64 \nL 183.9475 224.64 \nL 183.9475 38.129199 \nL 50.0275 38.129199 \nz\n\" style=\"fill:#3274a1;\"/>\n   </g>\n   <g id=\"patch_4\">\n    <path clip-path=\"url(#p9cf2cebfa1)\" d=\"M 217.4275 224.64 \nL 351.3475 224.64 \nL 351.3475 17.554286 \nL 217.4275 17.554286 \nz\n\" style=\"fill:#e1812c;\"/>\n   </g>\n   <g id=\"matplotlib.axis_1\">\n    <g id=\"xtick_1\">\n     <g id=\"line2d_1\">\n      <defs>\n       <path d=\"M 0 0 \nL 0 3.5 \n\" id=\"m16a9887f2f\" style=\"stroke:#000000;stroke-width:0.8;\"/>\n      </defs>\n      <g>\n       <use style=\"stroke:#000000;stroke-width:0.8;\" x=\"116.9875\" xlink:href=\"#m16a9887f2f\" y=\"224.64\"/>\n      </g>\n     </g>\n     <g id=\"text_1\">\n      <!-- 문과 -->\n      <g transform=\"translate(110.985938 239.238437)scale(0.1 -0.1)\">\n       <defs>\n        <path d=\"M 319 -1131 \nL 319 4513 \nL 3519 4513 \nL 3519 -1131 \nL 319 -1131 \nz\nM 678 -775 \nL 3163 -775 \nL 3163 4153 \nL 678 4153 \nL 678 -775 \nz\n\" id=\"DejaVuSans-bb38\" transform=\"scale(0.015625)\"/>\n        <path d=\"M 319 -1131 \nL 319 4513 \nL 3519 4513 \nL 3519 -1131 \nL 319 -1131 \nz\nM 678 -775 \nL 3163 -775 \nL 3163 4153 \nL 678 4153 \nL 678 -775 \nz\n\" id=\"DejaVuSans-acfc\" transform=\"scale(0.015625)\"/>\n       </defs>\n       <use xlink:href=\"#DejaVuSans-bb38\"/>\n       <use x=\"60.009766\" xlink:href=\"#DejaVuSans-acfc\"/>\n      </g>\n     </g>\n    </g>\n    <g id=\"xtick_2\">\n     <g id=\"line2d_2\">\n      <g>\n       <use style=\"stroke:#000000;stroke-width:0.8;\" x=\"284.3875\" xlink:href=\"#m16a9887f2f\" y=\"224.64\"/>\n      </g>\n     </g>\n     <g id=\"text_2\">\n      <!-- 이과 -->\n      <g transform=\"translate(278.385938 239.238437)scale(0.1 -0.1)\">\n       <defs>\n        <path d=\"M 319 -1131 \nL 319 4513 \nL 3519 4513 \nL 3519 -1131 \nL 319 -1131 \nz\nM 678 -775 \nL 3163 -775 \nL 3163 4153 \nL 678 4153 \nL 678 -775 \nz\n\" id=\"DejaVuSans-c774\" transform=\"scale(0.015625)\"/>\n       </defs>\n       <use xlink:href=\"#DejaVuSans-c774\"/>\n       <use x=\"60.009766\" xlink:href=\"#DejaVuSans-acfc\"/>\n      </g>\n     </g>\n    </g>\n   </g>\n   <g id=\"matplotlib.axis_2\">\n    <g id=\"ytick_1\">\n     <g id=\"line2d_3\">\n      <defs>\n       <path d=\"M 0 0 \nL -3.5 0 \n\" id=\"md6feca9006\" style=\"stroke:#000000;stroke-width:0.8;\"/>\n      </defs>\n      <g>\n       <use style=\"stroke:#000000;stroke-width:0.8;\" x=\"33.2875\" xlink:href=\"#md6feca9006\" y=\"224.64\"/>\n      </g>\n     </g>\n     <g id=\"text_3\">\n      <!-- 0 -->\n      <g transform=\"translate(19.925 228.439219)scale(0.1 -0.1)\">\n       <defs>\n        <path d=\"M 2034 4250 \nQ 1547 4250 1301 3770 \nQ 1056 3291 1056 2328 \nQ 1056 1369 1301 889 \nQ 1547 409 2034 409 \nQ 2525 409 2770 889 \nQ 3016 1369 3016 2328 \nQ 3016 3291 2770 3770 \nQ 2525 4250 2034 4250 \nz\nM 2034 4750 \nQ 2819 4750 3233 4129 \nQ 3647 3509 3647 2328 \nQ 3647 1150 3233 529 \nQ 2819 -91 2034 -91 \nQ 1250 -91 836 529 \nQ 422 1150 422 2328 \nQ 422 3509 836 4129 \nQ 1250 4750 2034 4750 \nz\n\" id=\"DejaVuSans-30\" transform=\"scale(0.015625)\"/>\n       </defs>\n       <use xlink:href=\"#DejaVuSans-30\"/>\n      </g>\n     </g>\n    </g>\n    <g id=\"ytick_2\">\n     <g id=\"line2d_4\">\n      <g>\n       <use style=\"stroke:#000000;stroke-width:0.8;\" x=\"33.2875\" xlink:href=\"#md6feca9006\" y=\"190.475134\"/>\n      </g>\n     </g>\n     <g id=\"text_4\">\n      <!-- 20 -->\n      <g transform=\"translate(13.5625 194.274352)scale(0.1 -0.1)\">\n       <defs>\n        <path d=\"M 1228 531 \nL 3431 531 \nL 3431 0 \nL 469 0 \nL 469 531 \nQ 828 903 1448 1529 \nQ 2069 2156 2228 2338 \nQ 2531 2678 2651 2914 \nQ 2772 3150 2772 3378 \nQ 2772 3750 2511 3984 \nQ 2250 4219 1831 4219 \nQ 1534 4219 1204 4116 \nQ 875 4013 500 3803 \nL 500 4441 \nQ 881 4594 1212 4672 \nQ 1544 4750 1819 4750 \nQ 2544 4750 2975 4387 \nQ 3406 4025 3406 3419 \nQ 3406 3131 3298 2873 \nQ 3191 2616 2906 2266 \nQ 2828 2175 2409 1742 \nQ 1991 1309 1228 531 \nz\n\" id=\"DejaVuSans-32\" transform=\"scale(0.015625)\"/>\n       </defs>\n       <use xlink:href=\"#DejaVuSans-32\"/>\n       <use x=\"63.623047\" xlink:href=\"#DejaVuSans-30\"/>\n      </g>\n     </g>\n    </g>\n    <g id=\"ytick_3\">\n     <g id=\"line2d_5\">\n      <g>\n       <use style=\"stroke:#000000;stroke-width:0.8;\" x=\"33.2875\" xlink:href=\"#md6feca9006\" y=\"156.310267\"/>\n      </g>\n     </g>\n     <g id=\"text_5\">\n      <!-- 40 -->\n      <g transform=\"translate(13.5625 160.109486)scale(0.1 -0.1)\">\n       <defs>\n        <path d=\"M 2419 4116 \nL 825 1625 \nL 2419 1625 \nL 2419 4116 \nz\nM 2253 4666 \nL 3047 4666 \nL 3047 1625 \nL 3713 1625 \nL 3713 1100 \nL 3047 1100 \nL 3047 0 \nL 2419 0 \nL 2419 1100 \nL 313 1100 \nL 313 1709 \nL 2253 4666 \nz\n\" id=\"DejaVuSans-34\" transform=\"scale(0.015625)\"/>\n       </defs>\n       <use xlink:href=\"#DejaVuSans-34\"/>\n       <use x=\"63.623047\" xlink:href=\"#DejaVuSans-30\"/>\n      </g>\n     </g>\n    </g>\n    <g id=\"ytick_4\">\n     <g id=\"line2d_6\">\n      <g>\n       <use style=\"stroke:#000000;stroke-width:0.8;\" x=\"33.2875\" xlink:href=\"#md6feca9006\" y=\"122.145401\"/>\n      </g>\n     </g>\n     <g id=\"text_6\">\n      <!-- 60 -->\n      <g transform=\"translate(13.5625 125.944619)scale(0.1 -0.1)\">\n       <defs>\n        <path d=\"M 2113 2584 \nQ 1688 2584 1439 2293 \nQ 1191 2003 1191 1497 \nQ 1191 994 1439 701 \nQ 1688 409 2113 409 \nQ 2538 409 2786 701 \nQ 3034 994 3034 1497 \nQ 3034 2003 2786 2293 \nQ 2538 2584 2113 2584 \nz\nM 3366 4563 \nL 3366 3988 \nQ 3128 4100 2886 4159 \nQ 2644 4219 2406 4219 \nQ 1781 4219 1451 3797 \nQ 1122 3375 1075 2522 \nQ 1259 2794 1537 2939 \nQ 1816 3084 2150 3084 \nQ 2853 3084 3261 2657 \nQ 3669 2231 3669 1497 \nQ 3669 778 3244 343 \nQ 2819 -91 2113 -91 \nQ 1303 -91 875 529 \nQ 447 1150 447 2328 \nQ 447 3434 972 4092 \nQ 1497 4750 2381 4750 \nQ 2619 4750 2861 4703 \nQ 3103 4656 3366 4563 \nz\n\" id=\"DejaVuSans-36\" transform=\"scale(0.015625)\"/>\n       </defs>\n       <use xlink:href=\"#DejaVuSans-36\"/>\n       <use x=\"63.623047\" xlink:href=\"#DejaVuSans-30\"/>\n      </g>\n     </g>\n    </g>\n    <g id=\"ytick_5\">\n     <g id=\"line2d_7\">\n      <g>\n       <use style=\"stroke:#000000;stroke-width:0.8;\" x=\"33.2875\" xlink:href=\"#md6feca9006\" y=\"87.980534\"/>\n      </g>\n     </g>\n     <g id=\"text_7\">\n      <!-- 80 -->\n      <g transform=\"translate(13.5625 91.779753)scale(0.1 -0.1)\">\n       <defs>\n        <path d=\"M 2034 2216 \nQ 1584 2216 1326 1975 \nQ 1069 1734 1069 1313 \nQ 1069 891 1326 650 \nQ 1584 409 2034 409 \nQ 2484 409 2743 651 \nQ 3003 894 3003 1313 \nQ 3003 1734 2745 1975 \nQ 2488 2216 2034 2216 \nz\nM 1403 2484 \nQ 997 2584 770 2862 \nQ 544 3141 544 3541 \nQ 544 4100 942 4425 \nQ 1341 4750 2034 4750 \nQ 2731 4750 3128 4425 \nQ 3525 4100 3525 3541 \nQ 3525 3141 3298 2862 \nQ 3072 2584 2669 2484 \nQ 3125 2378 3379 2068 \nQ 3634 1759 3634 1313 \nQ 3634 634 3220 271 \nQ 2806 -91 2034 -91 \nQ 1263 -91 848 271 \nQ 434 634 434 1313 \nQ 434 1759 690 2068 \nQ 947 2378 1403 2484 \nz\nM 1172 3481 \nQ 1172 3119 1398 2916 \nQ 1625 2713 2034 2713 \nQ 2441 2713 2670 2916 \nQ 2900 3119 2900 3481 \nQ 2900 3844 2670 4047 \nQ 2441 4250 2034 4250 \nQ 1625 4250 1398 4047 \nQ 1172 3844 1172 3481 \nz\n\" id=\"DejaVuSans-38\" transform=\"scale(0.015625)\"/>\n       </defs>\n       <use xlink:href=\"#DejaVuSans-38\"/>\n       <use x=\"63.623047\" xlink:href=\"#DejaVuSans-30\"/>\n      </g>\n     </g>\n    </g>\n    <g id=\"ytick_6\">\n     <g id=\"line2d_8\">\n      <g>\n       <use style=\"stroke:#000000;stroke-width:0.8;\" x=\"33.2875\" xlink:href=\"#md6feca9006\" y=\"53.815668\"/>\n      </g>\n     </g>\n     <g id=\"text_8\">\n      <!-- 100 -->\n      <g transform=\"translate(7.2 57.614886)scale(0.1 -0.1)\">\n       <defs>\n        <path d=\"M 794 531 \nL 1825 531 \nL 1825 4091 \nL 703 3866 \nL 703 4441 \nL 1819 4666 \nL 2450 4666 \nL 2450 531 \nL 3481 531 \nL 3481 0 \nL 794 0 \nL 794 531 \nz\n\" id=\"DejaVuSans-31\" transform=\"scale(0.015625)\"/>\n       </defs>\n       <use xlink:href=\"#DejaVuSans-31\"/>\n       <use x=\"63.623047\" xlink:href=\"#DejaVuSans-30\"/>\n       <use x=\"127.246094\" xlink:href=\"#DejaVuSans-30\"/>\n      </g>\n     </g>\n    </g>\n    <g id=\"ytick_7\">\n     <g id=\"line2d_9\">\n      <g>\n       <use style=\"stroke:#000000;stroke-width:0.8;\" x=\"33.2875\" xlink:href=\"#md6feca9006\" y=\"19.650801\"/>\n      </g>\n     </g>\n     <g id=\"text_9\">\n      <!-- 120 -->\n      <g transform=\"translate(7.2 23.45002)scale(0.1 -0.1)\">\n       <use xlink:href=\"#DejaVuSans-31\"/>\n       <use x=\"63.623047\" xlink:href=\"#DejaVuSans-32\"/>\n       <use x=\"127.246094\" xlink:href=\"#DejaVuSans-30\"/>\n      </g>\n     </g>\n    </g>\n   </g>\n   <g id=\"line2d_10\">\n    <path clip-path=\"url(#p9cf2cebfa1)\" style=\"fill:none;stroke:#424242;stroke-linecap:square;stroke-width:2.7;\"/>\n   </g>\n   <g id=\"line2d_11\">\n    <path clip-path=\"url(#p9cf2cebfa1)\" style=\"fill:none;stroke:#424242;stroke-linecap:square;stroke-width:2.7;\"/>\n   </g>\n   <g id=\"patch_5\">\n    <path d=\"M 33.2875 224.64 \nL 33.2875 7.2 \n\" style=\"fill:none;stroke:#000000;stroke-linecap:square;stroke-linejoin:miter;stroke-width:0.8;\"/>\n   </g>\n   <g id=\"patch_6\">\n    <path d=\"M 368.0875 224.64 \nL 368.0875 7.2 \n\" style=\"fill:none;stroke:#000000;stroke-linecap:square;stroke-linejoin:miter;stroke-width:0.8;\"/>\n   </g>\n   <g id=\"patch_7\">\n    <path d=\"M 33.2875 224.64 \nL 368.0875 224.64 \n\" style=\"fill:none;stroke:#000000;stroke-linecap:square;stroke-linejoin:miter;stroke-width:0.8;\"/>\n   </g>\n   <g id=\"patch_8\">\n    <path d=\"M 33.2875 7.2 \nL 368.0875 7.2 \n\" style=\"fill:none;stroke:#000000;stroke-linecap:square;stroke-linejoin:miter;stroke-width:0.8;\"/>\n   </g>\n  </g>\n </g>\n <defs>\n  <clipPath id=\"p9cf2cebfa1\">\n   <rect height=\"217.44\" width=\"334.8\" x=\"33.2875\" y=\"7.2\"/>\n  </clipPath>\n </defs>\n</svg>\n",
      "image/png": "[encoded data removed]"
     },
     "metadata": {
      "needs_background": "light"
     }
    }
   ],
   "source": [
    "# 평균값의 직관적인 비교를 위해 Barplot을 그려보았다.\n",
    "sns.barplot(\n",
    "    x=[\"문과\", \"이과\"],\n",
    "    y=[mun.total_score_20_2.mean(), lee.total_score_20_2.mean()]\n",
    ")\n",
    "plt.show()"
   ]
  },
  {
   "source": [
    "**결론: 문과보다 이과 학생의 평균 총합 점수가 높다.**"
   ],
   "cell_type": "markdown",
   "metadata": {}
  },
  {
   "source": [
    "### 5.2. 이과보다 문과 학생의 최저 점수가 더 높을 것이다."
   ],
   "cell_type": "markdown",
   "metadata": {}
  },
  {
   "cell_type": "code",
   "execution_count": 191,
   "metadata": {},
   "outputs": [],
   "source": [
    "munTotalMin = mun.total_score_20_2.min()\n",
    "leeTotalMin = lee.total_score_20_2.min()"
   ]
  },
  {
   "cell_type": "code",
   "execution_count": 192,
   "metadata": {},
   "outputs": [
    {
     "output_type": "stream",
     "name": "stderr",
     "text": [
      "/home/codespace/.local/lib/python3.8/site-packages/matplotlib/textpath.py:65: RuntimeWarning: Glyph 47928 missing from current font.\n",
      "  font.set_text(s, 0.0, flags=LOAD_NO_HINTING)\n",
      "/home/codespace/.local/lib/python3.8/site-packages/matplotlib/textpath.py:65: RuntimeWarning: Glyph 44284 missing from current font.\n",
      "  font.set_text(s, 0.0, flags=LOAD_NO_HINTING)\n",
      "/home/codespace/.local/lib/python3.8/site-packages/matplotlib/textpath.py:65: RuntimeWarning: Glyph 51060 missing from current font.\n",
      "  font.set_text(s, 0.0, flags=LOAD_NO_HINTING)\n",
      "/home/codespace/.local/lib/python3.8/site-packages/matplotlib/backends/backend_agg.py:240: RuntimeWarning: Glyph 47928 missing from current font.\n",
      "  font.set_text(s, 0.0, flags=flags)\n",
      "/home/codespace/.local/lib/python3.8/site-packages/matplotlib/backends/backend_agg.py:240: RuntimeWarning: Glyph 44284 missing from current font.\n",
      "  font.set_text(s, 0.0, flags=flags)\n",
      "/home/codespace/.local/lib/python3.8/site-packages/matplotlib/backends/backend_agg.py:240: RuntimeWarning: Glyph 51060 missing from current font.\n",
      "  font.set_text(s, 0.0, flags=flags)\n",
      "/home/codespace/.local/lib/python3.8/site-packages/matplotlib/backends/backend_agg.py:203: RuntimeWarning: Glyph 47928 missing from current font.\n",
      "  font.set_text(s, 0, flags=flags)\n",
      "/home/codespace/.local/lib/python3.8/site-packages/matplotlib/backends/backend_agg.py:203: RuntimeWarning: Glyph 44284 missing from current font.\n",
      "  font.set_text(s, 0, flags=flags)\n",
      "/home/codespace/.local/lib/python3.8/site-packages/matplotlib/backends/backend_agg.py:203: RuntimeWarning: Glyph 51060 missing from current font.\n",
      "  font.set_text(s, 0, flags=flags)\n"
     ]
    },
    {
     "output_type": "display_data",
     "data": {
      "text/plain": "<Figure size 432x288 with 1 Axes>",
      "image/svg+xml": "<?xml version=\"1.0\" encoding=\"utf-8\" standalone=\"no\"?>\n<!DOCTYPE svg PUBLIC \"-//W3C//DTD SVG 1.1//EN\"\n  \"http://www.w3.org/Graphics/SVG/1.1/DTD/svg11.dtd\">\n<svg height=\"248.518125pt\" version=\"1.1\" viewBox=\"0 0 368.925 248.518125\" width=\"368.925pt\" xmlns=\"http://www.w3.org/2000/svg\" xmlns:xlink=\"http://www.w3.org/1999/xlink\">\n <metadata>\n  <rdf:RDF xmlns:cc=\"http://creativecommons.org/ns#\" xmlns:dc=\"http://purl.org/dc/elements/1.1/\" xmlns:rdf=\"http://www.w3.org/1999/02/22-rdf-syntax-ns#\">\n   <cc:Work>\n    <dc:type rdf:resource=\"http://purl.org/dc/dcmitype/StillImage\"/>\n    <dc:date>2021-06-22T13:26:48.703519</dc:date>\n    <dc:format>image/svg+xml</dc:format>\n    <dc:creator>\n     <cc:Agent>\n      <dc:title>Matplotlib v3.4.2, https://matplotlib.org/</dc:title>\n     </cc:Agent>\n    </dc:creator>\n   </cc:Work>\n  </rdf:RDF>\n </metadata>\n <defs>\n  <style type=\"text/css\">*{stroke-linecap:butt;stroke-linejoin:round;}</style>\n </defs>\n <g id=\"figure_1\">\n  <g id=\"patch_1\">\n   <path d=\"M -0 248.518125 \nL 368.925 248.518125 \nL 368.925 0 \nL -0 0 \nz\n\" style=\"fill:none;\"/>\n  </g>\n  <g id=\"axes_1\">\n   <g id=\"patch_2\">\n    <path d=\"M 26.925 224.64 \nL 361.725 224.64 \nL 361.725 7.2 \nL 26.925 7.2 \nz\n\" style=\"fill:#ffffff;\"/>\n   </g>\n   <g id=\"patch_3\">\n    <path clip-path=\"url(#p9ce517ad23)\" d=\"M 43.665 224.64 \nL 177.585 224.64 \nL 177.585 17.554286 \nL 43.665 17.554286 \nz\n\" style=\"fill:#3274a1;\"/>\n   </g>\n   <g id=\"patch_4\">\n    <path clip-path=\"url(#p9ce517ad23)\" d=\"M 211.065 224.64 \nL 344.985 224.64 \nL 344.985 63.225757 \nL 211.065 63.225757 \nz\n\" style=\"fill:#e1812c;\"/>\n   </g>\n   <g id=\"matplotlib.axis_1\">\n    <g id=\"xtick_1\">\n     <g id=\"line2d_1\">\n      <defs>\n       <path d=\"M 0 0 \nL 0 3.5 \n\" id=\"mf3a755e1f7\" style=\"stroke:#000000;stroke-width:0.8;\"/>\n      </defs>\n      <g>\n       <use style=\"stroke:#000000;stroke-width:0.8;\" x=\"110.625\" xlink:href=\"#mf3a755e1f7\" y=\"224.64\"/>\n      </g>\n     </g>\n     <g id=\"text_1\">\n      <!-- 문과 -->\n      <g transform=\"translate(104.623437 239.238437)scale(0.1 -0.1)\">\n       <defs>\n        <path d=\"M 319 -1131 \nL 319 4513 \nL 3519 4513 \nL 3519 -1131 \nL 319 -1131 \nz\nM 678 -775 \nL 3163 -775 \nL 3163 4153 \nL 678 4153 \nL 678 -775 \nz\n\" id=\"DejaVuSans-bb38\" transform=\"scale(0.015625)\"/>\n        <path d=\"M 319 -1131 \nL 319 4513 \nL 3519 4513 \nL 3519 -1131 \nL 319 -1131 \nz\nM 678 -775 \nL 3163 -775 \nL 3163 4153 \nL 678 4153 \nL 678 -775 \nz\n\" id=\"DejaVuSans-acfc\" transform=\"scale(0.015625)\"/>\n       </defs>\n       <use xlink:href=\"#DejaVuSans-bb38\"/>\n       <use x=\"60.009766\" xlink:href=\"#DejaVuSans-acfc\"/>\n      </g>\n     </g>\n    </g>\n    <g id=\"xtick_2\">\n     <g id=\"line2d_2\">\n      <g>\n       <use style=\"stroke:#000000;stroke-width:0.8;\" x=\"278.025\" xlink:href=\"#mf3a755e1f7\" y=\"224.64\"/>\n      </g>\n     </g>\n     <g id=\"text_2\">\n      <!-- 이과 -->\n      <g transform=\"translate(272.023438 239.238437)scale(0.1 -0.1)\">\n       <defs>\n        <path d=\"M 319 -1131 \nL 319 4513 \nL 3519 4513 \nL 3519 -1131 \nL 319 -1131 \nz\nM 678 -775 \nL 3163 -775 \nL 3163 4153 \nL 678 4153 \nL 678 -775 \nz\n\" id=\"DejaVuSans-c774\" transform=\"scale(0.015625)\"/>\n       </defs>\n       <use xlink:href=\"#DejaVuSans-c774\"/>\n       <use x=\"60.009766\" xlink:href=\"#DejaVuSans-acfc\"/>\n      </g>\n     </g>\n    </g>\n   </g>\n   <g id=\"matplotlib.axis_2\">\n    <g id=\"ytick_1\">\n     <g id=\"line2d_3\">\n      <defs>\n       <path d=\"M 0 0 \nL -3.5 0 \n\" id=\"m89de191b3f\" style=\"stroke:#000000;stroke-width:0.8;\"/>\n      </defs>\n      <g>\n       <use style=\"stroke:#000000;stroke-width:0.8;\" x=\"26.925\" xlink:href=\"#m89de191b3f\" y=\"224.64\"/>\n      </g>\n     </g>\n     <g id=\"text_3\">\n      <!-- 0 -->\n      <g transform=\"translate(13.5625 228.439219)scale(0.1 -0.1)\">\n       <defs>\n        <path d=\"M 2034 4250 \nQ 1547 4250 1301 3770 \nQ 1056 3291 1056 2328 \nQ 1056 1369 1301 889 \nQ 1547 409 2034 409 \nQ 2525 409 2770 889 \nQ 3016 1369 3016 2328 \nQ 3016 3291 2770 3770 \nQ 2525 4250 2034 4250 \nz\nM 2034 4750 \nQ 2819 4750 3233 4129 \nQ 3647 3509 3647 2328 \nQ 3647 1150 3233 529 \nQ 2819 -91 2034 -91 \nQ 1250 -91 836 529 \nQ 422 1150 422 2328 \nQ 422 3509 836 4129 \nQ 1250 4750 2034 4750 \nz\n\" id=\"DejaVuSans-30\" transform=\"scale(0.015625)\"/>\n       </defs>\n       <use xlink:href=\"#DejaVuSans-30\"/>\n      </g>\n     </g>\n    </g>\n    <g id=\"ytick_2\">\n     <g id=\"line2d_4\">\n      <g>\n       <use style=\"stroke:#000000;stroke-width:0.8;\" x=\"26.925\" xlink:href=\"#m89de191b3f\" y=\"193.35817\"/>\n      </g>\n     </g>\n     <g id=\"text_4\">\n      <!-- 10 -->\n      <g transform=\"translate(7.2 197.157389)scale(0.1 -0.1)\">\n       <defs>\n        <path d=\"M 794 531 \nL 1825 531 \nL 1825 4091 \nL 703 3866 \nL 703 4441 \nL 1819 4666 \nL 2450 4666 \nL 2450 531 \nL 3481 531 \nL 3481 0 \nL 794 0 \nL 794 531 \nz\n\" id=\"DejaVuSans-31\" transform=\"scale(0.015625)\"/>\n       </defs>\n       <use xlink:href=\"#DejaVuSans-31\"/>\n       <use x=\"63.623047\" xlink:href=\"#DejaVuSans-30\"/>\n      </g>\n     </g>\n    </g>\n    <g id=\"ytick_3\">\n     <g id=\"line2d_5\">\n      <g>\n       <use style=\"stroke:#000000;stroke-width:0.8;\" x=\"26.925\" xlink:href=\"#m89de191b3f\" y=\"162.07634\"/>\n      </g>\n     </g>\n     <g id=\"text_5\">\n      <!-- 20 -->\n      <g transform=\"translate(7.2 165.875559)scale(0.1 -0.1)\">\n       <defs>\n        <path d=\"M 1228 531 \nL 3431 531 \nL 3431 0 \nL 469 0 \nL 469 531 \nQ 828 903 1448 1529 \nQ 2069 2156 2228 2338 \nQ 2531 2678 2651 2914 \nQ 2772 3150 2772 3378 \nQ 2772 3750 2511 3984 \nQ 2250 4219 1831 4219 \nQ 1534 4219 1204 4116 \nQ 875 4013 500 3803 \nL 500 4441 \nQ 881 4594 1212 4672 \nQ 1544 4750 1819 4750 \nQ 2544 4750 2975 4387 \nQ 3406 4025 3406 3419 \nQ 3406 3131 3298 2873 \nQ 3191 2616 2906 2266 \nQ 2828 2175 2409 1742 \nQ 1991 1309 1228 531 \nz\n\" id=\"DejaVuSans-32\" transform=\"scale(0.015625)\"/>\n       </defs>\n       <use xlink:href=\"#DejaVuSans-32\"/>\n       <use x=\"63.623047\" xlink:href=\"#DejaVuSans-30\"/>\n      </g>\n     </g>\n    </g>\n    <g id=\"ytick_4\">\n     <g id=\"line2d_6\">\n      <g>\n       <use style=\"stroke:#000000;stroke-width:0.8;\" x=\"26.925\" xlink:href=\"#m89de191b3f\" y=\"130.79451\"/>\n      </g>\n     </g>\n     <g id=\"text_6\">\n      <!-- 30 -->\n      <g transform=\"translate(7.2 134.593729)scale(0.1 -0.1)\">\n       <defs>\n        <path d=\"M 2597 2516 \nQ 3050 2419 3304 2112 \nQ 3559 1806 3559 1356 \nQ 3559 666 3084 287 \nQ 2609 -91 1734 -91 \nQ 1441 -91 1130 -33 \nQ 819 25 488 141 \nL 488 750 \nQ 750 597 1062 519 \nQ 1375 441 1716 441 \nQ 2309 441 2620 675 \nQ 2931 909 2931 1356 \nQ 2931 1769 2642 2001 \nQ 2353 2234 1838 2234 \nL 1294 2234 \nL 1294 2753 \nL 1863 2753 \nQ 2328 2753 2575 2939 \nQ 2822 3125 2822 3475 \nQ 2822 3834 2567 4026 \nQ 2313 4219 1838 4219 \nQ 1578 4219 1281 4162 \nQ 984 4106 628 3988 \nL 628 4550 \nQ 988 4650 1302 4700 \nQ 1616 4750 1894 4750 \nQ 2613 4750 3031 4423 \nQ 3450 4097 3450 3541 \nQ 3450 3153 3228 2886 \nQ 3006 2619 2597 2516 \nz\n\" id=\"DejaVuSans-33\" transform=\"scale(0.015625)\"/>\n       </defs>\n       <use xlink:href=\"#DejaVuSans-33\"/>\n       <use x=\"63.623047\" xlink:href=\"#DejaVuSans-30\"/>\n      </g>\n     </g>\n    </g>\n    <g id=\"ytick_5\">\n     <g id=\"line2d_7\">\n      <g>\n       <use style=\"stroke:#000000;stroke-width:0.8;\" x=\"26.925\" xlink:href=\"#m89de191b3f\" y=\"99.51268\"/>\n      </g>\n     </g>\n     <g id=\"text_7\">\n      <!-- 40 -->\n      <g transform=\"translate(7.2 103.311899)scale(0.1 -0.1)\">\n       <defs>\n        <path d=\"M 2419 4116 \nL 825 1625 \nL 2419 1625 \nL 2419 4116 \nz\nM 2253 4666 \nL 3047 4666 \nL 3047 1625 \nL 3713 1625 \nL 3713 1100 \nL 3047 1100 \nL 3047 0 \nL 2419 0 \nL 2419 1100 \nL 313 1100 \nL 313 1709 \nL 2253 4666 \nz\n\" id=\"DejaVuSans-34\" transform=\"scale(0.015625)\"/>\n       </defs>\n       <use xlink:href=\"#DejaVuSans-34\"/>\n       <use x=\"63.623047\" xlink:href=\"#DejaVuSans-30\"/>\n      </g>\n     </g>\n    </g>\n    <g id=\"ytick_6\">\n     <g id=\"line2d_8\">\n      <g>\n       <use style=\"stroke:#000000;stroke-width:0.8;\" x=\"26.925\" xlink:href=\"#m89de191b3f\" y=\"68.23085\"/>\n      </g>\n     </g>\n     <g id=\"text_8\">\n      <!-- 50 -->\n      <g transform=\"translate(7.2 72.030069)scale(0.1 -0.1)\">\n       <defs>\n        <path d=\"M 691 4666 \nL 3169 4666 \nL 3169 4134 \nL 1269 4134 \nL 1269 2991 \nQ 1406 3038 1543 3061 \nQ 1681 3084 1819 3084 \nQ 2600 3084 3056 2656 \nQ 3513 2228 3513 1497 \nQ 3513 744 3044 326 \nQ 2575 -91 1722 -91 \nQ 1428 -91 1123 -41 \nQ 819 9 494 109 \nL 494 744 \nQ 775 591 1075 516 \nQ 1375 441 1709 441 \nQ 2250 441 2565 725 \nQ 2881 1009 2881 1497 \nQ 2881 1984 2565 2268 \nQ 2250 2553 1709 2553 \nQ 1456 2553 1204 2497 \nQ 953 2441 691 2322 \nL 691 4666 \nz\n\" id=\"DejaVuSans-35\" transform=\"scale(0.015625)\"/>\n       </defs>\n       <use xlink:href=\"#DejaVuSans-35\"/>\n       <use x=\"63.623047\" xlink:href=\"#DejaVuSans-30\"/>\n      </g>\n     </g>\n    </g>\n    <g id=\"ytick_7\">\n     <g id=\"line2d_9\">\n      <g>\n       <use style=\"stroke:#000000;stroke-width:0.8;\" x=\"26.925\" xlink:href=\"#m89de191b3f\" y=\"36.94902\"/>\n      </g>\n     </g>\n     <g id=\"text_9\">\n      <!-- 60 -->\n      <g transform=\"translate(7.2 40.748239)scale(0.1 -0.1)\">\n       <defs>\n        <path d=\"M 2113 2584 \nQ 1688 2584 1439 2293 \nQ 1191 2003 1191 1497 \nQ 1191 994 1439 701 \nQ 1688 409 2113 409 \nQ 2538 409 2786 701 \nQ 3034 994 3034 1497 \nQ 3034 2003 2786 2293 \nQ 2538 2584 2113 2584 \nz\nM 3366 4563 \nL 3366 3988 \nQ 3128 4100 2886 4159 \nQ 2644 4219 2406 4219 \nQ 1781 4219 1451 3797 \nQ 1122 3375 1075 2522 \nQ 1259 2794 1537 2939 \nQ 1816 3084 2150 3084 \nQ 2853 3084 3261 2657 \nQ 3669 2231 3669 1497 \nQ 3669 778 3244 343 \nQ 2819 -91 2113 -91 \nQ 1303 -91 875 529 \nQ 447 1150 447 2328 \nQ 447 3434 972 4092 \nQ 1497 4750 2381 4750 \nQ 2619 4750 2861 4703 \nQ 3103 4656 3366 4563 \nz\n\" id=\"DejaVuSans-36\" transform=\"scale(0.015625)\"/>\n       </defs>\n       <use xlink:href=\"#DejaVuSans-36\"/>\n       <use x=\"63.623047\" xlink:href=\"#DejaVuSans-30\"/>\n      </g>\n     </g>\n    </g>\n   </g>\n   <g id=\"line2d_10\">\n    <path clip-path=\"url(#p9ce517ad23)\" style=\"fill:none;stroke:#424242;stroke-linecap:square;stroke-width:2.7;\"/>\n   </g>\n   <g id=\"line2d_11\">\n    <path clip-path=\"url(#p9ce517ad23)\" style=\"fill:none;stroke:#424242;stroke-linecap:square;stroke-width:2.7;\"/>\n   </g>\n   <g id=\"patch_5\">\n    <path d=\"M 26.925 224.64 \nL 26.925 7.2 \n\" style=\"fill:none;stroke:#000000;stroke-linecap:square;stroke-linejoin:miter;stroke-width:0.8;\"/>\n   </g>\n   <g id=\"patch_6\">\n    <path d=\"M 361.725 224.64 \nL 361.725 7.2 \n\" style=\"fill:none;stroke:#000000;stroke-linecap:square;stroke-linejoin:miter;stroke-width:0.8;\"/>\n   </g>\n   <g id=\"patch_7\">\n    <path d=\"M 26.925 224.64 \nL 361.725 224.64 \n\" style=\"fill:none;stroke:#000000;stroke-linecap:square;stroke-linejoin:miter;stroke-width:0.8;\"/>\n   </g>\n   <g id=\"patch_8\">\n    <path d=\"M 26.925 7.2 \nL 361.725 7.2 \n\" style=\"fill:none;stroke:#000000;stroke-linecap:square;stroke-linejoin:miter;stroke-width:0.8;\"/>\n   </g>\n  </g>\n </g>\n <defs>\n  <clipPath id=\"p9ce517ad23\">\n   <rect height=\"217.44\" width=\"334.8\" x=\"26.925\" y=\"7.2\"/>\n  </clipPath>\n </defs>\n</svg>\n",
      "image/png": "[encoded data removed]"
     },
     "metadata": {
      "needs_background": "light"
     }
    }
   ],
   "source": [
    "sns.barplot(\n",
    "    x=[\"문과\", \"이과\"],\n",
    "    y=[munTotalMin, leeTotalMin]\n",
    ")\n",
    "plt.show()"
   ]
  },
  {
   "source": [
    "결론: **이과보다 문과 학생의 최저 점수가 높다**"
   ],
   "cell_type": "markdown",
   "metadata": {}
  },
  {
   "source": [
    "### 5.3. 웹프로그래밍과 학생보다 해킹방어과 학생의 평균 점수가 더 높을 것이다."
   ],
   "cell_type": "markdown",
   "metadata": {}
  },
  {
   "cell_type": "code",
   "execution_count": 193,
   "metadata": {},
   "outputs": [
    {
     "output_type": "execute_result",
     "data": {
      "text/plain": [
       "(66, 69)"
      ]
     },
     "metadata": {},
     "execution_count": 193
    }
   ],
   "source": [
    "wp = table[(table['class'] >= 3) & (table['class'] <= 4)]\n",
    "hd= table[(table['class'] >= 5) & (table['class'] <= 6)]\n",
    "len(wp), len(hd)"
   ]
  },
  {
   "cell_type": "code",
   "execution_count": 194,
   "metadata": {},
   "outputs": [
    {
     "output_type": "execute_result",
     "data": {
      "text/plain": [
       "(134.60560606060608, 108.04865671641791)"
      ]
     },
     "metadata": {},
     "execution_count": 194
    }
   ],
   "source": [
    "wpTotalMean = wp.total_score_20_2.mean()\n",
    "hdTotalMean = hd.total_score_20_2.mean()\n",
    "\n",
    "wpTotalMean, hdTotalMean\n",
    "# 해킹방어과 학생보다 웹프로그래밍과 학생의 평균 점수가 높음을 알 수 있다."
   ]
  },
  {
   "cell_type": "code",
   "execution_count": 200,
   "metadata": {},
   "outputs": [
    {
     "output_type": "display_data",
     "data": {
      "text/plain": "<Figure size 432x288 with 1 Axes>",
      "image/svg+xml": "<?xml version=\"1.0\" encoding=\"utf-8\" standalone=\"no\"?>\n<!DOCTYPE svg PUBLIC \"-//W3C//DTD SVG 1.1//EN\"\n  \"http://www.w3.org/Graphics/SVG/1.1/DTD/svg11.dtd\">\n<svg height=\"248.518125pt\" version=\"1.1\" viewBox=\"0 0 375.2875 248.518125\" width=\"375.2875pt\" xmlns=\"http://www.w3.org/2000/svg\" xmlns:xlink=\"http://www.w3.org/1999/xlink\">\n <metadata>\n  <rdf:RDF xmlns:cc=\"http://creativecommons.org/ns#\" xmlns:dc=\"http://purl.org/dc/elements/1.1/\" xmlns:rdf=\"http://www.w3.org/1999/02/22-rdf-syntax-ns#\">\n   <cc:Work>\n    <dc:type rdf:resource=\"http://purl.org/dc/dcmitype/StillImage\"/>\n    <dc:date>2021-06-22T13:28:50.966858</dc:date>\n    <dc:format>image/svg+xml</dc:format>\n    <dc:creator>\n     <cc:Agent>\n      <dc:title>Matplotlib v3.4.2, https://matplotlib.org/</dc:title>\n     </cc:Agent>\n    </dc:creator>\n   </cc:Work>\n  </rdf:RDF>\n </metadata>\n <defs>\n  <style type=\"text/css\">*{stroke-linecap:butt;stroke-linejoin:round;}</style>\n </defs>\n <g id=\"figure_1\">\n  <g id=\"patch_1\">\n   <path d=\"M 0 248.518125 \nL 375.2875 248.518125 \nL 375.2875 0 \nL 0 0 \nz\n\" style=\"fill:none;\"/>\n  </g>\n  <g id=\"axes_1\">\n   <g id=\"patch_2\">\n    <path d=\"M 33.2875 224.64 \nL 368.0875 224.64 \nL 368.0875 7.2 \nL 33.2875 7.2 \nz\n\" style=\"fill:#ffffff;\"/>\n   </g>\n   <g id=\"patch_3\">\n    <path clip-path=\"url(#p7552f75559)\" d=\"M 50.0275 188.467236 \nL 183.9475 188.467236 \nL 183.9475 131.105165 \nL 50.0275 131.105165 \nL 50.0275 188.467236 \nz\n\" style=\"fill:#3274a1;stroke:#3f3f3f;stroke-linejoin:miter;stroke-width:1.5;\"/>\n   </g>\n   <g id=\"patch_4\">\n    <path clip-path=\"url(#p7552f75559)\" d=\"M 217.4275 190.474219 \nL 351.3475 190.474219 \nL 351.3475 183.706954 \nL 217.4275 183.706954 \nL 217.4275 190.474219 \nz\n\" style=\"fill:#e1812c;stroke:#3f3f3f;stroke-linejoin:miter;stroke-width:1.5;\"/>\n   </g>\n   <g id=\"matplotlib.axis_1\">\n    <g id=\"xtick_1\">\n     <g id=\"line2d_1\">\n      <defs>\n       <path d=\"M 0 0 \nL 0 3.5 \n\" id=\"m0f3a077008\" style=\"stroke:#000000;stroke-width:0.8;\"/>\n      </defs>\n      <g>\n       <use style=\"stroke:#000000;stroke-width:0.8;\" x=\"116.9875\" xlink:href=\"#m0f3a077008\" y=\"224.64\"/>\n      </g>\n     </g>\n     <g id=\"text_1\">\n      <!-- 0 -->\n      <g transform=\"translate(113.80625 239.238437)scale(0.1 -0.1)\">\n       <defs>\n        <path d=\"M 2034 4250 \nQ 1547 4250 1301 3770 \nQ 1056 3291 1056 2328 \nQ 1056 1369 1301 889 \nQ 1547 409 2034 409 \nQ 2525 409 2770 889 \nQ 3016 1369 3016 2328 \nQ 3016 3291 2770 3770 \nQ 2525 4250 2034 4250 \nz\nM 2034 4750 \nQ 2819 4750 3233 4129 \nQ 3647 3509 3647 2328 \nQ 3647 1150 3233 529 \nQ 2819 -91 2034 -91 \nQ 1250 -91 836 529 \nQ 422 1150 422 2328 \nQ 422 3509 836 4129 \nQ 1250 4750 2034 4750 \nz\n\" id=\"DejaVuSans-30\" transform=\"scale(0.015625)\"/>\n       </defs>\n       <use xlink:href=\"#DejaVuSans-30\"/>\n      </g>\n     </g>\n    </g>\n    <g id=\"xtick_2\">\n     <g id=\"line2d_2\">\n      <g>\n       <use style=\"stroke:#000000;stroke-width:0.8;\" x=\"284.3875\" xlink:href=\"#m0f3a077008\" y=\"224.64\"/>\n      </g>\n     </g>\n     <g id=\"text_2\">\n      <!-- 1 -->\n      <g transform=\"translate(281.20625 239.238437)scale(0.1 -0.1)\">\n       <defs>\n        <path d=\"M 794 531 \nL 1825 531 \nL 1825 4091 \nL 703 3866 \nL 703 4441 \nL 1819 4666 \nL 2450 4666 \nL 2450 531 \nL 3481 531 \nL 3481 0 \nL 794 0 \nL 794 531 \nz\n\" id=\"DejaVuSans-31\" transform=\"scale(0.015625)\"/>\n       </defs>\n       <use xlink:href=\"#DejaVuSans-31\"/>\n      </g>\n     </g>\n    </g>\n   </g>\n   <g id=\"matplotlib.axis_2\">\n    <g id=\"ytick_1\">\n     <g id=\"line2d_3\">\n      <defs>\n       <path d=\"M 0 0 \nL -3.5 0 \n\" id=\"m5297501903\" style=\"stroke:#000000;stroke-width:0.8;\"/>\n      </defs>\n      <g>\n       <use style=\"stroke:#000000;stroke-width:0.8;\" x=\"33.2875\" xlink:href=\"#m5297501903\" y=\"215.832134\"/>\n      </g>\n     </g>\n     <g id=\"text_3\">\n      <!-- 50 -->\n      <g transform=\"translate(13.5625 219.631352)scale(0.1 -0.1)\">\n       <defs>\n        <path d=\"M 691 4666 \nL 3169 4666 \nL 3169 4134 \nL 1269 4134 \nL 1269 2991 \nQ 1406 3038 1543 3061 \nQ 1681 3084 1819 3084 \nQ 2600 3084 3056 2656 \nQ 3513 2228 3513 1497 \nQ 3513 744 3044 326 \nQ 2575 -91 1722 -91 \nQ 1428 -91 1123 -41 \nQ 819 9 494 109 \nL 494 744 \nQ 775 591 1075 516 \nQ 1375 441 1709 441 \nQ 2250 441 2565 725 \nQ 2881 1009 2881 1497 \nQ 2881 1984 2565 2268 \nQ 2250 2553 1709 2553 \nQ 1456 2553 1204 2497 \nQ 953 2441 691 2322 \nL 691 4666 \nz\n\" id=\"DejaVuSans-35\" transform=\"scale(0.015625)\"/>\n       </defs>\n       <use xlink:href=\"#DejaVuSans-35\"/>\n       <use x=\"63.623047\" xlink:href=\"#DejaVuSans-30\"/>\n      </g>\n     </g>\n    </g>\n    <g id=\"ytick_2\">\n     <g id=\"line2d_4\">\n      <g>\n       <use style=\"stroke:#000000;stroke-width:0.8;\" x=\"33.2875\" xlink:href=\"#m5297501903\" y=\"182.214323\"/>\n      </g>\n     </g>\n     <g id=\"text_4\">\n      <!-- 100 -->\n      <g transform=\"translate(7.2 186.013542)scale(0.1 -0.1)\">\n       <use xlink:href=\"#DejaVuSans-31\"/>\n       <use x=\"63.623047\" xlink:href=\"#DejaVuSans-30\"/>\n       <use x=\"127.246094\" xlink:href=\"#DejaVuSans-30\"/>\n      </g>\n     </g>\n    </g>\n    <g id=\"ytick_3\">\n     <g id=\"line2d_5\">\n      <g>\n       <use style=\"stroke:#000000;stroke-width:0.8;\" x=\"33.2875\" xlink:href=\"#m5297501903\" y=\"148.596512\"/>\n      </g>\n     </g>\n     <g id=\"text_5\">\n      <!-- 150 -->\n      <g transform=\"translate(7.2 152.395731)scale(0.1 -0.1)\">\n       <use xlink:href=\"#DejaVuSans-31\"/>\n       <use x=\"63.623047\" xlink:href=\"#DejaVuSans-35\"/>\n       <use x=\"127.246094\" xlink:href=\"#DejaVuSans-30\"/>\n      </g>\n     </g>\n    </g>\n    <g id=\"ytick_4\">\n     <g id=\"line2d_6\">\n      <g>\n       <use style=\"stroke:#000000;stroke-width:0.8;\" x=\"33.2875\" xlink:href=\"#m5297501903\" y=\"114.978701\"/>\n      </g>\n     </g>\n     <g id=\"text_6\">\n      <!-- 200 -->\n      <g transform=\"translate(7.2 118.77792)scale(0.1 -0.1)\">\n       <defs>\n        <path d=\"M 1228 531 \nL 3431 531 \nL 3431 0 \nL 469 0 \nL 469 531 \nQ 828 903 1448 1529 \nQ 2069 2156 2228 2338 \nQ 2531 2678 2651 2914 \nQ 2772 3150 2772 3378 \nQ 2772 3750 2511 3984 \nQ 2250 4219 1831 4219 \nQ 1534 4219 1204 4116 \nQ 875 4013 500 3803 \nL 500 4441 \nQ 881 4594 1212 4672 \nQ 1544 4750 1819 4750 \nQ 2544 4750 2975 4387 \nQ 3406 4025 3406 3419 \nQ 3406 3131 3298 2873 \nQ 3191 2616 2906 2266 \nQ 2828 2175 2409 1742 \nQ 1991 1309 1228 531 \nz\n\" id=\"DejaVuSans-32\" transform=\"scale(0.015625)\"/>\n       </defs>\n       <use xlink:href=\"#DejaVuSans-32\"/>\n       <use x=\"63.623047\" xlink:href=\"#DejaVuSans-30\"/>\n       <use x=\"127.246094\" xlink:href=\"#DejaVuSans-30\"/>\n      </g>\n     </g>\n    </g>\n    <g id=\"ytick_5\">\n     <g id=\"line2d_7\">\n      <g>\n       <use style=\"stroke:#000000;stroke-width:0.8;\" x=\"33.2875\" xlink:href=\"#m5297501903\" y=\"81.360891\"/>\n      </g>\n     </g>\n     <g id=\"text_7\">\n      <!-- 250 -->\n      <g transform=\"translate(7.2 85.160109)scale(0.1 -0.1)\">\n       <use xlink:href=\"#DejaVuSans-32\"/>\n       <use x=\"63.623047\" xlink:href=\"#DejaVuSans-35\"/>\n       <use x=\"127.246094\" xlink:href=\"#DejaVuSans-30\"/>\n      </g>\n     </g>\n    </g>\n    <g id=\"ytick_6\">\n     <g id=\"line2d_8\">\n      <g>\n       <use style=\"stroke:#000000;stroke-width:0.8;\" x=\"33.2875\" xlink:href=\"#m5297501903\" y=\"47.74308\"/>\n      </g>\n     </g>\n     <g id=\"text_8\">\n      <!-- 300 -->\n      <g transform=\"translate(7.2 51.542299)scale(0.1 -0.1)\">\n       <defs>\n        <path d=\"M 2597 2516 \nQ 3050 2419 3304 2112 \nQ 3559 1806 3559 1356 \nQ 3559 666 3084 287 \nQ 2609 -91 1734 -91 \nQ 1441 -91 1130 -33 \nQ 819 25 488 141 \nL 488 750 \nQ 750 597 1062 519 \nQ 1375 441 1716 441 \nQ 2309 441 2620 675 \nQ 2931 909 2931 1356 \nQ 2931 1769 2642 2001 \nQ 2353 2234 1838 2234 \nL 1294 2234 \nL 1294 2753 \nL 1863 2753 \nQ 2328 2753 2575 2939 \nQ 2822 3125 2822 3475 \nQ 2822 3834 2567 4026 \nQ 2313 4219 1838 4219 \nQ 1578 4219 1281 4162 \nQ 984 4106 628 3988 \nL 628 4550 \nQ 988 4650 1302 4700 \nQ 1616 4750 1894 4750 \nQ 2613 4750 3031 4423 \nQ 3450 4097 3450 3541 \nQ 3450 3153 3228 2886 \nQ 3006 2619 2597 2516 \nz\n\" id=\"DejaVuSans-33\" transform=\"scale(0.015625)\"/>\n       </defs>\n       <use xlink:href=\"#DejaVuSans-33\"/>\n       <use x=\"63.623047\" xlink:href=\"#DejaVuSans-30\"/>\n       <use x=\"127.246094\" xlink:href=\"#DejaVuSans-30\"/>\n      </g>\n     </g>\n    </g>\n    <g id=\"ytick_7\">\n     <g id=\"line2d_9\">\n      <g>\n       <use style=\"stroke:#000000;stroke-width:0.8;\" x=\"33.2875\" xlink:href=\"#m5297501903\" y=\"14.125269\"/>\n      </g>\n     </g>\n     <g id=\"text_9\">\n      <!-- 350 -->\n      <g transform=\"translate(7.2 17.924488)scale(0.1 -0.1)\">\n       <use xlink:href=\"#DejaVuSans-33\"/>\n       <use x=\"63.623047\" xlink:href=\"#DejaVuSans-35\"/>\n       <use x=\"127.246094\" xlink:href=\"#DejaVuSans-30\"/>\n      </g>\n     </g>\n    </g>\n   </g>\n   <g id=\"line2d_10\">\n    <path clip-path=\"url(#p7552f75559)\" d=\"M 116.9875 188.467236 \nL 116.9875 210.083488 \n\" style=\"fill:none;stroke:#3f3f3f;stroke-linecap:square;stroke-width:1.5;\"/>\n   </g>\n   <g id=\"line2d_11\">\n    <path clip-path=\"url(#p7552f75559)\" d=\"M 116.9875 131.105165 \nL 116.9875 55.448282 \n\" style=\"fill:none;stroke:#3f3f3f;stroke-linecap:square;stroke-width:1.5;\"/>\n   </g>\n   <g id=\"line2d_12\">\n    <path clip-path=\"url(#p7552f75559)\" d=\"M 83.5075 210.083488 \nL 150.4675 210.083488 \n\" style=\"fill:none;stroke:#3f3f3f;stroke-linecap:square;stroke-width:1.5;\"/>\n   </g>\n   <g id=\"line2d_13\">\n    <path clip-path=\"url(#p7552f75559)\" d=\"M 83.5075 55.448282 \nL 150.4675 55.448282 \n\" style=\"fill:none;stroke:#3f3f3f;stroke-linecap:square;stroke-width:1.5;\"/>\n   </g>\n   <g id=\"line2d_14\">\n    <defs>\n     <path d=\"M -0 3.535534 \nL 2.12132 0 \nL -0 -3.535534 \nL -2.12132 -0 \nz\n\" id=\"m8452664356\" style=\"stroke:#3f3f3f;stroke-linejoin:miter;\"/>\n    </defs>\n    <g clip-path=\"url(#p7552f75559)\">\n     <use style=\"fill:#3f3f3f;stroke:#3f3f3f;stroke-linejoin:miter;\" x=\"116.9875\" xlink:href=\"#m8452664356\" y=\"17.083636\"/>\n    </g>\n   </g>\n   <g id=\"line2d_15\">\n    <path clip-path=\"url(#p7552f75559)\" d=\"M 284.3875 190.474219 \nL 284.3875 199.527495 \n\" style=\"fill:none;stroke:#3f3f3f;stroke-linecap:square;stroke-width:1.5;\"/>\n   </g>\n   <g id=\"line2d_16\">\n    <path clip-path=\"url(#p7552f75559)\" d=\"M 284.3875 183.706954 \nL 284.3875 182.342071 \n\" style=\"fill:none;stroke:#3f3f3f;stroke-linecap:square;stroke-width:1.5;\"/>\n   </g>\n   <g id=\"line2d_17\">\n    <path clip-path=\"url(#p7552f75559)\" d=\"M 250.9075 199.527495 \nL 317.8675 199.527495 \n\" style=\"fill:none;stroke:#3f3f3f;stroke-linecap:square;stroke-width:1.5;\"/>\n   </g>\n   <g id=\"line2d_18\">\n    <path clip-path=\"url(#p7552f75559)\" d=\"M 250.9075 182.342071 \nL 317.8675 182.342071 \n\" style=\"fill:none;stroke:#3f3f3f;stroke-linecap:square;stroke-width:1.5;\"/>\n   </g>\n   <g id=\"line2d_19\">\n    <g clip-path=\"url(#p7552f75559)\">\n     <use style=\"fill:#3f3f3f;stroke:#3f3f3f;stroke-linejoin:miter;\" x=\"284.3875\" xlink:href=\"#m8452664356\" y=\"205.376994\"/>\n     <use style=\"fill:#3f3f3f;stroke:#3f3f3f;stroke-linejoin:miter;\" x=\"284.3875\" xlink:href=\"#m8452664356\" y=\"203.010301\"/>\n     <use style=\"fill:#3f3f3f;stroke:#3f3f3f;stroke-linejoin:miter;\" x=\"284.3875\" xlink:href=\"#m8452664356\" y=\"200.798249\"/>\n     <use style=\"fill:#3f3f3f;stroke:#3f3f3f;stroke-linejoin:miter;\" x=\"284.3875\" xlink:href=\"#m8452664356\" y=\"200.925996\"/>\n     <use style=\"fill:#3f3f3f;stroke:#3f3f3f;stroke-linejoin:miter;\" x=\"284.3875\" xlink:href=\"#m8452664356\" y=\"204.207095\"/>\n     <use style=\"fill:#3f3f3f;stroke:#3f3f3f;stroke-linejoin:miter;\" x=\"284.3875\" xlink:href=\"#m8452664356\" y=\"214.756364\"/>\n     <use style=\"fill:#3f3f3f;stroke:#3f3f3f;stroke-linejoin:miter;\" x=\"284.3875\" xlink:href=\"#m8452664356\" y=\"124.109299\"/>\n     <use style=\"fill:#3f3f3f;stroke:#3f3f3f;stroke-linejoin:miter;\" x=\"284.3875\" xlink:href=\"#m8452664356\" y=\"24.398872\"/>\n     <use style=\"fill:#3f3f3f;stroke:#3f3f3f;stroke-linejoin:miter;\" x=\"284.3875\" xlink:href=\"#m8452664356\" y=\"164.840638\"/>\n     <use style=\"fill:#3f3f3f;stroke:#3f3f3f;stroke-linejoin:miter;\" x=\"284.3875\" xlink:href=\"#m8452664356\" y=\"142.464623\"/>\n     <use style=\"fill:#3f3f3f;stroke:#3f3f3f;stroke-linejoin:miter;\" x=\"284.3875\" xlink:href=\"#m8452664356\" y=\"89.28797\"/>\n     <use style=\"fill:#3f3f3f;stroke:#3f3f3f;stroke-linejoin:miter;\" x=\"284.3875\" xlink:href=\"#m8452664356\" y=\"170.017781\"/>\n     <use style=\"fill:#3f3f3f;stroke:#3f3f3f;stroke-linejoin:miter;\" x=\"284.3875\" xlink:href=\"#m8452664356\" y=\"144.152237\"/>\n     <use style=\"fill:#3f3f3f;stroke:#3f3f3f;stroke-linejoin:miter;\" x=\"284.3875\" xlink:href=\"#m8452664356\" y=\"161.384727\"/>\n     <use style=\"fill:#3f3f3f;stroke:#3f3f3f;stroke-linejoin:miter;\" x=\"284.3875\" xlink:href=\"#m8452664356\" y=\"151.447302\"/>\n     <use style=\"fill:#3f3f3f;stroke:#3f3f3f;stroke-linejoin:miter;\" x=\"284.3875\" xlink:href=\"#m8452664356\" y=\"120.52564\"/>\n     <use style=\"fill:#3f3f3f;stroke:#3f3f3f;stroke-linejoin:miter;\" x=\"284.3875\" xlink:href=\"#m8452664356\" y=\"39.728594\"/>\n     <use style=\"fill:#3f3f3f;stroke:#3f3f3f;stroke-linejoin:miter;\" x=\"284.3875\" xlink:href=\"#m8452664356\" y=\"162.44705\"/>\n     <use style=\"fill:#3f3f3f;stroke:#3f3f3f;stroke-linejoin:miter;\" x=\"284.3875\" xlink:href=\"#m8452664356\" y=\"119.295228\"/>\n     <use style=\"fill:#3f3f3f;stroke:#3f3f3f;stroke-linejoin:miter;\" x=\"284.3875\" xlink:href=\"#m8452664356\" y=\"149.779859\"/>\n    </g>\n   </g>\n   <g id=\"line2d_20\">\n    <path clip-path=\"url(#p7552f75559)\" d=\"M 50.0275 183.848148 \nL 183.9475 183.848148 \n\" style=\"fill:none;stroke:#3f3f3f;stroke-linecap:square;stroke-width:1.5;\"/>\n   </g>\n   <g id=\"line2d_21\">\n    <path clip-path=\"url(#p7552f75559)\" d=\"M 217.4275 187.411636 \nL 351.3475 187.411636 \n\" style=\"fill:none;stroke:#3f3f3f;stroke-linecap:square;stroke-width:1.5;\"/>\n   </g>\n   <g id=\"patch_5\">\n    <path d=\"M 33.2875 224.64 \nL 33.2875 7.2 \n\" style=\"fill:none;stroke:#000000;stroke-linecap:square;stroke-linejoin:miter;stroke-width:0.8;\"/>\n   </g>\n   <g id=\"patch_6\">\n    <path d=\"M 368.0875 224.64 \nL 368.0875 7.2 \n\" style=\"fill:none;stroke:#000000;stroke-linecap:square;stroke-linejoin:miter;stroke-width:0.8;\"/>\n   </g>\n   <g id=\"patch_7\">\n    <path d=\"M 33.2875 224.64 \nL 368.0875 224.64 \n\" style=\"fill:none;stroke:#000000;stroke-linecap:square;stroke-linejoin:miter;stroke-width:0.8;\"/>\n   </g>\n   <g id=\"patch_8\">\n    <path d=\"M 33.2875 7.2 \nL 368.0875 7.2 \n\" style=\"fill:none;stroke:#000000;stroke-linecap:square;stroke-linejoin:miter;stroke-width:0.8;\"/>\n   </g>\n  </g>\n </g>\n <defs>\n  <clipPath id=\"p7552f75559\">\n   <rect height=\"217.44\" width=\"334.8\" x=\"33.2875\" y=\"7.2\"/>\n  </clipPath>\n </defs>\n</svg>\n",
      "image/png": "[encoded data removed]"
     },
     "metadata": {
      "needs_background": "light"
     }
    }
   ],
   "source": [
    "# 전반적인 추이를 살펴보기 위해 Boxplot을 그려보았다\n",
    "\n",
    "sns.boxplot(\n",
    "    data=[\n",
    "        wp.total_score_20_2,\n",
    "        hd.total_score_20_2\n",
    "    ]\n",
    ")\n",
    "plt.show()"
   ]
  },
  {
   "source": [
    "결론: **웹프로그래밍과 학생의 평균 총합 점수는 해킹방어과 학생의 평균 종합 점수보다 낮다**"
   ],
   "cell_type": "markdown",
   "metadata": {}
  },
  {
   "source": [
    "### 5.4. 1학기보다 2학기의 평균 획득 점수가 더 많을 것이다."
   ],
   "cell_type": "markdown",
   "metadata": {}
  },
  {
   "cell_type": "code",
   "execution_count": 196,
   "metadata": {},
   "outputs": [],
   "source": [
    "# 각 학기의 총점에서 이전학기의 총점을 빼서 획득 점수를 구한다.\n",
    "# 데이터가 19년 1학기부터 시작하기 때문에 19년 1학기 총점은 그대로 사용하였다.\n",
    "delta19_1 = table['total_score_19_1']\n",
    "delta19_2 = table['total_score_19_2'] - table['total_score_19_1']\n",
    "delta20_1 = table['total_score_20_1'] - table['total_score_19_2']\n",
    "delta20_2 = table['total_score_20_2'] - table['total_score_20_1']"
   ]
  },
  {
   "cell_type": "code",
   "execution_count": 197,
   "metadata": {},
   "outputs": [
    {
     "output_type": "execute_result",
     "data": {
      "text/plain": [
       "(49.145259067357514, 9.56563157894737)"
      ]
     },
     "metadata": {},
     "execution_count": 197
    }
   ],
   "source": [
    "firstSession = (delta19_1 + delta20_1) / 2\n",
    "secondSession = (delta19_2 + delta20_2) / 2\n",
    "firstSession.mean(), secondSession.mean()"
   ]
  },
  {
   "source": [
    "결론: **전반적으로 2학기보다는 1학기에 훨씬 많은 점수를 얻는다.**"
   ],
   "cell_type": "markdown",
   "metadata": {}
  },
  {
   "source": [
    "### 5.5. 대회점수가 상위 30%인 학생은 하위 30%인 학생보다 자격증 점수가 낮을 것이다."
   ],
   "cell_type": "markdown",
   "metadata": {}
  },
  {
   "cell_type": "code",
   "execution_count": 198,
   "metadata": {},
   "outputs": [],
   "source": [
    "contestScoreSortedTable = table.sort_values(by=\"contest_score_20_2\", ascending=False)\n",
    "top30p = contestScoreSortedTable.iloc[:int(len(contestScoreSortedTable) * 0.3)]\n",
    "under30p = contestScoreSortedTable.iloc[int(len(contestScoreSortedTable) * 0.7):]"
   ]
  },
  {
   "cell_type": "code",
   "execution_count": 199,
   "metadata": {},
   "outputs": [
    {
     "output_type": "execute_result",
     "data": {
      "text/plain": [
       "(32.70175438596491, 6.181818181818182)"
      ]
     },
     "metadata": {},
     "execution_count": 199
    }
   ],
   "source": [
    "top30p.license_score_20_2.mean(), under30p.license_score_20_2.mean()"
   ]
  },
  {
   "source": [
    "결론: **대회 점수가 상위 30%인 학생은 하위 30%인 학생보다 평균 자격증 점수가 5배가량 높았다**"
   ],
   "cell_type": "markdown",
   "metadata": {}
  }
 ]
}