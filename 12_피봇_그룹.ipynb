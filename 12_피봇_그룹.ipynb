{
 "metadata": {
  "language_info": {
   "codemirror_mode": {
    "name": "ipython",
    "version": 3
   },
   "file_extension": ".py",
   "mimetype": "text/x-python",
   "name": "python",
   "nbconvert_exporter": "python",
   "pygments_lexer": "ipython3",
   "version": "3.8.5"
  },
  "orig_nbformat": 2,
  "kernelspec": {
   "name": "python385jvsc74a57bd031f2aee4e71d21fbe5cf8b01ff0e069b9275f58929596ceb00d14d90e3e16cd6",
   "display_name": "Python 3.8.5 64-bit"
  },
  "metadata": {
   "interpreter": {
    "hash": "31f2aee4e71d21fbe5cf8b01ff0e069b9275f58929596ceb00d14d90e3e16cd6"
   }
  }
 },
 "nbformat": 4,
 "nbformat_minor": 2,
 "cells": [
  {
   "cell_type": "code",
   "execution_count": 1,
   "metadata": {},
   "outputs": [
    {
     "output_type": "execute_result",
     "data": {
      "text/plain": [
       "      이름     그룹      소속사  성별        생년월일      키 혈액형   브랜드평판지수\n",
       "0     지민  방탄소년단      빅히트  남자  1995-10-13  173.6   A  10523260\n",
       "1   지드래곤     빅뱅       YG  남자  1988-08-18  177.0   A   9916947\n",
       "2   강다니엘    NaN      커넥트  남자  1996-12-10  180.0   A   8273745\n",
       "3      뷔  방탄소년단      빅히트  남자  1995-12-30  178.0  AB   8073501\n",
       "4     화사    마마무      RBW  여자  1995-07-23  162.1   A   7650928\n",
       "5     정국  방탄소년단      빅히트  남자  1997-09-01  178.0   A   5208335\n",
       "6     민현   뉴이스트     플레디스  남자  1995-08-09  182.3   O   4989792\n",
       "7     소연    아이들       큐브  여자  1998-08-26    NaN   B   4668615\n",
       "8      진  방탄소년단      빅히트  남자  1992-12-04  179.2   O   4570308\n",
       "9    하성운     핫샷  스타크루이엔티  남자  1994-03-22  167.1   A   4036489\n",
       "10    태연   소녀시대       SM  여자  1989-03-09    NaN   A   3918661\n",
       "11   차은우   아스트로     판타지오  남자  1997-03-30  183.0   B   3506027\n",
       "12    백호   뉴이스트     플레디스  남자  1995-07-21  175.0  AB   3301654\n",
       "13    JR   뉴이스트     플레디스  남자  1995-06-08  176.0   O   3274137\n",
       "14    슈가  방탄소년단      빅히트  남자  1993-03-09  174.0   O   2925442"
      ],
      "text/html": "<div>\n<style scoped>\n    .dataframe tbody tr th:only-of-type {\n        vertical-align: middle;\n    }\n\n    .dataframe tbody tr th {\n        vertical-align: top;\n    }\n\n    .dataframe thead th {\n        text-align: right;\n    }\n</style>\n<table border=\"1\" class=\"dataframe\">\n  <thead>\n    <tr style=\"text-align: right;\">\n      <th></th>\n      <th>이름</th>\n      <th>그룹</th>\n      <th>소속사</th>\n      <th>성별</th>\n      <th>생년월일</th>\n      <th>키</th>\n      <th>혈액형</th>\n      <th>브랜드평판지수</th>\n    </tr>\n  </thead>\n  <tbody>\n    <tr>\n      <th>0</th>\n      <td>지민</td>\n      <td>방탄소년단</td>\n      <td>빅히트</td>\n      <td>남자</td>\n      <td>1995-10-13</td>\n      <td>173.6</td>\n      <td>A</td>\n      <td>10523260</td>\n    </tr>\n    <tr>\n      <th>1</th>\n      <td>지드래곤</td>\n      <td>빅뱅</td>\n      <td>YG</td>\n      <td>남자</td>\n      <td>1988-08-18</td>\n      <td>177.0</td>\n      <td>A</td>\n      <td>9916947</td>\n    </tr>\n    <tr>\n      <th>2</th>\n      <td>강다니엘</td>\n      <td>NaN</td>\n      <td>커넥트</td>\n      <td>남자</td>\n      <td>1996-12-10</td>\n      <td>180.0</td>\n      <td>A</td>\n      <td>8273745</td>\n    </tr>\n    <tr>\n      <th>3</th>\n      <td>뷔</td>\n      <td>방탄소년단</td>\n      <td>빅히트</td>\n      <td>남자</td>\n      <td>1995-12-30</td>\n      <td>178.0</td>\n      <td>AB</td>\n      <td>8073501</td>\n    </tr>\n    <tr>\n      <th>4</th>\n      <td>화사</td>\n      <td>마마무</td>\n      <td>RBW</td>\n      <td>여자</td>\n      <td>1995-07-23</td>\n      <td>162.1</td>\n      <td>A</td>\n      <td>7650928</td>\n    </tr>\n    <tr>\n      <th>5</th>\n      <td>정국</td>\n      <td>방탄소년단</td>\n      <td>빅히트</td>\n      <td>남자</td>\n      <td>1997-09-01</td>\n      <td>178.0</td>\n      <td>A</td>\n      <td>5208335</td>\n    </tr>\n    <tr>\n      <th>6</th>\n      <td>민현</td>\n      <td>뉴이스트</td>\n      <td>플레디스</td>\n      <td>남자</td>\n      <td>1995-08-09</td>\n      <td>182.3</td>\n      <td>O</td>\n      <td>4989792</td>\n    </tr>\n    <tr>\n      <th>7</th>\n      <td>소연</td>\n      <td>아이들</td>\n      <td>큐브</td>\n      <td>여자</td>\n      <td>1998-08-26</td>\n      <td>NaN</td>\n      <td>B</td>\n      <td>4668615</td>\n    </tr>\n    <tr>\n      <th>8</th>\n      <td>진</td>\n      <td>방탄소년단</td>\n      <td>빅히트</td>\n      <td>남자</td>\n      <td>1992-12-04</td>\n      <td>179.2</td>\n      <td>O</td>\n      <td>4570308</td>\n    </tr>\n    <tr>\n      <th>9</th>\n      <td>하성운</td>\n      <td>핫샷</td>\n      <td>스타크루이엔티</td>\n      <td>남자</td>\n      <td>1994-03-22</td>\n      <td>167.1</td>\n      <td>A</td>\n      <td>4036489</td>\n    </tr>\n    <tr>\n      <th>10</th>\n      <td>태연</td>\n      <td>소녀시대</td>\n      <td>SM</td>\n      <td>여자</td>\n      <td>1989-03-09</td>\n      <td>NaN</td>\n      <td>A</td>\n      <td>3918661</td>\n    </tr>\n    <tr>\n      <th>11</th>\n      <td>차은우</td>\n      <td>아스트로</td>\n      <td>판타지오</td>\n      <td>남자</td>\n      <td>1997-03-30</td>\n      <td>183.0</td>\n      <td>B</td>\n      <td>3506027</td>\n    </tr>\n    <tr>\n      <th>12</th>\n      <td>백호</td>\n      <td>뉴이스트</td>\n      <td>플레디스</td>\n      <td>남자</td>\n      <td>1995-07-21</td>\n      <td>175.0</td>\n      <td>AB</td>\n      <td>3301654</td>\n    </tr>\n    <tr>\n      <th>13</th>\n      <td>JR</td>\n      <td>뉴이스트</td>\n      <td>플레디스</td>\n      <td>남자</td>\n      <td>1995-06-08</td>\n      <td>176.0</td>\n      <td>O</td>\n      <td>3274137</td>\n    </tr>\n    <tr>\n      <th>14</th>\n      <td>슈가</td>\n      <td>방탄소년단</td>\n      <td>빅히트</td>\n      <td>남자</td>\n      <td>1993-03-09</td>\n      <td>174.0</td>\n      <td>O</td>\n      <td>2925442</td>\n    </tr>\n  </tbody>\n</table>\n</div>"
     },
     "metadata": {},
     "execution_count": 1
    }
   ],
   "source": [
    "import numpy as np\n",
    "import pandas as pd\n",
    "d = pd.read_csv(\"https://bit.ly/ds-korean-idol\")\n",
    "d"
   ]
  },
  {
   "source": [
    "## 12.1. 피봇테이블\n",
    "* 엑셀의 피봇테이블과 동일"
   ],
   "cell_type": "markdown",
   "metadata": {}
  },
  {
   "source": [
    "그룹과 성별에 따른 키 평균 구하기\n",
    "* 행인덱스 : 그룹\n",
    "* 열인덱스 : 성별\n",
    "* 값 : 키 평균"
   ],
   "cell_type": "markdown",
   "metadata": {}
  },
  {
   "cell_type": "code",
   "execution_count": 2,
   "metadata": {},
   "outputs": [
    {
     "output_type": "execute_result",
     "data": {
      "text/plain": [
       "성별             남자     여자\n",
       "그룹                      \n",
       "뉴이스트   177.766667    NaN\n",
       "마마무           NaN  162.1\n",
       "방탄소년단  176.560000    NaN\n",
       "빅뱅     177.000000    NaN\n",
       "아스트로   183.000000    NaN\n",
       "핫샷     167.100000    NaN"
      ],
      "text/html": "<div>\n<style scoped>\n    .dataframe tbody tr th:only-of-type {\n        vertical-align: middle;\n    }\n\n    .dataframe tbody tr th {\n        vertical-align: top;\n    }\n\n    .dataframe thead th {\n        text-align: right;\n    }\n</style>\n<table border=\"1\" class=\"dataframe\">\n  <thead>\n    <tr style=\"text-align: right;\">\n      <th>성별</th>\n      <th>남자</th>\n      <th>여자</th>\n    </tr>\n    <tr>\n      <th>그룹</th>\n      <th></th>\n      <th></th>\n    </tr>\n  </thead>\n  <tbody>\n    <tr>\n      <th>뉴이스트</th>\n      <td>177.766667</td>\n      <td>NaN</td>\n    </tr>\n    <tr>\n      <th>마마무</th>\n      <td>NaN</td>\n      <td>162.1</td>\n    </tr>\n    <tr>\n      <th>방탄소년단</th>\n      <td>176.560000</td>\n      <td>NaN</td>\n    </tr>\n    <tr>\n      <th>빅뱅</th>\n      <td>177.000000</td>\n      <td>NaN</td>\n    </tr>\n    <tr>\n      <th>아스트로</th>\n      <td>183.000000</td>\n      <td>NaN</td>\n    </tr>\n    <tr>\n      <th>핫샷</th>\n      <td>167.100000</td>\n      <td>NaN</td>\n    </tr>\n  </tbody>\n</table>\n</div>"
     },
     "metadata": {},
     "execution_count": 2
    }
   ],
   "source": [
    "pd.pivot_table(d, index=\"그룹\", columns=\"성별\", values=\"키\", aggfunc=\"mean\")"
   ]
  },
  {
   "cell_type": "code",
   "execution_count": 7,
   "metadata": {},
   "outputs": [
    {
     "output_type": "execute_result",
     "data": {
      "text/plain": [
       "혈액형            A                    AB          B                     O\n",
       "성별            남자         여자         남자         남자         여자         남자\n",
       "그룹                                                                     \n",
       "뉴이스트         NaN        NaN  3301654.0        NaN        NaN  4131964.5\n",
       "마마무          NaN  7650928.0        NaN        NaN        NaN        NaN\n",
       "방탄소년단  7865797.5        NaN  8073501.0        NaN        NaN  3747875.0\n",
       "빅뱅     9916947.0        NaN        NaN        NaN        NaN        NaN\n",
       "소녀시대         NaN  3918661.0        NaN        NaN        NaN        NaN\n",
       "아스트로         NaN        NaN        NaN  3506027.0        NaN        NaN\n",
       "아이들          NaN        NaN        NaN        NaN  4668615.0        NaN\n",
       "핫샷     4036489.0        NaN        NaN        NaN        NaN        NaN"
      ],
      "text/html": "<div>\n<style scoped>\n    .dataframe tbody tr th:only-of-type {\n        vertical-align: middle;\n    }\n\n    .dataframe tbody tr th {\n        vertical-align: top;\n    }\n\n    .dataframe thead tr th {\n        text-align: left;\n    }\n\n    .dataframe thead tr:last-of-type th {\n        text-align: right;\n    }\n</style>\n<table border=\"1\" class=\"dataframe\">\n  <thead>\n    <tr>\n      <th>혈액형</th>\n      <th colspan=\"2\" halign=\"left\">A</th>\n      <th>AB</th>\n      <th colspan=\"2\" halign=\"left\">B</th>\n      <th>O</th>\n    </tr>\n    <tr>\n      <th>성별</th>\n      <th>남자</th>\n      <th>여자</th>\n      <th>남자</th>\n      <th>남자</th>\n      <th>여자</th>\n      <th>남자</th>\n    </tr>\n    <tr>\n      <th>그룹</th>\n      <th></th>\n      <th></th>\n      <th></th>\n      <th></th>\n      <th></th>\n      <th></th>\n    </tr>\n  </thead>\n  <tbody>\n    <tr>\n      <th>뉴이스트</th>\n      <td>NaN</td>\n      <td>NaN</td>\n      <td>3301654.0</td>\n      <td>NaN</td>\n      <td>NaN</td>\n      <td>4131964.5</td>\n    </tr>\n    <tr>\n      <th>마마무</th>\n      <td>NaN</td>\n      <td>7650928.0</td>\n      <td>NaN</td>\n      <td>NaN</td>\n      <td>NaN</td>\n      <td>NaN</td>\n    </tr>\n    <tr>\n      <th>방탄소년단</th>\n      <td>7865797.5</td>\n      <td>NaN</td>\n      <td>8073501.0</td>\n      <td>NaN</td>\n      <td>NaN</td>\n      <td>3747875.0</td>\n    </tr>\n    <tr>\n      <th>빅뱅</th>\n      <td>9916947.0</td>\n      <td>NaN</td>\n      <td>NaN</td>\n      <td>NaN</td>\n      <td>NaN</td>\n      <td>NaN</td>\n    </tr>\n    <tr>\n      <th>소녀시대</th>\n      <td>NaN</td>\n      <td>3918661.0</td>\n      <td>NaN</td>\n      <td>NaN</td>\n      <td>NaN</td>\n      <td>NaN</td>\n    </tr>\n    <tr>\n      <th>아스트로</th>\n      <td>NaN</td>\n      <td>NaN</td>\n      <td>NaN</td>\n      <td>3506027.0</td>\n      <td>NaN</td>\n      <td>NaN</td>\n    </tr>\n    <tr>\n      <th>아이들</th>\n      <td>NaN</td>\n      <td>NaN</td>\n      <td>NaN</td>\n      <td>NaN</td>\n      <td>4668615.0</td>\n      <td>NaN</td>\n    </tr>\n    <tr>\n      <th>핫샷</th>\n      <td>4036489.0</td>\n      <td>NaN</td>\n      <td>NaN</td>\n      <td>NaN</td>\n      <td>NaN</td>\n      <td>NaN</td>\n    </tr>\n  </tbody>\n</table>\n</div>"
     },
     "metadata": {},
     "execution_count": 7
    }
   ],
   "source": [
    "pd.pivot_table(d, index=\"그룹\", columns=(\"혈액형\", \"성별\"), values=\"브랜드평판지수\", aggfunc=\"mean\")"
   ]
  },
  {
   "cell_type": "code",
   "execution_count": 16,
   "metadata": {},
   "outputs": [
    {
     "output_type": "execute_result",
     "data": {
      "text/plain": [
       "             브랜드평판지수\n",
       "그룹    혈액형           \n",
       "뉴이스트  AB   3301654.0\n",
       "      O    4131964.5\n",
       "마마무   A    7650928.0\n",
       "방탄소년단 A    7865797.5\n",
       "      AB   8073501.0\n",
       "      O    3747875.0\n",
       "빅뱅    A    9916947.0\n",
       "소녀시대  A    3918661.0\n",
       "아스트로  B    3506027.0\n",
       "아이들   B    4668615.0\n",
       "핫샷    A    4036489.0"
      ],
      "text/html": "<div>\n<style scoped>\n    .dataframe tbody tr th:only-of-type {\n        vertical-align: middle;\n    }\n\n    .dataframe tbody tr th {\n        vertical-align: top;\n    }\n\n    .dataframe thead th {\n        text-align: right;\n    }\n</style>\n<table border=\"1\" class=\"dataframe\">\n  <thead>\n    <tr style=\"text-align: right;\">\n      <th></th>\n      <th></th>\n      <th>브랜드평판지수</th>\n    </tr>\n    <tr>\n      <th>그룹</th>\n      <th>혈액형</th>\n      <th></th>\n    </tr>\n  </thead>\n  <tbody>\n    <tr>\n      <th rowspan=\"2\" valign=\"top\">뉴이스트</th>\n      <th>AB</th>\n      <td>3301654.0</td>\n    </tr>\n    <tr>\n      <th>O</th>\n      <td>4131964.5</td>\n    </tr>\n    <tr>\n      <th>마마무</th>\n      <th>A</th>\n      <td>7650928.0</td>\n    </tr>\n    <tr>\n      <th rowspan=\"3\" valign=\"top\">방탄소년단</th>\n      <th>A</th>\n      <td>7865797.5</td>\n    </tr>\n    <tr>\n      <th>AB</th>\n      <td>8073501.0</td>\n    </tr>\n    <tr>\n      <th>O</th>\n      <td>3747875.0</td>\n    </tr>\n    <tr>\n      <th>빅뱅</th>\n      <th>A</th>\n      <td>9916947.0</td>\n    </tr>\n    <tr>\n      <th>소녀시대</th>\n      <th>A</th>\n      <td>3918661.0</td>\n    </tr>\n    <tr>\n      <th>아스트로</th>\n      <th>B</th>\n      <td>3506027.0</td>\n    </tr>\n    <tr>\n      <th>아이들</th>\n      <th>B</th>\n      <td>4668615.0</td>\n    </tr>\n    <tr>\n      <th>핫샷</th>\n      <th>A</th>\n      <td>4036489.0</td>\n    </tr>\n  </tbody>\n</table>\n</div>"
     },
     "metadata": {},
     "execution_count": 16
    }
   ],
   "source": [
    "pd.DataFrame(d.groupby([\"그룹\", \"혈액형\"])[\"브랜드평판지수\"].mean())"
   ]
  },
  {
   "cell_type": "code",
   "execution_count": 20,
   "metadata": {},
   "outputs": [
    {
     "output_type": "execute_result",
     "data": {
      "text/plain": [
       "            브랜드평판지수\n",
       "그룹                 \n",
       "뉴이스트   3.855194e+06\n",
       "마마무    7.650928e+06\n",
       "방탄소년단  6.260169e+06\n",
       "빅뱅     9.916947e+06\n",
       "소녀시대   3.918661e+06\n",
       "아스트로   3.506027e+06\n",
       "아이들    4.668615e+06\n",
       "핫샷     4.036489e+06"
      ],
      "text/html": "<div>\n<style scoped>\n    .dataframe tbody tr th:only-of-type {\n        vertical-align: middle;\n    }\n\n    .dataframe tbody tr th {\n        vertical-align: top;\n    }\n\n    .dataframe thead th {\n        text-align: right;\n    }\n</style>\n<table border=\"1\" class=\"dataframe\">\n  <thead>\n    <tr style=\"text-align: right;\">\n      <th></th>\n      <th>브랜드평판지수</th>\n    </tr>\n    <tr>\n      <th>그룹</th>\n      <th></th>\n    </tr>\n  </thead>\n  <tbody>\n    <tr>\n      <th>뉴이스트</th>\n      <td>3.855194e+06</td>\n    </tr>\n    <tr>\n      <th>마마무</th>\n      <td>7.650928e+06</td>\n    </tr>\n    <tr>\n      <th>방탄소년단</th>\n      <td>6.260169e+06</td>\n    </tr>\n    <tr>\n      <th>빅뱅</th>\n      <td>9.916947e+06</td>\n    </tr>\n    <tr>\n      <th>소녀시대</th>\n      <td>3.918661e+06</td>\n    </tr>\n    <tr>\n      <th>아스트로</th>\n      <td>3.506027e+06</td>\n    </tr>\n    <tr>\n      <th>아이들</th>\n      <td>4.668615e+06</td>\n    </tr>\n    <tr>\n      <th>핫샷</th>\n      <td>4.036489e+06</td>\n    </tr>\n  </tbody>\n</table>\n</div>"
     },
     "metadata": {},
     "execution_count": 20
    }
   ],
   "source": [
    "pd.pivot_table(d, index=(\"그룹\", \"혈액형\"), values=\"브랜드평판지수\", aggfunc=\"mean\")"
   ]
  }
 ]
}