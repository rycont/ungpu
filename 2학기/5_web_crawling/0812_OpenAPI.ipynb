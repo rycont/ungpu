{
 "cells": [
  {
   "cell_type": "markdown",
   "source": [
    "# 2. OpenAPI 활용\n",
    "1. 공공데이터포털 회원가입\n",
    "2. 데이터 검색\n",
    "3. API 사용 요청, 키 발급\n",
    "4. API 매뉴얼 확인\n",
    "5. API 연동 개발 및 테스트"
   ],
   "metadata": {}
  }
 ],
 "metadata": {
  "orig_nbformat": 4,
  "language_info": {
   "name": "python"
  }
 },
 "nbformat": 4,
 "nbformat_minor": 2
}