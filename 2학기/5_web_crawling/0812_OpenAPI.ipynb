{
 "cells": [
  {
   "cell_type": "markdown",
   "source": [
    "# 2. OpenAPI 활용\n",
    "1. 공공데이터포털 회원가입\n",
    "2. 데이터 검색\n",
    "3. API 사용 요청, 키 발급\n",
    "4. API 매뉴얼 확인\n",
    "5. API 연동 개발 및 테스트"
   ],
   "metadata": {}
  },
  {
   "cell_type": "markdown",
   "source": [
    "## 2.1. 보건복지부 코로나19 감염현황 조회 서비스"
   ],
   "metadata": {}
  },
  {
   "cell_type": "code",
   "execution_count": 1,
   "source": [
    "import requests\n",
    "import json\n",
    "import xmltodict\n",
    "import pandas as pd"
   ],
   "outputs": [],
   "metadata": {}
  },
  {
   "cell_type": "code",
   "execution_count": 2,
   "source": [
    "serviceKey = \"8U2qQA84Wxnymq9otl9BlXJ%2Bo%2B3QMrwWCudGNkf0%2B%2FL6vR%2F6Sxupt7pqZQMG%2FB7sATRFYd%2FFxla970%2BB1dvooQ%3D%3D\"\n",
    "url = \"http://openapi.data.go.kr/openapi/service/rest/Covid19/getCovid19InfStateJson?serviceKey={}&pageNo=0&numOfRows=10&startCreateDt=20210301&endCreateDt=20210818\".format(serviceKey)\n",
    "print(url)\n",
    "r = requests.get(url)\n",
    "dicted = xmltodict.parse(r.text)\n",
    "result = json.loads(json.dumps(dicted))\n",
    "# if wholeLength == None: wholeLength = result['response']['body']['totalCount']\n",
    "resultEssential = list(map(\n",
    "    lambda x: [x.get(key) for key in ['stateDt', 'decideCnt', 'clearCnt', 'deathCnt', 'careCnt']],\n",
    "    result['response']['body']['items']['item']\n",
    "))"
   ],
   "outputs": [
    {
     "output_type": "stream",
     "name": "stdout",
     "text": [
      "http://openapi.data.go.kr/openapi/service/rest/Covid19/getCovid19InfStateJson?serviceKey=8U2qQA84Wxnymq9otl9BlXJ%2Bo%2B3QMrwWCudGNkf0%2B%2FL6vR%2F6Sxupt7pqZQMG%2FB7sATRFYd%2FFxla970%2BB1dvooQ%3D%3D&pageNo=0&numOfRows=10&startCreateDt=20210301&endCreateDt=20210818\n"
     ]
    },
    {
     "output_type": "error",
     "ename": "NameError",
     "evalue": "name 'wholeLength' is not defined",
     "traceback": [
      "\u001b[0;31m---------------------------------------------------------------------------\u001b[0m",
      "\u001b[0;31mNameError\u001b[0m                                 Traceback (most recent call last)",
      "\u001b[0;32m<ipython-input-2-05370f80e1b2>\u001b[0m in \u001b[0;36m<module>\u001b[0;34m\u001b[0m\n\u001b[1;32m      5\u001b[0m \u001b[0mdicted\u001b[0m \u001b[0;34m=\u001b[0m \u001b[0mxmltodict\u001b[0m\u001b[0;34m.\u001b[0m\u001b[0mparse\u001b[0m\u001b[0;34m(\u001b[0m\u001b[0mr\u001b[0m\u001b[0;34m.\u001b[0m\u001b[0mtext\u001b[0m\u001b[0;34m)\u001b[0m\u001b[0;34m\u001b[0m\u001b[0;34m\u001b[0m\u001b[0m\n\u001b[1;32m      6\u001b[0m \u001b[0mresult\u001b[0m \u001b[0;34m=\u001b[0m \u001b[0mjson\u001b[0m\u001b[0;34m.\u001b[0m\u001b[0mloads\u001b[0m\u001b[0;34m(\u001b[0m\u001b[0mjson\u001b[0m\u001b[0;34m.\u001b[0m\u001b[0mdumps\u001b[0m\u001b[0;34m(\u001b[0m\u001b[0mdicted\u001b[0m\u001b[0;34m)\u001b[0m\u001b[0;34m)\u001b[0m\u001b[0;34m\u001b[0m\u001b[0;34m\u001b[0m\u001b[0m\n\u001b[0;32m----> 7\u001b[0;31m \u001b[0;32mif\u001b[0m \u001b[0mwholeLength\u001b[0m \u001b[0;34m==\u001b[0m \u001b[0;32mNone\u001b[0m\u001b[0;34m:\u001b[0m \u001b[0mwholeLength\u001b[0m \u001b[0;34m=\u001b[0m \u001b[0mresult\u001b[0m\u001b[0;34m[\u001b[0m\u001b[0;34m'response'\u001b[0m\u001b[0;34m]\u001b[0m\u001b[0;34m[\u001b[0m\u001b[0;34m'body'\u001b[0m\u001b[0;34m]\u001b[0m\u001b[0;34m[\u001b[0m\u001b[0;34m'totalCount'\u001b[0m\u001b[0;34m]\u001b[0m\u001b[0;34m\u001b[0m\u001b[0;34m\u001b[0m\u001b[0m\n\u001b[0m\u001b[1;32m      8\u001b[0m resultEssential = list(map(\n\u001b[1;32m      9\u001b[0m     \u001b[0;32mlambda\u001b[0m \u001b[0mx\u001b[0m\u001b[0;34m:\u001b[0m \u001b[0;34m[\u001b[0m\u001b[0mx\u001b[0m\u001b[0;34m.\u001b[0m\u001b[0mget\u001b[0m\u001b[0;34m(\u001b[0m\u001b[0mkey\u001b[0m\u001b[0;34m)\u001b[0m \u001b[0;32mfor\u001b[0m \u001b[0mkey\u001b[0m \u001b[0;32min\u001b[0m \u001b[0;34m[\u001b[0m\u001b[0;34m'stateDt'\u001b[0m\u001b[0;34m,\u001b[0m \u001b[0;34m'decideCnt'\u001b[0m\u001b[0;34m,\u001b[0m \u001b[0;34m'clearCnt'\u001b[0m\u001b[0;34m,\u001b[0m \u001b[0;34m'deathCnt'\u001b[0m\u001b[0;34m,\u001b[0m \u001b[0;34m'careCnt'\u001b[0m\u001b[0;34m]\u001b[0m\u001b[0;34m]\u001b[0m\u001b[0;34m,\u001b[0m\u001b[0;34m\u001b[0m\u001b[0;34m\u001b[0m\u001b[0m\n",
      "\u001b[0;31mNameError\u001b[0m: name 'wholeLength' is not defined"
     ]
    }
   ],
   "metadata": {}
  },
  {
   "cell_type": "code",
   "execution_count": null,
   "source": [
    "df = pd.DataFrame(resultEssential)\n",
    "df.columns = ['기준일', '격리해제', '완치자', '사망자', '치료중']"
   ],
   "outputs": [],
   "metadata": {}
  },
  {
   "cell_type": "code",
   "execution_count": null,
   "source": [
    "df"
   ],
   "outputs": [
    {
     "output_type": "execute_result",
     "data": {
      "text/plain": [
       "          기준일    격리해제     완치자   사망자    치료중\n",
       "0    20210818  228656  199582  2178  26896\n",
       "1    20210817  226851  197224  2173  27454\n",
       "2    20210816  225479  196198  2167  27114\n",
       "3    20210815  223924  195103  2156  26665\n",
       "4    20210814  222108  193778  2148  26182\n",
       "..        ...     ...     ...   ...    ...\n",
       "166  20210305   91630   82560  1627   7443\n",
       "167  20210304   91232   82162  1619   7451\n",
       "168  20210303   90808   81700  1612   7496\n",
       "169  20210302   90364   81338  1606   7420\n",
       "170  20210301   90020   81070  1605   7345\n",
       "\n",
       "[171 rows x 5 columns]"
      ],
      "text/html": [
       "<div>\n",
       "<style scoped>\n",
       "    .dataframe tbody tr th:only-of-type {\n",
       "        vertical-align: middle;\n",
       "    }\n",
       "\n",
       "    .dataframe tbody tr th {\n",
       "        vertical-align: top;\n",
       "    }\n",
       "\n",
       "    .dataframe thead th {\n",
       "        text-align: right;\n",
       "    }\n",
       "</style>\n",
       "<table border=\"1\" class=\"dataframe\">\n",
       "  <thead>\n",
       "    <tr style=\"text-align: right;\">\n",
       "      <th></th>\n",
       "      <th>기준일</th>\n",
       "      <th>격리해제</th>\n",
       "      <th>완치자</th>\n",
       "      <th>사망자</th>\n",
       "      <th>치료중</th>\n",
       "    </tr>\n",
       "  </thead>\n",
       "  <tbody>\n",
       "    <tr>\n",
       "      <th>0</th>\n",
       "      <td>20210818</td>\n",
       "      <td>228656</td>\n",
       "      <td>199582</td>\n",
       "      <td>2178</td>\n",
       "      <td>26896</td>\n",
       "    </tr>\n",
       "    <tr>\n",
       "      <th>1</th>\n",
       "      <td>20210817</td>\n",
       "      <td>226851</td>\n",
       "      <td>197224</td>\n",
       "      <td>2173</td>\n",
       "      <td>27454</td>\n",
       "    </tr>\n",
       "    <tr>\n",
       "      <th>2</th>\n",
       "      <td>20210816</td>\n",
       "      <td>225479</td>\n",
       "      <td>196198</td>\n",
       "      <td>2167</td>\n",
       "      <td>27114</td>\n",
       "    </tr>\n",
       "    <tr>\n",
       "      <th>3</th>\n",
       "      <td>20210815</td>\n",
       "      <td>223924</td>\n",
       "      <td>195103</td>\n",
       "      <td>2156</td>\n",
       "      <td>26665</td>\n",
       "    </tr>\n",
       "    <tr>\n",
       "      <th>4</th>\n",
       "      <td>20210814</td>\n",
       "      <td>222108</td>\n",
       "      <td>193778</td>\n",
       "      <td>2148</td>\n",
       "      <td>26182</td>\n",
       "    </tr>\n",
       "    <tr>\n",
       "      <th>...</th>\n",
       "      <td>...</td>\n",
       "      <td>...</td>\n",
       "      <td>...</td>\n",
       "      <td>...</td>\n",
       "      <td>...</td>\n",
       "    </tr>\n",
       "    <tr>\n",
       "      <th>166</th>\n",
       "      <td>20210305</td>\n",
       "      <td>91630</td>\n",
       "      <td>82560</td>\n",
       "      <td>1627</td>\n",
       "      <td>7443</td>\n",
       "    </tr>\n",
       "    <tr>\n",
       "      <th>167</th>\n",
       "      <td>20210304</td>\n",
       "      <td>91232</td>\n",
       "      <td>82162</td>\n",
       "      <td>1619</td>\n",
       "      <td>7451</td>\n",
       "    </tr>\n",
       "    <tr>\n",
       "      <th>168</th>\n",
       "      <td>20210303</td>\n",
       "      <td>90808</td>\n",
       "      <td>81700</td>\n",
       "      <td>1612</td>\n",
       "      <td>7496</td>\n",
       "    </tr>\n",
       "    <tr>\n",
       "      <th>169</th>\n",
       "      <td>20210302</td>\n",
       "      <td>90364</td>\n",
       "      <td>81338</td>\n",
       "      <td>1606</td>\n",
       "      <td>7420</td>\n",
       "    </tr>\n",
       "    <tr>\n",
       "      <th>170</th>\n",
       "      <td>20210301</td>\n",
       "      <td>90020</td>\n",
       "      <td>81070</td>\n",
       "      <td>1605</td>\n",
       "      <td>7345</td>\n",
       "    </tr>\n",
       "  </tbody>\n",
       "</table>\n",
       "<p>171 rows × 5 columns</p>\n",
       "</div>"
      ]
     },
     "metadata": {},
     "execution_count": 71
    }
   ],
   "metadata": {}
  }
 ],
 "metadata": {
  "orig_nbformat": 4,
  "language_info": {
   "name": "python",
   "version": "3.8.5",
   "mimetype": "text/x-python",
   "codemirror_mode": {
    "name": "ipython",
    "version": 3
   },
   "pygments_lexer": "ipython3",
   "nbconvert_exporter": "python",
   "file_extension": ".py"
  },
  "kernelspec": {
   "name": "python3",
   "display_name": "Python 3.8.5 64-bit ('base': conda)"
  },
  "interpreter": {
   "hash": "98b0a9b7b4eaaa670588a142fd0a9b87eaafe866f1db4228be72b4211d12040f"
  }
 },
 "nbformat": 4,
 "nbformat_minor": 2
}