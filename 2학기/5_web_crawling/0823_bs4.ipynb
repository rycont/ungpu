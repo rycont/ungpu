{
 "cells": [
  {
   "cell_type": "code",
   "execution_count": 1,
   "source": [
    "from bs4 import BeautifulSoup as bs4"
   ],
   "outputs": [],
   "metadata": {}
  },
  {
   "cell_type": "code",
   "execution_count": 2,
   "source": [
    "# !pip install bs4"
   ],
   "outputs": [],
   "metadata": {}
  },
  {
   "cell_type": "code",
   "execution_count": 3,
   "source": [
    "html = open(\"./example.html\").read()"
   ],
   "outputs": [],
   "metadata": {}
  },
  {
   "cell_type": "code",
   "execution_count": 4,
   "source": [
    "soup = bs4(html)"
   ],
   "outputs": [],
   "metadata": {}
  },
  {
   "cell_type": "code",
   "execution_count": 5,
   "source": [
    "type(soup)"
   ],
   "outputs": [
    {
     "output_type": "execute_result",
     "data": {
      "text/plain": [
       "bs4.BeautifulSoup"
      ]
     },
     "metadata": {},
     "execution_count": 5
    }
   ],
   "metadata": {}
  },
  {
   "cell_type": "code",
   "execution_count": 6,
   "source": [
    "print(soup.prettify())"
   ],
   "outputs": [
    {
     "output_type": "stream",
     "name": "stdout",
     "text": [
      "<!DOCTYPE html>\n",
      "<html lang=\"en\">\n",
      " <head>\n",
      "  <meta charset=\"utf-8\"/>\n",
      "  <meta content=\"IE=edge\" http-equiv=\"X-UA-Compatible\"/>\n",
      "  <meta content=\"width=device-width, initial-scale=1.0\" name=\"viewport\"/>\n",
      "  <title>\n",
      "   My Story\n",
      "  </title>\n",
      " </head>\n",
      " <body>\n",
      "  <p class=\"title\">\n",
      "   My Story\n",
      "  </p>\n",
      "  <p class=\"story\">\n",
      "   내가 좋아하는 취미\n",
      "  </p>\n",
      "  <p>\n",
      "   <a class=\"food\" href=\"http://www.pizzahut.co.kr\" id=\"pizzahut\">\n",
      "    피자!\n",
      "   </a>\n",
      "   <a class=\"food\" href=\"http://www.kyochon.co.kr\" id=\"kyochon\">\n",
      "    치킨!\n",
      "   </a>\n",
      "   <a class=\"food\" href=\"http://www.moms-touch.co.kr\" id=\"hanburger\">\n",
      "    햄버거!\n",
      "   </a>\n",
      "  </p>\n",
      " </body>\n",
      "</html>\n"
     ]
    }
   ],
   "metadata": {}
  },
  {
   "cell_type": "markdown",
   "source": [
    "## 1.1. Find 함수\n",
    "- 조건에 만족하는 첫 번째 태그만 검색"
   ],
   "metadata": {}
  },
  {
   "cell_type": "code",
   "execution_count": 7,
   "source": [
    "soup.find(\"p\")"
   ],
   "outputs": [
    {
     "output_type": "execute_result",
     "data": {
      "text/plain": [
       "<p class=\"title\">My Story</p>"
      ]
     },
     "metadata": {},
     "execution_count": 7
    }
   ],
   "metadata": {}
  },
  {
   "cell_type": "code",
   "execution_count": 8,
   "source": [
    "soup.find(\"a\")"
   ],
   "outputs": [
    {
     "output_type": "execute_result",
     "data": {
      "text/plain": [
       "<a class=\"food\" href=\"http://www.pizzahut.co.kr\" id=\"pizzahut\">피자!</a>"
      ]
     },
     "metadata": {},
     "execution_count": 8
    }
   ],
   "metadata": {}
  },
  {
   "cell_type": "code",
   "execution_count": 9,
   "source": [
    "soup.find(\"a\", class_=\"food\", id=\"kyochon\")"
   ],
   "outputs": [
    {
     "output_type": "execute_result",
     "data": {
      "text/plain": [
       "<a class=\"food\" href=\"http://www.kyochon.co.kr\" id=\"kyochon\">치킨!</a>"
      ]
     },
     "metadata": {},
     "execution_count": 9
    }
   ],
   "metadata": {}
  },
  {
   "cell_type": "code",
   "execution_count": 10,
   "source": [
    "attrs = {\n",
    "    \"class\": \"food\"\n",
    "}\n",
    "soup.find(\"a\", attrs=attrs)"
   ],
   "outputs": [
    {
     "output_type": "execute_result",
     "data": {
      "text/plain": [
       "<a class=\"food\" href=\"http://www.pizzahut.co.kr\" id=\"pizzahut\">피자!</a>"
      ]
     },
     "metadata": {},
     "execution_count": 10
    }
   ],
   "metadata": {}
  },
  {
   "cell_type": "markdown",
   "source": [
    "## 1.2. find_all 함수\n",
    "조건에 맞는 함수를 찾아서 리스트로 변환"
   ],
   "metadata": {}
  },
  {
   "cell_type": "code",
   "execution_count": 11,
   "source": [
    "soup.find_all(\"p\")"
   ],
   "outputs": [
    {
     "output_type": "execute_result",
     "data": {
      "text/plain": [
       "[<p class=\"title\">My Story</p>,\n",
       " <p class=\"story\">내가 좋아하는 취미</p>,\n",
       " <p>\n",
       " <a class=\"food\" href=\"http://www.pizzahut.co.kr\" id=\"pizzahut\">피자!</a>\n",
       " <a class=\"food\" href=\"http://www.kyochon.co.kr\" id=\"kyochon\">치킨!</a>\n",
       " <a class=\"food\" href=\"http://www.moms-touch.co.kr\" id=\"hanburger\">햄버거!</a>\n",
       " </p>]"
      ]
     },
     "metadata": {},
     "execution_count": 11
    }
   ],
   "metadata": {}
  },
  {
   "cell_type": "code",
   "execution_count": 14,
   "source": [
    "for tag in soup.find_all(\"a\"):\n",
    "    print(tag.text, '는', tag['href'], '에서~')"
   ],
   "outputs": [
    {
     "output_type": "stream",
     "name": "stdout",
     "text": [
      "피자! 는 http://www.pizzahut.co.kr 에서~\n",
      "치킨! 는 http://www.kyochon.co.kr 에서~\n",
      "햄버거! 는 http://www.moms-touch.co.kr 에서~\n"
     ]
    }
   ],
   "metadata": {}
  },
  {
   "cell_type": "code",
   "execution_count": 15,
   "source": [
    "soup.find(\"title\").text"
   ],
   "outputs": [
    {
     "output_type": "execute_result",
     "data": {
      "text/plain": [
       "'My Story'"
      ]
     },
     "metadata": {},
     "execution_count": 15
    }
   ],
   "metadata": {}
  },
  {
   "cell_type": "markdown",
   "source": [
    "## 1.3. Find!\n",
    "- CSS Selector로 노드를 가져올 수 있음\n",
    "    - 자손태그: \"span p\"\n",
    "    - 직계자손: \"span > p\"\n",
    "    - ID 선택자: \"#id\"\n",
    "    - 클래스 선택자: \".class\"\n",
    "    - 속성값 찾기: [attr=adsf]\n",
    "        - 포함: [attr*=adsf]\n",
    "        - 시작값: [attr^=asdf]\n",
    "        - 끝나는 값: [attr$=asdf]"
   ],
   "metadata": {}
  },
  {
   "cell_type": "code",
   "execution_count": 17,
   "source": [
    "soup.select(\"p\")"
   ],
   "outputs": [
    {
     "output_type": "execute_result",
     "data": {
      "text/plain": [
       "[<p class=\"title\">My Story</p>,\n",
       " <p class=\"story\">내가 좋아하는 취미</p>,\n",
       " <p>\n",
       " <a class=\"food\" href=\"http://www.pizzahut.co.kr\" id=\"pizzahut\">피자!</a>\n",
       " <a class=\"food\" href=\"http://www.kyochon.co.kr\" id=\"kyochon\">치킨!</a>\n",
       " <a class=\"food\" href=\"http://www.moms-touch.co.kr\" id=\"hanburger\">햄버거!</a>\n",
       " </p>]"
      ]
     },
     "metadata": {},
     "execution_count": 17
    }
   ],
   "metadata": {}
  },
  {
   "cell_type": "code",
   "execution_count": 19,
   "source": [
    "soup.select_one(\"p\") # One을 따로 줘야됨.. 일관성 어디감!!"
   ],
   "outputs": [
    {
     "output_type": "execute_result",
     "data": {
      "text/plain": [
       "<p class=\"title\">My Story</p>"
      ]
     },
     "metadata": {},
     "execution_count": 19
    }
   ],
   "metadata": {}
  },
  {
   "cell_type": "code",
   "execution_count": 24,
   "source": [
    "soup.select(\"body>p\")"
   ],
   "outputs": [
    {
     "output_type": "execute_result",
     "data": {
      "text/plain": [
       "[<p class=\"title\">My Story</p>,\n",
       " <p class=\"story\">내가 좋아하는 취미</p>,\n",
       " <p>\n",
       " <a class=\"food\" href=\"http://www.pizzahut.co.kr\" id=\"pizzahut\">피자!</a>\n",
       " <a class=\"food\" href=\"http://www.kyochon.co.kr\" id=\"kyochon\">치킨!</a>\n",
       " <a class=\"food\" href=\"http://www.moms-touch.co.kr\" id=\"hanburger\">햄버거!</a>\n",
       " </p>]"
      ]
     },
     "metadata": {},
     "execution_count": 24
    }
   ],
   "metadata": {}
  },
  {
   "cell_type": "code",
   "execution_count": 26,
   "source": [
    "soup.select(\".title\")"
   ],
   "outputs": [
    {
     "output_type": "execute_result",
     "data": {
      "text/plain": [
       "[<p class=\"title\">My Story</p>]"
      ]
     },
     "metadata": {},
     "execution_count": 26
    }
   ],
   "metadata": {}
  },
  {
   "cell_type": "code",
   "execution_count": 28,
   "source": [
    "soup.select(\"[href='http://www.moms-touch.co.kr']\")"
   ],
   "outputs": [
    {
     "output_type": "execute_result",
     "data": {
      "text/plain": [
       "[<a class=\"food\" href=\"http://www.moms-touch.co.kr\" id=\"hanburger\">햄버거!</a>]"
      ]
     },
     "metadata": {},
     "execution_count": 28
    }
   ],
   "metadata": {}
  },
  {
   "cell_type": "code",
   "execution_count": 30,
   "source": [
    "soup.select('[href$=\"t.co.kr\"]')"
   ],
   "outputs": [
    {
     "output_type": "execute_result",
     "data": {
      "text/plain": [
       "[<a class=\"food\" href=\"http://www.pizzahut.co.kr\" id=\"pizzahut\">피자!</a>]"
      ]
     },
     "metadata": {},
     "execution_count": 30
    }
   ],
   "metadata": {}
  },
  {
   "cell_type": "code",
   "execution_count": 31,
   "source": [
    "soup.select('[href*=\"ch\"]')"
   ],
   "outputs": [
    {
     "output_type": "execute_result",
     "data": {
      "text/plain": [
       "[<a class=\"food\" href=\"http://www.kyochon.co.kr\" id=\"kyochon\">치킨!</a>,\n",
       " <a class=\"food\" href=\"http://www.moms-touch.co.kr\" id=\"hanburger\">햄버거!</a>]"
      ]
     },
     "metadata": {},
     "execution_count": 31
    }
   ],
   "metadata": {}
  }
 ],
 "metadata": {
  "orig_nbformat": 4,
  "language_info": {
   "name": "python",
   "version": "3.8.5",
   "mimetype": "text/x-python",
   "codemirror_mode": {
    "name": "ipython",
    "version": 3
   },
   "pygments_lexer": "ipython3",
   "nbconvert_exporter": "python",
   "file_extension": ".py"
  },
  "kernelspec": {
   "name": "python3",
   "display_name": "Python 3.8.5 64-bit ('base': conda)"
  },
  "interpreter": {
   "hash": "98b0a9b7b4eaaa670588a142fd0a9b87eaafe866f1db4228be72b4211d12040f"
  }
 },
 "nbformat": 4,
 "nbformat_minor": 2
}