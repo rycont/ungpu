{
 "metadata": {
  "language_info": {
   "codemirror_mode": {
    "name": "ipython",
    "version": 3
   },
   "file_extension": ".py",
   "mimetype": "text/x-python",
   "name": "python",
   "nbconvert_exporter": "python",
   "pygments_lexer": "ipython3",
   "version": "3.8.5"
  },
  "orig_nbformat": 2,
  "kernelspec": {
   "name": "python385jvsc74a57bd031f2aee4e71d21fbe5cf8b01ff0e069b9275f58929596ceb00d14d90e3e16cd6",
   "display_name": "Python 3.8.5 64-bit"
  },
  "metadata": {
   "interpreter": {
    "hash": "31f2aee4e71d21fbe5cf8b01ff0e069b9275f58929596ceb00d14d90e3e16cd6"
   }
  }
 },
 "nbformat": 4,
 "nbformat_minor": 2,
 "cells": [
  {
   "cell_type": "code",
   "execution_count": 1,
   "metadata": {},
   "outputs": [],
   "source": [
    "import numpy as np\n",
    "import pandas as pd"
   ]
  },
  {
   "cell_type": "code",
   "execution_count": 9,
   "metadata": {},
   "outputs": [],
   "source": [
    "d = pd.read_csv(\"https://bit.ly/ds-korean-idol\")"
   ]
  },
  {
   "cell_type": "code",
   "execution_count": 11,
   "metadata": {},
   "outputs": [
    {
     "output_type": "execute_result",
     "data": {
      "text/plain": [
       "      이름     그룹      소속사  성별        생년월일      키 혈액형   브랜드평판지수  성별2\n",
       "0     지민  방탄소년단      빅히트  남자  1995-10-13  173.6   A  10523260    0\n",
       "1   지드래곤     빅뱅       YG  남자  1988-08-18  177.0   A   9916947    0\n",
       "2   강다니엘    NaN      커넥트  남자  1996-12-10  180.0   A   8273745    0\n",
       "3      뷔  방탄소년단      빅히트  남자  1995-12-30  178.0  AB   8073501    0\n",
       "4     화사    마마무      RBW  여자  1995-07-23  162.1   A   7650928    1\n",
       "5     정국  방탄소년단      빅히트  남자  1997-09-01  178.0   A   5208335    0\n",
       "6     민현   뉴이스트     플레디스  남자  1995-08-09  182.3   O   4989792    0\n",
       "7     소연    아이들       큐브  여자  1998-08-26    NaN   B   4668615    1\n",
       "8      진  방탄소년단      빅히트  남자  1992-12-04  179.2   O   4570308    0\n",
       "9    하성운     핫샷  스타크루이엔티  남자  1994-03-22  167.1   A   4036489    0\n",
       "10    태연   소녀시대       SM  여자  1989-03-09    NaN   A   3918661    1\n",
       "11   차은우   아스트로     판타지오  남자  1997-03-30  183.0   B   3506027    0\n",
       "12    백호   뉴이스트     플레디스  남자  1995-07-21  175.0  AB   3301654    0\n",
       "13    JR   뉴이스트     플레디스  남자  1995-06-08  176.0   O   3274137    0\n",
       "14    슈가  방탄소년단      빅히트  남자  1993-03-09  174.0   O   2925442    0"
      ],
      "text/html": "<div>\n<style scoped>\n    .dataframe tbody tr th:only-of-type {\n        vertical-align: middle;\n    }\n\n    .dataframe tbody tr th {\n        vertical-align: top;\n    }\n\n    .dataframe thead th {\n        text-align: right;\n    }\n</style>\n<table border=\"1\" class=\"dataframe\">\n  <thead>\n    <tr style=\"text-align: right;\">\n      <th></th>\n      <th>이름</th>\n      <th>그룹</th>\n      <th>소속사</th>\n      <th>성별</th>\n      <th>생년월일</th>\n      <th>키</th>\n      <th>혈액형</th>\n      <th>브랜드평판지수</th>\n      <th>성별2</th>\n    </tr>\n  </thead>\n  <tbody>\n    <tr>\n      <th>0</th>\n      <td>지민</td>\n      <td>방탄소년단</td>\n      <td>빅히트</td>\n      <td>남자</td>\n      <td>1995-10-13</td>\n      <td>173.6</td>\n      <td>A</td>\n      <td>10523260</td>\n      <td>0</td>\n    </tr>\n    <tr>\n      <th>1</th>\n      <td>지드래곤</td>\n      <td>빅뱅</td>\n      <td>YG</td>\n      <td>남자</td>\n      <td>1988-08-18</td>\n      <td>177.0</td>\n      <td>A</td>\n      <td>9916947</td>\n      <td>0</td>\n    </tr>\n    <tr>\n      <th>2</th>\n      <td>강다니엘</td>\n      <td>NaN</td>\n      <td>커넥트</td>\n      <td>남자</td>\n      <td>1996-12-10</td>\n      <td>180.0</td>\n      <td>A</td>\n      <td>8273745</td>\n      <td>0</td>\n    </tr>\n    <tr>\n      <th>3</th>\n      <td>뷔</td>\n      <td>방탄소년단</td>\n      <td>빅히트</td>\n      <td>남자</td>\n      <td>1995-12-30</td>\n      <td>178.0</td>\n      <td>AB</td>\n      <td>8073501</td>\n      <td>0</td>\n    </tr>\n    <tr>\n      <th>4</th>\n      <td>화사</td>\n      <td>마마무</td>\n      <td>RBW</td>\n      <td>여자</td>\n      <td>1995-07-23</td>\n      <td>162.1</td>\n      <td>A</td>\n      <td>7650928</td>\n      <td>1</td>\n    </tr>\n    <tr>\n      <th>5</th>\n      <td>정국</td>\n      <td>방탄소년단</td>\n      <td>빅히트</td>\n      <td>남자</td>\n      <td>1997-09-01</td>\n      <td>178.0</td>\n      <td>A</td>\n      <td>5208335</td>\n      <td>0</td>\n    </tr>\n    <tr>\n      <th>6</th>\n      <td>민현</td>\n      <td>뉴이스트</td>\n      <td>플레디스</td>\n      <td>남자</td>\n      <td>1995-08-09</td>\n      <td>182.3</td>\n      <td>O</td>\n      <td>4989792</td>\n      <td>0</td>\n    </tr>\n    <tr>\n      <th>7</th>\n      <td>소연</td>\n      <td>아이들</td>\n      <td>큐브</td>\n      <td>여자</td>\n      <td>1998-08-26</td>\n      <td>NaN</td>\n      <td>B</td>\n      <td>4668615</td>\n      <td>1</td>\n    </tr>\n    <tr>\n      <th>8</th>\n      <td>진</td>\n      <td>방탄소년단</td>\n      <td>빅히트</td>\n      <td>남자</td>\n      <td>1992-12-04</td>\n      <td>179.2</td>\n      <td>O</td>\n      <td>4570308</td>\n      <td>0</td>\n    </tr>\n    <tr>\n      <th>9</th>\n      <td>하성운</td>\n      <td>핫샷</td>\n      <td>스타크루이엔티</td>\n      <td>남자</td>\n      <td>1994-03-22</td>\n      <td>167.1</td>\n      <td>A</td>\n      <td>4036489</td>\n      <td>0</td>\n    </tr>\n    <tr>\n      <th>10</th>\n      <td>태연</td>\n      <td>소녀시대</td>\n      <td>SM</td>\n      <td>여자</td>\n      <td>1989-03-09</td>\n      <td>NaN</td>\n      <td>A</td>\n      <td>3918661</td>\n      <td>1</td>\n    </tr>\n    <tr>\n      <th>11</th>\n      <td>차은우</td>\n      <td>아스트로</td>\n      <td>판타지오</td>\n      <td>남자</td>\n      <td>1997-03-30</td>\n      <td>183.0</td>\n      <td>B</td>\n      <td>3506027</td>\n      <td>0</td>\n    </tr>\n    <tr>\n      <th>12</th>\n      <td>백호</td>\n      <td>뉴이스트</td>\n      <td>플레디스</td>\n      <td>남자</td>\n      <td>1995-07-21</td>\n      <td>175.0</td>\n      <td>AB</td>\n      <td>3301654</td>\n      <td>0</td>\n    </tr>\n    <tr>\n      <th>13</th>\n      <td>JR</td>\n      <td>뉴이스트</td>\n      <td>플레디스</td>\n      <td>남자</td>\n      <td>1995-06-08</td>\n      <td>176.0</td>\n      <td>O</td>\n      <td>3274137</td>\n      <td>0</td>\n    </tr>\n    <tr>\n      <th>14</th>\n      <td>슈가</td>\n      <td>방탄소년단</td>\n      <td>빅히트</td>\n      <td>남자</td>\n      <td>1993-03-09</td>\n      <td>174.0</td>\n      <td>O</td>\n      <td>2925442</td>\n      <td>0</td>\n    </tr>\n  </tbody>\n</table>\n</div>"
     },
     "metadata": {},
     "execution_count": 11
    }
   ],
   "source": [
    "d['성별2'] = (d['성별'] != \"남자\").astype(int)\n",
    "d"
   ]
  },
  {
   "cell_type": "code",
   "execution_count": 18,
   "metadata": {},
   "outputs": [
    {
     "output_type": "execute_result",
     "data": {
      "text/plain": [
       "      이름     그룹      소속사  성별        생년월일      키 혈액형   브랜드평판지수  성별2  성별3\n",
       "0     지민  방탄소년단      빅히트  남자  1995-10-13  173.6   A  10523260    0  0.0\n",
       "1   지드래곤     빅뱅       YG  남자  1988-08-18  177.0   A   9916947    0  0.0\n",
       "2   강다니엘    NaN      커넥트  남자  1996-12-10  180.0   A   8273745    0  0.0\n",
       "3      뷔  방탄소년단      빅히트  남자  1995-12-30  178.0  AB   8073501    0  0.0\n",
       "4     화사    마마무      RBW  여자  1995-07-23  162.1   A   7650928    1  1.0\n",
       "5     정국  방탄소년단      빅히트  남자  1997-09-01  178.0   A   5208335    0  0.0\n",
       "6     민현   뉴이스트     플레디스  남자  1995-08-09  182.3   O   4989792    0  0.0\n",
       "7     소연    아이들       큐브  여자  1998-08-26    NaN   B   4668615    1  1.0\n",
       "8      진  방탄소년단      빅히트  남자  1992-12-04  179.2   O   4570308    0  0.0\n",
       "9    하성운     핫샷  스타크루이엔티  남자  1994-03-22  167.1   A   4036489    0  0.0\n",
       "10    태연   소녀시대       SM  여자  1989-03-09    NaN   A   3918661    1  1.0\n",
       "11   차은우   아스트로     판타지오  남자  1997-03-30  183.0   B   3506027    0  0.0\n",
       "12    백호   뉴이스트     플레디스  남자  1995-07-21  175.0  AB   3301654    0  0.0\n",
       "13    JR   뉴이스트     플레디스  남자  1995-06-08  176.0   O   3274137    0  0.0\n",
       "14    슈가  방탄소년단      빅히트  남자  1993-03-09  174.0   O   2925442    0  0.0"
      ],
      "text/html": "<div>\n<style scoped>\n    .dataframe tbody tr th:only-of-type {\n        vertical-align: middle;\n    }\n\n    .dataframe tbody tr th {\n        vertical-align: top;\n    }\n\n    .dataframe thead th {\n        text-align: right;\n    }\n</style>\n<table border=\"1\" class=\"dataframe\">\n  <thead>\n    <tr style=\"text-align: right;\">\n      <th></th>\n      <th>이름</th>\n      <th>그룹</th>\n      <th>소속사</th>\n      <th>성별</th>\n      <th>생년월일</th>\n      <th>키</th>\n      <th>혈액형</th>\n      <th>브랜드평판지수</th>\n      <th>성별2</th>\n      <th>성별3</th>\n    </tr>\n  </thead>\n  <tbody>\n    <tr>\n      <th>0</th>\n      <td>지민</td>\n      <td>방탄소년단</td>\n      <td>빅히트</td>\n      <td>남자</td>\n      <td>1995-10-13</td>\n      <td>173.6</td>\n      <td>A</td>\n      <td>10523260</td>\n      <td>0</td>\n      <td>0.0</td>\n    </tr>\n    <tr>\n      <th>1</th>\n      <td>지드래곤</td>\n      <td>빅뱅</td>\n      <td>YG</td>\n      <td>남자</td>\n      <td>1988-08-18</td>\n      <td>177.0</td>\n      <td>A</td>\n      <td>9916947</td>\n      <td>0</td>\n      <td>0.0</td>\n    </tr>\n    <tr>\n      <th>2</th>\n      <td>강다니엘</td>\n      <td>NaN</td>\n      <td>커넥트</td>\n      <td>남자</td>\n      <td>1996-12-10</td>\n      <td>180.0</td>\n      <td>A</td>\n      <td>8273745</td>\n      <td>0</td>\n      <td>0.0</td>\n    </tr>\n    <tr>\n      <th>3</th>\n      <td>뷔</td>\n      <td>방탄소년단</td>\n      <td>빅히트</td>\n      <td>남자</td>\n      <td>1995-12-30</td>\n      <td>178.0</td>\n      <td>AB</td>\n      <td>8073501</td>\n      <td>0</td>\n      <td>0.0</td>\n    </tr>\n    <tr>\n      <th>4</th>\n      <td>화사</td>\n      <td>마마무</td>\n      <td>RBW</td>\n      <td>여자</td>\n      <td>1995-07-23</td>\n      <td>162.1</td>\n      <td>A</td>\n      <td>7650928</td>\n      <td>1</td>\n      <td>1.0</td>\n    </tr>\n    <tr>\n      <th>5</th>\n      <td>정국</td>\n      <td>방탄소년단</td>\n      <td>빅히트</td>\n      <td>남자</td>\n      <td>1997-09-01</td>\n      <td>178.0</td>\n      <td>A</td>\n      <td>5208335</td>\n      <td>0</td>\n      <td>0.0</td>\n    </tr>\n    <tr>\n      <th>6</th>\n      <td>민현</td>\n      <td>뉴이스트</td>\n      <td>플레디스</td>\n      <td>남자</td>\n      <td>1995-08-09</td>\n      <td>182.3</td>\n      <td>O</td>\n      <td>4989792</td>\n      <td>0</td>\n      <td>0.0</td>\n    </tr>\n    <tr>\n      <th>7</th>\n      <td>소연</td>\n      <td>아이들</td>\n      <td>큐브</td>\n      <td>여자</td>\n      <td>1998-08-26</td>\n      <td>NaN</td>\n      <td>B</td>\n      <td>4668615</td>\n      <td>1</td>\n      <td>1.0</td>\n    </tr>\n    <tr>\n      <th>8</th>\n      <td>진</td>\n      <td>방탄소년단</td>\n      <td>빅히트</td>\n      <td>남자</td>\n      <td>1992-12-04</td>\n      <td>179.2</td>\n      <td>O</td>\n      <td>4570308</td>\n      <td>0</td>\n      <td>0.0</td>\n    </tr>\n    <tr>\n      <th>9</th>\n      <td>하성운</td>\n      <td>핫샷</td>\n      <td>스타크루이엔티</td>\n      <td>남자</td>\n      <td>1994-03-22</td>\n      <td>167.1</td>\n      <td>A</td>\n      <td>4036489</td>\n      <td>0</td>\n      <td>0.0</td>\n    </tr>\n    <tr>\n      <th>10</th>\n      <td>태연</td>\n      <td>소녀시대</td>\n      <td>SM</td>\n      <td>여자</td>\n      <td>1989-03-09</td>\n      <td>NaN</td>\n      <td>A</td>\n      <td>3918661</td>\n      <td>1</td>\n      <td>1.0</td>\n    </tr>\n    <tr>\n      <th>11</th>\n      <td>차은우</td>\n      <td>아스트로</td>\n      <td>판타지오</td>\n      <td>남자</td>\n      <td>1997-03-30</td>\n      <td>183.0</td>\n      <td>B</td>\n      <td>3506027</td>\n      <td>0</td>\n      <td>0.0</td>\n    </tr>\n    <tr>\n      <th>12</th>\n      <td>백호</td>\n      <td>뉴이스트</td>\n      <td>플레디스</td>\n      <td>남자</td>\n      <td>1995-07-21</td>\n      <td>175.0</td>\n      <td>AB</td>\n      <td>3301654</td>\n      <td>0</td>\n      <td>0.0</td>\n    </tr>\n    <tr>\n      <th>13</th>\n      <td>JR</td>\n      <td>뉴이스트</td>\n      <td>플레디스</td>\n      <td>남자</td>\n      <td>1995-06-08</td>\n      <td>176.0</td>\n      <td>O</td>\n      <td>3274137</td>\n      <td>0</td>\n      <td>0.0</td>\n    </tr>\n    <tr>\n      <th>14</th>\n      <td>슈가</td>\n      <td>방탄소년단</td>\n      <td>빅히트</td>\n      <td>남자</td>\n      <td>1993-03-09</td>\n      <td>174.0</td>\n      <td>O</td>\n      <td>2925442</td>\n      <td>0</td>\n      <td>0.0</td>\n    </tr>\n  </tbody>\n</table>\n</div>"
     },
     "metadata": {},
     "execution_count": 18
    }
   ],
   "source": [
    "d.loc[d['성별'] == '남자', '성별3'] = 0\n",
    "d.loc[d['성별'] == '여자', '성별3'] = 1\n",
    "d"
   ]
  },
  {
   "cell_type": "code",
   "execution_count": 21,
   "metadata": {},
   "outputs": [],
   "source": [
    "def male_or_female(x):\n",
    "    if x == '남자':\n",
    "        return 0\n",
    "    return 1"
   ]
  },
  {
   "cell_type": "code",
   "execution_count": 24,
   "metadata": {},
   "outputs": [
    {
     "output_type": "execute_result",
     "data": {
      "text/plain": [
       "      이름     그룹      소속사  성별        생년월일      키 혈액형   브랜드평판지수  성별2  성별3  성별4\n",
       "0     지민  방탄소년단      빅히트  남자  1995-10-13  173.6   A  10523260    0  0.0    0\n",
       "1   지드래곤     빅뱅       YG  남자  1988-08-18  177.0   A   9916947    0  0.0    0\n",
       "2   강다니엘    NaN      커넥트  남자  1996-12-10  180.0   A   8273745    0  0.0    0\n",
       "3      뷔  방탄소년단      빅히트  남자  1995-12-30  178.0  AB   8073501    0  0.0    0\n",
       "4     화사    마마무      RBW  여자  1995-07-23  162.1   A   7650928    1  1.0    1\n",
       "5     정국  방탄소년단      빅히트  남자  1997-09-01  178.0   A   5208335    0  0.0    0\n",
       "6     민현   뉴이스트     플레디스  남자  1995-08-09  182.3   O   4989792    0  0.0    0\n",
       "7     소연    아이들       큐브  여자  1998-08-26    NaN   B   4668615    1  1.0    1\n",
       "8      진  방탄소년단      빅히트  남자  1992-12-04  179.2   O   4570308    0  0.0    0\n",
       "9    하성운     핫샷  스타크루이엔티  남자  1994-03-22  167.1   A   4036489    0  0.0    0\n",
       "10    태연   소녀시대       SM  여자  1989-03-09    NaN   A   3918661    1  1.0    1\n",
       "11   차은우   아스트로     판타지오  남자  1997-03-30  183.0   B   3506027    0  0.0    0\n",
       "12    백호   뉴이스트     플레디스  남자  1995-07-21  175.0  AB   3301654    0  0.0    0\n",
       "13    JR   뉴이스트     플레디스  남자  1995-06-08  176.0   O   3274137    0  0.0    0\n",
       "14    슈가  방탄소년단      빅히트  남자  1993-03-09  174.0   O   2925442    0  0.0    0"
      ],
      "text/html": "<div>\n<style scoped>\n    .dataframe tbody tr th:only-of-type {\n        vertical-align: middle;\n    }\n\n    .dataframe tbody tr th {\n        vertical-align: top;\n    }\n\n    .dataframe thead th {\n        text-align: right;\n    }\n</style>\n<table border=\"1\" class=\"dataframe\">\n  <thead>\n    <tr style=\"text-align: right;\">\n      <th></th>\n      <th>이름</th>\n      <th>그룹</th>\n      <th>소속사</th>\n      <th>성별</th>\n      <th>생년월일</th>\n      <th>키</th>\n      <th>혈액형</th>\n      <th>브랜드평판지수</th>\n      <th>성별2</th>\n      <th>성별3</th>\n      <th>성별4</th>\n    </tr>\n  </thead>\n  <tbody>\n    <tr>\n      <th>0</th>\n      <td>지민</td>\n      <td>방탄소년단</td>\n      <td>빅히트</td>\n      <td>남자</td>\n      <td>1995-10-13</td>\n      <td>173.6</td>\n      <td>A</td>\n      <td>10523260</td>\n      <td>0</td>\n      <td>0.0</td>\n      <td>0</td>\n    </tr>\n    <tr>\n      <th>1</th>\n      <td>지드래곤</td>\n      <td>빅뱅</td>\n      <td>YG</td>\n      <td>남자</td>\n      <td>1988-08-18</td>\n      <td>177.0</td>\n      <td>A</td>\n      <td>9916947</td>\n      <td>0</td>\n      <td>0.0</td>\n      <td>0</td>\n    </tr>\n    <tr>\n      <th>2</th>\n      <td>강다니엘</td>\n      <td>NaN</td>\n      <td>커넥트</td>\n      <td>남자</td>\n      <td>1996-12-10</td>\n      <td>180.0</td>\n      <td>A</td>\n      <td>8273745</td>\n      <td>0</td>\n      <td>0.0</td>\n      <td>0</td>\n    </tr>\n    <tr>\n      <th>3</th>\n      <td>뷔</td>\n      <td>방탄소년단</td>\n      <td>빅히트</td>\n      <td>남자</td>\n      <td>1995-12-30</td>\n      <td>178.0</td>\n      <td>AB</td>\n      <td>8073501</td>\n      <td>0</td>\n      <td>0.0</td>\n      <td>0</td>\n    </tr>\n    <tr>\n      <th>4</th>\n      <td>화사</td>\n      <td>마마무</td>\n      <td>RBW</td>\n      <td>여자</td>\n      <td>1995-07-23</td>\n      <td>162.1</td>\n      <td>A</td>\n      <td>7650928</td>\n      <td>1</td>\n      <td>1.0</td>\n      <td>1</td>\n    </tr>\n    <tr>\n      <th>5</th>\n      <td>정국</td>\n      <td>방탄소년단</td>\n      <td>빅히트</td>\n      <td>남자</td>\n      <td>1997-09-01</td>\n      <td>178.0</td>\n      <td>A</td>\n      <td>5208335</td>\n      <td>0</td>\n      <td>0.0</td>\n      <td>0</td>\n    </tr>\n    <tr>\n      <th>6</th>\n      <td>민현</td>\n      <td>뉴이스트</td>\n      <td>플레디스</td>\n      <td>남자</td>\n      <td>1995-08-09</td>\n      <td>182.3</td>\n      <td>O</td>\n      <td>4989792</td>\n      <td>0</td>\n      <td>0.0</td>\n      <td>0</td>\n    </tr>\n    <tr>\n      <th>7</th>\n      <td>소연</td>\n      <td>아이들</td>\n      <td>큐브</td>\n      <td>여자</td>\n      <td>1998-08-26</td>\n      <td>NaN</td>\n      <td>B</td>\n      <td>4668615</td>\n      <td>1</td>\n      <td>1.0</td>\n      <td>1</td>\n    </tr>\n    <tr>\n      <th>8</th>\n      <td>진</td>\n      <td>방탄소년단</td>\n      <td>빅히트</td>\n      <td>남자</td>\n      <td>1992-12-04</td>\n      <td>179.2</td>\n      <td>O</td>\n      <td>4570308</td>\n      <td>0</td>\n      <td>0.0</td>\n      <td>0</td>\n    </tr>\n    <tr>\n      <th>9</th>\n      <td>하성운</td>\n      <td>핫샷</td>\n      <td>스타크루이엔티</td>\n      <td>남자</td>\n      <td>1994-03-22</td>\n      <td>167.1</td>\n      <td>A</td>\n      <td>4036489</td>\n      <td>0</td>\n      <td>0.0</td>\n      <td>0</td>\n    </tr>\n    <tr>\n      <th>10</th>\n      <td>태연</td>\n      <td>소녀시대</td>\n      <td>SM</td>\n      <td>여자</td>\n      <td>1989-03-09</td>\n      <td>NaN</td>\n      <td>A</td>\n      <td>3918661</td>\n      <td>1</td>\n      <td>1.0</td>\n      <td>1</td>\n    </tr>\n    <tr>\n      <th>11</th>\n      <td>차은우</td>\n      <td>아스트로</td>\n      <td>판타지오</td>\n      <td>남자</td>\n      <td>1997-03-30</td>\n      <td>183.0</td>\n      <td>B</td>\n      <td>3506027</td>\n      <td>0</td>\n      <td>0.0</td>\n      <td>0</td>\n    </tr>\n    <tr>\n      <th>12</th>\n      <td>백호</td>\n      <td>뉴이스트</td>\n      <td>플레디스</td>\n      <td>남자</td>\n      <td>1995-07-21</td>\n      <td>175.0</td>\n      <td>AB</td>\n      <td>3301654</td>\n      <td>0</td>\n      <td>0.0</td>\n      <td>0</td>\n    </tr>\n    <tr>\n      <th>13</th>\n      <td>JR</td>\n      <td>뉴이스트</td>\n      <td>플레디스</td>\n      <td>남자</td>\n      <td>1995-06-08</td>\n      <td>176.0</td>\n      <td>O</td>\n      <td>3274137</td>\n      <td>0</td>\n      <td>0.0</td>\n      <td>0</td>\n    </tr>\n    <tr>\n      <th>14</th>\n      <td>슈가</td>\n      <td>방탄소년단</td>\n      <td>빅히트</td>\n      <td>남자</td>\n      <td>1993-03-09</td>\n      <td>174.0</td>\n      <td>O</td>\n      <td>2925442</td>\n      <td>0</td>\n      <td>0.0</td>\n      <td>0</td>\n    </tr>\n  </tbody>\n</table>\n</div>"
     },
     "metadata": {},
     "execution_count": 24
    }
   ],
   "source": [
    "d['성별4'] = d['성별'].apply(male_or_female)\n",
    "d"
   ]
  },
  {
   "source": [
    "## 11.3. Map 사용하기"
   ],
   "cell_type": "markdown",
   "metadata": {}
  },
  {
   "cell_type": "code",
   "execution_count": 26,
   "metadata": {},
   "outputs": [
    {
     "output_type": "execute_result",
     "data": {
      "text/plain": [
       "0     0\n",
       "1     0\n",
       "2     0\n",
       "3     0\n",
       "4     1\n",
       "5     0\n",
       "6     0\n",
       "7     1\n",
       "8     0\n",
       "9     0\n",
       "10    1\n",
       "11    0\n",
       "12    0\n",
       "13    0\n",
       "14    0\n",
       "Name: 성별, dtype: int64"
      ]
     },
     "metadata": {},
     "execution_count": 26
    }
   ],
   "source": [
    "my_map = {\n",
    "    '남자': 0,\n",
    "    '여자': 1\n",
    "}\n",
    "d['성별'].map(my_map)"
   ]
  },
  {
   "cell_type": "code",
   "execution_count": 31,
   "metadata": {},
   "outputs": [
    {
     "output_type": "execute_result",
     "data": {
      "text/plain": [
       "      이름     그룹      소속사  성별        생년월일      키 혈액형   브랜드평판지수  성별2  성별3  성별4  \\\n",
       "0     지민  방탄소년단      빅히트  남자  1995-10-13  173.6   A  10523260    0  0.0    0   \n",
       "1   지드래곤     빅뱅       YG  남자  1988-08-18  177.0   A   9916947    0  0.0    0   \n",
       "2   강다니엘    NaN      커넥트  남자  1996-12-10  180.0   A   8273745    0  0.0    0   \n",
       "3      뷔  방탄소년단      빅히트  남자  1995-12-30  178.0  AB   8073501    0  0.0    0   \n",
       "4     화사    마마무      RBW  여자  1995-07-23  162.1   A   7650928    1  1.0    1   \n",
       "5     정국  방탄소년단      빅히트  남자  1997-09-01  178.0   A   5208335    0  0.0    0   \n",
       "6     민현   뉴이스트     플레디스  남자  1995-08-09  182.3   O   4989792    0  0.0    0   \n",
       "7     소연    아이들       큐브  여자  1998-08-26    NaN   B   4668615    1  1.0    1   \n",
       "8      진  방탄소년단      빅히트  남자  1992-12-04  179.2   O   4570308    0  0.0    0   \n",
       "9    하성운     핫샷  스타크루이엔티  남자  1994-03-22  167.1   A   4036489    0  0.0    0   \n",
       "10    태연   소녀시대       SM  여자  1989-03-09    NaN   A   3918661    1  1.0    1   \n",
       "11   차은우   아스트로     판타지오  남자  1997-03-30  183.0   B   3506027    0  0.0    0   \n",
       "12    백호   뉴이스트     플레디스  남자  1995-07-21  175.0  AB   3301654    0  0.0    0   \n",
       "13    JR   뉴이스트     플레디스  남자  1995-06-08  176.0   O   3274137    0  0.0    0   \n",
       "14    슈가  방탄소년단      빅히트  남자  1993-03-09  174.0   O   2925442    0  0.0    0   \n",
       "\n",
       "         간단지수  \n",
       "0   1052.3260  \n",
       "1    991.6947  \n",
       "2    827.3745  \n",
       "3    807.3501  \n",
       "4    765.0928  \n",
       "5    520.8335  \n",
       "6    498.9792  \n",
       "7    466.8615  \n",
       "8    457.0308  \n",
       "9    403.6489  \n",
       "10   391.8661  \n",
       "11   350.6027  \n",
       "12   330.1654  \n",
       "13   327.4137  \n",
       "14   292.5442  "
      ],
      "text/html": "<div>\n<style scoped>\n    .dataframe tbody tr th:only-of-type {\n        vertical-align: middle;\n    }\n\n    .dataframe tbody tr th {\n        vertical-align: top;\n    }\n\n    .dataframe thead th {\n        text-align: right;\n    }\n</style>\n<table border=\"1\" class=\"dataframe\">\n  <thead>\n    <tr style=\"text-align: right;\">\n      <th></th>\n      <th>이름</th>\n      <th>그룹</th>\n      <th>소속사</th>\n      <th>성별</th>\n      <th>생년월일</th>\n      <th>키</th>\n      <th>혈액형</th>\n      <th>브랜드평판지수</th>\n      <th>성별2</th>\n      <th>성별3</th>\n      <th>성별4</th>\n      <th>간단지수</th>\n    </tr>\n  </thead>\n  <tbody>\n    <tr>\n      <th>0</th>\n      <td>지민</td>\n      <td>방탄소년단</td>\n      <td>빅히트</td>\n      <td>남자</td>\n      <td>1995-10-13</td>\n      <td>173.6</td>\n      <td>A</td>\n      <td>10523260</td>\n      <td>0</td>\n      <td>0.0</td>\n      <td>0</td>\n      <td>1052.3260</td>\n    </tr>\n    <tr>\n      <th>1</th>\n      <td>지드래곤</td>\n      <td>빅뱅</td>\n      <td>YG</td>\n      <td>남자</td>\n      <td>1988-08-18</td>\n      <td>177.0</td>\n      <td>A</td>\n      <td>9916947</td>\n      <td>0</td>\n      <td>0.0</td>\n      <td>0</td>\n      <td>991.6947</td>\n    </tr>\n    <tr>\n      <th>2</th>\n      <td>강다니엘</td>\n      <td>NaN</td>\n      <td>커넥트</td>\n      <td>남자</td>\n      <td>1996-12-10</td>\n      <td>180.0</td>\n      <td>A</td>\n      <td>8273745</td>\n      <td>0</td>\n      <td>0.0</td>\n      <td>0</td>\n      <td>827.3745</td>\n    </tr>\n    <tr>\n      <th>3</th>\n      <td>뷔</td>\n      <td>방탄소년단</td>\n      <td>빅히트</td>\n      <td>남자</td>\n      <td>1995-12-30</td>\n      <td>178.0</td>\n      <td>AB</td>\n      <td>8073501</td>\n      <td>0</td>\n      <td>0.0</td>\n      <td>0</td>\n      <td>807.3501</td>\n    </tr>\n    <tr>\n      <th>4</th>\n      <td>화사</td>\n      <td>마마무</td>\n      <td>RBW</td>\n      <td>여자</td>\n      <td>1995-07-23</td>\n      <td>162.1</td>\n      <td>A</td>\n      <td>7650928</td>\n      <td>1</td>\n      <td>1.0</td>\n      <td>1</td>\n      <td>765.0928</td>\n    </tr>\n    <tr>\n      <th>5</th>\n      <td>정국</td>\n      <td>방탄소년단</td>\n      <td>빅히트</td>\n      <td>남자</td>\n      <td>1997-09-01</td>\n      <td>178.0</td>\n      <td>A</td>\n      <td>5208335</td>\n      <td>0</td>\n      <td>0.0</td>\n      <td>0</td>\n      <td>520.8335</td>\n    </tr>\n    <tr>\n      <th>6</th>\n      <td>민현</td>\n      <td>뉴이스트</td>\n      <td>플레디스</td>\n      <td>남자</td>\n      <td>1995-08-09</td>\n      <td>182.3</td>\n      <td>O</td>\n      <td>4989792</td>\n      <td>0</td>\n      <td>0.0</td>\n      <td>0</td>\n      <td>498.9792</td>\n    </tr>\n    <tr>\n      <th>7</th>\n      <td>소연</td>\n      <td>아이들</td>\n      <td>큐브</td>\n      <td>여자</td>\n      <td>1998-08-26</td>\n      <td>NaN</td>\n      <td>B</td>\n      <td>4668615</td>\n      <td>1</td>\n      <td>1.0</td>\n      <td>1</td>\n      <td>466.8615</td>\n    </tr>\n    <tr>\n      <th>8</th>\n      <td>진</td>\n      <td>방탄소년단</td>\n      <td>빅히트</td>\n      <td>남자</td>\n      <td>1992-12-04</td>\n      <td>179.2</td>\n      <td>O</td>\n      <td>4570308</td>\n      <td>0</td>\n      <td>0.0</td>\n      <td>0</td>\n      <td>457.0308</td>\n    </tr>\n    <tr>\n      <th>9</th>\n      <td>하성운</td>\n      <td>핫샷</td>\n      <td>스타크루이엔티</td>\n      <td>남자</td>\n      <td>1994-03-22</td>\n      <td>167.1</td>\n      <td>A</td>\n      <td>4036489</td>\n      <td>0</td>\n      <td>0.0</td>\n      <td>0</td>\n      <td>403.6489</td>\n    </tr>\n    <tr>\n      <th>10</th>\n      <td>태연</td>\n      <td>소녀시대</td>\n      <td>SM</td>\n      <td>여자</td>\n      <td>1989-03-09</td>\n      <td>NaN</td>\n      <td>A</td>\n      <td>3918661</td>\n      <td>1</td>\n      <td>1.0</td>\n      <td>1</td>\n      <td>391.8661</td>\n    </tr>\n    <tr>\n      <th>11</th>\n      <td>차은우</td>\n      <td>아스트로</td>\n      <td>판타지오</td>\n      <td>남자</td>\n      <td>1997-03-30</td>\n      <td>183.0</td>\n      <td>B</td>\n      <td>3506027</td>\n      <td>0</td>\n      <td>0.0</td>\n      <td>0</td>\n      <td>350.6027</td>\n    </tr>\n    <tr>\n      <th>12</th>\n      <td>백호</td>\n      <td>뉴이스트</td>\n      <td>플레디스</td>\n      <td>남자</td>\n      <td>1995-07-21</td>\n      <td>175.0</td>\n      <td>AB</td>\n      <td>3301654</td>\n      <td>0</td>\n      <td>0.0</td>\n      <td>0</td>\n      <td>330.1654</td>\n    </tr>\n    <tr>\n      <th>13</th>\n      <td>JR</td>\n      <td>뉴이스트</td>\n      <td>플레디스</td>\n      <td>남자</td>\n      <td>1995-06-08</td>\n      <td>176.0</td>\n      <td>O</td>\n      <td>3274137</td>\n      <td>0</td>\n      <td>0.0</td>\n      <td>0</td>\n      <td>327.4137</td>\n    </tr>\n    <tr>\n      <th>14</th>\n      <td>슈가</td>\n      <td>방탄소년단</td>\n      <td>빅히트</td>\n      <td>남자</td>\n      <td>1993-03-09</td>\n      <td>174.0</td>\n      <td>O</td>\n      <td>2925442</td>\n      <td>0</td>\n      <td>0.0</td>\n      <td>0</td>\n      <td>292.5442</td>\n    </tr>\n  </tbody>\n</table>\n</div>"
     },
     "metadata": {},
     "execution_count": 31
    }
   ],
   "source": [
    "def small(score):\n",
    "    return score / 10000\n",
    "d['간단지수'] = d['브랜드평판지수'].apply(small)\n",
    "d"
   ]
  },
  {
   "cell_type": "code",
   "execution_count": 36,
   "metadata": {},
   "outputs": [],
   "source": [
    "bloodtype_map = {\n",
    "    'A': 0,\n",
    "    'B': 1,\n",
    "    'AB': 2,\n",
    "    'O': 3\n",
    "}\n",
    "d['혈액형2'] = d['혈액형'].map(bloodtype_map)"
   ]
  },
  {
   "cell_type": "code",
   "execution_count": 38,
   "metadata": {},
   "outputs": [
    {
     "output_type": "execute_result",
     "data": {
      "text/plain": [
       "A     7\n",
       "O     4\n",
       "B     2\n",
       "AB    2\n",
       "Name: 혈액형, dtype: int64"
      ]
     },
     "metadata": {},
     "execution_count": 38
    }
   ],
   "source": [
    "d['혈액형'].value_counts()"
   ]
  }
 ]
}